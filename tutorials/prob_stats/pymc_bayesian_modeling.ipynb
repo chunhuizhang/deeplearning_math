{
 "cells": [
  {
   "cell_type": "markdown",
   "id": "01403fc3",
   "metadata": {},
   "source": [
    "## basics"
   ]
  },
  {
   "cell_type": "markdown",
   "id": "2f5e0e4e",
   "metadata": {},
   "source": [
    "- references\n",
    "    - https://www.youtube.com/watch?v=woXdiyezCPA\n",
    "    - https://github.com/fonnesbeck/probabilistic_python"
   ]
  },
  {
   "cell_type": "markdown",
   "id": "5c115e91",
   "metadata": {},
   "source": [
    "### stochastic language \"primitives\""
   ]
  },
  {
   "cell_type": "markdown",
   "id": "159ebce7",
   "metadata": {},
   "source": [
    "```\n",
    "# distribution over value\n",
    "X ~ Normal(mu, sigma)\n",
    "x = X.random(n=100)  # draw 100 times\n",
    "\n",
    "# distribution over function, 随机过程\n",
    "Y ~ GaussianProcess(mean_func(x), cov_func(x))\n",
    "y = Y.predict(x2)\n",
    "\n",
    "\n",
    "# conditioning \n",
    "p ~ Beta(1, 1)   # random variable\n",
    "z ~ Bernoulli(p) # z|p\n",
    "```"
   ]
  },
  {
   "cell_type": "markdown",
   "id": "28917e08",
   "metadata": {},
   "source": [
    "$$\n",
    "P(\\theta | y) = \\frac{P(y | \\theta)P(\\theta)}{P(y)}=\\frac{P(y|\\theta)P(\\theta)}{\\int_\\theta P(y|\\theta)P(\\theta)d\\theta}\\\\\n",
    "\\text{Posterior}=\\frac{(\\text{Likelihood of Observations})\\cdot(\\text{Prior Probability})}{\\text{Normalizing Constant}}\n",
    "$$"
   ]
  }
 ],
 "metadata": {
  "kernelspec": {
   "display_name": "Python 3 (ipykernel)",
   "language": "python",
   "name": "python3"
  },
  "language_info": {
   "codemirror_mode": {
    "name": "ipython",
    "version": 3
   },
   "file_extension": ".py",
   "mimetype": "text/x-python",
   "name": "python",
   "nbconvert_exporter": "python",
   "pygments_lexer": "ipython3",
   "version": "3.10.9"
  },
  "toc": {
   "base_numbering": 1,
   "nav_menu": {},
   "number_sections": true,
   "sideBar": true,
   "skip_h1_title": false,
   "title_cell": "Table of Contents",
   "title_sidebar": "Contents",
   "toc_cell": false,
   "toc_position": {},
   "toc_section_display": true,
   "toc_window_display": false
  }
 },
 "nbformat": 4,
 "nbformat_minor": 5
}
