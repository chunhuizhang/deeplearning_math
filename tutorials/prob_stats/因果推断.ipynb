{
 "cells": [
  {
   "cell_type": "markdown",
   "id": "b08f96de",
   "metadata": {},
   "source": [
    "## basics"
   ]
  },
  {
   "cell_type": "markdown",
   "id": "69b2f064",
   "metadata": {},
   "source": [
    "- references\n",
    "    - https://pyimagesearch.com/2023/11/20/tools-and-methodologies-for-studying-causal-effects/"
   ]
  },
  {
   "cell_type": "markdown",
   "id": "ea3e296b",
   "metadata": {},
   "source": [
    "- A/B 测试\n",
    "- DID\n",
    "- 显著性水平，假设检验"
   ]
  },
  {
   "cell_type": "markdown",
   "id": "a2b49506",
   "metadata": {},
   "source": [
    "- confounding variables"
   ]
  }
 ],
 "metadata": {
  "kernelspec": {
   "display_name": "Python 3 (ipykernel)",
   "language": "python",
   "name": "python3"
  },
  "language_info": {
   "codemirror_mode": {
    "name": "ipython",
    "version": 3
   },
   "file_extension": ".py",
   "mimetype": "text/x-python",
   "name": "python",
   "nbconvert_exporter": "python",
   "pygments_lexer": "ipython3",
   "version": "3.10.13"
  },
  "toc": {
   "base_numbering": 1,
   "nav_menu": {},
   "number_sections": true,
   "sideBar": true,
   "skip_h1_title": false,
   "title_cell": "Table of Contents",
   "title_sidebar": "Contents",
   "toc_cell": false,
   "toc_position": {},
   "toc_section_display": true,
   "toc_window_display": false
  }
 },
 "nbformat": 4,
 "nbformat_minor": 5
}
