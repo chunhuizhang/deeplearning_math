{
 "cells": [
  {
   "cell_type": "code",
   "execution_count": 1,
   "id": "50b3ef4a-9e8e-4d04-a186-ad2d890b31f8",
   "metadata": {
    "execution": {
     "iopub.execute_input": "2024-06-25T15:40:30.610544Z",
     "iopub.status.busy": "2024-06-25T15:40:30.609938Z",
     "iopub.status.idle": "2024-06-25T15:40:30.621013Z",
     "shell.execute_reply": "2024-06-25T15:40:30.618978Z",
     "shell.execute_reply.started": "2024-06-25T15:40:30.610498Z"
    }
   },
   "outputs": [],
   "source": [
    "from IPython.display import Image"
   ]
  },
  {
   "cell_type": "markdown",
   "id": "d78c0d2b-c88d-4cdd-915d-1f90d54a152b",
   "metadata": {},
   "source": [
    "- 信息量：$I_s=\\log_2\\frac1{p(s)}$\n",
    "- 熵：不确定性的度量\n",
    "    - 信息量的期望：$\\sum_s p(s)\\log_2 \\frac{1}{p(s)}$\n",
    "- 互信息（mutual information）\n",
    "    - 互信息的定义及其与熵/条件熵的关系\n",
    "        - 引入/给定 $X$，$Y$ 不确定性的减少；\n",
    "        - 引入/给定 $Y$，$X$ 不确定性的减少；\n",
    "\n",
    "    $$\n",
    "    \\begin{split}\n",
    "    I(X,Y)&=\\sum_{x\\in X,y\\in Y} P_{X,Y}(x,y)\\log \\frac{P_{X,Y}(x,y)}{P_X(x)P_Y(y)}\\\\\n",
    "    &=H(Y)-H(Y|X)\\\\\n",
    "    &=H(X)-H(X|Y)\n",
    "    \\end{split}\n",
    "    $$"
   ]
  },
  {
   "cell_type": "code",
   "execution_count": 2,
   "id": "b96e3c4b-021e-4b16-be26-bea7e936fd0a",
   "metadata": {
    "execution": {
     "iopub.execute_input": "2024-06-25T15:40:48.573516Z",
     "iopub.status.busy": "2024-06-25T15:40:48.573116Z",
     "iopub.status.idle": "2024-06-25T15:40:48.587261Z",
     "shell.execute_reply": "2024-06-25T15:40:48.585197Z",
     "shell.execute_reply.started": "2024-06-25T15:40:48.573484Z"
    }
   },
   "outputs": [
    {
     "data": {
      "text/html": [
       "<img src=\"https://wikimedia.org/api/rest_v1/media/math/render/svg/9c1877f635a7f1d6ba6a6cc0e65a9b7b1fec7b43\" width=\"400\"/>"
      ],
      "text/plain": [
       "<IPython.core.display.Image object>"
      ]
     },
     "execution_count": 2,
     "metadata": {},
     "output_type": "execute_result"
    }
   ],
   "source": [
    "Image(url='https://wikimedia.org/api/rest_v1/media/math/render/svg/9c1877f635a7f1d6ba6a6cc0e65a9b7b1fec7b43', width=400)"
   ]
  },
  {
   "cell_type": "markdown",
   "id": "743c9a42",
   "metadata": {},
   "source": [
    "## 条件熵 => 熵的降低/减少"
   ]
  },
  {
   "cell_type": "markdown",
   "id": "e765a47f",
   "metadata": {},
   "source": [
    "- 天气分布（$D$），一个月内下雨/不下雨的天数均为 15 天，也就是概率为 50%"
   ]
  },
  {
   "cell_type": "code",
   "execution_count": 1,
   "id": "d7debdd3",
   "metadata": {
    "ExecuteTime": {
     "end_time": "2024-02-20T13:03:52.133210Z",
     "start_time": "2024-02-20T13:03:52.004522Z"
    }
   },
   "outputs": [],
   "source": [
    "import numpy as np"
   ]
  },
  {
   "cell_type": "code",
   "execution_count": 2,
   "id": "7b8cb526",
   "metadata": {
    "ExecuteTime": {
     "end_time": "2024-02-20T13:04:10.035009Z",
     "start_time": "2024-02-20T13:04:10.025734Z"
    },
    "scrolled": true
   },
   "outputs": [
    {
     "data": {
      "text/plain": [
       "1.0"
      ]
     },
     "execution_count": 2,
     "metadata": {},
     "output_type": "execute_result"
    }
   ],
   "source": [
    "-(0.5*np.log2(0.5) + 0.5*np.log2(0.5))"
   ]
  },
  {
   "cell_type": "markdown",
   "id": "b0809cfb",
   "metadata": {},
   "source": [
    "$$\n",
    "\\begin{split}\n",
    "\\text{Entropy}(D)&=-(p(r)\\log p(r)+p(s)\\log p(s))\\\\\n",
    "&=-(0.5\\log 0.5 + 0.5\\log 0.5)\\\\\n",
    "&=1bit\n",
    "\\end{split}\n",
    "$$"
   ]
  },
  {
   "cell_type": "markdown",
   "id": "dc857b32",
   "metadata": {},
   "source": [
    "这表明在没有任何其他信息的情况下,预测某天的天气(下雨或晴朗)的不确定性为1比特。现在,假设我们提供了一个上下文:如果天气预报说\"今天空气湿度很高\"。根据过去的经验,我们知道在空气湿度高的日子里,下雨的概率是0.75,不下雨的的概率是0.25。现在我们计算给定这个上下文后的条件熵:\n",
    "\n",
    "$$\n",
    "\\text{Entropy}(D|\\text{context})=-(0.75\\log 0.75+0.25\\log 0.25)\n",
    "$$"
   ]
  },
  {
   "cell_type": "code",
   "execution_count": 3,
   "id": "a26c553d",
   "metadata": {
    "ExecuteTime": {
     "end_time": "2024-02-20T13:07:56.313813Z",
     "start_time": "2024-02-20T13:07:56.305937Z"
    }
   },
   "outputs": [
    {
     "data": {
      "text/plain": [
       "0.8112781244591328"
      ]
     },
     "execution_count": 3,
     "metadata": {},
     "output_type": "execute_result"
    }
   ],
   "source": [
    "-(0.75*np.log2(0.75) + 0.25*np.log2(0.25))"
   ]
  },
  {
   "cell_type": "code",
   "execution_count": 5,
   "id": "d235ee71",
   "metadata": {
    "ExecuteTime": {
     "end_time": "2024-02-20T13:08:22.811667Z",
     "start_time": "2024-02-20T13:08:22.805327Z"
    }
   },
   "outputs": [
    {
     "data": {
      "text/plain": [
       "-0.18999999999999995"
      ]
     },
     "execution_count": 5,
     "metadata": {},
     "output_type": "execute_result"
    }
   ],
   "source": [
    "# 刻画信息的增加，不确定性的降低\n",
    "0.81 - 1"
   ]
  }
 ],
 "metadata": {
  "kernelspec": {
   "display_name": "Python 3 (ipykernel)",
   "language": "python",
   "name": "python3"
  },
  "language_info": {
   "codemirror_mode": {
    "name": "ipython",
    "version": 3
   },
   "file_extension": ".py",
   "mimetype": "text/x-python",
   "name": "python",
   "nbconvert_exporter": "python",
   "pygments_lexer": "ipython3",
   "version": "3.10.13"
  },
  "toc": {
   "base_numbering": 1,
   "nav_menu": {},
   "number_sections": true,
   "sideBar": true,
   "skip_h1_title": false,
   "title_cell": "Table of Contents",
   "title_sidebar": "Contents",
   "toc_cell": false,
   "toc_position": {},
   "toc_section_display": true,
   "toc_window_display": false
  }
 },
 "nbformat": 4,
 "nbformat_minor": 5
}
