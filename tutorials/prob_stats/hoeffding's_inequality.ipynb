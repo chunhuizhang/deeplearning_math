{
 "cells": [
  {
   "cell_type": "code",
   "execution_count": 3,
   "id": "4bd25009",
   "metadata": {
    "ExecuteTime": {
     "end_time": "2023-12-16T09:34:12.126111Z",
     "start_time": "2023-12-16T09:34:12.121577Z"
    }
   },
   "outputs": [],
   "source": [
    "import matplotlib.pyplot as plt\n",
    "import numpy as np"
   ]
  },
  {
   "cell_type": "markdown",
   "id": "d64c1826",
   "metadata": {},
   "source": [
    "## 从抛硬币开始说起"
   ]
  },
  {
   "cell_type": "markdown",
   "id": "8de75748",
   "metadata": {},
   "source": [
    "$$\n",
    "\\hat\\theta_{mle}=\\frac{\\alpha_H}{\\alpha_H+\\alpha_T}\n",
    "$$\n",
    "\n",
    "- 这两次的结果是一样的吗？\n",
    "    - 抛5次，3heads，2tails => 3/5\n",
    "    - 抛50次，30heads，20tails => 3/5"
   ]
  },
  {
   "cell_type": "markdown",
   "id": "48b9eecb",
   "metadata": {},
   "source": [
    "## 霍夫丁不等式"
   ]
  },
  {
   "cell_type": "markdown",
   "id": "fc5c4936",
   "metadata": {},
   "source": [
    "$$\n",
    "P(|\\hat\\theta-\\theta^*|\\geq \\epsilon)\\leq 2e^{-2N\\epsilon^2}\\\\\n",
    "P(\\hat\\theta-\\theta^*\\geq \\epsilon)\\leq e^{-2N\\epsilon^2}\\\\\n",
    "$$\n",
    "\n",
    "- $\\theta^*$: true parameters，任给 $\\epsilon\\gt0$\n",
    "    - 不等式左边表示的是误差/犯错的概率；\n",
    "- 刻画的是误差的上界（upper bound）；\n",
    "- 关于采样次数 $N$ 呈现指数级衰减（exponential decay）"
   ]
  },
  {
   "cell_type": "code",
   "execution_count": 9,
   "id": "454ce514",
   "metadata": {
    "ExecuteTime": {
     "end_time": "2023-12-16T10:34:23.320377Z",
     "start_time": "2023-12-16T10:34:23.090188Z"
    },
    "scrolled": false
   },
   "outputs": [
    {
     "data": {
      "text/plain": [
       "[<matplotlib.lines.Line2D at 0x7fb50cfc5cc0>]"
      ]
     },
     "execution_count": 9,
     "metadata": {},
     "output_type": "execute_result"
    },
    {
     "data": {
      "image/png": "[encoded data removed]",
      "text/plain": [
       "<Figure size 640x480 with 1 Axes>"
      ]
     },
     "metadata": {},
     "output_type": "display_data"
    }
   ],
   "source": [
    "plt.style.use('ggplot')\n",
    "eps = 1e-2\n",
    "plt.plot(2*np.exp(-2*np.arange(100000)*eps**2))"
   ]
  },
  {
   "cell_type": "markdown",
   "id": "f0df34e4",
   "metadata": {},
   "source": [
    "## examples"
   ]
  },
  {
   "cell_type": "markdown",
   "id": "db19fce5",
   "metadata": {},
   "source": [
    "- PAC：Probably Approximate Correct\n",
    "- 假如说我们想约束我们估计出来的 $\\theta$ 与真实的偏差 $\\epsilon=0.1$，犯错的概率 $P(|\\theta-\\theta^*|\\geq 0.1)\\leq 0.05$，我们应该抛多少次\n",
    "    - 一个典型的学习理论问题（learning theory），在要求的bound下，我们需要多少的样本；\n",
    "- 我们记 $\\delta=0.05$，则有\n",
    "\n",
    "$$\n",
    "P(|\\theta-\\theta^*|\\geq \\epsilon)\\leq 2e^{-2N\\epsilon^2}\\\\\n",
    "2e^{-2N\\epsilon^2}\\leq \\delta\\\\\n",
    "\\Downarrow\\\\\n",
    "N\\geq \\frac{\\ln 2-\\ln \\delta}{2\\epsilon^2}\n",
    "$$\n",
    "\n"
   ]
  },
  {
   "cell_type": "code",
   "execution_count": 7,
   "id": "7b28367d",
   "metadata": {
    "ExecuteTime": {
     "end_time": "2023-12-16T09:48:11.457522Z",
     "start_time": "2023-12-16T09:48:11.446527Z"
    }
   },
   "outputs": [
    {
     "data": {
      "text/plain": [
       "184.44397270569678"
      ]
     },
     "execution_count": 7,
     "metadata": {},
     "output_type": "execute_result"
    }
   ],
   "source": [
    "(np.log(2) - np.log(0.05)) / (2*0.1**2)"
   ]
  },
  {
   "cell_type": "markdown",
   "id": "ac4415e9",
   "metadata": {},
   "source": [
    "## 从霍夫丁不等式到 UCB"
   ]
  },
  {
   "cell_type": "markdown",
   "id": "30bbd305",
   "metadata": {},
   "source": [
    "- 不等式是一个天然的计算 bound 的好工具\n",
    "    - ELBO：VAE"
   ]
  },
  {
   "cell_type": "markdown",
   "id": "edece04e",
   "metadata": {},
   "source": [
    "$$\n",
    "\\hat Q(a_t) + \\hat U(a_t) => Q(a_t)\\\\\n",
    "\\Downarrow\\\\\n",
    "P(Q(a_t)\\leq \\hat Q(a_t)+\\hat U(a_t))\\geq \\left(1-p = 1-\\exp(-2N(a_t)\\hat U(a_t)^2)\\right)\\\\\n",
    "\\Downarrow\\\\\n",
    "p=\\exp(-2N(a_t)\\hat U(a_t)^2)\\\\\n",
    "\\Downarrow\\\\\n",
    "U(a_t)=\\sqrt{\\frac{-\\log p}{2N(a_t)}}, \\quad p = \\frac1t\\\\\n",
    "\\Downarrow\\\\\n",
    "U(a_t)=\\sqrt{\\frac{\\log t}{2N(a_t)}}\n",
    "$$"
   ]
  }
 ],
 "metadata": {
  "kernelspec": {
   "display_name": "Python 3 (ipykernel)",
   "language": "python",
   "name": "python3"
  },
  "language_info": {
   "codemirror_mode": {
    "name": "ipython",
    "version": 3
   },
   "file_extension": ".py",
   "mimetype": "text/x-python",
   "name": "python",
   "nbconvert_exporter": "python",
   "pygments_lexer": "ipython3",
   "version": "3.10.13"
  },
  "toc": {
   "base_numbering": 1,
   "nav_menu": {},
   "number_sections": true,
   "sideBar": true,
   "skip_h1_title": false,
   "title_cell": "Table of Contents",
   "title_sidebar": "Contents",
   "toc_cell": false,
   "toc_position": {},
   "toc_section_display": true,
   "toc_window_display": false
  }
 },
 "nbformat": 4,
 "nbformat_minor": 5
}
