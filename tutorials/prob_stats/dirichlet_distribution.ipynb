{
 "cells": [
  {
   "cell_type": "code",
   "execution_count": 1,
   "id": "36525b61",
   "metadata": {
    "ExecuteTime": {
     "end_time": "2023-10-12T12:56:14.427774Z",
     "start_time": "2023-10-12T12:56:14.344053Z"
    }
   },
   "outputs": [],
   "source": [
    "import numpy as np"
   ]
  },
  {
   "cell_type": "code",
   "execution_count": 6,
   "id": "2ef4521c",
   "metadata": {
    "ExecuteTime": {
     "end_time": "2023-10-12T12:57:38.140041Z",
     "start_time": "2023-10-12T12:57:38.130032Z"
    }
   },
   "outputs": [
    {
     "data": {
      "text/plain": [
       "(20, 3)"
      ]
     },
     "execution_count": 6,
     "metadata": {},
     "output_type": "execute_result"
    }
   ],
   "source": []
  },
  {
   "cell_type": "code",
   "execution_count": 10,
   "id": "5f79cc63",
   "metadata": {
    "ExecuteTime": {
     "end_time": "2023-10-12T13:00:10.547879Z",
     "start_time": "2023-10-12T13:00:10.538285Z"
    },
    "scrolled": true
   },
   "outputs": [
    {
     "data": {
      "text/plain": [
       "0.1814449010854046"
      ]
     },
     "execution_count": 10,
     "metadata": {},
     "output_type": "execute_result"
    }
   ],
   "source": [
    "np.mean(s[:, 2])"
   ]
  },
  {
   "cell_type": "code",
   "execution_count": 12,
   "id": "018222dc",
   "metadata": {
    "ExecuteTime": {
     "end_time": "2023-10-12T13:19:45.716394Z",
     "start_time": "2023-10-12T13:19:45.707174Z"
    }
   },
   "outputs": [
    {
     "data": {
      "text/plain": [
       "array([1., 1., 1., 1., 1., 1., 1., 1., 1., 1., 1., 1., 1., 1., 1., 1., 1.,\n",
       "       1., 1., 1.])"
      ]
     },
     "execution_count": 12,
     "metadata": {},
     "output_type": "execute_result"
    }
   ],
   "source": [
    "s.sum(axis=1)"
   ]
  },
  {
   "cell_type": "markdown",
   "id": "2f955cba",
   "metadata": {},
   "source": [
    "## 数学定义"
   ]
  },
  {
   "cell_type": "markdown",
   "id": "d581e167",
   "metadata": {},
   "source": [
    "$$\n",
    "X=(X_1, \\cdots, X_K)\\sim \\operatorname{Dir}(\\boldsymbol\\alpha)\n",
    "$$\n",
    "- $\\boldsymbol \\alpha \\in \\mathbb R^K$\n",
    "- 如果令 $\\alpha_0=\\sum_{i=1}^K\\alpha_i$\n",
    "    - $E[X_i]=\\frac{\\alpha_i}{\\alpha_0}$"
   ]
  },
  {
   "cell_type": "code",
   "execution_count": 13,
   "id": "2abb2791",
   "metadata": {
    "ExecuteTime": {
     "end_time": "2023-10-12T13:22:07.986208Z",
     "start_time": "2023-10-12T13:22:07.978049Z"
    }
   },
   "outputs": [
    {
     "data": {
      "text/plain": [
       "(20, 3)"
      ]
     },
     "execution_count": 13,
     "metadata": {},
     "output_type": "execute_result"
    }
   ],
   "source": [
    "s = np.random.dirichlet((10, 5, 3), 20)\n",
    "s.shape"
   ]
  },
  {
   "cell_type": "code",
   "execution_count": 15,
   "id": "03dcb403",
   "metadata": {
    "ExecuteTime": {
     "end_time": "2023-10-12T13:22:30.229418Z",
     "start_time": "2023-10-12T13:22:30.217990Z"
    }
   },
   "outputs": [
    {
     "data": {
      "text/plain": [
       "array([0.55879715, 0.27953906, 0.16166379])"
      ]
     },
     "execution_count": 15,
     "metadata": {},
     "output_type": "execute_result"
    }
   ],
   "source": [
    "np.mean(s, axis=0)"
   ]
  },
  {
   "cell_type": "code",
   "execution_count": 16,
   "id": "cffb8507",
   "metadata": {
    "ExecuteTime": {
     "end_time": "2023-10-12T13:22:57.535022Z",
     "start_time": "2023-10-12T13:22:57.523018Z"
    }
   },
   "outputs": [
    {
     "data": {
      "text/plain": [
       "array([0.55555556, 0.27777778, 0.16666667])"
      ]
     },
     "execution_count": 16,
     "metadata": {},
     "output_type": "execute_result"
    }
   ],
   "source": [
    "np.asarray([10, 5, 3])/18"
   ]
  },
  {
   "cell_type": "markdown",
   "id": "8d9419fc",
   "metadata": {},
   "source": [
    "概率密度：\n",
    "\n",
    "$$\n",
    "f \\left(x_1,\\ldots, x_{K}; \\alpha_1,\\ldots, \\alpha_K \\right) = \\frac{1}{\\mathrm{B}(\\boldsymbol\\alpha)}\\prod_{i=1}^K x_i^{\\alpha_i - 1}\n",
    "$$\n",
    "\n",
    "- 要求\n",
    "    - $\\sum_{i=1}^Kx_i=1$"
   ]
  },
  {
   "cell_type": "code",
   "execution_count": 17,
   "id": "89186f3b",
   "metadata": {
    "ExecuteTime": {
     "end_time": "2023-10-12T13:23:13.366611Z",
     "start_time": "2023-10-12T13:23:13.359003Z"
    }
   },
   "outputs": [
    {
     "data": {
      "text/plain": [
       "array([1., 1., 1., 1., 1., 1., 1., 1., 1., 1., 1., 1., 1., 1., 1., 1., 1.,\n",
       "       1., 1., 1.])"
      ]
     },
     "execution_count": 17,
     "metadata": {},
     "output_type": "execute_result"
    }
   ],
   "source": [
    "s.sum(axis=1)"
   ]
  }
 ],
 "metadata": {
  "kernelspec": {
   "display_name": "Python 3 (ipykernel)",
   "language": "python",
   "name": "python3"
  },
  "language_info": {
   "codemirror_mode": {
    "name": "ipython",
    "version": 3
   },
   "file_extension": ".py",
   "mimetype": "text/x-python",
   "name": "python",
   "nbconvert_exporter": "python",
   "pygments_lexer": "ipython3",
   "version": "3.10.9"
  },
  "toc": {
   "base_numbering": 1,
   "nav_menu": {},
   "number_sections": true,
   "sideBar": true,
   "skip_h1_title": false,
   "title_cell": "Table of Contents",
   "title_sidebar": "Contents",
   "toc_cell": false,
   "toc_position": {},
   "toc_section_display": true,
   "toc_window_display": false
  }
 },
 "nbformat": 4,
 "nbformat_minor": 5
}
