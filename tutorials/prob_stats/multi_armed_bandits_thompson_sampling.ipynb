{
 "cells": [
  {
   "cell_type": "code",
   "execution_count": 1,
   "id": "6efb0b38",
   "metadata": {
    "ExecuteTime": {
     "end_time": "2023-12-24T03:29:06.254930Z",
     "start_time": "2023-12-24T03:29:05.783631Z"
    }
   },
   "outputs": [],
   "source": [
    "import numpy as np\n",
    "import matplotlib.pyplot as plt"
   ]
  },
  {
   "cell_type": "markdown",
   "id": "2cefe143",
   "metadata": {},
   "source": [
    "## basics"
   ]
  },
  {
   "cell_type": "markdown",
   "id": "6d796639",
   "metadata": {},
   "source": [
    "- 也叫 posterior sampling：后验采样；\n",
    "    - randomized bayesian algorithm；"
   ]
  },
  {
   "cell_type": "markdown",
   "id": "087a473d",
   "metadata": {},
   "source": [
    "## Thompson sampling"
   ]
  },
  {
   "cell_type": "markdown",
   "id": "102bd8e3",
   "metadata": {},
   "source": [
    "- reward of an arm $(X)$ follows a bernoulli distribution (有奖励，没奖励)\n",
    "\n",
    "    $$\n",
    "    X\\sim Bern(\\theta)\n",
    "    $$\n",
    "    \n",
    "    - 以概率 $\\theta$ 能拿到奖励，$1-\\theta$ 没有奖励\n",
    "\n",
    "- the reward/number of successes $(Y)$ follows a binomial distribution\n",
    "\n",
    "    $$\n",
    "    Y\\sim Binomial(n,\\theta)\n",
    "    $$\n",
    "    \n",
    "    - $y$ 表示赢的次数，$n-y$ 显示表示输的次数；\n",
    "    \n",
    "- $\\theta\\sim Beta(\\alpha, \\beta)$, the probability of winning for each arm，现在的目标是计算\n",
    "\n",
    "    $$\n",
    "    p(\\theta|y)\n",
    "    $$\n",
    "    \n",
    "    - 一个后验分布\n",
    "    "
   ]
  },
  {
   "cell_type": "markdown",
   "id": "916433e6",
   "metadata": {},
   "source": [
    "$$\n",
    "\\begin{split}\n",
    "p(\\theta|y)&\\propto P(y|\\theta) P(\\theta)\\\\\n",
    "&=\\binom{n}{y}\\theta^y(1-\\theta)^{n-y}\\frac1{B(\\alpha,\\beta)}\\theta^{\\alpha-1}(1-\\theta)^{\\beta-1}\\\\\n",
    "&\\propto \\theta^{y+\\alpha-1}(1-\\theta)^{n-y+\\beta-1}\\\\\n",
    "&\\propto Beta(y+\\alpha, n-y+\\beta)\n",
    "\\end{split}\n",
    "$$\n",
    "\n",
    "- $y$: # of winning\n",
    "- $n-y$: # of losing\n",
    "- 共轭分布：先验（prior）与后验（posterior）为相同类型的分布时；"
   ]
  },
  {
   "cell_type": "markdown",
   "id": "e1928d42",
   "metadata": {},
   "source": [
    "## beta distribution"
   ]
  },
  {
   "cell_type": "markdown",
   "id": "726ee054",
   "metadata": {},
   "source": [
    "- 这里稍微补充一下 beta 分布，$\\theta\\sim Beta(\\alpha, \\beta)$\n",
    "    \n",
    "$$\n",
    "f(\\theta;\\alpha,\\beta)=\\frac{1}{B(\\alpha,\\beta)}\\theta^{\\alpha-1}(1-\\theta)^{\\beta-1}\n",
    "$$\n",
    "\n",
    "- 其中 beta 函数\n",
    "\n",
    "$$\n",
    "\\begin{split}\n",
    "B(\\alpha,\\beta)&=\\int_0^1t^{\\alpha-1}(1-t)^{\\beta-1}dt\\\\\n",
    "&=\\frac{\\Gamma(\\alpha)\\Gamma(\\beta)}{\\Gamma(\\alpha+\\beta)}\n",
    "\\end{split}\n",
    "$$\n",
    "\n",
    "- $Beta(1,1)\\rightarrow f(\\theta|1,1)=1$ 退化为 `[0, 1]` 之间的均匀分布\n",
    "- $Beta(2,1)\\rightarrow f(\\theta|2,1)=2\\theta$\n",
    "- $Beta(1,2)\\rightarrow f(\\theta|1,2)=2(1-\\theta)$"
   ]
  },
  {
   "cell_type": "markdown",
   "id": "6cd41af0",
   "metadata": {},
   "source": [
    "## examples"
   ]
  },
  {
   "cell_type": "markdown",
   "id": "d25dcc49",
   "metadata": {},
   "source": [
    "- arm 1：$\\theta=0.6$\n",
    "- arm 2: $\\theta=0.2$\n",
    "- timestamp 1\n",
    "    - beta(0+1, 0+1)：0-1均匀分布\n",
    "    - beta(0+1, 0+1)：0-1均匀分布\n",
    "    - sample: 0.7 > 0.4\n",
    "    - choose arm1\n",
    "    - 得到reward => arm1, beta(2, 1)（否则是 arm1，beta(1, 2)）\n",
    "- timestamp2\n",
    "    - beta(2, 1) vs. beta(1, 1)\n",
    "    - sample: 0.6 < 0.9\n",
    "    - choose arm2 \n",
    "    - 没有得到 reward => arm2，beta(1, 2)（否则 arm2，beta(2, 1)）\n",
    "- timestamp3\n",
    "    - beta(2, 1) vs. beta(1, 2)\n",
    "    - sample: 0.8 > 0.3\n",
    "    - choose arm1\n",
    "    - 没有得到reward => arm1, beta(2, 2) （否则 arm1，beta(3, 1))\n",
    "- ..."
   ]
  },
  {
   "cell_type": "code",
   "execution_count": 22,
   "id": "b1734c1b",
   "metadata": {
    "ExecuteTime": {
     "end_time": "2023-12-24T03:35:35.664713Z",
     "start_time": "2023-12-24T03:35:35.657299Z"
    },
    "scrolled": true
   },
   "outputs": [
    {
     "name": "stdout",
     "output_type": "stream",
     "text": [
      "trial: 0\tsucc_fail: [[0, 0], [1, 0], [0, 0]]\n",
      "trial: 10\tsucc_fail: [[0, 1], [5, 3], [0, 2]]\n",
      "trial: 20\tsucc_fail: [[0, 1], [12, 4], [2, 2]]\n",
      "trial: 30\tsucc_fail: [[0, 1], [16, 8], [4, 2]]\n",
      "trial: 40\tsucc_fail: [[0, 3], [18, 10], [6, 4]]\n",
      "trial: 50\tsucc_fail: [[0, 3], [23, 11], [8, 6]]\n",
      "trial: 60\tsucc_fail: [[0, 3], [28, 15], [8, 7]]\n",
      "trial: 70\tsucc_fail: [[0, 3], [33, 16], [11, 8]]\n",
      "trial: 80\tsucc_fail: [[0, 3], [40, 17], [11, 10]]\n",
      "trial: 90\tsucc_fail: [[0, 3], [46, 20], [12, 10]]\n",
      "trial: 100\tsucc_fail: [[0, 3], [54, 21], [12, 11]]\n"
     ]
    }
   ],
   "source": [
    "# True payout % (probabilities of success) of each arm\n",
    "actual_prob = [0.1, 0.7, 0.5]  # hidden variables in reality\n",
    "\n",
    "# Counts of success and failure of each arm\n",
    "succ_fail = [[0,0], [0,0], [0,0]]  # each sub-list contains [num of success, num of failure]\n",
    "\n",
    "for trial in range(101):\n",
    "    # Sample a data point (thompson sampling) from all arms' Beta distrib\n",
    "    samples = [np.random.beta(s+1, f+1) for s, f in succ_fail]  # add 1 because can't pass 0\n",
    "    \n",
    "    # Pick the arm with highest sampled estimate\n",
    "    best_arm = np.argmax(samples)\n",
    "    \n",
    "    # Play with best arm\n",
    "    # since each arm is modelled as bernoulli variable, to sample from bernoulli distribution is same as \n",
    "    # sampling a uniform distrib variable & comparing with p (payout), if its less than p, then Success else Failure\n",
    "    if np.random.uniform() < actual_prob[best_arm]:  \n",
    "        # if we win with this arm\n",
    "        succ_fail[best_arm][0] += 1 \n",
    "    else:\n",
    "        # if we lose with this arm\n",
    "        succ_fail[best_arm][1] += 1\n",
    "\n",
    "    # logging\n",
    "    if trial % 10 == 0: \n",
    "        print(f\"trial: {trial}\\tsucc_fail: {succ_fail}\")"
   ]
  },
  {
   "cell_type": "code",
   "execution_count": 20,
   "id": "79c62a10",
   "metadata": {
    "ExecuteTime": {
     "end_time": "2023-12-24T03:34:25.357965Z",
     "start_time": "2023-12-24T03:34:25.351481Z"
    }
   },
   "outputs": [],
   "source": [
    "from scipy.stats import beta"
   ]
  },
  {
   "cell_type": "code",
   "execution_count": 23,
   "id": "294778fc",
   "metadata": {
    "ExecuteTime": {
     "end_time": "2023-12-24T03:35:38.265852Z",
     "start_time": "2023-12-24T03:35:38.066433Z"
    },
    "scrolled": false
   },
   "outputs": [
    {
     "data": {
      "text/plain": [
       "[<matplotlib.lines.Line2D at 0x7f9fa4d756f0>]"
      ]
     },
     "execution_count": 23,
     "metadata": {},
     "output_type": "execute_result"
    },
    {
     "data": {
      "image/png": "[encoded data removed]",
      "text/plain": [
       "<Figure size 640x480 with 1 Axes>"
      ]
     },
     "metadata": {},
     "output_type": "display_data"
    }
   ],
   "source": [
    "xs = np.linspace(0, 1, 100)\n",
    "plt.plot(xs, beta.pdf(xs, succ_fail[0][0]+1, succ_fail[0][1]+1))\n",
    "plt.plot(xs, beta.pdf(xs, succ_fail[1][0]+1, succ_fail[1][1]+1))\n",
    "plt.plot(xs, beta.pdf(xs, succ_fail[2][0]+1, succ_fail[2][1]+1))"
   ]
  },
  {
   "cell_type": "code",
   "execution_count": null,
   "id": "2d8adb78",
   "metadata": {},
   "outputs": [],
   "source": []
  }
 ],
 "metadata": {
  "kernelspec": {
   "display_name": "Python 3 (ipykernel)",
   "language": "python",
   "name": "python3"
  },
  "language_info": {
   "codemirror_mode": {
    "name": "ipython",
    "version": 3
   },
   "file_extension": ".py",
   "mimetype": "text/x-python",
   "name": "python",
   "nbconvert_exporter": "python",
   "pygments_lexer": "ipython3",
   "version": "3.10.13"
  },
  "toc": {
   "base_numbering": 1,
   "nav_menu": {},
   "number_sections": true,
   "sideBar": true,
   "skip_h1_title": false,
   "title_cell": "Table of Contents",
   "title_sidebar": "Contents",
   "toc_cell": false,
   "toc_position": {},
   "toc_section_display": true,
   "toc_window_display": false
  }
 },
 "nbformat": 4,
 "nbformat_minor": 5
}
