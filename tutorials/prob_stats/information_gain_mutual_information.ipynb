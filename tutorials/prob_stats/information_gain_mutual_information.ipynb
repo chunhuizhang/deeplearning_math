{
 "cells": [
  {
   "cell_type": "code",
   "execution_count": 10,
   "id": "ac83180c",
   "metadata": {
    "ExecuteTime": {
     "end_time": "2023-08-13T10:49:56.333917Z",
     "start_time": "2023-08-13T10:49:56.327552Z"
    }
   },
   "outputs": [],
   "source": [
    "from IPython.display import Image, SVG, display"
   ]
  },
  {
   "cell_type": "markdown",
   "id": "503cf6d7",
   "metadata": {},
   "source": [
    "## basics"
   ]
  },
  {
   "cell_type": "markdown",
   "id": "300470de",
   "metadata": {},
   "source": [
    "- 信息增益（也叫信息熵），也叫互信息\n",
    "    - information gain == information entropy == mutual information\n",
    "    - decision tree 的属性选择的准则和依据\n",
    "    \n",
    "- 从数学定义上反而比较好理解\n",
    "    - $H(T)$：标准熵\n",
    "    - $H(T|a)$：条件熵（conditional entropy）\n",
    "\n",
    "$$\n",
    "IG(T,a) = H{(T)} - H{(T|a)}\n",
    "$$"
   ]
  },
  {
   "cell_type": "markdown",
   "id": "752418ba",
   "metadata": {},
   "source": [
    "- references\n",
    "    - https://machinelearningmastery.com/information-gain-and-mutual-information/\n",
    "    - https://en.wikipedia.org/wiki/Information_gain_(decision_tree)"
   ]
  },
  {
   "cell_type": "markdown",
   "id": "5d996010",
   "metadata": {},
   "source": [
    "## 基础计算示例（decision trees）"
   ]
  },
  {
   "cell_type": "code",
   "execution_count": 13,
   "id": "68387356",
   "metadata": {
    "ExecuteTime": {
     "end_time": "2023-08-13T10:50:34.396741Z",
     "start_time": "2023-08-13T10:50:34.389312Z"
    }
   },
   "outputs": [],
   "source": [
    "import numpy as np\n",
    "def entropy(dist):\n",
    "    return -np.sum(dist * np.log2(dist))"
   ]
  },
  {
   "cell_type": "code",
   "execution_count": 11,
   "id": "7e2a120e",
   "metadata": {
    "ExecuteTime": {
     "end_time": "2023-08-13T10:50:05.644248Z",
     "start_time": "2023-08-13T10:50:05.601848Z"
    }
   },
   "outputs": [
    {
     "data": {
      "image/svg+xml": [
       "<svg xmlns=\"http://www.w3.org/2000/svg\" height=\"330\" width=\"330\" viewBox=\"0 0 330 330\"><path d=\"M150 292.54v-240\" stroke=\"#000\" stroke-dasharray=\"4.5, 4.5\" stroke-width=\"1.5\" fill=\"none\"/><g transform=\"matrix(.75 0 0 .75 0 -459.27)\"><path d=\"M50 682.36v320h320\" stroke=\"#000\" stroke-width=\"4\" fill=\"none\"/><text font-size=\"40\" y=\"1012.362\" x=\"379.136\" font-family=\"sans-serif\" word-spacing=\"0\" letter-spacing=\"0\"><tspan font-size=\"30\" y=\"1012.362\" x=\"379.136\">x</tspan></text><text font-size=\"40\" y=\"665.362\" x=\"41.136\" font-family=\"sans-serif\" word-spacing=\"0\" letter-spacing=\"0\"><tspan font-size=\"30\" y=\"665.362\" x=\"41.136\">y</tspan></text><circle cy=\"765.36\" cx=\"158\" r=\"5\" fill=\"#164bc5\"/><g stroke=\"#000\" stroke-width=\"2\" fill=\"none\"><path d=\"M150 1012.4v-10M250 1012.4v-10M350 1012.4v-10\"/></g><g font-size=\"40\" font-family=\"sans-serif\" word-spacing=\"0\" letter-spacing=\"0\"><text y=\"1028.362\" x=\"29\"><tspan font-size=\"20\" y=\"1028.362\" x=\"29\">0</tspan></text><text y=\"1034.362\" x=\"143\"><tspan font-size=\"20\" y=\"1034.362\" x=\"143\">1</tspan></text><text y=\"1034.362\" x=\"245\"><tspan font-size=\"20\" y=\"1034.362\" x=\"245\">2</tspan></text><text y=\"1034.079\" x=\"343.477\"><tspan font-size=\"20\" y=\"1034.079\" x=\"343.477\">3</tspan></text></g><g stroke=\"#000\" stroke-width=\"2\" fill=\"none\"><path d=\"M40 702.36h10M40 802.36h10M40 902.36h10\"/></g><g font-size=\"40\" font-family=\"sans-serif\" word-spacing=\"0\" letter-spacing=\"0\"><text y=\"909.449\" x=\"20.634\"><tspan font-size=\"20\" y=\"909.449\" x=\"20.634\">1</tspan></text><text y=\"808.025\" x=\"20.946\"><tspan font-size=\"20\" y=\"808.025\" x=\"20.946\">2</tspan></text><text y=\"709.178\" x=\"20.575\"><tspan font-size=\"20\" y=\"709.178\" x=\"20.575\">3</tspan></text></g><g fill=\"#164bc5\"><circle cx=\"79\" cy=\"852.36\" r=\"5\"/><circle cy=\"878.36\" cx=\"121\" r=\"5\"/><circle cx=\"221\" cy=\"955.36\" r=\"5\"/></g><g fill=\"#0f9640\"><circle cy=\"830.36\" cx=\"275\" r=\"5\"/><circle cx=\"299\" cy=\"870.36\" r=\"5\"/><circle cx=\"337\" cy=\"793.36\" r=\"5\"/><circle cy=\"700.36\" cx=\"295\" r=\"5\"/><circle cx=\"340\" cy=\"947.36\" r=\"5\"/></g><circle cy=\"970.36\" cx=\"107\" r=\"5\" fill=\"#164bc5\"/></g></svg>"
      ],
      "text/plain": [
       "<IPython.core.display.SVG object>"
      ]
     },
     "metadata": {},
     "output_type": "display_data"
    }
   ],
   "source": [
    "display(SVG('../../imgs/dataset-imperfect-split.svg'))"
   ]
  },
  {
   "cell_type": "code",
   "execution_count": 17,
   "id": "47ab6815",
   "metadata": {
    "ExecuteTime": {
     "end_time": "2023-08-13T10:52:24.895232Z",
     "start_time": "2023-08-13T10:52:24.883175Z"
    }
   },
   "outputs": [
    {
     "data": {
      "text/plain": [
       "0.6099865470109875"
      ]
     },
     "execution_count": 17,
     "metadata": {},
     "output_type": "execute_result"
    }
   ],
   "source": [
    "E_before = entropy([5/10, 5/10])\n",
    "E_left = 0\n",
    "E_right = entropy([1/6, 5/6])\n",
    "gain = E_before - (4/10 * E_left + 6/10 * E_right)\n",
    "gain"
   ]
  },
  {
   "cell_type": "markdown",
   "id": "e205d7d8",
   "metadata": {},
   "source": [
    "- 二分类数据集\n",
    "    - 20个样本，13个正例，7个负例，也即类别分布 `[13/20, 7/20]`\n",
    "    - 考虑特征向量空间上有一个离散型特征（variable），存在两个值（val1 和 val2）\n",
    "        - 8 个 val1，类别分布 `[7/8, 1/8]`\n",
    "        - 12 个 val2，类别分布 `[6/12, 6/12]`\n",
    "    - 现要计算该特征的信息增益"
   ]
  },
  {
   "cell_type": "code",
   "execution_count": 4,
   "id": "70311f7e",
   "metadata": {
    "ExecuteTime": {
     "end_time": "2023-08-13T10:41:34.966073Z",
     "start_time": "2023-08-13T10:41:34.955355Z"
    }
   },
   "outputs": [
    {
     "data": {
      "text/plain": [
       "0.9340680553754911"
      ]
     },
     "execution_count": 4,
     "metadata": {},
     "output_type": "execute_result"
    }
   ],
   "source": [
    "dist1 = [13/20, 7/20]\n",
    "entropy(dist1)"
   ]
  },
  {
   "cell_type": "code",
   "execution_count": 5,
   "id": "9e459c18",
   "metadata": {
    "ExecuteTime": {
     "end_time": "2023-08-13T10:41:53.847907Z",
     "start_time": "2023-08-13T10:41:53.837735Z"
    }
   },
   "outputs": [
    {
     "data": {
      "text/plain": [
       "0.5435644431995964"
      ]
     },
     "execution_count": 5,
     "metadata": {},
     "output_type": "execute_result"
    }
   ],
   "source": [
    "dist2 = [7/8, 1/8]\n",
    "entropy(dist2)"
   ]
  },
  {
   "cell_type": "code",
   "execution_count": 6,
   "id": "a886e296",
   "metadata": {
    "ExecuteTime": {
     "end_time": "2023-08-13T10:42:08.306847Z",
     "start_time": "2023-08-13T10:42:08.292387Z"
    }
   },
   "outputs": [
    {
     "data": {
      "text/plain": [
       "0.5435644431995964"
      ]
     },
     "execution_count": 6,
     "metadata": {},
     "output_type": "execute_result"
    }
   ],
   "source": [
    "dist3 = [6/12, 6/12]\n",
    "entropy(dist2)"
   ]
  },
  {
   "cell_type": "code",
   "execution_count": 7,
   "id": "240cbb97",
   "metadata": {
    "ExecuteTime": {
     "end_time": "2023-08-13T10:42:37.746803Z",
     "start_time": "2023-08-13T10:42:37.735017Z"
    }
   },
   "outputs": [
    {
     "data": {
      "text/plain": [
       "0.11664227809565253"
      ]
     },
     "execution_count": 7,
     "metadata": {},
     "output_type": "execute_result"
    }
   ],
   "source": [
    "entropy(dist1) - (8/20 * entropy(dist2) + 12/20 * entropy(dist3))"
   ]
  },
  {
   "cell_type": "code",
   "execution_count": null,
   "id": "fd840777",
   "metadata": {},
   "outputs": [],
   "source": []
  }
 ],
 "metadata": {
  "kernelspec": {
   "display_name": "Python 3 (ipykernel)",
   "language": "python",
   "name": "python3"
  },
  "language_info": {
   "codemirror_mode": {
    "name": "ipython",
    "version": 3
   },
   "file_extension": ".py",
   "mimetype": "text/x-python",
   "name": "python",
   "nbconvert_exporter": "python",
   "pygments_lexer": "ipython3",
   "version": "3.10.9"
  },
  "toc": {
   "base_numbering": 1,
   "nav_menu": {},
   "number_sections": true,
   "sideBar": true,
   "skip_h1_title": false,
   "title_cell": "Table of Contents",
   "title_sidebar": "Contents",
   "toc_cell": false,
   "toc_position": {},
   "toc_section_display": true,
   "toc_window_display": false
  }
 },
 "nbformat": 4,
 "nbformat_minor": 5
}
