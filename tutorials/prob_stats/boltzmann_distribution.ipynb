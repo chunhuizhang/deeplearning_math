{
 "cells": [
  {
   "cell_type": "markdown",
   "id": "f95a66ed",
   "metadata": {},
   "source": [
    "## 岛民与椰子"
   ]
  },
  {
   "cell_type": "markdown",
   "id": "e14e5a8e",
   "metadata": {},
   "source": [
    "- Coconuts and Islanders: A Statistics-First Guide to the Boltzmann Distribution\n",
    "    - https://arxiv.org/pdf/1904.04669.pdf"
   ]
  },
  {
   "cell_type": "code",
   "execution_count": 5,
   "id": "5f1ed19c",
   "metadata": {
    "ExecuteTime": {
     "end_time": "2023-10-15T07:55:19.467911Z",
     "start_time": "2023-10-15T07:55:19.447668Z"
    }
   },
   "outputs": [],
   "source": [
    "import random\n",
    "n_islanders = 100\n",
    "own_dict = [3]*n_islanders\n",
    "\n",
    "for d in range(30):\n",
    "#     i, j = random.sample(range(100), 2)\n",
    "    for i in range(n_islanders):\n",
    "        j = random.randint(0, n_islanders-1)\n",
    "        if i == j:\n",
    "            continue\n",
    "        if own_dict[i] == 0 or own_dict[j] == 0:\n",
    "            continue\n",
    "        r = random.randint(0, 2)\n",
    "        if r == 0:\n",
    "            continue\n",
    "        if r == 1:\n",
    "            own_dict[i] += 1\n",
    "            own_dict[j] -= 1\n",
    "        else:\n",
    "            own_dict[j] += 1\n",
    "            own_dict[i] -= 1"
   ]
  },
  {
   "cell_type": "code",
   "execution_count": 9,
   "id": "7fa5ba77",
   "metadata": {
    "ExecuteTime": {
     "end_time": "2023-10-15T07:56:22.266334Z",
     "start_time": "2023-10-15T07:56:22.022101Z"
    },
    "collapsed": true
   },
   "outputs": [
    {
     "data": {
      "image/png": "[encoded data removed]",
      "text/plain": [
       "<Figure size 640x480 with 1 Axes>"
      ]
     },
     "metadata": {},
     "output_type": "display_data"
    }
   ],
   "source": [
    "import matplotlib.pyplot as plt\n",
    "_ = plt.hist(own_dict, bins=30, density=False, facecolor=\"blue\", edgecolor=\"black\", alpha=0.7)"
   ]
  },
  {
   "cell_type": "code",
   "execution_count": 10,
   "id": "f7230053",
   "metadata": {
    "ExecuteTime": {
     "end_time": "2023-10-15T07:56:29.030562Z",
     "start_time": "2023-10-15T07:56:29.024974Z"
    }
   },
   "outputs": [
    {
     "data": {
      "text/plain": [
       "55"
      ]
     },
     "execution_count": 10,
     "metadata": {},
     "output_type": "execute_result"
    }
   ],
   "source": [
    "own_dict.count(0)"
   ]
  },
  {
   "cell_type": "code",
   "execution_count": 11,
   "id": "39abafa3",
   "metadata": {
    "ExecuteTime": {
     "end_time": "2023-10-15T07:56:41.515695Z",
     "start_time": "2023-10-15T07:56:41.509364Z"
    },
    "scrolled": true
   },
   "outputs": [
    {
     "data": {
      "text/plain": [
       "300"
      ]
     },
     "execution_count": 11,
     "metadata": {},
     "output_type": "execute_result"
    }
   ],
   "source": [
    "sum(own_dict)"
   ]
  },
  {
   "cell_type": "code",
   "execution_count": 19,
   "id": "8eeca697",
   "metadata": {
    "ExecuteTime": {
     "end_time": "2023-10-15T08:01:35.535826Z",
     "start_time": "2023-10-15T08:01:35.525162Z"
    }
   },
   "outputs": [
    {
     "data": {
      "text/plain": [
       "Counter({0: 55,\n",
       "         7: 4,\n",
       "         3: 2,\n",
       "         14: 2,\n",
       "         8: 7,\n",
       "         4: 6,\n",
       "         2: 1,\n",
       "         1: 3,\n",
       "         10: 1,\n",
       "         11: 3,\n",
       "         12: 1,\n",
       "         6: 7,\n",
       "         5: 5,\n",
       "         9: 2,\n",
       "         13: 1})"
      ]
     },
     "execution_count": 19,
     "metadata": {},
     "output_type": "execute_result"
    }
   ],
   "source": [
    "from collections import Counter\n",
    "dist = Counter(own_dict)\n",
    "dist"
   ]
  },
  {
   "cell_type": "code",
   "execution_count": 18,
   "id": "ea48a73d",
   "metadata": {
    "ExecuteTime": {
     "end_time": "2023-10-15T08:01:30.807062Z",
     "start_time": "2023-10-15T08:01:30.797113Z"
    }
   },
   "outputs": [
    {
     "data": {
      "text/plain": [
       "10"
      ]
     },
     "execution_count": 18,
     "metadata": {},
     "output_type": "execute_result"
    }
   ],
   "source": [
    "dist[3] * dist[5] "
   ]
  },
  {
   "cell_type": "code",
   "execution_count": 17,
   "id": "05a4f6d0",
   "metadata": {
    "ExecuteTime": {
     "end_time": "2023-10-15T08:01:29.171517Z",
     "start_time": "2023-10-15T08:01:29.162293Z"
    }
   },
   "outputs": [
    {
     "data": {
      "text/plain": [
       "36"
      ]
     },
     "execution_count": 17,
     "metadata": {},
     "output_type": "execute_result"
    }
   ],
   "source": [
    "dist[4] * dist[4]"
   ]
  },
  {
   "cell_type": "markdown",
   "id": "5cb22c73",
   "metadata": {},
   "source": [
    "## boltzmann distribution"
   ]
  },
  {
   "cell_type": "markdown",
   "id": "0079dc45",
   "metadata": {},
   "source": [
    "- 该分布表明，能量较低的状态总是有较高的概率被占用。\n",
    "- 最大熵和玻尔兹曼分布的关系\n",
    "    - 不断迭代，最终达到平衡状态时，我们发现此时系统的熵是最大的，因此最大熵等价于玻尔兹曼分布"
   ]
  },
  {
   "cell_type": "markdown",
   "id": "199674c4",
   "metadata": {},
   "source": [
    "### energy model"
   ]
  },
  {
   "cell_type": "markdown",
   "id": "12e0c8e0",
   "metadata": {},
   "source": [
    "- references\n",
    "    - https://kexue.fm/archives/6331\n",
    "- 一批数据 $x_1,x_2,\\dots,x_n\\sim p(x)$，如果用一个概率模型去拟合它，选择的模型为：\n",
    "\n",
    "$$\n",
    "q_\\theta(x)=\\frac{e^{-U_\\theta(x)}}{Z_\\theta}\n",
    "$$"
   ]
  }
 ],
 "metadata": {
  "kernelspec": {
   "display_name": "Python 3 (ipykernel)",
   "language": "python",
   "name": "python3"
  },
  "language_info": {
   "codemirror_mode": {
    "name": "ipython",
    "version": 3
   },
   "file_extension": ".py",
   "mimetype": "text/x-python",
   "name": "python",
   "nbconvert_exporter": "python",
   "pygments_lexer": "ipython3",
   "version": "3.10.9"
  },
  "toc": {
   "base_numbering": 1,
   "nav_menu": {},
   "number_sections": true,
   "sideBar": true,
   "skip_h1_title": false,
   "title_cell": "Table of Contents",
   "title_sidebar": "Contents",
   "toc_cell": false,
   "toc_position": {},
   "toc_section_display": true,
   "toc_window_display": false
  }
 },
 "nbformat": 4,
 "nbformat_minor": 5
}
