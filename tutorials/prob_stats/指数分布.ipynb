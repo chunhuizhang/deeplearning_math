{
 "cells": [
  {
   "cell_type": "code",
   "execution_count": 6,
   "id": "743ca98d",
   "metadata": {
    "ExecuteTime": {
     "end_time": "2023-10-18T12:34:30.759193Z",
     "start_time": "2023-10-18T12:34:30.752471Z"
    },
    "scrolled": true
   },
   "outputs": [],
   "source": [
    "import matplotlib.pyplot as plt\n",
    "import numpy as np"
   ]
  },
  {
   "cell_type": "markdown",
   "id": "9b3e7ce3",
   "metadata": {},
   "source": [
    "## basics"
   ]
  },
  {
   "cell_type": "markdown",
   "id": "81c20f56",
   "metadata": {},
   "source": [
    "- references\n",
    "    - https://www.cnblogs.com/bigmonkey/p/12374393.html\n",
    "    - https://en.wikipedia.org/wiki/Exponential_distribution"
   ]
  },
  {
   "cell_type": "markdown",
   "id": "1e95024c",
   "metadata": {},
   "source": [
    "$$\n",
    "f(x;\\lambda)=\\left\\{\n",
    "\\begin{array}{ll}\n",
    "\\lambda e^{-\\lambda x}, & x\\ge 0\\\\\n",
    "0\n",
    "\\end{array}\n",
    "\\right.\\\\\n",
    "F(x;\\lambda)=P(X\\le x)=\\left\\{\n",
    "\\begin{array}{ll}\n",
    "1-e^{-\\lambda x}, & x\\ge 0\\\\\n",
    "0\n",
    "\\end{array}\n",
    "\\right.\\\\\n",
    "$$\n",
    "\n",
    "- $\\lambda$：单位时间时间发生的次数，随机变量 $X$ 则表示时间间隔；\n",
    "- $P(T\\geq t)=1-P(T\\lt t)=1-F(t;\\lambda)=e^{-\\lambda t}$"
   ]
  },
  {
   "cell_type": "markdown",
   "id": "83a9bf5a",
   "metadata": {},
   "source": [
    "### 指数分布的无记忆性"
   ]
  },
  {
   "cell_type": "markdown",
   "id": "5fa2702b",
   "metadata": {},
   "source": [
    "### 半衰期"
   ]
  },
  {
   "cell_type": "markdown",
   "id": "0dd69f26",
   "metadata": {},
   "source": [
    "- https://perso.telecom-paristech.fr/bonald/networkperformance/files/ch2.pdf\n",
    "- $P(X\\gt t)=1-P(X\\leq t)=e^{-\\lambda t}$ 是一个确定的标准的指数函数\n",
    "    - 半衰期是指 $P(X\\gt t)=1/2=e^{-\\lambda t}$，此时时间 $t=\\frac{\\ln 2}{\\lambda}$"
   ]
  },
  {
   "cell_type": "code",
   "execution_count": 8,
   "id": "34277dea",
   "metadata": {
    "ExecuteTime": {
     "end_time": "2023-10-18T12:35:51.199159Z",
     "start_time": "2023-10-18T12:35:50.995205Z"
    }
   },
   "outputs": [
    {
     "data": {
      "text/plain": [
       "[<matplotlib.lines.Line2D at 0x7f401dd81d80>]"
      ]
     },
     "execution_count": 8,
     "metadata": {},
     "output_type": "execute_result"
    },
    {
     "data": {
      "image/png": "[encoded data removed]",
      "text/plain": [
       "<Figure size 640x480 with 1 Axes>"
      ]
     },
     "metadata": {},
     "output_type": "display_data"
    }
   ],
   "source": [
    "x = np.arange(0, 5, .001)\n",
    "lambd = 1\n",
    "plt.plot(x, np.exp(-lambd*x))"
   ]
  },
  {
   "cell_type": "code",
   "execution_count": null,
   "id": "26bcf1db",
   "metadata": {},
   "outputs": [],
   "source": []
  }
 ],
 "metadata": {
  "kernelspec": {
   "display_name": "Python 3 (ipykernel)",
   "language": "python",
   "name": "python3"
  },
  "language_info": {
   "codemirror_mode": {
    "name": "ipython",
    "version": 3
   },
   "file_extension": ".py",
   "mimetype": "text/x-python",
   "name": "python",
   "nbconvert_exporter": "python",
   "pygments_lexer": "ipython3",
   "version": "3.10.9"
  },
  "toc": {
   "base_numbering": 1,
   "nav_menu": {},
   "number_sections": true,
   "sideBar": true,
   "skip_h1_title": false,
   "title_cell": "Table of Contents",
   "title_sidebar": "Contents",
   "toc_cell": false,
   "toc_position": {},
   "toc_section_display": true,
   "toc_window_display": false
  }
 },
 "nbformat": 4,
 "nbformat_minor": 5
}
