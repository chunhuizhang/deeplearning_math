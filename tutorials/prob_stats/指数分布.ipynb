{
 "cells": [
  {
   "cell_type": "markdown",
   "id": "9b3e7ce3",
   "metadata": {},
   "source": [
    "## basics"
   ]
  },
  {
   "cell_type": "markdown",
   "id": "81c20f56",
   "metadata": {},
   "source": [
    "- references\n",
    "    - https://www.cnblogs.com/bigmonkey/p/12374393.html\n",
    "    - https://en.wikipedia.org/wiki/Exponential_distribution"
   ]
  },
  {
   "cell_type": "markdown",
   "id": "1e95024c",
   "metadata": {},
   "source": [
    "$$\n",
    "f(x;\\lambda)=\\left\\{\n",
    "\\begin{array}{ll}\n",
    "\\lambda e^{-\\lambda x}, & x\\ge 0\\\\\n",
    "0\n",
    "\\end{array}\n",
    "\\right.\\\\\n",
    "F(x;\\lambda)=P(X\\le x)=\\left\\{\n",
    "\\begin{array}{ll}\n",
    "1-e^{-\\lambda x}, & x\\ge 0\\\\\n",
    "0\n",
    "\\end{array}\n",
    "\\right.\\\\\n",
    "$$\n",
    "\n",
    "- $\\lambda$：单位时间时间发生的次数，随机变量 $X$ 则表示时间间隔；\n",
    "- $P(T\\geq t)=1-P(T\\lt t)=1-F(t;\\lambda)=e^{-\\lambda t}$"
   ]
  },
  {
   "cell_type": "markdown",
   "id": "64aeed5f",
   "metadata": {},
   "source": [
    "## 指数分布的无记忆性"
   ]
  },
  {
   "cell_type": "code",
   "execution_count": null,
   "id": "7343b3b4",
   "metadata": {},
   "outputs": [],
   "source": []
  }
 ],
 "metadata": {
  "kernelspec": {
   "display_name": "Python 3 (ipykernel)",
   "language": "python",
   "name": "python3"
  },
  "language_info": {
   "codemirror_mode": {
    "name": "ipython",
    "version": 3
   },
   "file_extension": ".py",
   "mimetype": "text/x-python",
   "name": "python",
   "nbconvert_exporter": "python",
   "pygments_lexer": "ipython3",
   "version": "3.10.9"
  },
  "toc": {
   "base_numbering": 1,
   "nav_menu": {},
   "number_sections": true,
   "sideBar": true,
   "skip_h1_title": false,
   "title_cell": "Table of Contents",
   "title_sidebar": "Contents",
   "toc_cell": false,
   "toc_position": {},
   "toc_section_display": true,
   "toc_window_display": false
  }
 },
 "nbformat": 4,
 "nbformat_minor": 5
}
