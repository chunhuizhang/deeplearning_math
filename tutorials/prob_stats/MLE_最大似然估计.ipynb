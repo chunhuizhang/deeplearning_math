{
 "cells": [
  {
   "cell_type": "markdown",
   "id": "a95fd553-478a-4f6d-b90c-ab41557f77f5",
   "metadata": {},
   "source": [
    "### 概率与似然"
   ]
  },
  {
   "cell_type": "markdown",
   "id": "6ede997c-6cc6-4ef5-a4e9-b0326b830906",
   "metadata": {},
   "source": [
    "- probability vs. likelihood\n",
    "    - 概率：P(数据 | 参数)\n",
    "        - 在**已知模型参数**的情况下，某个特定结果或事件发生的可能性。\n",
    "        - 已知一枚硬币是公平的（正反面概率都是50%），那么抛出正面的概率是0.5。\n",
    "    - 似然：L(参数 | 数据)\n",
    "        - 在观察到特定数据的情况下，模型参数取特定值的支持程度。\n",
    "        - 观察到连续10次抛硬币都是正面，我们想知道这枚硬币是偏向正面的可能性有多大。"
   ]
  },
  {
   "cell_type": "markdown",
   "id": "8999b7e0-dbe9-4354-aa23-e295c991e9e7",
   "metadata": {},
   "source": [
    "### MLE"
   ]
  },
  {
   "cell_type": "markdown",
   "id": "e400cbab",
   "metadata": {},
   "source": [
    "$$\n",
    "\\theta = \\underset{\\theta}{\\mathrm{argmax}}\\ p_{\\theta}(x) = \\underset{\\theta}{\\mathrm{argmax}}\\ \\log p_{\\theta}(x)\n",
    "$$\n",
    "\n",
    "- 训练集 $X=\\left\\{x_1,x_2,\\cdots, x_N\\right\\}$，则 marginal log likelihood（$\\log p_\\theta(X)$）\n",
    "\n",
    "    $$\n",
    "    \\begin{split}\n",
    "    \\log p_{\\theta}(X) &= \\log \\prod_{i=1}^{N} p_{\\theta}(x_i) \\\\\n",
    "    &= \\sum_{i=1}^{N} \\log p_{\\theta}(x_{i}) \\\\\n",
    "    &= \\sum_{i=1}^{N} \\log \\int p_{\\theta}(x_i, z_i)dz \\\\\n",
    "    &= \\sum_{i=1}^{N} \\log \\int p_{\\theta}(x_i \\lvert z_i)p_{\\theta}(z_i)dz\n",
    "    \\end{split}\n",
    "    $$\n",
    "    - $z$ 的维度，决定了最后有几重积分；"
   ]
  },
  {
   "cell_type": "markdown",
   "id": "48832a67",
   "metadata": {},
   "source": [
    "## examples"
   ]
  },
  {
   "cell_type": "markdown",
   "id": "cb78b8a7",
   "metadata": {},
   "source": [
    "### 估计正态分布的参数 $\\mu, \\sigma$"
   ]
  },
  {
   "cell_type": "code",
   "execution_count": 3,
   "id": "1c4930d8",
   "metadata": {
    "ExecuteTime": {
     "end_time": "2023-11-22T14:36:46.055443Z",
     "start_time": "2023-11-22T14:36:45.998951Z"
    }
   },
   "outputs": [
    {
     "data": {
      "text/plain": [
       "array([-0.00452568,  0.09870331])"
      ]
     },
     "execution_count": 3,
     "metadata": {},
     "output_type": "execute_result"
    }
   ],
   "source": [
    "import numpy as np\n",
    "from scipy.optimize import minimize\n",
    "\n",
    "# 生成正态分布的样本数据\n",
    "np.random.seed(0)\n",
    "true_mu, true_sigma = 0, 0.1  # 真实的均值和标准差\n",
    "samples = np.random.normal(true_mu, true_sigma, 1000)\n",
    "\n",
    "# 定义对数似然函数\n",
    "def log_likelihood(params, data):\n",
    "    mu, sigma = params\n",
    "    return -np.sum(np.log(np.sqrt(2 * np.pi * sigma**2)) + ((data - mu)**2 / (2 * sigma**2)))\n",
    "\n",
    "# 定义初始参数估计\n",
    "initial_params = [0, 1]  # 初始猜测的均值和标准差\n",
    "\n",
    "# 使用梯度下降法找到最大化对数似然函数的参数值\n",
    "result = minimize(lambda params: -log_likelihood(params, samples), initial_params, method='BFGS')\n",
    "\n",
    "estimated_mu, estimated_sigma = result.x\n",
    "result.x"
   ]
  },
  {
   "cell_type": "code",
   "execution_count": null,
   "id": "498f9c89",
   "metadata": {},
   "outputs": [],
   "source": []
  }
 ],
 "metadata": {
  "kernelspec": {
   "display_name": "Python 3 (ipykernel)",
   "language": "python",
   "name": "python3"
  },
  "language_info": {
   "codemirror_mode": {
    "name": "ipython",
    "version": 3
   },
   "file_extension": ".py",
   "mimetype": "text/x-python",
   "name": "python",
   "nbconvert_exporter": "python",
   "pygments_lexer": "ipython3",
   "version": "3.10.13"
  },
  "toc": {
   "base_numbering": 1,
   "nav_menu": {},
   "number_sections": true,
   "sideBar": true,
   "skip_h1_title": false,
   "title_cell": "Table of Contents",
   "title_sidebar": "Contents",
   "toc_cell": false,
   "toc_position": {},
   "toc_section_display": true,
   "toc_window_display": false
  }
 },
 "nbformat": 4,
 "nbformat_minor": 5
}
