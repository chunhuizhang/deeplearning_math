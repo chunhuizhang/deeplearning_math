{
 "cells": [
  {
   "cell_type": "markdown",
   "id": "e400cbab",
   "metadata": {},
   "source": [
    "$$\n",
    "\\theta = \\underset{\\theta}{\\mathrm{argmax}}\\ p_{\\theta}(x) = \\underset{\\theta}{\\mathrm{argmax}}\\ \\log p_{\\theta}(x)\n",
    "$$\n",
    "\n",
    "- 训练集 $X=\\left\\{x_1,x_2,\\cdots, x_N\\right\\}$，则 marginal log likelihood（$\\log p_\\theta(X)$）\n",
    "\n",
    "    $$\n",
    "    \\begin{split}\n",
    "    \\log p_{\\theta}(X) &= \\log \\prod_{i=1}^{N} p_{\\theta}(x_i) \\\\\n",
    "    &= \\sum_{i=1}^{N} \\log p_{\\theta}(x_{i}) \\\\\n",
    "    &= \\sum_{i=1}^{N} \\log \\int p_{\\theta}(x_i, z_i)dz \\\\\n",
    "    &= \\sum_{i=1}^{N} \\log \\int p_{\\theta}(x_i \\lvert z_i)p_{\\theta}(z_i)dz\n",
    "    \\end{split}\n",
    "    $$\n",
    "    - $z$ 的维度，决定了最后有几重积分；"
   ]
  }
 ],
 "metadata": {
  "kernelspec": {
   "display_name": "Python 3 (ipykernel)",
   "language": "python",
   "name": "python3"
  },
  "language_info": {
   "codemirror_mode": {
    "name": "ipython",
    "version": 3
   },
   "file_extension": ".py",
   "mimetype": "text/x-python",
   "name": "python",
   "nbconvert_exporter": "python",
   "pygments_lexer": "ipython3",
   "version": "3.10.13"
  },
  "toc": {
   "base_numbering": 1,
   "nav_menu": {},
   "number_sections": true,
   "sideBar": true,
   "skip_h1_title": false,
   "title_cell": "Table of Contents",
   "title_sidebar": "Contents",
   "toc_cell": false,
   "toc_position": {},
   "toc_section_display": true,
   "toc_window_display": false
  }
 },
 "nbformat": 4,
 "nbformat_minor": 5
}
