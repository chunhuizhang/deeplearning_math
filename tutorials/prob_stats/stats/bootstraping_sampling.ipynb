{
 "cells": [
  {
   "cell_type": "markdown",
   "id": "7fcab73f-b659-4f3b-b842-accb9bd085c3",
   "metadata": {},
   "source": [
    "- bootstraping：自举\n",
    "    - dataset bootstraping, 从原始的 n 样本中，采样（有放回采样） n 次，得到新的数据集，称为 bootstraping dataset"
   ]
  },
  {
   "cell_type": "code",
   "execution_count": 2,
   "id": "3bdc314c-3eec-4ca3-9f50-f815418d09d8",
   "metadata": {},
   "outputs": [
    {
     "name": "stdout",
     "output_type": "stream",
     "text": [
      "299.98218904866036\n",
      "299.99990973408546\n"
     ]
    }
   ],
   "source": [
    "import numpy as np\n",
    "import random\n",
    "\n",
    "x = np.random.normal(loc= 300.0, size=1000)\n",
    "print(np.mean(x))\n",
    "\n",
    "sample_mean = []\n",
    "for i in range(50):\n",
    "  y = random.sample(x.tolist(), 10)\n",
    "  avg = np.mean(y)\n",
    "  sample_mean.append(avg)\n",
    "\n",
    "print(np.mean(sample_mean))"
   ]
  },
  {
   "cell_type": "code",
   "execution_count": null,
   "id": "9d2a71f9-ade5-4116-828d-8b0397172e9c",
   "metadata": {},
   "outputs": [],
   "source": []
  }
 ],
 "metadata": {
  "kernelspec": {
   "display_name": "Python 3 (ipykernel)",
   "language": "python",
   "name": "python3"
  },
  "language_info": {
   "codemirror_mode": {
    "name": "ipython",
    "version": 3
   },
   "file_extension": ".py",
   "mimetype": "text/x-python",
   "name": "python",
   "nbconvert_exporter": "python",
   "pygments_lexer": "ipython3",
   "version": "3.10.13"
  }
 },
 "nbformat": 4,
 "nbformat_minor": 5
}
