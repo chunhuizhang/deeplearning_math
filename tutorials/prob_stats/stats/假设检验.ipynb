{
 "cells": [
  {
   "cell_type": "markdown",
   "id": "0fafcb4a",
   "metadata": {},
   "source": [
    "## basics"
   ]
  },
  {
   "cell_type": "markdown",
   "id": "51726eb5",
   "metadata": {},
   "source": [
    "- p-value\n",
    "    - p-value < 0.05，作为显著性差异的阈值\n",
    "        - null hypothesis：0假设，没有显著性差异\n",
    "        - p-value < 0.05：拒绝0假设，存在显著性差异；\n",
    "        - p-value > 0.05: 不能拒绝0假设；\n",
    "- 均值检验，方差检验；"
   ]
  },
  {
   "cell_type": "markdown",
   "id": "cd5321aa",
   "metadata": {},
   "source": [
    "## scipy.stats"
   ]
  },
  {
   "cell_type": "markdown",
   "id": "97f66d93",
   "metadata": {},
   "source": [
    "- `stats.ttest_ind`\n",
    "    - Calculate the T-test for the means of **two independent** samples of scores.\n",
    "        - 是否独立性假设；\n",
    "    - This is a test for the null hypothesis that 2 independent samples have **identical average** (expected) values. This test assumes that the populations have identical variances by default.\n",
    "\n",
    "- `stats.f_oneway`\n",
    "    - perform one-way ANOVA.\n",
    "    - The one-way ANOVA tests the null hypothesis that two or more groups have the same population mean.  The test is applied to samples from two or more groups, possibly with differing sizes.\n",
    "    \n",
    "\n",
    "- `stats.chi2_contingency`\n",
    "    - Chi-square test of independence of variables in a contingency table.\n",
    "    - This function computes the chi-square statistic and p-value for the\n",
    "    hypothesis test of independence of the observed frequencies in the\n",
    "    contingency table [1]_ `observed`.  The expected frequencies are computed\n",
    "    based on the marginal sums under the assumption of independence; see\n",
    "    `scipy.stats.contingency.expected_freq`.  The number of degrees of\n",
    "    freedom is (expressed using numpy functions and attributes)::\n",
    "\n",
    "$$\n",
    "        \\text{dof = observed.size - sum(observed.shape) + observed.ndim - 1}\n",
    "$$"
   ]
  },
  {
   "cell_type": "code",
   "execution_count": 1,
   "id": "c307e5b9",
   "metadata": {
    "ExecuteTime": {
     "end_time": "2023-11-21T13:21:06.040476Z",
     "start_time": "2023-11-21T13:21:05.592416Z"
    }
   },
   "outputs": [],
   "source": [
    "from scipy import stats"
   ]
  },
  {
   "cell_type": "code",
   "execution_count": 13,
   "id": "67d7f1ea",
   "metadata": {
    "ExecuteTime": {
     "end_time": "2023-11-21T13:25:18.942577Z",
     "start_time": "2023-11-21T13:25:18.905105Z"
    }
   },
   "outputs": [],
   "source": [
    "stats.chi2_contingency??"
   ]
  }
 ],
 "metadata": {
  "kernelspec": {
   "display_name": "Python 3 (ipykernel)",
   "language": "python",
   "name": "python3"
  },
  "language_info": {
   "codemirror_mode": {
    "name": "ipython",
    "version": 3
   },
   "file_extension": ".py",
   "mimetype": "text/x-python",
   "name": "python",
   "nbconvert_exporter": "python",
   "pygments_lexer": "ipython3",
   "version": "3.10.13"
  },
  "toc": {
   "base_numbering": 1,
   "nav_menu": {},
   "number_sections": true,
   "sideBar": true,
   "skip_h1_title": false,
   "title_cell": "Table of Contents",
   "title_sidebar": "Contents",
   "toc_cell": false,
   "toc_position": {},
   "toc_section_display": true,
   "toc_window_display": false
  }
 },
 "nbformat": 4,
 "nbformat_minor": 5
}
