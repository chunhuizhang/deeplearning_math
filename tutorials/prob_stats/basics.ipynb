{
 "cells": [
  {
   "cell_type": "markdown",
   "id": "1328e449-72f3-40ae-8065-a5dcb537bd42",
   "metadata": {},
   "source": [
    "## 随机变量"
   ]
  },
  {
   "cell_type": "markdown",
   "id": "1b84686e-0f57-42c7-b44f-bcad231d1f64",
   "metadata": {},
   "source": [
    "- 随机变量一般用大写形式 $X$\n",
    "- 对 $X$ 的随机抽样（或者观测）记为 $x$"
   ]
  }
 ],
 "metadata": {
  "kernelspec": {
   "display_name": "Python 3 (ipykernel)",
   "language": "python",
   "name": "python3"
  },
  "language_info": {
   "codemirror_mode": {
    "name": "ipython",
    "version": 3
   },
   "file_extension": ".py",
   "mimetype": "text/x-python",
   "name": "python",
   "nbconvert_exporter": "python",
   "pygments_lexer": "ipython3",
   "version": "3.10.13"
  }
 },
 "nbformat": 4,
 "nbformat_minor": 5
}
