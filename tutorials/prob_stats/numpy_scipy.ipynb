{
 "cells": [
  {
   "cell_type": "markdown",
   "id": "8262f169",
   "metadata": {},
   "source": [
    "## scipy"
   ]
  },
  {
   "cell_type": "markdown",
   "id": "e2949db4",
   "metadata": {},
   "source": [
    "### scipy.stats"
   ]
  },
  {
   "cell_type": "markdown",
   "id": "dbe2de81",
   "metadata": {},
   "source": [
    "- `from scipy.stats import rv_discrete`"
   ]
  },
  {
   "cell_type": "markdown",
   "id": "c37f85a5",
   "metadata": {},
   "source": [
    "### scipy.special"
   ]
  },
  {
   "cell_type": "markdown",
   "id": "0c2a995c",
   "metadata": {},
   "source": [
    "$$\\mathrm{LSE}(x_1, \\dots, x_n) = \\log\\left( \\exp(x_1) + \\cdots + \\exp(x_n) \\right)$$"
   ]
  },
  {
   "cell_type": "markdown",
   "id": "39b58f73",
   "metadata": {},
   "source": [
    "\n",
    "```\n",
    "from scipy.special import logsumexp\n",
    "```\n",
    "\n",
    "- $\\frac{\\exp(x_i)}{\\sum_j\\exp(x_j)}$\n",
    "    - 取 $\\log $\n",
    "    - $x_i-\\log\\sum_j\\exp(x_j)$"
   ]
  },
  {
   "cell_type": "markdown",
   "id": "b51d2e89",
   "metadata": {},
   "source": [
    "### distribution：sample & fit"
   ]
  },
  {
   "cell_type": "code",
   "execution_count": 2,
   "id": "110cf8dc",
   "metadata": {
    "ExecuteTime": {
     "end_time": "2023-11-15T12:45:44.471832Z",
     "start_time": "2023-11-15T12:45:44.467757Z"
    }
   },
   "outputs": [],
   "source": [
    "from scipy.stats import beta"
   ]
  },
  {
   "cell_type": "code",
   "execution_count": 10,
   "id": "763a9e55",
   "metadata": {
    "ExecuteTime": {
     "end_time": "2023-11-15T12:48:48.254170Z",
     "start_time": "2023-11-15T12:48:48.246387Z"
    }
   },
   "outputs": [],
   "source": [
    "a, b = 10, 35\n",
    "samples = beta.rvs(a, b, size=1000)"
   ]
  },
  {
   "cell_type": "code",
   "execution_count": 11,
   "id": "fdaa27f2",
   "metadata": {
    "ExecuteTime": {
     "end_time": "2023-11-15T12:48:49.351477Z",
     "start_time": "2023-11-15T12:48:49.339907Z"
    }
   },
   "outputs": [
    {
     "data": {
      "text/plain": [
       "(9.433096929393132, 33.08925304136443, 0, 1)"
      ]
     },
     "execution_count": 11,
     "metadata": {},
     "output_type": "execute_result"
    }
   ],
   "source": [
    "beta.fit(samples, floc=0, fscale=1)"
   ]
  }
 ],
 "metadata": {
  "kernelspec": {
   "display_name": "Python 3 (ipykernel)",
   "language": "python",
   "name": "python3"
  },
  "language_info": {
   "codemirror_mode": {
    "name": "ipython",
    "version": 3
   },
   "file_extension": ".py",
   "mimetype": "text/x-python",
   "name": "python",
   "nbconvert_exporter": "python",
   "pygments_lexer": "ipython3",
   "version": "3.10.9"
  },
  "toc": {
   "base_numbering": 1,
   "nav_menu": {},
   "number_sections": true,
   "sideBar": true,
   "skip_h1_title": false,
   "title_cell": "Table of Contents",
   "title_sidebar": "Contents",
   "toc_cell": false,
   "toc_position": {},
   "toc_section_display": true,
   "toc_window_display": false
  }
 },
 "nbformat": 4,
 "nbformat_minor": 5
}
