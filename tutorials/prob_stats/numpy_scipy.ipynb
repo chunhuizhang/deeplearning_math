{
 "cells": [
  {
   "cell_type": "markdown",
   "id": "8262f169",
   "metadata": {},
   "source": [
    "## scipy"
   ]
  },
  {
   "cell_type": "markdown",
   "id": "c37f85a5",
   "metadata": {},
   "source": [
    "### scipy.special"
   ]
  },
  {
   "cell_type": "markdown",
   "id": "0c2a995c",
   "metadata": {},
   "source": [
    "$$\\mathrm{LSE}(x_1, \\dots, x_n) = \\log\\left( \\exp(x_1) + \\cdots + \\exp(x_n) \\right)$$"
   ]
  },
  {
   "cell_type": "markdown",
   "id": "39b58f73",
   "metadata": {},
   "source": [
    "\n",
    "```\n",
    "from scipy.special import logsumexp\n",
    "```\n",
    "\n",
    "- $\\frac{\\exp(x_i)}{\\sum_j\\exp(x_j)}$\n",
    "    - 取 $\\log $\n",
    "    - $x_i-\\log\\sum_j\\exp(x_j)$"
   ]
  }
 ],
 "metadata": {
  "kernelspec": {
   "display_name": "Python 3 (ipykernel)",
   "language": "python",
   "name": "python3"
  },
  "language_info": {
   "codemirror_mode": {
    "name": "ipython",
    "version": 3
   },
   "file_extension": ".py",
   "mimetype": "text/x-python",
   "name": "python",
   "nbconvert_exporter": "python",
   "pygments_lexer": "ipython3",
   "version": "3.10.9"
  },
  "toc": {
   "base_numbering": 1,
   "nav_menu": {},
   "number_sections": true,
   "sideBar": true,
   "skip_h1_title": false,
   "title_cell": "Table of Contents",
   "title_sidebar": "Contents",
   "toc_cell": false,
   "toc_position": {},
   "toc_section_display": true,
   "toc_window_display": false
  }
 },
 "nbformat": 4,
 "nbformat_minor": 5
}
