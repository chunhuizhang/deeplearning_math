{
 "cells": [
  {
   "cell_type": "markdown",
   "id": "a80520e9",
   "metadata": {},
   "source": [
    "## basics"
   ]
  },
  {
   "cell_type": "markdown",
   "id": "8914517d",
   "metadata": {},
   "source": [
    "- 应用场景：pair distributions\n",
    "    - 知识蒸馏，student distribution & teacher distribution\n",
    "    - VaE\n",
    "    - RLHF & PPO\n",
    "    - ...\n",
    "    \n",
    "- 真实分布 $p$，拟合分布 $q$\n",
    "    - 真实分布 $p$ 往往是多峰的，\n",
    "\n",
    "    $$\n",
    "    D_{KL}(p\\|q)=E_p\\left[\\log\\frac{p}{q}\\right]=\\sum p\\log\\frac{p}{q}\n",
    "    $$\n",
    "\n",
    "    - 刻画（计算）的是 information lost，用分布 $q$ 去近似分布 $p$ 时的信息损失，是一个loss\n",
    "    - 单独作为目标函数时\n",
    "    \n",
    "    $$\n",
    "    q^{\\star}=\\arg\\min_qD_{KL}(p\\|q)\n",
    "    $$\n",
    "    \n",
    "- 性质\n",
    "    - 非负性：$D_{KL}(p\\|q)\\geq 0$\n",
    "        - 期望的 Jensen's inequality：$\\varphi\\left(\\operatorname{E}[X]\\right) \\leq \\operatorname{E} \\left[ \\varphi(X) \\right]$ ($\\varphi$ 是凸函数时，比如 $\\log(x)$ 就是凸函数)\n",
    "        \n",
    "\n",
    "    $$\n",
    "    \\begin{split}\n",
    "    -D_{kl}(p\\|q)&=-\\sum_X p(x)\\log\\frac{p(x)}{q(x)}\\\\\n",
    "    &=\\sum_Xp(x)\\log\\frac{q(x)}{p(x)}=E_p\\left[\\log\\frac{q(x)}{p(x)}\\right]\\\\\n",
    "    &\\leq \\log E_p\\left[\\frac{q(x)}{p(x)}\\right]\\\\\n",
    "    &=\\log \\sum_Xp(x)\\frac{q(x)}{p(x)}=-\\log 1= 0\n",
    "    \\end{split}\n",
    "    $$\n",
    "\n",
    "    - 证明之二（$\\ln x\\leq x-1$）\n",
    "        - $-D_{kl}(p\\|q)=\\sum p(x)\\log\\frac{q(x)}{p(x)}\\leq \\sum p(x)(\\frac{q(x)}{p(x)}-1)=0$\n",
    "        - 由此（$D_{kl}(p\\|q)\\geq 0$）也可推出 gibbs equity\n",
    "     \n",
    "          $$\n",
    "          \\begin{split}\n",
    "          D_{kl}(p\\|q)&=\\sum p(x)\\log p(x) - \\sum p(x)\\log q(x)\\geq 0\\\\\n",
    "          \\Downarrow&\\\\\n",
    "          \\sum p(x)\\log p(x)\\geq &\\sum p(x)\\log q(x)\n",
    "          \\end{split}\n",
    "          $$\n",
    "\n",
    "    \n",
    "- references\n",
    "    - https://medium.com/syncedreview/kullback-leibler-divergence-explained-e358fbacf046\n",
    "    - https://www.countbayesie.com/blog/2017/5/9/kullback-leibler-divergence-explained\n"
   ]
  },
  {
   "cell_type": "code",
   "execution_count": null,
   "id": "b378b2f9-3aa7-432e-8238-5509270ff19c",
   "metadata": {},
   "outputs": [
    {
     "data": {
      "text/plain": [
       "<matplotlib.legend.Legend at 0x707650f24370>"
      ]
     },
     "execution_count": 4,
     "metadata": {},
     "output_type": "execute_result"
    }
   ],
   "source": [
    "import matplotlib.pyplot as plt\n",
    "import numpy as np\n",
    "x = np.arange(.01, 10, .1)\n",
    "plt.plot(x, np.log(x), label=r'$\\ln x$')\n",
    "plt.plot(x, x-1, label=r'$x-1$')\n",
    "plt.title(r'$\\ln x\\leq x-1$')\n",
    "plt.legend()"
   ]
  },
  {
   "cell_type": "markdown",
   "id": "0a2ec8e9",
   "metadata": {},
   "source": [
    "## 离散型计算"
   ]
  },
  {
   "cell_type": "code",
   "execution_count": 1,
   "id": "b4075f6a",
   "metadata": {
    "ExecuteTime": {
     "end_time": "2023-08-30T14:59:45.584432Z",
     "start_time": "2023-08-30T14:59:45.403317Z"
    }
   },
   "outputs": [],
   "source": [
    "import numpy as np\n",
    "from scipy.special import kl_div"
   ]
  },
  {
   "cell_type": "code",
   "execution_count": 3,
   "id": "ad41410e",
   "metadata": {
    "ExecuteTime": {
     "end_time": "2023-08-30T14:59:59.409492Z",
     "start_time": "2023-08-30T14:59:59.403595Z"
    }
   },
   "outputs": [],
   "source": [
    "# Probability distribution P\n",
    "P = np.array([0.1, 0.2, 0.7])\n",
    "\n",
    "# Probability distribution Q\n",
    "Q = np.array([0.2, 0.2, 0.6])"
   ]
  },
  {
   "cell_type": "code",
   "execution_count": 5,
   "id": "14bbc7d4",
   "metadata": {
    "ExecuteTime": {
     "end_time": "2023-08-30T15:00:10.676347Z",
     "start_time": "2023-08-30T15:00:10.667231Z"
    }
   },
   "outputs": [
    {
     "data": {
      "text/plain": [
       "0.03859075782308635"
      ]
     },
     "execution_count": 5,
     "metadata": {},
     "output_type": "execute_result"
    }
   ],
   "source": [
    "kl_div(P, Q).sum()"
   ]
  },
  {
   "cell_type": "code",
   "execution_count": 6,
   "id": "a0bc0e72",
   "metadata": {
    "ExecuteTime": {
     "end_time": "2023-08-30T15:00:27.654809Z",
     "start_time": "2023-08-30T15:00:27.644467Z"
    }
   },
   "outputs": [
    {
     "data": {
      "text/plain": [
       "0.038590757823086325"
      ]
     },
     "execution_count": 6,
     "metadata": {},
     "output_type": "execute_result"
    }
   ],
   "source": [
    "np.sum(P * np.log(P/Q))"
   ]
  },
  {
   "cell_type": "markdown",
   "id": "6b7009e3",
   "metadata": {},
   "source": [
    "## 连续型计算"
   ]
  },
  {
   "cell_type": "markdown",
   "id": "91006455",
   "metadata": {},
   "source": [
    "$$\n",
    "\\begin{align}\n",
    "KL(p, q) &= - \\int p(x) \\log q(x) dx + \\int p(x) \\log p(x) dx\\\\\\\\\n",
    "&=\\frac{1}{2} \\log (2 \\pi \\sigma_2^2) + \\frac{\\sigma_1^2 + (\\mu_1 - \\mu_2)^2}{2 \\sigma_2^2} - \\frac{1}{2} (1 + \\log 2 \\pi \\sigma_1^2)\\\\\\\\\n",
    "&= \\log \\frac{\\sigma_2}{\\sigma_1} + \\frac{\\sigma_1^2 + (\\mu_1 - \\mu_2)^2}{2 \\sigma_2^2} - \\frac{1}{2}\n",
    "\\end{align}\n",
    "$$"
   ]
  },
  {
   "cell_type": "code",
   "execution_count": 20,
   "id": "d5664752",
   "metadata": {
    "ExecuteTime": {
     "end_time": "2023-08-30T15:04:27.820227Z",
     "start_time": "2023-08-30T15:04:27.814398Z"
    }
   },
   "outputs": [],
   "source": [
    "from scipy.stats import norm\n",
    "\n",
    "# Define two Gaussian distributions\n",
    "P = norm(loc=0, scale=1)\n",
    "Q = norm(loc=1, scale=2)"
   ]
  },
  {
   "cell_type": "code",
   "execution_count": 21,
   "id": "d28348a9",
   "metadata": {
    "ExecuteTime": {
     "end_time": "2023-08-30T15:04:29.008777Z",
     "start_time": "2023-08-30T15:04:29.001911Z"
    }
   },
   "outputs": [],
   "source": [
    "# Compute a definite integral.\n",
    "from scipy.integrate import quad"
   ]
  },
  {
   "cell_type": "code",
   "execution_count": 30,
   "id": "8cf966cf",
   "metadata": {
    "ExecuteTime": {
     "end_time": "2023-08-30T15:16:35.844922Z",
     "start_time": "2023-08-30T15:16:35.835241Z"
    }
   },
   "outputs": [
    {
     "data": {
      "text/plain": [
       "5.3848800212716394e-08"
      ]
     },
     "execution_count": 30,
     "metadata": {},
     "output_type": "execute_result"
    }
   ],
   "source": [
    "Q.pdf(-10)"
   ]
  },
  {
   "cell_type": "code",
   "execution_count": 22,
   "id": "197fb72b",
   "metadata": {
    "ExecuteTime": {
     "end_time": "2023-08-30T15:04:30.018502Z",
     "start_time": "2023-08-30T15:04:30.012312Z"
    }
   },
   "outputs": [],
   "source": [
    "def kl_continuous(P, Q, lower=-np.inf, upper=np.inf):\n",
    "    # Define the integrand\n",
    "    def integrand(x):\n",
    "        return P.pdf(x) * np.log(P.pdf(x) / Q.pdf(x))\n",
    "\n",
    "    # Calculate the integral\n",
    "    return quad(integrand, lower, upper)[0]"
   ]
  },
  {
   "cell_type": "code",
   "execution_count": 31,
   "id": "42d022d6",
   "metadata": {
    "ExecuteTime": {
     "end_time": "2023-08-30T15:16:41.706258Z",
     "start_time": "2023-08-30T15:16:41.586346Z"
    },
    "scrolled": true
   },
   "outputs": [
    {
     "data": {
      "text/plain": [
       "0.4431471805599454"
      ]
     },
     "execution_count": 31,
     "metadata": {},
     "output_type": "execute_result"
    }
   ],
   "source": [
    "kl_continuous(P, Q, lower=-10, upper=10)"
   ]
  },
  {
   "cell_type": "code",
   "execution_count": 33,
   "id": "4a44364d",
   "metadata": {
    "ExecuteTime": {
     "end_time": "2023-08-30T15:18:10.495657Z",
     "start_time": "2023-08-30T15:18:10.486635Z"
    }
   },
   "outputs": [
    {
     "data": {
      "text/plain": [
       "0.4431471805599453"
      ]
     },
     "execution_count": 33,
     "metadata": {},
     "output_type": "execute_result"
    }
   ],
   "source": [
    "np.log(2/1) + (1**1+1**1)/(2*2**2) - 1/2"
   ]
  }
 ],
 "metadata": {
  "kernelspec": {
   "display_name": "Python 3 (ipykernel)",
   "language": "python",
   "name": "python3"
  },
  "language_info": {
   "codemirror_mode": {
    "name": "ipython",
    "version": 3
   },
   "file_extension": ".py",
   "mimetype": "text/x-python",
   "name": "python",
   "nbconvert_exporter": "python",
   "pygments_lexer": "ipython3",
   "version": "3.10.13"
  },
  "toc": {
   "base_numbering": 1,
   "nav_menu": {},
   "number_sections": true,
   "sideBar": true,
   "skip_h1_title": false,
   "title_cell": "Table of Contents",
   "title_sidebar": "Contents",
   "toc_cell": false,
   "toc_position": {},
   "toc_section_display": true,
   "toc_window_display": false
  }
 },
 "nbformat": 4,
 "nbformat_minor": 5
}
