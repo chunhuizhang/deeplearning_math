{
 "cells": [
  {
   "cell_type": "markdown",
   "id": "968dca42",
   "metadata": {},
   "source": [
    "## 期望"
   ]
  },
  {
   "cell_type": "markdown",
   "id": "1d113278",
   "metadata": {},
   "source": [
    "- $E(X)=\\sum xP(X=x)$\n",
    "    - 左侧的 $x$ 表示 specific outcome\n",
    "    - 右侧的 $P(X=x)$ 表示 观察到该 specific outcome 的概率值；\n",
    "- $E(X)=\\int xf(x)dx=\\int xdF(x)$\n",
    "    - 考虑指数分布 $f(x)=\\lambda e^{-\\lambda x}$\n",
    "    - $E(X)=\\int x\\lambda e^{-\\lambda x}dx$"
   ]
  },
  {
   "cell_type": "markdown",
   "id": "5e72317e-2100-4c0f-ae66-484b3c43a5c6",
   "metadata": {},
   "source": [
    "### 方差"
   ]
  },
  {
   "cell_type": "markdown",
   "id": "807a0ea7-08da-4534-b82d-5dc942a3c5d2",
   "metadata": {},
   "source": [
    "$$\n",
    "\\begin{split}\n",
    "\\text{Var}(x) &= \\mathbb{E}[(x - \\mathbb{E}[x])^2]\\\\\n",
    "&=\\mathbb{E}[x^2 - 2x\\mathbb{E}[x] + (\\mathbb{E}[x])^2]\\\\\n",
    "&=\\mathbb{E}[x^2] - 2\\mathbb{E}[x]\\mathbb{E}[x] + (\\mathbb{E}[x])^2\\\\\n",
    "&=\\mathbb{E}[x^2] - (\\mathbb{E}[x])^2\n",
    "\\end{split}\n",
    "$$\n",
    "\n",
    "- 如果把 $\\text{Var}(x)$ 记为 $\\sigma^2$，把 $\\mathbb{E}[x]$记为 $\\mu$，则有 $\\sigma^2 = \\mathbb{E}[x^2] - \\mu^2$\n",
    "    - $\\mathbb{E}[x^2] = \\sigma^2 + \\mu^2$"
   ]
  }
 ],
 "metadata": {
  "kernelspec": {
   "display_name": "Python 3 (ipykernel)",
   "language": "python",
   "name": "python3"
  },
  "language_info": {
   "codemirror_mode": {
    "name": "ipython",
    "version": 3
   },
   "file_extension": ".py",
   "mimetype": "text/x-python",
   "name": "python",
   "nbconvert_exporter": "python",
   "pygments_lexer": "ipython3",
   "version": "3.10.0"
  },
  "toc": {
   "base_numbering": 1,
   "nav_menu": {},
   "number_sections": true,
   "sideBar": true,
   "skip_h1_title": false,
   "title_cell": "Table of Contents",
   "title_sidebar": "Contents",
   "toc_cell": false,
   "toc_position": {},
   "toc_section_display": true,
   "toc_window_display": false
  }
 },
 "nbformat": 4,
 "nbformat_minor": 5
}
