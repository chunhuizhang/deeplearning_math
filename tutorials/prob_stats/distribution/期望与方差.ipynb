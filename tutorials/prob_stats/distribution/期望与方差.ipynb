{
 "cells": [
  {
   "cell_type": "markdown",
   "id": "968dca42",
   "metadata": {},
   "source": [
    "## 期望"
   ]
  },
  {
   "cell_type": "markdown",
   "id": "1d113278",
   "metadata": {},
   "source": [
    "- $E(X)=\\sum xP(X=x)$\n",
    "    - 左侧的 $x$ 表示 specific outcome\n",
    "    - 右侧的 $P(X=x)$ 表示 观察到该 specific outcome 的概率值；\n",
    "- $E(X)=\\int xf(x)dx=\\int xdF(x)$\n",
    "    - 考虑指数分布 $f(x)=\\lambda e^{-\\lambda x}$\n",
    "    - $E(X)=\\int x\\lambda e^{-\\lambda x}dx$"
   ]
  }
 ],
 "metadata": {
  "kernelspec": {
   "display_name": "Python 3 (ipykernel)",
   "language": "python",
   "name": "python3"
  },
  "language_info": {
   "codemirror_mode": {
    "name": "ipython",
    "version": 3
   },
   "file_extension": ".py",
   "mimetype": "text/x-python",
   "name": "python",
   "nbconvert_exporter": "python",
   "pygments_lexer": "ipython3",
   "version": "3.10.9"
  },
  "toc": {
   "base_numbering": 1,
   "nav_menu": {},
   "number_sections": true,
   "sideBar": true,
   "skip_h1_title": false,
   "title_cell": "Table of Contents",
   "title_sidebar": "Contents",
   "toc_cell": false,
   "toc_position": {},
   "toc_section_display": true,
   "toc_window_display": false
  }
 },
 "nbformat": 4,
 "nbformat_minor": 5
}
