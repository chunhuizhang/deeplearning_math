{
 "cells": [
  {
   "cell_type": "code",
   "execution_count": 2,
   "id": "6a478d7b",
   "metadata": {
    "ExecuteTime": {
     "end_time": "2023-08-01T12:22:40.888470Z",
     "start_time": "2023-08-01T12:22:40.885775Z"
    }
   },
   "outputs": [],
   "source": [
    "import numpy as np\n",
    "from scipy.stats import poisson"
   ]
  },
  {
   "cell_type": "markdown",
   "id": "f9359b8f",
   "metadata": {},
   "source": [
    "## bascis"
   ]
  },
  {
   "cell_type": "markdown",
   "id": "bfd08072",
   "metadata": {},
   "source": [
    "- poisson distribution\n",
    "    - $X$ 是可以取 0 的（$X\\geq 0$），且任何时候 $f(0;\\lambda)=\\Pr(X=0)=e^{-\\lambda}$\n",
    "$$\n",
    "f(k; \\lambda) = \\Pr(X{=}k)= \\frac{\\lambda^k e^{-\\lambda}}{k!}\n",
    "$$"
   ]
  },
  {
   "cell_type": "code",
   "execution_count": 8,
   "id": "00fd2354",
   "metadata": {
    "ExecuteTime": {
     "end_time": "2023-08-01T12:25:29.061890Z",
     "start_time": "2023-08-01T12:25:29.051133Z"
    }
   },
   "outputs": [
    {
     "data": {
      "text/plain": [
       "True"
      ]
     },
     "execution_count": 8,
     "metadata": {},
     "output_type": "execute_result"
    }
   ],
   "source": [
    "poisson.pmf(0, 2) == np.exp(-2)"
   ]
  },
  {
   "cell_type": "markdown",
   "id": "553985a2",
   "metadata": {},
   "source": [
    "## random sample"
   ]
  },
  {
   "cell_type": "markdown",
   "id": "583b0a8b",
   "metadata": {},
   "source": [
    "### poisson"
   ]
  },
  {
   "cell_type": "code",
   "execution_count": 27,
   "id": "8dff4c4c",
   "metadata": {
    "ExecuteTime": {
     "end_time": "2023-08-01T12:25:43.480700Z",
     "start_time": "2023-08-01T12:25:43.471199Z"
    }
   },
   "outputs": [
    {
     "data": {
      "text/plain": [
       "2"
      ]
     },
     "execution_count": 27,
     "metadata": {},
     "output_type": "execute_result"
    }
   ],
   "source": [
    "np.random.poisson(2)"
   ]
  },
  {
   "cell_type": "markdown",
   "id": "43d8773d",
   "metadata": {},
   "source": [
    "### norm"
   ]
  },
  {
   "cell_type": "code",
   "execution_count": 4,
   "id": "ba85a2d4",
   "metadata": {
    "ExecuteTime": {
     "end_time": "2023-08-07T13:24:26.888413Z",
     "start_time": "2023-08-07T13:24:26.530556Z"
    }
   },
   "outputs": [],
   "source": [
    "from scipy.stats import norm\n",
    "import matplotlib.pyplot as plt"
   ]
  },
  {
   "cell_type": "code",
   "execution_count": 8,
   "id": "23f1ab11",
   "metadata": {
    "ExecuteTime": {
     "end_time": "2023-08-07T13:24:47.296739Z",
     "start_time": "2023-08-07T13:24:47.022550Z"
    }
   },
   "outputs": [
    {
     "data": {
      "image/png": "[encoded data removed]",
      "text/plain": [
       "<Figure size 640x480 with 1 Axes>"
      ]
     },
     "metadata": {},
     "output_type": "display_data"
    }
   ],
   "source": [
    "samples = norm.rvs(size=10000, scale=1)\n",
    "_ = plt.hist(samples, bins=50)"
   ]
  },
  {
   "cell_type": "code",
   "execution_count": null,
   "id": "15b75d0b",
   "metadata": {},
   "outputs": [],
   "source": []
  }
 ],
 "metadata": {
  "kernelspec": {
   "display_name": "Python 3 (ipykernel)",
   "language": "python",
   "name": "python3"
  },
  "language_info": {
   "codemirror_mode": {
    "name": "ipython",
    "version": 3
   },
   "file_extension": ".py",
   "mimetype": "text/x-python",
   "name": "python",
   "nbconvert_exporter": "python",
   "pygments_lexer": "ipython3",
   "version": "3.10.9"
  },
  "toc": {
   "base_numbering": 1,
   "nav_menu": {},
   "number_sections": true,
   "sideBar": true,
   "skip_h1_title": false,
   "title_cell": "Table of Contents",
   "title_sidebar": "Contents",
   "toc_cell": false,
   "toc_position": {},
   "toc_section_display": true,
   "toc_window_display": false
  }
 },
 "nbformat": 4,
 "nbformat_minor": 5
}
