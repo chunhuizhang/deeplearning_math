{
 "cells": [
  {
   "cell_type": "markdown",
   "id": "c6915ad5",
   "metadata": {},
   "source": [
    "- referneces\n",
    "    - https://ocw.mit.edu/courses/18-05-introduction-to-probability-and-statistics-spring-2014/d6d722fef1c4f36cf2525bfe0b4f905a_MIT18_05S14_Reading14a.pdf"
   ]
  },
  {
   "cell_type": "markdown",
   "id": "cbaf34c4",
   "metadata": {},
   "source": [
    "\n",
    "- 先验（prior）与后验（posterior）为相同类型的分布时；\n",
    "\n",
    "    $$\n",
    "    \\underbrace{P(\\theta | y)}_{\\text{beta posterior}} \\propto \n",
    "    \\prod_{i=1}^{N} \\overbrace{P(y_i | \\theta)}^{\\text{binomial data}} \n",
    "    \\underbrace{P(\\theta)}_{\\text{beta prior}}\n",
    "    $$\n",
    "\n",
    "    - binomial\n",
    "\n",
    "        $$\n",
    "        \\begin{split}\n",
    "        P(Y|\\theta)&= \\frac{n!}{y!(n - y)!} \\theta^y (1 - \\theta)^{n-y}\\\\\n",
    "        &\\propto \\theta^y (1 - \\theta)^{n-y}\n",
    "        \\end{split}\n",
    "        $$\n",
    "\n",
    "        - $y$: number of success\n",
    "        - $n-y$: number of failures\n",
    "    - beta distribution\n",
    "\n",
    "        $$\n",
    "        P(\\theta|\\alpha,\\beta)\\propto \\theta^{\\alpha-1}(1-\\beta)^{\\beta-1}\n",
    "        $$\n",
    "    - posterior distribution：\n",
    "    \n",
    "    $$\n",
    "    \\begin{split}\n",
    "    P(\\theta|n,y)&\\propto \\theta^y (1 - \\theta)^{n-y}\\theta^{\\alpha-1}(1-\\beta)^{\\beta-1}\\\\\n",
    "    &=\\theta^{y+\\alpha-1}(1-\\theta)^{n-y+\\beta-1}\\\\\n",
    "    &=\\text{Beta}(\\alpha+y, \\beta+n-y)\n",
    "    \\end{split}\n",
    "    $$"
   ]
  }
 ],
 "metadata": {
  "kernelspec": {
   "display_name": "Python 3 (ipykernel)",
   "language": "python",
   "name": "python3"
  },
  "language_info": {
   "codemirror_mode": {
    "name": "ipython",
    "version": 3
   },
   "file_extension": ".py",
   "mimetype": "text/x-python",
   "name": "python",
   "nbconvert_exporter": "python",
   "pygments_lexer": "ipython3",
   "version": "3.10.13"
  },
  "toc": {
   "base_numbering": 1,
   "nav_menu": {},
   "number_sections": true,
   "sideBar": true,
   "skip_h1_title": false,
   "title_cell": "Table of Contents",
   "title_sidebar": "Contents",
   "toc_cell": false,
   "toc_position": {},
   "toc_section_display": true,
   "toc_window_display": false
  }
 },
 "nbformat": 4,
 "nbformat_minor": 5
}
