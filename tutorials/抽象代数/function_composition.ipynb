{
 "cells": [
  {
   "cell_type": "code",
   "execution_count": 1,
   "id": "7262ac9b",
   "metadata": {
    "ExecuteTime": {
     "end_time": "2023-11-19T03:19:32.399919Z",
     "start_time": "2023-11-19T03:19:32.384130Z"
    }
   },
   "outputs": [],
   "source": [
    "from IPython.display import Image"
   ]
  },
  {
   "cell_type": "markdown",
   "id": "88dc137c",
   "metadata": {},
   "source": [
    "- 两个函数，$f: X\\rightarrow Y$, $g: Y\\rightarrow Z$，那么他们的组合定义为新的函数：\n",
    "\n",
    "    $$\n",
    "    g\\circ f\n",
    "    $$\n",
    "    \n",
    "    - 这个新函数首先应用 f 到输入上，然后将结果作为 g 的输入。所以，\n",
    "    \n",
    "    $$\n",
    "    (g\\circ f)(x)=g(f(x))\n",
    "    $$"
   ]
  },
  {
   "cell_type": "markdown",
   "id": "1e7b4c01",
   "metadata": {},
   "source": [
    "## neural network"
   ]
  },
  {
   "cell_type": "code",
   "execution_count": 3,
   "id": "8cf305a0",
   "metadata": {
    "ExecuteTime": {
     "end_time": "2023-11-19T03:19:44.583620Z",
     "start_time": "2023-11-19T03:19:44.574237Z"
    }
   },
   "outputs": [
    {
     "data": {
      "text/html": [
       "<img src=\"https://miro.medium.com/v2/resize:fit:1232/format:webp/1*gznHzPgOqmR4JDC5KN0tKQ.png\"/>"
      ],
      "text/plain": [
       "<IPython.core.display.Image object>"
      ]
     },
     "execution_count": 3,
     "metadata": {},
     "output_type": "execute_result"
    }
   ],
   "source": [
    "# autoencoder\n",
    "Image(url='https://miro.medium.com/v2/resize:fit:1232/format:webp/1*gznHzPgOqmR4JDC5KN0tKQ.png')"
   ]
  }
 ],
 "metadata": {
  "kernelspec": {
   "display_name": "Python 3 (ipykernel)",
   "language": "python",
   "name": "python3"
  },
  "language_info": {
   "codemirror_mode": {
    "name": "ipython",
    "version": 3
   },
   "file_extension": ".py",
   "mimetype": "text/x-python",
   "name": "python",
   "nbconvert_exporter": "python",
   "pygments_lexer": "ipython3",
   "version": "3.10.13"
  },
  "toc": {
   "base_numbering": 1,
   "nav_menu": {},
   "number_sections": true,
   "sideBar": true,
   "skip_h1_title": false,
   "title_cell": "Table of Contents",
   "title_sidebar": "Contents",
   "toc_cell": false,
   "toc_position": {},
   "toc_section_display": true,
   "toc_window_display": false
  }
 },
 "nbformat": 4,
 "nbformat_minor": 5
}
