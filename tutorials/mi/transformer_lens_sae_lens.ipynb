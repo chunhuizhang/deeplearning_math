{
 "cells": [
  {
   "cell_type": "markdown",
   "id": "361c8808-c848-4892-8894-3cdb9abd3462",
   "metadata": {},
   "source": [
    "> reverse engineering\n",
    "\n",
    "- https://docs.google.com/presentation/d/1BkAjGqIqgomQpj6j0-oZORCeq72sH7_sOPjlflnYm_A/edit?pli=1#slide=id.p"
   ]
  },
  {
   "cell_type": "code",
   "execution_count": 1,
   "id": "197be1b3-10df-4e76-8cb0-3a124e8ab8a0",
   "metadata": {
    "execution": {
     "iopub.execute_input": "2024-11-24T09:35:42.029727Z",
     "iopub.status.busy": "2024-11-24T09:35:42.029181Z",
     "iopub.status.idle": "2024-11-24T09:35:42.047692Z",
     "shell.execute_reply": "2024-11-24T09:35:42.046015Z",
     "shell.execute_reply.started": "2024-11-24T09:35:42.029683Z"
    }
   },
   "outputs": [],
   "source": [
    "import os\n",
    "os.environ['http_proxy'] = 'http://127.0.0.1:7890'\n",
    "os.environ['https_proxy'] = 'http://127.0.0.1:7890'"
   ]
  },
  {
   "cell_type": "code",
   "execution_count": 6,
   "id": "adba7c65-bfd6-401d-b63f-bf6774fe7250",
   "metadata": {
    "execution": {
     "iopub.execute_input": "2024-11-24T09:36:18.493486Z",
     "iopub.status.busy": "2024-11-24T09:36:18.493170Z",
     "iopub.status.idle": "2024-11-24T09:36:18.500479Z",
     "shell.execute_reply": "2024-11-24T09:36:18.498602Z",
     "shell.execute_reply.started": "2024-11-24T09:36:18.493465Z"
    }
   },
   "outputs": [],
   "source": [
    "import transformer_lens\n",
    "from transformer_lens import utils\n",
    "from transformer_lens import HookedTransformer\n",
    "import torch"
   ]
  },
  {
   "cell_type": "markdown",
   "id": "2698c660-56c3-4754-8b57-7ffd2f78477b",
   "metadata": {},
   "source": [
    "- model cfg\n",
    "    - https://transformerlensorg.github.io/TransformerLens/generated/code/transformer_lens.HookedTransformerConfig.html\n",
    "- `logits, cache = mode.run_witch_cache(dataset)`\n",
    "    - 运行模型时同时捕获中间计算结果（通常是某些层或模块的输出）以便后续分析和调试\n",
    "    - `cache[\"pattern\", layer, \"attn\"]`: 从指定的 layer 层获取注意力模块的注意力模式（权重）。\n",
    "        - 形状为 [batch_size, num_heads, seq_length, seq_length] 的张量，包含注意力权重。\n",
    "    - `cache[\"pre\", layer, \"mlp\"]`: 从指定的 layer 层获取 MLP 模块的预激活输出。\n",
    "        - 形状为 [batch_size, seq_length, d_model] 的张量，包含在激活函数应用之前的值。\n",
    "    - `cache[\"post\", layer, \"mlp\"]`: 从指定的 layer 层获取 MLP 模块的后激活输出。\n",
    "        - 形状为 [batch_size, seq_length, d_model] 的张量，包含在激活函数应用之后的值。\n",
    "- `model.run_with_hooks(..., fwd_hooks=[])`"
   ]
  },
  {
   "cell_type": "markdown",
   "id": "0ee7053d-47fa-4eab-995a-27969f383501",
   "metadata": {},
   "source": [
    "### modules"
   ]
  },
  {
   "cell_type": "markdown",
   "id": "4a2e0da7-3f9b-4f17-a87e-588d8d7b288a",
   "metadata": {},
   "source": [
    "- Embed()/Unembed()\n",
    "    - Embed: W_E\n",
    "    - Unembed: W_U\n",
    "- MLP()\n",
    "    - W_in\n",
    "    - W_out\n",
    "- Attention()\n",
    "    - QKVO:\n",
    "        - W(weights)\n",
    "            - W_Q, W_K, W_V, W_O\n",
    "        - b(biases)\n",
    "            - b_Q, b_K, b_V, b_O"
   ]
  },
  {
   "cell_type": "markdown",
   "id": "2a54331d-72c1-485e-958c-f95d02cd45ce",
   "metadata": {},
   "source": [
    "### utils"
   ]
  },
  {
   "cell_type": "code",
   "execution_count": 3,
   "id": "bbea209f-57fc-42dd-99fa-51d6f9cf92e8",
   "metadata": {
    "execution": {
     "iopub.execute_input": "2024-11-24T09:35:45.398385Z",
     "iopub.status.busy": "2024-11-24T09:35:45.398252Z",
     "iopub.status.idle": "2024-11-24T09:35:45.405826Z",
     "shell.execute_reply": "2024-11-24T09:35:45.405109Z",
     "shell.execute_reply.started": "2024-11-24T09:35:45.398373Z"
    }
   },
   "outputs": [
    {
     "data": {
      "text/plain": [
       "'blocks.1.mlp.hook_post'"
      ]
     },
     "execution_count": 3,
     "metadata": {},
     "output_type": "execute_result"
    }
   ],
   "source": [
    "utils.get_act_name(\"post\", 1)"
   ]
  },
  {
   "cell_type": "markdown",
   "id": "04540fb6-36c8-47c3-96eb-bf91fd4b2c45",
   "metadata": {},
   "source": [
    "### tokens"
   ]
  },
  {
   "cell_type": "markdown",
   "id": "10dccd8d-ba00-4cdf-85cf-67d53d5734a8",
   "metadata": {},
   "source": [
    "- model.to_str_tokens\n",
    "    - id => token\n",
    "- model.to_single_token\n",
    "    - string => id"
   ]
  },
  {
   "cell_type": "code",
   "execution_count": 7,
   "id": "ef86f975-062b-459e-913b-f3096190028b",
   "metadata": {
    "execution": {
     "iopub.execute_input": "2024-11-24T09:36:23.037435Z",
     "iopub.status.busy": "2024-11-24T09:36:23.036802Z",
     "iopub.status.idle": "2024-11-24T09:36:24.854467Z",
     "shell.execute_reply": "2024-11-24T09:36:24.853242Z",
     "shell.execute_reply.started": "2024-11-24T09:36:23.037392Z"
    }
   },
   "outputs": [
    {
     "name": "stdout",
     "output_type": "stream",
     "text": [
      "Loaded pretrained model gelu-1l into HookedTransformer\n",
      "Changing model dtype to torch.float32\n"
     ]
    }
   ],
   "source": [
    "model = HookedTransformer.from_pretrained(\"gelu-1l\").to(torch.float32)"
   ]
  },
  {
   "cell_type": "code",
   "execution_count": 8,
   "id": "1d47cef6-cca3-4a3d-bde6-9beeaf70178f",
   "metadata": {
    "execution": {
     "iopub.execute_input": "2024-11-24T09:36:45.437430Z",
     "iopub.status.busy": "2024-11-24T09:36:45.437048Z",
     "iopub.status.idle": "2024-11-24T09:36:45.447456Z",
     "shell.execute_reply": "2024-11-24T09:36:45.445430Z",
     "shell.execute_reply.started": "2024-11-24T09:36:45.437400Z"
    }
   },
   "outputs": [
    {
     "data": {
      "text/plain": [
       "48262"
      ]
     },
     "execution_count": 8,
     "metadata": {},
     "output_type": "execute_result"
    }
   ],
   "source": [
    "model.cfg.d_vocab"
   ]
  },
  {
   "cell_type": "code",
   "execution_count": 9,
   "id": "4c33ed3c-63e3-4a9f-94f9-9637c91c15e9",
   "metadata": {
    "execution": {
     "iopub.execute_input": "2024-11-24T09:36:58.331964Z",
     "iopub.status.busy": "2024-11-24T09:36:58.331326Z",
     "iopub.status.idle": "2024-11-24T09:36:58.345307Z",
     "shell.execute_reply": "2024-11-24T09:36:58.343539Z",
     "shell.execute_reply.started": "2024-11-24T09:36:58.331918Z"
    }
   },
   "outputs": [
    {
     "data": {
      "text/plain": [
       "['<|EOS|>', '<|BOS|>', '<|PAD|>', '!', '\"', '#', '$', '%', '&', \"'\"]"
      ]
     },
     "execution_count": 9,
     "metadata": {},
     "output_type": "execute_result"
    }
   ],
   "source": [
    "model.to_str_tokens(torch.arange(10))"
   ]
  },
  {
   "cell_type": "code",
   "execution_count": 15,
   "id": "bce82af9-487d-480c-ba1a-59182c152cfb",
   "metadata": {
    "execution": {
     "iopub.execute_input": "2024-11-24T09:37:42.825227Z",
     "iopub.status.busy": "2024-11-24T09:37:42.824598Z",
     "iopub.status.idle": "2024-11-24T09:37:42.839119Z",
     "shell.execute_reply": "2024-11-24T09:37:42.836912Z",
     "shell.execute_reply.started": "2024-11-24T09:37:42.825181Z"
    }
   },
   "outputs": [
    {
     "data": {
      "text/plain": [
       "24684"
      ]
     },
     "execution_count": 15,
     "metadata": {},
     "output_type": "execute_result"
    }
   ],
   "source": [
    "model.to_single_token('hello')"
   ]
  },
  {
   "cell_type": "markdown",
   "id": "e2d0eeac-5d52-4048-bf2d-c200b81fc813",
   "metadata": {},
   "source": [
    "### basic usage"
   ]
  },
  {
   "cell_type": "code",
   "execution_count": null,
   "id": "cd7051bb-1c96-414a-af96-3fb0ab3c812a",
   "metadata": {
    "execution": {
     "iopub.status.busy": "2024-11-24T09:35:48.980901Z",
     "iopub.status.idle": "2024-11-24T09:35:48.981186Z",
     "shell.execute_reply": "2024-11-24T09:35:48.981063Z",
     "shell.execute_reply.started": "2024-11-24T09:35:48.981051Z"
    }
   },
   "outputs": [],
   "source": [
    "# Load a model (eg GPT-2 Small)\n",
    "model = transformer_lens.HookedTransformer.from_pretrained(\"gpt2-small\")\n",
    "\n",
    "# Run the model and get logits and activations\n",
    "logits, activations = model.run_with_cache(\"Hello World\")"
   ]
  },
  {
   "cell_type": "code",
   "execution_count": null,
   "id": "21b89389-6e4d-4997-bd8e-58efd8ef2b0f",
   "metadata": {
    "execution": {
     "iopub.status.busy": "2024-11-24T09:35:48.982082Z",
     "iopub.status.idle": "2024-11-24T09:35:48.982334Z",
     "shell.execute_reply": "2024-11-24T09:35:48.982220Z",
     "shell.execute_reply.started": "2024-11-24T09:35:48.982210Z"
    }
   },
   "outputs": [],
   "source": [
    "logits.shape"
   ]
  }
 ],
 "metadata": {
  "kernelspec": {
   "display_name": "Python 3 (ipykernel)",
   "language": "python",
   "name": "python3"
  },
  "language_info": {
   "codemirror_mode": {
    "name": "ipython",
    "version": 3
   },
   "file_extension": ".py",
   "mimetype": "text/x-python",
   "name": "python",
   "nbconvert_exporter": "python",
   "pygments_lexer": "ipython3",
   "version": "3.10.13"
  }
 },
 "nbformat": 4,
 "nbformat_minor": 5
}
