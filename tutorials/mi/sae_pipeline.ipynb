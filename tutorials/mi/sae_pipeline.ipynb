{
 "cells": [
  {
   "cell_type": "markdown",
   "id": "89af3bb6-35d3-4d67-8546-18ea6d6346f2",
   "metadata": {},
   "source": [
    "### training"
   ]
  },
  {
   "cell_type": "markdown",
   "id": "d7618faa-04d7-43eb-aa52-efddb715a5d1",
   "metadata": {},
   "source": [
    "- https://www.alignmentforum.org/posts/f9EgfLSurAiqRJySD/open-source-sparse-autoencoders-for-all-residual-stream\n",
    "    - https://github.com/jbloomAus/SAELens/blob/main/tutorials/training_a_sparse_autoencoder.ipynb"
   ]
  },
  {
   "cell_type": "markdown",
   "id": "31b4aee2-f26b-4358-9631-7d1eca9713a3",
   "metadata": {},
   "source": [
    "### analysis"
   ]
  },
  {
   "cell_type": "markdown",
   "id": "a9d4000a-7e0f-4862-96c1-6edf700699bb",
   "metadata": {},
   "source": [
    "- TSEA: token set enrichment analysis\n",
    "- https://www.alignmentforum.org/posts/qykrYY6rXXM7EEs8Q/understanding-sae-features-with-the-logit-lens\n",
    "    - https://colab.research.google.com/github/jbloomAus/SAELens/blob/main/tutorials/logits_lens_with_features.ipynb#scrollTo=D0mTCic7BSdG"
   ]
  },
  {
   "cell_type": "markdown",
   "id": "6344c6ce-1154-49e8-92ea-8abe268a27c2",
   "metadata": {},
   "source": [
    "### steering"
   ]
  },
  {
   "cell_type": "markdown",
   "id": "e3b0d1aa-c275-4b3a-bbd4-b9e733a96b9e",
   "metadata": {},
   "source": [
    "- https://github.com/jbloomAus/SAELens/blob/main/tutorials/using_an_sae_as_a_steering_vector.ipynb"
   ]
  }
 ],
 "metadata": {
  "kernelspec": {
   "display_name": "Python 3 (ipykernel)",
   "language": "python",
   "name": "python3"
  },
  "language_info": {
   "codemirror_mode": {
    "name": "ipython",
    "version": 3
   },
   "file_extension": ".py",
   "mimetype": "text/x-python",
   "name": "python",
   "nbconvert_exporter": "python",
   "pygments_lexer": "ipython3",
   "version": "3.10.13"
  }
 },
 "nbformat": 4,
 "nbformat_minor": 5
}
