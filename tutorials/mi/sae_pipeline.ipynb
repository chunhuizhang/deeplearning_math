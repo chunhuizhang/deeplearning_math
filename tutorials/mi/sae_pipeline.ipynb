{
 "cells": [
  {
   "cell_type": "code",
   "execution_count": 1,
   "id": "886bce63-f254-430c-a817-150ab441f2a4",
   "metadata": {
    "execution": {
     "iopub.execute_input": "2024-12-03T15:02:06.373155Z",
     "iopub.status.busy": "2024-12-03T15:02:06.372533Z",
     "iopub.status.idle": "2024-12-03T15:02:06.390859Z",
     "shell.execute_reply": "2024-12-03T15:02:06.389105Z",
     "shell.execute_reply.started": "2024-12-03T15:02:06.373108Z"
    }
   },
   "outputs": [],
   "source": [
    "from IPython.display import Image"
   ]
  },
  {
   "cell_type": "markdown",
   "id": "eff9e191-4b04-4739-a00a-2ea14d01372f",
   "metadata": {},
   "source": [
    "### concepts & introduction"
   ]
  },
  {
   "cell_type": "markdown",
   "id": "5552e3cb-b431-4ab0-9f24-864828371ee0",
   "metadata": {},
   "source": [
    "- https://www.neelnanda.io/mechanistic-interpretability/getting-started\n",
    "- sae lens tutorials\n",
    "    - https://github.com/jbloomAus/SAELens/tree/main/tutorials"
   ]
  },
  {
   "cell_type": "code",
   "execution_count": 2,
   "id": "f7e8f204-3b0a-4278-9d4b-7b872d9a1544",
   "metadata": {
    "execution": {
     "iopub.execute_input": "2024-12-03T15:02:15.612132Z",
     "iopub.status.busy": "2024-12-03T15:02:15.611520Z",
     "iopub.status.idle": "2024-12-03T15:02:15.629911Z",
     "shell.execute_reply": "2024-12-03T15:02:15.627752Z",
     "shell.execute_reply.started": "2024-12-03T15:02:15.612089Z"
    }
   },
   "outputs": [
    {
     "data": {
      "text/html": [
       "<img src=\"./imgs/sae.png\" width=\"200\"/>"
      ],
      "text/plain": [
       "<IPython.core.display.Image object>"
      ]
     },
     "execution_count": 2,
     "metadata": {},
     "output_type": "execute_result"
    }
   ],
   "source": [
    "Image(url='./imgs/sae.png', width=200)"
   ]
  },
  {
   "cell_type": "markdown",
   "id": "5028dde7-a026-4e0c-a92c-c2b5a572e2dc",
   "metadata": {
    "execution": {
     "iopub.execute_input": "2024-12-03T15:02:22.453551Z",
     "iopub.status.busy": "2024-12-03T15:02:22.452939Z",
     "iopub.status.idle": "2024-12-03T15:02:22.466317Z",
     "shell.execute_reply": "2024-12-03T15:02:22.463573Z",
     "shell.execute_reply.started": "2024-12-03T15:02:22.453507Z"
    }
   },
   "source": [
    "- 2-layer feed forward network (MLP)\n",
    "- Encoder\n",
    "    - sparse activations, most are off\n",
    "    - detects presence and magnitude of concept\n",
    "- Decoder\n",
    "    - reconstructs input activations (e.g. current embedding vector)\n",
    "    - concept vector == decoder matrix column"
   ]
  },
  {
   "cell_type": "markdown",
   "id": "89af3bb6-35d3-4d67-8546-18ea6d6346f2",
   "metadata": {},
   "source": [
    "### training"
   ]
  },
  {
   "cell_type": "markdown",
   "id": "d7618faa-04d7-43eb-aa52-efddb715a5d1",
   "metadata": {},
   "source": [
    "- https://www.alignmentforum.org/posts/f9EgfLSurAiqRJySD/open-source-sparse-autoencoders-for-all-residual-stream\n",
    "    - https://github.com/jbloomAus/SAELens/blob/main/tutorials/training_a_sparse_autoencoder.ipynb"
   ]
  },
  {
   "cell_type": "markdown",
   "id": "31b4aee2-f26b-4358-9631-7d1eca9713a3",
   "metadata": {},
   "source": [
    "### analysis"
   ]
  },
  {
   "cell_type": "markdown",
   "id": "a9d4000a-7e0f-4862-96c1-6edf700699bb",
   "metadata": {},
   "source": [
    "- TSEA: token set enrichment analysis\n",
    "- https://www.alignmentforum.org/posts/qykrYY6rXXM7EEs8Q/understanding-sae-features-with-the-logit-lens\n",
    "    - https://colab.research.google.com/github/jbloomAus/SAELens/blob/main/tutorials/logits_lens_with_features.ipynb#scrollTo=D0mTCic7BSdG"
   ]
  },
  {
   "cell_type": "markdown",
   "id": "6344c6ce-1154-49e8-92ea-8abe268a27c2",
   "metadata": {},
   "source": [
    "### steering"
   ]
  },
  {
   "cell_type": "markdown",
   "id": "e3b0d1aa-c275-4b3a-bbd4-b9e733a96b9e",
   "metadata": {},
   "source": [
    "- https://github.com/jbloomAus/SAELens/blob/main/tutorials/using_an_sae_as_a_steering_vector.ipynb"
   ]
  }
 ],
 "metadata": {
  "kernelspec": {
   "display_name": "Python 3 (ipykernel)",
   "language": "python",
   "name": "python3"
  },
  "language_info": {
   "codemirror_mode": {
    "name": "ipython",
    "version": 3
   },
   "file_extension": ".py",
   "mimetype": "text/x-python",
   "name": "python",
   "nbconvert_exporter": "python",
   "pygments_lexer": "ipython3",
   "version": "3.10.13"
  }
 },
 "nbformat": 4,
 "nbformat_minor": 5
}
