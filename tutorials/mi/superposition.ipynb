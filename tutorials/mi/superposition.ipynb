{
 "cells": [
  {
   "cell_type": "code",
   "execution_count": 2,
   "id": "521b44f3-4f26-4d06-ad51-920d3bd25a06",
   "metadata": {
    "execution": {
     "iopub.execute_input": "2024-11-18T14:28:06.099327Z",
     "iopub.status.busy": "2024-11-18T14:28:06.099002Z",
     "iopub.status.idle": "2024-11-18T14:28:06.108177Z",
     "shell.execute_reply": "2024-11-18T14:28:06.105864Z",
     "shell.execute_reply.started": "2024-11-18T14:28:06.099305Z"
    }
   },
   "outputs": [],
   "source": [
    "import os\n",
    "os.environ['http_proxy'] = 'http://127.0.0.1:7890'\n",
    "os.environ['https_proxy'] = 'http://127.0.0.1:7890'"
   ]
  },
  {
   "cell_type": "markdown",
   "id": "a7bfb415-d02e-4acf-a677-a4d7638c556a",
   "metadata": {},
   "source": [
    "- Superposition may emerge because there are more individual facts and concepts in the training data than neurons in the model."
   ]
  },
  {
   "cell_type": "code",
   "execution_count": 3,
   "id": "578b8f0b-c8ad-41e4-99cb-cde12f79c7bb",
   "metadata": {
    "execution": {
     "iopub.execute_input": "2024-11-18T14:28:07.186702Z",
     "iopub.status.busy": "2024-11-18T14:28:07.186106Z",
     "iopub.status.idle": "2024-11-18T14:28:08.718572Z",
     "shell.execute_reply": "2024-11-18T14:28:08.717618Z",
     "shell.execute_reply.started": "2024-11-18T14:28:07.186656Z"
    }
   },
   "outputs": [],
   "source": [
    "import torch\n",
    "from transformers import GPT2Model\n",
    "\n",
    "model = GPT2Model.from_pretrained('gpt2')"
   ]
  },
  {
   "cell_type": "code",
   "execution_count": 6,
   "id": "d68dfad2-67a5-41c3-ac9d-715550da367f",
   "metadata": {
    "execution": {
     "iopub.execute_input": "2024-11-18T14:52:35.864067Z",
     "iopub.status.busy": "2024-11-18T14:52:35.863430Z",
     "iopub.status.idle": "2024-11-18T14:52:35.879359Z",
     "shell.execute_reply": "2024-11-18T14:52:35.877137Z",
     "shell.execute_reply.started": "2024-11-18T14:52:35.864020Z"
    }
   },
   "outputs": [
    {
     "data": {
      "text/plain": [
       "GPT2Model(\n",
       "  (wte): Embedding(50257, 768)\n",
       "  (wpe): Embedding(1024, 768)\n",
       "  (drop): Dropout(p=0.1, inplace=False)\n",
       "  (h): ModuleList(\n",
       "    (0-11): 12 x GPT2Block(\n",
       "      (ln_1): LayerNorm((768,), eps=1e-05, elementwise_affine=True)\n",
       "      (attn): GPT2SdpaAttention(\n",
       "        (c_attn): Conv1D(nf=2304, nx=768)\n",
       "        (c_proj): Conv1D(nf=768, nx=768)\n",
       "        (attn_dropout): Dropout(p=0.1, inplace=False)\n",
       "        (resid_dropout): Dropout(p=0.1, inplace=False)\n",
       "      )\n",
       "      (ln_2): LayerNorm((768,), eps=1e-05, elementwise_affine=True)\n",
       "      (mlp): GPT2MLP(\n",
       "        (c_fc): Conv1D(nf=3072, nx=768)\n",
       "        (c_proj): Conv1D(nf=768, nx=3072)\n",
       "        (act): NewGELUActivation()\n",
       "        (dropout): Dropout(p=0.1, inplace=False)\n",
       "      )\n",
       "    )\n",
       "  )\n",
       "  (ln_f): LayerNorm((768,), eps=1e-05, elementwise_affine=True)\n",
       ")"
      ]
     },
     "execution_count": 6,
     "metadata": {},
     "output_type": "execute_result"
    }
   ],
   "source": [
    "model"
   ]
  },
  {
   "cell_type": "code",
   "execution_count": null,
   "id": "cd30c43d-85ad-4e41-9cf7-2dbc6a08f69e",
   "metadata": {},
   "outputs": [],
   "source": [
    "# 获取某一层的权重矩阵\n",
    "layer_weights = model.h[0].mlp.c_fc.weight.detach()\n",
    "\n",
    "# 分析权重矩阵的特征向量和奇异值\n",
    "U, S, V = torch.svd(layer_weights)"
   ]
  },
  {
   "cell_type": "code",
   "execution_count": null,
   "id": "173b7154-e532-4787-a852-1836885ec7c5",
   "metadata": {},
   "outputs": [],
   "source": []
  }
 ],
 "metadata": {
  "kernelspec": {
   "display_name": "Python 3 (ipykernel)",
   "language": "python",
   "name": "python3"
  },
  "language_info": {
   "codemirror_mode": {
    "name": "ipython",
    "version": 3
   },
   "file_extension": ".py",
   "mimetype": "text/x-python",
   "name": "python",
   "nbconvert_exporter": "python",
   "pygments_lexer": "ipython3",
   "version": "3.10.13"
  }
 },
 "nbformat": 4,
 "nbformat_minor": 5
}
