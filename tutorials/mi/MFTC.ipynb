{
 "cells": [
  {
   "cell_type": "markdown",
   "id": "ba15f4b4-7d42-467b-a022-401557ba748a",
   "metadata": {},
   "source": [
    "https://transformer-circuits.pub/2021/framework/index.html"
   ]
  },
  {
   "cell_type": "code",
   "execution_count": 1,
   "id": "0dc0418e-8083-471f-8714-97d1e23dd8b6",
   "metadata": {
    "execution": {
     "iopub.execute_input": "2024-11-28T14:42:21.100467Z",
     "iopub.status.busy": "2024-11-28T14:42:21.099872Z",
     "iopub.status.idle": "2024-11-28T14:42:21.109858Z",
     "shell.execute_reply": "2024-11-28T14:42:21.108101Z",
     "shell.execute_reply.started": "2024-11-28T14:42:21.100418Z"
    }
   },
   "outputs": [],
   "source": [
    "from IPython.display import Image"
   ]
  },
  {
   "cell_type": "markdown",
   "id": "f70f918b-c8cd-479f-bf05-1a9bd42f076e",
   "metadata": {},
   "source": [
    "### QK circuits & OV circuits"
   ]
  },
  {
   "cell_type": "markdown",
   "id": "d896c1fe-879b-4d3a-9627-84a6e0e6b1f9",
   "metadata": {},
   "source": [
    "- Zero-Layer Transformers\n",
    "    - takes a token, embeds it, unembeds it to produce logits predicting the next token:\n",
    "        - $T=W_UW_E$ (bigram log-likelihood.)\n",
    "        - such as the fact that “Barack” is often followed by “Obama”.\n",
    "- one-layer Transformers\n",
    "    - attention-only transformer consists of a token embedding, followed by an attention layer (which independently applies attention heads), and finally an unembedding:"
   ]
  },
  {
   "cell_type": "code",
   "execution_count": 2,
   "id": "b8f2301f-4a86-4063-868e-36d733cbefee",
   "metadata": {
    "execution": {
     "iopub.execute_input": "2024-11-28T14:42:59.533879Z",
     "iopub.status.busy": "2024-11-28T14:42:59.533298Z",
     "iopub.status.idle": "2024-11-28T14:42:59.551566Z",
     "shell.execute_reply": "2024-11-28T14:42:59.549480Z",
     "shell.execute_reply.started": "2024-11-28T14:42:59.533834Z"
    }
   },
   "outputs": [
    {
     "data": {
      "text/html": [
       "<img src=\"./imgs/1l-trans.png\" width=\"500\"/>"
      ],
      "text/plain": [
       "<IPython.core.display.Image object>"
      ]
     },
     "execution_count": 2,
     "metadata": {},
     "output_type": "execute_result"
    }
   ],
   "source": [
    "Image(url='./imgs/1l-trans.png', width=500)"
   ]
  }
 ],
 "metadata": {
  "kernelspec": {
   "display_name": "Python 3 (ipykernel)",
   "language": "python",
   "name": "python3"
  },
  "language_info": {
   "codemirror_mode": {
    "name": "ipython",
    "version": 3
   },
   "file_extension": ".py",
   "mimetype": "text/x-python",
   "name": "python",
   "nbconvert_exporter": "python",
   "pygments_lexer": "ipython3",
   "version": "3.10.13"
  }
 },
 "nbformat": 4,
 "nbformat_minor": 5
}
