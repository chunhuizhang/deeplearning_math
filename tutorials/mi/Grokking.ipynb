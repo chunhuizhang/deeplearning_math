{
 "cells": [
  {
   "cell_type": "code",
   "execution_count": 1,
   "id": "1569737f-f9f9-40b6-9812-37b09129ac2e",
   "metadata": {
    "execution": {
     "iopub.execute_input": "2024-11-23T05:36:40.479564Z",
     "iopub.status.busy": "2024-11-23T05:36:40.479054Z",
     "iopub.status.idle": "2024-11-23T05:36:40.487356Z",
     "shell.execute_reply": "2024-11-23T05:36:40.485794Z",
     "shell.execute_reply.started": "2024-11-23T05:36:40.479523Z"
    }
   },
   "outputs": [],
   "source": [
    "# !pip install transformer_lens"
   ]
  },
  {
   "cell_type": "code",
   "execution_count": 22,
   "id": "f7ad3761-506d-42db-887c-8e50424ec753",
   "metadata": {
    "execution": {
     "iopub.execute_input": "2024-11-23T05:42:26.221896Z",
     "iopub.status.busy": "2024-11-23T05:42:26.221403Z",
     "iopub.status.idle": "2024-11-23T05:42:26.894232Z",
     "shell.execute_reply": "2024-11-23T05:42:26.892375Z",
     "shell.execute_reply.started": "2024-11-23T05:42:26.221857Z"
    }
   },
   "outputs": [],
   "source": [
    "import copy\n",
    "from tqdm.notebook import tqdm\n",
    "import numpy as np\n",
    "import torch\n",
    "import matplotlib.pyplot as plt"
   ]
  },
  {
   "cell_type": "code",
   "execution_count": 3,
   "id": "6698f8ca-57ec-440c-a9a8-f667fc0e50b1",
   "metadata": {
    "execution": {
     "iopub.execute_input": "2024-11-23T05:36:41.880713Z",
     "iopub.status.busy": "2024-11-23T05:36:41.880520Z",
     "iopub.status.idle": "2024-11-23T05:36:43.975179Z",
     "shell.execute_reply": "2024-11-23T05:36:43.974368Z",
     "shell.execute_reply.started": "2024-11-23T05:36:41.880700Z"
    }
   },
   "outputs": [],
   "source": [
    "import transformer_lens\n",
    "import transformer_lens.utils as utils\n",
    "from transformer_lens.hook_points import (\n",
    "    HookedRootModule,\n",
    "    HookPoint,\n",
    ")  # Hooking utilities\n",
    "from transformer_lens import HookedTransformer, HookedTransformerConfig, FactoredMatrix, ActivationCache"
   ]
  },
  {
   "cell_type": "code",
   "execution_count": 4,
   "id": "db669473-140d-457b-ba45-1b03d7d663f0",
   "metadata": {
    "execution": {
     "iopub.execute_input": "2024-11-23T05:36:43.976009Z",
     "iopub.status.busy": "2024-11-23T05:36:43.975866Z",
     "iopub.status.idle": "2024-11-23T05:36:43.980107Z",
     "shell.execute_reply": "2024-11-23T05:36:43.979346Z",
     "shell.execute_reply.started": "2024-11-23T05:36:43.975997Z"
    }
   },
   "outputs": [],
   "source": [
    "device = \"cuda\" if torch.cuda.is_available() else \"cpu\""
   ]
  },
  {
   "cell_type": "code",
   "execution_count": 5,
   "id": "4aba575d-3105-410f-9732-9b59c149704c",
   "metadata": {
    "execution": {
     "iopub.execute_input": "2024-11-23T05:36:43.981852Z",
     "iopub.status.busy": "2024-11-23T05:36:43.981721Z",
     "iopub.status.idle": "2024-11-23T05:36:43.998844Z",
     "shell.execute_reply": "2024-11-23T05:36:43.998031Z",
     "shell.execute_reply.started": "2024-11-23T05:36:43.981842Z"
    }
   },
   "outputs": [],
   "source": [
    "import einops"
   ]
  },
  {
   "cell_type": "markdown",
   "id": "7875098f-6f40-43bd-aae3-5ddc3d0781cb",
   "metadata": {},
   "source": [
    "### config"
   ]
  },
  {
   "cell_type": "code",
   "execution_count": 6,
   "id": "77905eac-549b-4b0b-8501-9924ce4dcc33",
   "metadata": {
    "execution": {
     "iopub.execute_input": "2024-11-23T05:36:43.999496Z",
     "iopub.status.busy": "2024-11-23T05:36:43.999369Z",
     "iopub.status.idle": "2024-11-23T05:36:44.006949Z",
     "shell.execute_reply": "2024-11-23T05:36:44.006206Z",
     "shell.execute_reply.started": "2024-11-23T05:36:43.999486Z"
    }
   },
   "outputs": [],
   "source": [
    "p = 113\n",
    "frac_train = 0.3\n",
    "\n",
    "# Optimizer config\n",
    "lr = 1e-3\n",
    "wd = 1. \n",
    "betas = (0.9, 0.98)\n",
    "\n",
    "num_epochs = 25000\n",
    "checkpoint_every = 100\n",
    "\n",
    "DATA_SEED = 598"
   ]
  },
  {
   "cell_type": "markdown",
   "id": "86ace005-a85d-43f7-80e3-8e5192311439",
   "metadata": {},
   "source": [
    "### Define Task"
   ]
  },
  {
   "cell_type": "markdown",
   "id": "9e5607ff-3805-46c4-a90e-d29736155689",
   "metadata": {},
   "source": [
    "- Define modular addition\n",
    "    - $(a+b)\\%p$\n",
    "- Define the dataset & labels"
   ]
  },
  {
   "cell_type": "code",
   "execution_count": 7,
   "id": "955b3adc-ab1a-40cf-85ee-7b11204c7950",
   "metadata": {
    "execution": {
     "iopub.execute_input": "2024-11-23T05:36:44.007663Z",
     "iopub.status.busy": "2024-11-23T05:36:44.007504Z",
     "iopub.status.idle": "2024-11-23T05:36:44.017760Z",
     "shell.execute_reply": "2024-11-23T05:36:44.016929Z",
     "shell.execute_reply.started": "2024-11-23T05:36:44.007650Z"
    }
   },
   "outputs": [],
   "source": [
    "a_vector = einops.repeat(torch.arange(p), \"i -> (i j)\", j=p)\n",
    "b_vector = einops.repeat(torch.arange(p), \"j -> (i j)\", i=p)\n",
    "equals_vector = einops.repeat(torch.tensor(113), \" -> (i j)\", i=p, j=p)"
   ]
  },
  {
   "cell_type": "code",
   "execution_count": 8,
   "id": "625ecc35-1023-4194-872a-29a58166fef2",
   "metadata": {
    "execution": {
     "iopub.execute_input": "2024-11-23T05:36:44.018532Z",
     "iopub.status.busy": "2024-11-23T05:36:44.018371Z",
     "iopub.status.idle": "2024-11-23T05:36:44.027427Z",
     "shell.execute_reply": "2024-11-23T05:36:44.026626Z",
     "shell.execute_reply.started": "2024-11-23T05:36:44.018520Z"
    }
   },
   "outputs": [
    {
     "data": {
      "text/plain": [
       "(tensor([  0,   0,   0,  ..., 112, 112, 112]),\n",
       " tensor([  0,   1,   2,  ..., 110, 111, 112]))"
      ]
     },
     "execution_count": 8,
     "metadata": {},
     "output_type": "execute_result"
    }
   ],
   "source": [
    "a_vector, b_vector"
   ]
  },
  {
   "cell_type": "code",
   "execution_count": 9,
   "id": "f92ab35e-45b4-4d58-9006-df3aa89e502b",
   "metadata": {
    "execution": {
     "iopub.execute_input": "2024-11-23T05:36:44.028215Z",
     "iopub.status.busy": "2024-11-23T05:36:44.028048Z",
     "iopub.status.idle": "2024-11-23T05:36:44.033775Z",
     "shell.execute_reply": "2024-11-23T05:36:44.032964Z",
     "shell.execute_reply.started": "2024-11-23T05:36:44.028202Z"
    }
   },
   "outputs": [
    {
     "data": {
      "text/plain": [
       "(torch.Size([12769]), torch.Size([12769]), torch.Size([12769]))"
      ]
     },
     "execution_count": 9,
     "metadata": {},
     "output_type": "execute_result"
    }
   ],
   "source": [
    "a_vector.shape, b_vector.shape, equals_vector.shape"
   ]
  },
  {
   "cell_type": "code",
   "execution_count": 10,
   "id": "5a08abd4-73ff-4578-804d-77bddd9703f6",
   "metadata": {
    "execution": {
     "iopub.execute_input": "2024-11-23T05:36:44.034599Z",
     "iopub.status.busy": "2024-11-23T05:36:44.034417Z",
     "iopub.status.idle": "2024-11-23T05:36:44.116526Z",
     "shell.execute_reply": "2024-11-23T05:36:44.115704Z",
     "shell.execute_reply.started": "2024-11-23T05:36:44.034585Z"
    }
   },
   "outputs": [
    {
     "name": "stdout",
     "output_type": "stream",
     "text": [
      "tensor([[  0,   0, 113],\n",
      "        [  0,   1, 113],\n",
      "        [  0,   2, 113],\n",
      "        [  0,   3, 113],\n",
      "        [  0,   4, 113]], device='cuda:0')\n",
      "torch.Size([12769, 3])\n"
     ]
    }
   ],
   "source": [
    "dataset = torch.stack([a_vector, b_vector, equals_vector], dim=1).to(device)\n",
    "print(dataset[:5])\n",
    "print(dataset.shape)"
   ]
  },
  {
   "cell_type": "code",
   "execution_count": 11,
   "id": "13768be1-5075-4e29-be72-f1687b348296",
   "metadata": {
    "execution": {
     "iopub.execute_input": "2024-11-23T05:36:44.117209Z",
     "iopub.status.busy": "2024-11-23T05:36:44.117078Z",
     "iopub.status.idle": "2024-11-23T05:36:44.151487Z",
     "shell.execute_reply": "2024-11-23T05:36:44.150698Z",
     "shell.execute_reply.started": "2024-11-23T05:36:44.117198Z"
    }
   },
   "outputs": [
    {
     "name": "stdout",
     "output_type": "stream",
     "text": [
      "torch.Size([12769])\n",
      "tensor([0, 1, 2, 3, 4], device='cuda:0')\n"
     ]
    }
   ],
   "source": [
    "labels = (dataset[:, 0] + dataset[:, 1]) % p\n",
    "print(labels.shape)\n",
    "print(labels[:5])"
   ]
  },
  {
   "cell_type": "code",
   "execution_count": 12,
   "id": "46de746c-0242-4886-9a90-35c8c56af96c",
   "metadata": {
    "execution": {
     "iopub.execute_input": "2024-11-23T05:36:44.152136Z",
     "iopub.status.busy": "2024-11-23T05:36:44.152010Z",
     "iopub.status.idle": "2024-11-23T05:36:44.174239Z",
     "shell.execute_reply": "2024-11-23T05:36:44.173472Z",
     "shell.execute_reply.started": "2024-11-23T05:36:44.152127Z"
    }
   },
   "outputs": [
    {
     "name": "stdout",
     "output_type": "stream",
     "text": [
      "tensor([[ 21,  31, 113],\n",
      "        [ 30,  98, 113],\n",
      "        [ 47,  10, 113],\n",
      "        [ 86,  21, 113],\n",
      "        [ 99,  83, 113]], device='cuda:0')\n",
      "tensor([ 52,  15,  57, 107,  69], device='cuda:0')\n",
      "torch.Size([3830, 3])\n",
      "tensor([[ 43,  40, 113],\n",
      "        [ 31,  42, 113],\n",
      "        [ 39,  63, 113],\n",
      "        [ 35,  61, 113],\n",
      "        [112, 102, 113]], device='cuda:0')\n",
      "tensor([ 83,  73, 102,  96, 101], device='cuda:0')\n",
      "torch.Size([8939, 3])\n"
     ]
    }
   ],
   "source": [
    "torch.manual_seed(DATA_SEED)\n",
    "indices = torch.randperm(p*p)\n",
    "cutoff = int(p * p * frac_train)\n",
    "train_indices = indices[:cutoff]\n",
    "test_indices = indices[cutoff:]\n",
    "\n",
    "train_data = dataset[train_indices]\n",
    "train_labels = labels[train_indices]\n",
    "test_data = dataset[test_indices]\n",
    "test_labels = labels[test_indices]\n",
    "print(train_data[:5])\n",
    "print(train_labels[:5])\n",
    "print(train_data.shape)\n",
    "print(test_data[:5])\n",
    "print(test_labels[:5])\n",
    "print(test_data.shape)"
   ]
  },
  {
   "cell_type": "markdown",
   "id": "d8d9abf5-2aba-453f-8118-aa554f84ee18",
   "metadata": {},
   "source": [
    "### model"
   ]
  },
  {
   "cell_type": "markdown",
   "id": "ccddd9a8-6c63-4dbd-ba28-5eadd0fe91aa",
   "metadata": {},
   "source": [
    "https://transformerlensorg.github.io/TransformerLens/generated/code/transformer_lens.HookedTransformerConfig.html\n",
    "- `n_ctx`: The maximum sequence length.\n",
    "-  n_heads = d_model // d_head"
   ]
  },
  {
   "cell_type": "code",
   "execution_count": 13,
   "id": "c85f0f1b-d5c9-4e16-9e7d-8d101982a384",
   "metadata": {
    "execution": {
     "iopub.execute_input": "2024-11-23T05:36:44.174800Z",
     "iopub.status.busy": "2024-11-23T05:36:44.174666Z",
     "iopub.status.idle": "2024-11-23T05:36:44.179564Z",
     "shell.execute_reply": "2024-11-23T05:36:44.178808Z",
     "shell.execute_reply.started": "2024-11-23T05:36:44.174789Z"
    }
   },
   "outputs": [],
   "source": [
    "cfg = HookedTransformerConfig(\n",
    "    n_layers=1,\n",
    "    n_ctx=3,\n",
    "    d_vocab=p+1,\n",
    "    d_vocab_out=p,\n",
    "    d_model=128,\n",
    "    n_heads=4,\n",
    "    d_head=32,\n",
    "    d_mlp=512,\n",
    "    act_fn=\"relu\",\n",
    "    normalization_type=None,\n",
    "    init_weights=True,\n",
    "    device=device,\n",
    "    seed=999,\n",
    ")"
   ]
  },
  {
   "cell_type": "code",
   "execution_count": 14,
   "id": "646b1c1c-5647-438c-a283-94ec9df34940",
   "metadata": {
    "execution": {
     "iopub.execute_input": "2024-11-23T05:36:44.180243Z",
     "iopub.status.busy": "2024-11-23T05:36:44.180107Z",
     "iopub.status.idle": "2024-11-23T05:36:44.194240Z",
     "shell.execute_reply": "2024-11-23T05:36:44.193752Z",
     "shell.execute_reply.started": "2024-11-23T05:36:44.180232Z"
    }
   },
   "outputs": [],
   "source": [
    "model = HookedTransformer(cfg)"
   ]
  },
  {
   "cell_type": "code",
   "execution_count": 15,
   "id": "e77dcadc-df30-4e81-8c28-7e8390c5229b",
   "metadata": {
    "execution": {
     "iopub.execute_input": "2024-11-23T05:36:44.195012Z",
     "iopub.status.busy": "2024-11-23T05:36:44.194871Z",
     "iopub.status.idle": "2024-11-23T05:36:44.198294Z",
     "shell.execute_reply": "2024-11-23T05:36:44.197840Z",
     "shell.execute_reply.started": "2024-11-23T05:36:44.195001Z"
    }
   },
   "outputs": [
    {
     "data": {
      "text/plain": [
       "HookedTransformer(\n",
       "  (embed): Embed()\n",
       "  (hook_embed): HookPoint()\n",
       "  (pos_embed): PosEmbed()\n",
       "  (hook_pos_embed): HookPoint()\n",
       "  (blocks): ModuleList(\n",
       "    (0): TransformerBlock(\n",
       "      (ln1): Identity()\n",
       "      (ln2): Identity()\n",
       "      (attn): Attention(\n",
       "        (hook_k): HookPoint()\n",
       "        (hook_q): HookPoint()\n",
       "        (hook_v): HookPoint()\n",
       "        (hook_z): HookPoint()\n",
       "        (hook_attn_scores): HookPoint()\n",
       "        (hook_pattern): HookPoint()\n",
       "        (hook_result): HookPoint()\n",
       "      )\n",
       "      (mlp): MLP(\n",
       "        (hook_pre): HookPoint()\n",
       "        (hook_post): HookPoint()\n",
       "      )\n",
       "      (hook_attn_in): HookPoint()\n",
       "      (hook_q_input): HookPoint()\n",
       "      (hook_k_input): HookPoint()\n",
       "      (hook_v_input): HookPoint()\n",
       "      (hook_mlp_in): HookPoint()\n",
       "      (hook_attn_out): HookPoint()\n",
       "      (hook_mlp_out): HookPoint()\n",
       "      (hook_resid_pre): HookPoint()\n",
       "      (hook_resid_mid): HookPoint()\n",
       "      (hook_resid_post): HookPoint()\n",
       "    )\n",
       "  )\n",
       "  (unembed): Unembed()\n",
       ")"
      ]
     },
     "execution_count": 15,
     "metadata": {},
     "output_type": "execute_result"
    }
   ],
   "source": [
    "model"
   ]
  },
  {
   "cell_type": "code",
   "execution_count": 16,
   "id": "000ba046-db24-4c92-925a-4b58c9af088d",
   "metadata": {
    "execution": {
     "iopub.execute_input": "2024-11-23T05:36:44.198960Z",
     "iopub.status.busy": "2024-11-23T05:36:44.198825Z",
     "iopub.status.idle": "2024-11-23T05:36:44.205530Z",
     "shell.execute_reply": "2024-11-23T05:36:44.205052Z",
     "shell.execute_reply.started": "2024-11-23T05:36:44.198950Z"
    }
   },
   "outputs": [
    {
     "name": "stdout",
     "output_type": "stream",
     "text": [
      "blocks.0.attn.b_Q\n",
      "blocks.0.attn.b_O\n",
      "blocks.0.attn.b_K\n",
      "blocks.0.attn.b_V\n",
      "blocks.0.mlp.b_in\n",
      "blocks.0.mlp.b_out\n",
      "unembed.b_U\n"
     ]
    }
   ],
   "source": [
    "for name, param in model.named_parameters():\n",
    "    if \"b_\" in name:\n",
    "        print(name)\n",
    "        param.requires_grad = False"
   ]
  },
  {
   "cell_type": "markdown",
   "id": "7e4607ca-cf0b-433d-8251-b849f4683350",
   "metadata": {},
   "source": [
    "### Optimizer + Loss"
   ]
  },
  {
   "cell_type": "code",
   "execution_count": 17,
   "id": "c6859496-b47c-4390-8ef8-0112ece01011",
   "metadata": {
    "execution": {
     "iopub.execute_input": "2024-11-23T05:36:44.206212Z",
     "iopub.status.busy": "2024-11-23T05:36:44.206076Z",
     "iopub.status.idle": "2024-11-23T05:36:44.214044Z",
     "shell.execute_reply": "2024-11-23T05:36:44.213548Z",
     "shell.execute_reply.started": "2024-11-23T05:36:44.206201Z"
    }
   },
   "outputs": [],
   "source": [
    "optimizer = torch.optim.AdamW(model.parameters(), lr=lr, weight_decay=wd, betas=betas)"
   ]
  },
  {
   "cell_type": "code",
   "execution_count": 18,
   "id": "473e0d0e-1bcf-4e79-b623-196cf96cb6aa",
   "metadata": {
    "execution": {
     "iopub.execute_input": "2024-11-23T05:36:44.214777Z",
     "iopub.status.busy": "2024-11-23T05:36:44.214630Z",
     "iopub.status.idle": "2024-11-23T05:36:44.400053Z",
     "shell.execute_reply": "2024-11-23T05:36:44.399239Z",
     "shell.execute_reply.started": "2024-11-23T05:36:44.214765Z"
    }
   },
   "outputs": [
    {
     "name": "stdout",
     "output_type": "stream",
     "text": [
      "tensor(4.7359, device='cuda:0', dtype=torch.float64, grad_fn=<NegBackward0>)\n",
      "tensor(4.7330, device='cuda:0', dtype=torch.float64, grad_fn=<NegBackward0>)\n"
     ]
    }
   ],
   "source": [
    "def loss_fn(logits, labels):\n",
    "    if len(logits.shape)==3:\n",
    "        logits = logits[:, -1]\n",
    "    logits = logits.to(torch.float64)\n",
    "    log_probs = logits.log_softmax(dim=-1)\n",
    "    correct_log_probs = log_probs.gather(dim=-1, index=labels[:, None])[:, 0]\n",
    "    return -correct_log_probs.mean()\n",
    "    \n",
    "train_logits = model(train_data)\n",
    "train_loss = loss_fn(train_logits, train_labels)\n",
    "print(train_loss)\n",
    "test_logits = model(test_data)\n",
    "test_loss = loss_fn(test_logits, test_labels)\n",
    "print(test_loss)"
   ]
  },
  {
   "cell_type": "code",
   "execution_count": 19,
   "id": "4e3c80da-ab41-435d-b5bb-b6ddc296f43f",
   "metadata": {
    "execution": {
     "iopub.execute_input": "2024-11-23T05:36:44.400763Z",
     "iopub.status.busy": "2024-11-23T05:36:44.400628Z",
     "iopub.status.idle": "2024-11-23T05:36:44.405785Z",
     "shell.execute_reply": "2024-11-23T05:36:44.405054Z",
     "shell.execute_reply.started": "2024-11-23T05:36:44.400752Z"
    }
   },
   "outputs": [
    {
     "data": {
      "text/plain": [
       "4.727387818712341"
      ]
     },
     "execution_count": 19,
     "metadata": {},
     "output_type": "execute_result"
    }
   ],
   "source": [
    "np.log(p)"
   ]
  },
  {
   "cell_type": "markdown",
   "id": "2be8eb70-55c6-41de-802a-b9c5e3b75678",
   "metadata": {},
   "source": [
    "### model train"
   ]
  },
  {
   "cell_type": "code",
   "execution_count": 20,
   "id": "3eb30a41-c7ea-47c5-abbf-cb18e5d0361e",
   "metadata": {
    "execution": {
     "iopub.execute_input": "2024-11-23T05:36:44.407808Z",
     "iopub.status.busy": "2024-11-23T05:36:44.407675Z",
     "iopub.status.idle": "2024-11-23T05:36:44.427978Z",
     "shell.execute_reply": "2024-11-23T05:36:44.427360Z",
     "shell.execute_reply.started": "2024-11-23T05:36:44.407798Z"
    }
   },
   "outputs": [
    {
     "name": "stdout",
     "output_type": "stream",
     "text": [
      "blocks.0.attn.b_Q\n",
      "blocks.0.attn.b_O\n",
      "blocks.0.attn.b_K\n",
      "blocks.0.attn.b_V\n",
      "blocks.0.mlp.b_in\n",
      "blocks.0.mlp.b_out\n",
      "unembed.b_U\n"
     ]
    }
   ],
   "source": [
    "model = HookedTransformer(cfg)\n",
    "optimizer = torch.optim.AdamW(model.parameters(), lr=lr, weight_decay=wd, betas=betas)\n",
    "\n",
    "for name, param in model.named_parameters():\n",
    "    if \"b_\" in name:\n",
    "        print(name)\n",
    "        param.requires_grad = False"
   ]
  },
  {
   "cell_type": "code",
   "execution_count": 21,
   "id": "be89a092-691d-4734-9cc9-c5a96fa3c1b6",
   "metadata": {
    "execution": {
     "iopub.execute_input": "2024-11-23T05:36:44.428995Z",
     "iopub.status.busy": "2024-11-23T05:36:44.428777Z",
     "iopub.status.idle": "2024-11-23T05:42:26.213067Z",
     "shell.execute_reply": "2024-11-23T05:42:26.211525Z",
     "shell.execute_reply.started": "2024-11-23T05:36:44.428977Z"
    }
   },
   "outputs": [
    {
     "data": {
      "application/vnd.jupyter.widget-view+json": {
       "model_id": "8f51c629487a4a139a84ce583790bac1",
       "version_major": 2,
       "version_minor": 0
      },
      "text/plain": [
       "  0%|          | 0/25000 [00:00<?, ?it/s]"
      ]
     },
     "metadata": {},
     "output_type": "display_data"
    },
    {
     "name": "stdout",
     "output_type": "stream",
     "text": [
      "Epoch 999 Train Loss 0.0000 Test Loss 29.0522\n",
      "Epoch 1999 Train Loss 0.0000 Test Loss 29.5949\n",
      "Epoch 2999 Train Loss 0.0000 Test Loss 26.8188\n",
      "Epoch 3999 Train Loss 0.0000 Test Loss 24.2656\n",
      "Epoch 4999 Train Loss 0.0000 Test Loss 21.2289\n",
      "Epoch 5999 Train Loss 0.0000 Test Loss 17.0924\n",
      "Epoch 6999 Train Loss 0.0000 Test Loss 12.4340\n",
      "Epoch 7999 Train Loss 0.0000 Test Loss 8.6068\n",
      "Epoch 8999 Train Loss 0.0000 Test Loss 5.6697\n",
      "Epoch 9999 Train Loss 0.0000 Test Loss 1.1866\n",
      "Epoch 10999 Train Loss 0.0000 Test Loss 0.0458\n",
      "Epoch 11999 Train Loss 0.0000 Test Loss 0.0000\n",
      "Epoch 12999 Train Loss 0.0000 Test Loss 0.0000\n",
      "Epoch 13999 Train Loss 0.0000 Test Loss 0.0000\n",
      "Epoch 14999 Train Loss 0.0000 Test Loss 0.0000\n",
      "Epoch 15999 Train Loss 0.0000 Test Loss 0.0000\n",
      "Epoch 16999 Train Loss 0.0000 Test Loss 0.0000\n",
      "Epoch 17999 Train Loss 0.0000 Test Loss 0.0000\n",
      "Epoch 18999 Train Loss 0.0000 Test Loss 0.0000\n",
      "Epoch 19999 Train Loss 0.0000 Test Loss 0.0000\n",
      "Epoch 20999 Train Loss 0.0000 Test Loss 0.0000\n",
      "Epoch 21999 Train Loss 0.0000 Test Loss 0.0000\n",
      "Epoch 22999 Train Loss 0.0000 Test Loss 0.0000\n",
      "Epoch 23999 Train Loss 0.0000 Test Loss 0.0000\n",
      "Epoch 24999 Train Loss 0.0000 Test Loss 0.0000\n"
     ]
    }
   ],
   "source": [
    "train_losses = []\n",
    "test_losses = []\n",
    "model_checkpoints = []\n",
    "checkpoint_epochs = []\n",
    "\n",
    "for epoch in tqdm(range(num_epochs)):\n",
    "    train_logits = model(train_data)\n",
    "    train_loss = loss_fn(train_logits, train_labels)\n",
    "    train_loss.backward()\n",
    "    train_losses.append(train_loss.item())\n",
    "\n",
    "    optimizer.step()\n",
    "    optimizer.zero_grad()\n",
    "\n",
    "    with torch.inference_mode():\n",
    "        test_logits = model(test_data)\n",
    "        test_loss = loss_fn(test_logits, test_labels)\n",
    "        test_losses.append(test_loss.item())\n",
    "    \n",
    "    if ((epoch+1) % checkpoint_every)==0:\n",
    "        checkpoint_epochs.append(epoch)\n",
    "        model_checkpoints.append(copy.deepcopy(model.state_dict()))\n",
    "        if ((epoch+1) % 1000)==0:\n",
    "            print(f\"Epoch {epoch} Train Loss {train_loss.item():.4f} Test Loss {test_loss.item():.4f}\")"
   ]
  },
  {
   "cell_type": "code",
   "execution_count": 26,
   "id": "1c42a843-b961-4fd7-829c-15bcce4d8f11",
   "metadata": {
    "execution": {
     "iopub.execute_input": "2024-11-23T06:33:12.474766Z",
     "iopub.status.busy": "2024-11-23T06:33:12.474387Z",
     "iopub.status.idle": "2024-11-23T06:33:12.766593Z",
     "shell.execute_reply": "2024-11-23T06:33:12.764828Z",
     "shell.execute_reply.started": "2024-11-23T06:33:12.474740Z"
    }
   },
   "outputs": [
    {
     "data": {
      "text/plain": [
       "<matplotlib.legend.Legend at 0x747c06b622f0>"
      ]
     },
     "execution_count": 26,
     "metadata": {},
     "output_type": "execute_result"
    },
    {
     "data": {
      "image/png": "[encoded data removed]",
      "text/plain": [
       "<Figure size 1000x600 with 1 Axes>"
      ]
     },
     "metadata": {},
     "output_type": "display_data"
    }
   ],
   "source": [
    "plt.figure(figsize=(10, 6))\n",
    "plt.plot(range(len(train_losses)), train_losses, label='Train Loss', linestyle='-')\n",
    "plt.plot(range(len(test_losses)), test_losses, label='Test Loss', linestyle='--')\n",
    "plt.legend()"
   ]
  }
 ],
 "metadata": {
  "kernelspec": {
   "display_name": "Python 3 (ipykernel)",
   "language": "python",
   "name": "python3"
  },
  "language_info": {
   "codemirror_mode": {
    "name": "ipython",
    "version": 3
   },
   "file_extension": ".py",
   "mimetype": "text/x-python",
   "name": "python",
   "nbconvert_exporter": "python",
   "pygments_lexer": "ipython3",
   "version": "3.10.13"
  }
 },
 "nbformat": 4,
 "nbformat_minor": 5
}
