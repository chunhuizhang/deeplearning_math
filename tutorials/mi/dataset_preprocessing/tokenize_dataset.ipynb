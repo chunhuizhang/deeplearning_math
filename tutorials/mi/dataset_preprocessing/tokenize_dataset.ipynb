{
 "cells": [
  {
   "cell_type": "code",
   "execution_count": 3,
   "id": "65407044-8047-45db-9854-6ff37ad761c6",
   "metadata": {
    "execution": {
     "iopub.execute_input": "2024-12-15T08:44:18.087251Z",
     "iopub.status.busy": "2024-12-15T08:44:18.086817Z",
     "iopub.status.idle": "2024-12-15T08:44:18.094775Z",
     "shell.execute_reply": "2024-12-15T08:44:18.092649Z",
     "shell.execute_reply.started": "2024-12-15T08:44:18.087222Z"
    }
   },
   "outputs": [],
   "source": [
    "from datasets import load_dataset\n",
    "from transformers import AutoTokenizer\n",
    "from transformer_lens.utils import tokenize_and_concatenate"
   ]
  },
  {
   "cell_type": "code",
   "execution_count": 4,
   "id": "690428cc-eb2c-42d5-91a3-901705749eba",
   "metadata": {
    "execution": {
     "iopub.execute_input": "2024-12-15T08:44:23.199016Z",
     "iopub.status.busy": "2024-12-15T08:44:23.197869Z",
     "iopub.status.idle": "2024-12-15T08:44:25.906591Z",
     "shell.execute_reply": "2024-12-15T08:44:25.904605Z",
     "shell.execute_reply.started": "2024-12-15T08:44:23.198953Z"
    }
   },
   "outputs": [],
   "source": [
    "dataset = load_dataset(\n",
    "    path=\"NeelNanda/pile-10k\",\n",
    "    split=\"train\",\n",
    "    streaming=False,\n",
    ")"
   ]
  },
  {
   "cell_type": "markdown",
   "id": "90a1f108-e95c-4dc1-9161-8b09fa4e3c44",
   "metadata": {},
   "source": [
    "### tokenize & concat"
   ]
  },
  {
   "cell_type": "code",
   "execution_count": 6,
   "id": "623380df-81c5-4c3e-bf72-d10503c86f65",
   "metadata": {
    "execution": {
     "iopub.execute_input": "2024-12-15T08:44:58.977316Z",
     "iopub.status.busy": "2024-12-15T08:44:58.976980Z",
     "iopub.status.idle": "2024-12-15T08:45:12.256438Z",
     "shell.execute_reply": "2024-12-15T08:45:12.255616Z",
     "shell.execute_reply.started": "2024-12-15T08:44:58.977292Z"
    }
   },
   "outputs": [
    {
     "data": {
      "application/vnd.jupyter.widget-view+json": {
       "model_id": "4db4b802e9254489a964b018d9c0ffe5",
       "version_major": 2,
       "version_minor": 0
      },
      "text/plain": [
       "Map:   0%|          | 0/10000 [00:00<?, ? examples/s]"
      ]
     },
     "metadata": {},
     "output_type": "display_data"
    },
    {
     "name": "stderr",
     "output_type": "stream",
     "text": [
      "Token indices sequence length is longer than the specified maximum sequence length for this model (229134 > 1024). Running this sequence through the model will result in indexing errors\n"
     ]
    }
   ],
   "source": [
    "token_dataset = tokenize_and_concatenate(\n",
    "    dataset=dataset,  # type: ignore\n",
    "    tokenizer=AutoTokenizer.from_pretrained('gpt2'),  # type: ignore\n",
    "    streaming=True,\n",
    "    max_length=128, \n",
    "    add_bos_token=True,\n",
    ")"
   ]
  },
  {
   "cell_type": "markdown",
   "id": "a9c3b142-777c-4067-a47f-5f89305f9829",
   "metadata": {},
   "source": [
    "### preprocessing"
   ]
  },
  {
   "cell_type": "code",
   "execution_count": 11,
   "id": "60c932be-6cef-408e-a735-b0d4e9049988",
   "metadata": {
    "execution": {
     "iopub.execute_input": "2024-12-15T09:15:39.789718Z",
     "iopub.status.busy": "2024-12-15T09:15:39.789087Z",
     "iopub.status.idle": "2024-12-15T09:15:40.323714Z",
     "shell.execute_reply": "2024-12-15T09:15:40.322254Z",
     "shell.execute_reply.started": "2024-12-15T09:15:39.789670Z"
    }
   },
   "outputs": [],
   "source": [
    "gpt2_tokenizer = AutoTokenizer.from_pretrained('gpt2')"
   ]
  },
  {
   "cell_type": "code",
   "execution_count": 7,
   "id": "adc984d8-4435-40c5-be79-cfd8f89b23f3",
   "metadata": {
    "execution": {
     "iopub.execute_input": "2024-12-15T09:14:39.164361Z",
     "iopub.status.busy": "2024-12-15T09:14:39.163981Z",
     "iopub.status.idle": "2024-12-15T09:14:53.709174Z",
     "shell.execute_reply": "2024-12-15T09:14:53.707180Z",
     "shell.execute_reply.started": "2024-12-15T09:14:39.164335Z"
    }
   },
   "outputs": [
    {
     "data": {
      "application/vnd.jupyter.widget-view+json": {
       "model_id": "faf7dd1afe01468aa528e3c96d1faa05",
       "version_major": 2,
       "version_minor": 0
      },
      "text/plain": [
       "README.md:   0%|          | 0.00/429 [00:00<?, ?B/s]"
      ]
     },
     "metadata": {},
     "output_type": "display_data"
    },
    {
     "data": {
      "application/vnd.jupyter.widget-view+json": {
       "model_id": "521ec6fb222049cfa881994b367bd66b",
       "version_major": 2,
       "version_minor": 0
      },
      "text/plain": [
       "(…)-00000-of-00001-f6f21d3dc6d657fc.parquet:   0%|          | 0.00/13.6M [00:00<?, ?B/s]"
      ]
     },
     "metadata": {},
     "output_type": "display_data"
    },
    {
     "data": {
      "application/vnd.jupyter.widget-view+json": {
       "model_id": "20477b2294854793bb2ac4a62faeeb21",
       "version_major": 2,
       "version_minor": 0
      },
      "text/plain": [
       "Generating train split:   0%|          | 0/10000 [00:00<?, ? examples/s]"
      ]
     },
     "metadata": {},
     "output_type": "display_data"
    },
    {
     "data": {
      "application/vnd.jupyter.widget-view+json": {
       "model_id": "3c80199b91124ffc85c9721d9c6d160b",
       "version_major": 2,
       "version_minor": 0
      },
      "text/plain": [
       "Map (num_proc=4):   0%|          | 0/10000 [00:00<?, ? examples/s]"
      ]
     },
     "metadata": {},
     "output_type": "display_data"
    }
   ],
   "source": [
    "from sae_lens import PretokenizeRunner, PretokenizeRunnerConfig\n",
    "\n",
    "cfg = PretokenizeRunnerConfig(\n",
    "    tokenizer_name=\"gpt2\",\n",
    "    dataset_path=\"NeelNanda/c4-10k\",  # this is just a tiny test dataset\n",
    "    shuffle=True,\n",
    "    num_proc=4,  # increase this number depending on how many CPUs you have\n",
    "    # tweak these settings depending on the model\n",
    "    context_size=128,\n",
    "    begin_batch_token=\"bos\",\n",
    "    begin_sequence_token=None,\n",
    "    sequence_separator_token=\"eos\",\n",
    "    # uncomment to upload to huggingface\n",
    "    # hf_repo_id=\"your-username/c4-10k-tokenized-gpt2\"\n",
    "    # uncomment to save the dataset locally\n",
    "    # save_path=\"./c4-10k-tokenized-gpt2\"\n",
    ")\n",
    "\n",
    "dataset = PretokenizeRunner(cfg).run()"
   ]
  },
  {
   "cell_type": "code",
   "execution_count": 13,
   "id": "4d15d1d6-f523-4241-bbfd-78b8e023d589",
   "metadata": {
    "execution": {
     "iopub.execute_input": "2024-12-15T09:16:04.175537Z",
     "iopub.status.busy": "2024-12-15T09:16:04.174865Z",
     "iopub.status.idle": "2024-12-15T09:16:04.191840Z",
     "shell.execute_reply": "2024-12-15T09:16:04.189535Z",
     "shell.execute_reply.started": "2024-12-15T09:16:04.175474Z"
    },
    "scrolled": true
   },
   "outputs": [
    {
     "data": {
      "text/plain": [
       "'<|endoftext|> it may take longer for someone living with ALS to eat a meal. In the early stages of the illness, a person may need more time to prepare foods as coordination skills decrease. There is the risk of aspirating (breathing in) food into the lungs, and this can possibly lead to pneumonia in someone diagnosed with ALS. This is one reason that someone living with ALS may opt for a feeding tube to continue meeting daily nutritional requirements. It is possible to continue eating solid foods after getting a feeding tube since it is still possible to enjoy the taste of foods. A health care provider can advise on the optimum time for an individual'"
      ]
     },
     "execution_count": 13,
     "metadata": {},
     "output_type": "execute_result"
    }
   ],
   "source": [
    "gpt2_tokenizer.decode(dataset[1]['input_ids'])"
   ]
  },
  {
   "cell_type": "code",
   "execution_count": null,
   "id": "8f6945a3-d447-4f58-8607-f850a4847ab8",
   "metadata": {},
   "outputs": [],
   "source": []
  }
 ],
 "metadata": {
  "kernelspec": {
   "display_name": "Python 3 (ipykernel)",
   "language": "python",
   "name": "python3"
  },
  "language_info": {
   "codemirror_mode": {
    "name": "ipython",
    "version": 3
   },
   "file_extension": ".py",
   "mimetype": "text/x-python",
   "name": "python",
   "nbconvert_exporter": "python",
   "pygments_lexer": "ipython3",
   "version": "3.10.13"
  }
 },
 "nbformat": 4,
 "nbformat_minor": 5
}
