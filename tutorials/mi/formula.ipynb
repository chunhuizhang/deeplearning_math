{
 "cells": [
  {
   "cell_type": "markdown",
   "id": "a9db9967-be0d-4d32-8167-a6d1ff6b5709",
   "metadata": {},
   "source": [
    "### encode "
   ]
  },
  {
   "cell_type": "markdown",
   "id": "dce314bf-2d60-4356-8648-7fca125f92f7",
   "metadata": {},
   "source": [
    "```\n",
    "sae_in = sae_in - (self.b_dec * self.cfg.apply_b_dec_to_input)\n",
    "```"
   ]
  },
  {
   "cell_type": "markdown",
   "id": "9f092d6a-3f1b-40af-a8cc-965f3391501f",
   "metadata": {},
   "source": [
    "```\n",
    "# pre\n",
    "hidden_pre = self.hook_sae_acts_pre(sae_in @ self.W_enc + self.b_enc)\n",
    "# post\n",
    "feature_acts = self.hook_sae_acts_post(self.activation_fn(hidden_pre))\n",
    "```"
   ]
  },
  {
   "cell_type": "markdown",
   "id": "bff7d09c-e78d-469d-ba3e-269cddef4f04",
   "metadata": {},
   "source": [
    "### decode"
   ]
  },
  {
   "cell_type": "markdown",
   "id": "b86c6165-a949-4538-b95c-3f29d632fe43",
   "metadata": {},
   "source": [
    "```\n",
    "feature_acts @ self.W_dec + self.b_dec\n",
    "```"
   ]
  },
  {
   "cell_type": "markdown",
   "id": "1c6092aa-022d-45ae-96dd-ce4e3e9478b1",
   "metadata": {},
   "source": [
    "### project"
   ]
  }
 ],
 "metadata": {
  "kernelspec": {
   "display_name": "Python 3 (ipykernel)",
   "language": "python",
   "name": "python3"
  },
  "language_info": {
   "codemirror_mode": {
    "name": "ipython",
    "version": 3
   },
   "file_extension": ".py",
   "mimetype": "text/x-python",
   "name": "python",
   "nbconvert_exporter": "python",
   "pygments_lexer": "ipython3",
   "version": "3.10.13"
  }
 },
 "nbformat": 4,
 "nbformat_minor": 5
}
