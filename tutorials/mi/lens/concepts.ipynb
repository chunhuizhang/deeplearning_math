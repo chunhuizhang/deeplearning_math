{
 "cells": [
  {
   "cell_type": "markdown",
   "id": "89139b7c-ce67-4fcd-a171-71aaa52bbc98",
   "metadata": {},
   "source": [
    "- GPT components\n",
    "    - resid：residual stream\n",
    "    - attention layers\n",
    "        - attention pattern：seq_len * seq_len\n",
    "    - MLPs"
   ]
  },
  {
   "cell_type": "markdown",
   "id": "e27fc736-69db-406f-a53a-a1a34ee6c209",
   "metadata": {},
   "source": [
    "### hook"
   ]
  },
  {
   "cell_type": "markdown",
   "id": "d59896b7-36aa-4589-8d16-6e8495221c25",
   "metadata": {},
   "source": [
    "- 在深度学习框架（如 PyTorch）中，hook 是一种可以在模型的**前向或后向传播**过程中插入自定义函数的机制。这种机制允许我们在网络的计算过程中，**访问或修改中间的激活值**，从而深入理解模型的内部工作原理。\n",
    "    - 前向钩子（Forward Hook）：在模块的 forward 方法执行时，hook 会在输入被传递到模块或输出被返回之前或之后被调用。它可以访问并修改输入和输出的张量。\n",
    "    - 后向钩子（Backward Hook）：在反向传播过程中，hook 可以访问和修改梯度。\n",
    "- transformer_lens 是一个用于分析和解释 Transformer 模型的库。它通过扩展基础的 Transformer 模型，引入了可以在模型的各个层次上添加 hook 的功能。这使得研究者可以：\n",
    "    - `_, cache = model.run_with_cache(...)`（返回的 cache 是 `ActivationCache` 对象）\n",
    "    - 记录激活值：在模型的特定层次或位置，提取中间激活值以进行分析。例如，提取注意力权重、隐藏状态等。\n",
    "    - 修改激活值：在前向传播过程中，修改中间激活值以测试模型对某些干预的响应。这对于理解模型如何处理信息非常有用。\n",
    "    - 消融实验：通过零化某些神经元的激活值，观察模型输出的变化，以确定这些神经元在特定任务中的重要性。"
   ]
  },
  {
   "cell_type": "markdown",
   "id": "3584a2ec-1527-4d2c-b6e3-b4bd038fb8f7",
   "metadata": {},
   "source": [
    "- 每个 block 的第一个 hook（residual stream pre），和最后一个 hook（residual stream after）\n",
    "    - blocks.0.hook_resid_pre\n",
    "    - blocks.0.hook_resid_post"
   ]
  },
  {
   "cell_type": "markdown",
   "id": "f23c16bd-41ef-4562-adc1-40b25ce876d3",
   "metadata": {},
   "source": [
    "#### attention"
   ]
  },
  {
   "cell_type": "markdown",
   "id": "6c059dae-3245-4b7f-bec5-75243fea53bc",
   "metadata": {},
   "source": [
    "- blocks.[0-11].attn\n",
    "    - hook_q, hook_k, hook_v\n",
    "    - hook_attn_scores, hook_pattern, hook_z\n",
    "- hook_pattern\n",
    "    - `pattern = softmax((Q @ K.T) / sqrt(d_k))  # [batch, seq_len, seq_len]`\n",
    "- hook_z\n",
    "    - `Z = pattern @ V  # weighted sum of value vectors`"
   ]
  },
  {
   "cell_type": "markdown",
   "id": "56fc3137-79b5-4db2-b455-8a81fcdf3ddd",
   "metadata": {},
   "source": [
    "### induction heads"
   ]
  },
  {
   "cell_type": "markdown",
   "id": "01332c3a-440b-47f3-8fc0-5b0002f813df",
   "metadata": {},
   "source": [
    "- `Her name was Alex Hart. When Alex`, with likely completion `Hart`. "
   ]
  }
 ],
 "metadata": {
  "kernelspec": {
   "display_name": "Python 3 (ipykernel)",
   "language": "python",
   "name": "python3"
  },
  "language_info": {
   "codemirror_mode": {
    "name": "ipython",
    "version": 3
   },
   "file_extension": ".py",
   "mimetype": "text/x-python",
   "name": "python",
   "nbconvert_exporter": "python",
   "pygments_lexer": "ipython3",
   "version": "3.10.13"
  }
 },
 "nbformat": 4,
 "nbformat_minor": 5
}
