{
 "cells": [
  {
   "cell_type": "code",
   "execution_count": 1,
   "id": "f921ae2f-7fb3-482f-ba9a-3fa7116c1507",
   "metadata": {
    "execution": {
     "iopub.execute_input": "2024-11-25T14:32:07.092584Z",
     "iopub.status.busy": "2024-11-25T14:32:07.091982Z",
     "iopub.status.idle": "2024-11-25T14:32:07.101296Z",
     "shell.execute_reply": "2024-11-25T14:32:07.099518Z",
     "shell.execute_reply.started": "2024-11-25T14:32:07.092538Z"
    }
   },
   "outputs": [],
   "source": [
    "from IPython.display import Image"
   ]
  },
  {
   "cell_type": "code",
   "execution_count": 9,
   "id": "36c94cb2-4afc-472c-864d-868c33614100",
   "metadata": {
    "execution": {
     "iopub.execute_input": "2024-11-25T14:32:37.269797Z",
     "iopub.status.busy": "2024-11-25T14:32:37.269161Z",
     "iopub.status.idle": "2024-11-25T14:32:37.281701Z",
     "shell.execute_reply": "2024-11-25T14:32:37.279709Z",
     "shell.execute_reply.started": "2024-11-25T14:32:37.269734Z"
    }
   },
   "outputs": [
    {
     "data": {
      "text/html": [
       "<img src=\"./imgs/sae.png\" width=\"200\"/>"
      ],
      "text/plain": [
       "<IPython.core.display.Image object>"
      ]
     },
     "execution_count": 9,
     "metadata": {},
     "output_type": "execute_result"
    }
   ],
   "source": [
    "Image(url='./imgs/sae.png', width=200)"
   ]
  },
  {
   "cell_type": "markdown",
   "id": "b24da854-096f-46ad-af8b-4766cdae8787",
   "metadata": {},
   "source": [
    "- 2-layer feed forward network (MLP)\n",
    "- Encoder\n",
    "    - sparse activations, most are off\n",
    "    - detects presence and magnitude of concept\n",
    "- Decoder\n",
    "    - reconstructs input activations (e.g. current embedding vector)\n",
    "    - concept vector == decoder matrix column"
   ]
  },
  {
   "cell_type": "code",
   "execution_count": null,
   "id": "80e52b1e-863d-47d9-be42-c69f6a8a03dc",
   "metadata": {},
   "outputs": [],
   "source": []
  }
 ],
 "metadata": {
  "kernelspec": {
   "display_name": "Python 3 (ipykernel)",
   "language": "python",
   "name": "python3"
  },
  "language_info": {
   "codemirror_mode": {
    "name": "ipython",
    "version": 3
   },
   "file_extension": ".py",
   "mimetype": "text/x-python",
   "name": "python",
   "nbconvert_exporter": "python",
   "pygments_lexer": "ipython3",
   "version": "3.10.13"
  }
 },
 "nbformat": 4,
 "nbformat_minor": 5
}
