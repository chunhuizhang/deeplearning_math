{
 "cells": [
  {
   "cell_type": "markdown",
   "id": "361c8808-c848-4892-8894-3cdb9abd3462",
   "metadata": {},
   "source": [
    "> reverse engineering\n",
    "\n",
    "- https://www.lesswrong.com/posts/hnzHrdqn3nrjveayv/how-to-transformer-mechanistic-interpretability-in-50-lines\n",
    "    - https://www.neelnanda.io/mechanistic-interpretability/getting-started\n",
    "- https://docs.google.com/presentation/d/1BkAjGqIqgomQpj6j0-oZORCeq72sH7_sOPjlflnYm_A/edit?pli=1#slide=id.p"
   ]
  },
  {
   "cell_type": "code",
   "execution_count": 1,
   "id": "197be1b3-10df-4e76-8cb0-3a124e8ab8a0",
   "metadata": {
    "execution": {
     "iopub.execute_input": "2024-12-03T15:05:42.900578Z",
     "iopub.status.busy": "2024-12-03T15:05:42.899924Z",
     "iopub.status.idle": "2024-12-03T15:05:42.919354Z",
     "shell.execute_reply": "2024-12-03T15:05:42.917247Z",
     "shell.execute_reply.started": "2024-12-03T15:05:42.900526Z"
    }
   },
   "outputs": [],
   "source": [
    "import os\n",
    "os.environ['http_proxy'] = 'http://127.0.0.1:7890'\n",
    "os.environ['https_proxy'] = 'http://127.0.0.1:7890'"
   ]
  },
  {
   "cell_type": "code",
   "execution_count": 17,
   "id": "adba7c65-bfd6-401d-b63f-bf6774fe7250",
   "metadata": {
    "execution": {
     "iopub.execute_input": "2024-12-03T15:42:46.777761Z",
     "iopub.status.busy": "2024-12-03T15:42:46.777151Z",
     "iopub.status.idle": "2024-12-03T15:42:46.786807Z",
     "shell.execute_reply": "2024-12-03T15:42:46.784496Z",
     "shell.execute_reply.started": "2024-12-03T15:42:46.777716Z"
    }
   },
   "outputs": [],
   "source": [
    "import transformer_lens\n",
    "from transformer_lens import utils\n",
    "from transformer_lens import HookedTransformer\n",
    "import torch\n",
    "from functools import partial"
   ]
  },
  {
   "cell_type": "markdown",
   "id": "04a1dcca-7103-4a23-9599-195653dffe0a",
   "metadata": {},
   "source": [
    "### lens definition"
   ]
  },
  {
   "cell_type": "markdown",
   "id": "2698c660-56c3-4754-8b57-7ffd2f78477b",
   "metadata": {},
   "source": [
    "- model cfg\n",
    "    - https://transformerlensorg.github.io/TransformerLens/generated/code/transformer_lens.HookedTransformerConfig.html\n",
    "- `logits, cache = mode.run_witch_cache(dataset)`\n",
    "    - 运行模型时同时捕获中间计算结果（通常是某些层或模块的输出）以便后续分析和调试\n",
    "    - `cache[\"pattern\", layer, \"attn\"]`: 从指定的 layer 层获取 attn 注意力模块的注意力模式（权重）。\n",
    "        - 形状为 [batch_size, num_heads, seq_length, seq_length] 的张量，包含注意力权重。\n",
    "    - `cache[\"pre\", layer, \"mlp\"]`: 从指定的 layer 层获取 MLP 模块的预激活输出。\n",
    "        - 形状为 [batch_size, seq_length, d_model] 的张量，包含在激活函数应用之前的值。\n",
    "    - `cache[\"post\", layer, \"mlp\"]`: 从指定的 layer 层获取 MLP 模块的后激活输出。\n",
    "        - 形状为 [batch_size, seq_length, d_model] 的张量，包含在激活函数应用之后的值。\n",
    "- `model.run_with_hooks(..., fwd_hooks=[])`\n",
    "    - Runs the model with specified forward and backward hooks."
   ]
  },
  {
   "cell_type": "markdown",
   "id": "0ee7053d-47fa-4eab-995a-27969f383501",
   "metadata": {},
   "source": [
    "### modules"
   ]
  },
  {
   "cell_type": "markdown",
   "id": "4a2e0da7-3f9b-4f17-a87e-588d8d7b288a",
   "metadata": {},
   "source": [
    "- Embed()/Unembed()\n",
    "    - Embed: W_E\n",
    "    - Unembed: W_U\n",
    "- MLP()\n",
    "    - W_in\n",
    "    - W_out\n",
    "- Attention()\n",
    "    - QKVO:\n",
    "        - W(weights)\n",
    "            - W_Q, W_K, W_V, W_O\n",
    "        - b(biases)\n",
    "            - b_Q, b_K, b_V, b_O"
   ]
  },
  {
   "cell_type": "markdown",
   "id": "2a54331d-72c1-485e-958c-f95d02cd45ce",
   "metadata": {},
   "source": [
    "### utils"
   ]
  },
  {
   "cell_type": "code",
   "execution_count": 3,
   "id": "bbea209f-57fc-42dd-99fa-51d6f9cf92e8",
   "metadata": {
    "execution": {
     "iopub.execute_input": "2024-11-30T13:47:56.365216Z",
     "iopub.status.busy": "2024-11-30T13:47:56.365079Z",
     "iopub.status.idle": "2024-11-30T13:47:56.371783Z",
     "shell.execute_reply": "2024-11-30T13:47:56.371033Z",
     "shell.execute_reply.started": "2024-11-30T13:47:56.365205Z"
    }
   },
   "outputs": [
    {
     "data": {
      "text/plain": [
       "'blocks.1.mlp.hook_post'"
      ]
     },
     "execution_count": 3,
     "metadata": {},
     "output_type": "execute_result"
    }
   ],
   "source": [
    "utils.get_act_name(\"post\", 1)"
   ]
  },
  {
   "cell_type": "markdown",
   "id": "04540fb6-36c8-47c3-96eb-bf91fd4b2c45",
   "metadata": {},
   "source": [
    "### tokens"
   ]
  },
  {
   "cell_type": "markdown",
   "id": "10dccd8d-ba00-4cdf-85cf-67d53d5734a8",
   "metadata": {},
   "source": [
    "- model.to_string\n",
    "    - id => string\n",
    "- model.to_str_tokens\n",
    "    - id => token\n",
    "- model.to_single_token\n",
    "    - string => id"
   ]
  },
  {
   "cell_type": "code",
   "execution_count": 30,
   "id": "ef86f975-062b-459e-913b-f3096190028b",
   "metadata": {
    "execution": {
     "iopub.execute_input": "2024-11-30T13:50:31.092916Z",
     "iopub.status.busy": "2024-11-30T13:50:31.092265Z",
     "iopub.status.idle": "2024-11-30T13:50:32.963764Z",
     "shell.execute_reply": "2024-11-30T13:50:32.962126Z",
     "shell.execute_reply.started": "2024-11-30T13:50:31.092869Z"
    }
   },
   "outputs": [
    {
     "name": "stdout",
     "output_type": "stream",
     "text": [
      "Loaded pretrained model gelu-1l into HookedTransformer\n",
      "Changing model dtype to torch.float32\n"
     ]
    },
    {
     "name": "stderr",
     "output_type": "stream",
     "text": [
      "/home/whaow/anaconda3/lib/python3.10/site-packages/transformers/tokenization_utils_base.py:1602: FutureWarning: `clean_up_tokenization_spaces` was not set. It will be set to `True` by default. This behavior will be deprecated in transformers v4.45, and will be then set to `False` by default. For more details check this issue: https://github.com/huggingface/transformers/issues/31884\n",
      "  warnings.warn(\n"
     ]
    }
   ],
   "source": [
    "model = HookedTransformer.from_pretrained(\"gelu-1l\").to(torch.float32)"
   ]
  },
  {
   "cell_type": "code",
   "execution_count": 31,
   "id": "1d47cef6-cca3-4a3d-bde6-9beeaf70178f",
   "metadata": {
    "execution": {
     "iopub.execute_input": "2024-11-30T13:50:34.514491Z",
     "iopub.status.busy": "2024-11-30T13:50:34.514261Z",
     "iopub.status.idle": "2024-11-30T13:50:34.521736Z",
     "shell.execute_reply": "2024-11-30T13:50:34.520092Z",
     "shell.execute_reply.started": "2024-11-30T13:50:34.514474Z"
    }
   },
   "outputs": [
    {
     "data": {
      "text/plain": [
       "48262"
      ]
     },
     "execution_count": 31,
     "metadata": {},
     "output_type": "execute_result"
    }
   ],
   "source": [
    "model.cfg.d_vocab"
   ]
  },
  {
   "cell_type": "code",
   "execution_count": 32,
   "id": "4c33ed3c-63e3-4a9f-94f9-9637c91c15e9",
   "metadata": {
    "execution": {
     "iopub.execute_input": "2024-11-30T13:50:36.194655Z",
     "iopub.status.busy": "2024-11-30T13:50:36.194095Z",
     "iopub.status.idle": "2024-11-30T13:50:36.208845Z",
     "shell.execute_reply": "2024-11-30T13:50:36.207084Z",
     "shell.execute_reply.started": "2024-11-30T13:50:36.194612Z"
    }
   },
   "outputs": [
    {
     "data": {
      "text/plain": [
       "['<|EOS|>', '<|BOS|>', '<|PAD|>', '!', '\"', '#', '$', '%', '&', \"'\"]"
      ]
     },
     "execution_count": 32,
     "metadata": {},
     "output_type": "execute_result"
    }
   ],
   "source": [
    "model.to_str_tokens(torch.arange(10))"
   ]
  },
  {
   "cell_type": "code",
   "execution_count": 33,
   "id": "bce82af9-487d-480c-ba1a-59182c152cfb",
   "metadata": {
    "execution": {
     "iopub.execute_input": "2024-11-30T13:50:37.800789Z",
     "iopub.status.busy": "2024-11-30T13:50:37.800216Z",
     "iopub.status.idle": "2024-11-30T13:50:37.811344Z",
     "shell.execute_reply": "2024-11-30T13:50:37.809749Z",
     "shell.execute_reply.started": "2024-11-30T13:50:37.800745Z"
    }
   },
   "outputs": [
    {
     "data": {
      "text/plain": [
       "24684"
      ]
     },
     "execution_count": 33,
     "metadata": {},
     "output_type": "execute_result"
    }
   ],
   "source": [
    "model.to_single_token('hello')"
   ]
  },
  {
   "cell_type": "code",
   "execution_count": 34,
   "id": "62662db1-b3bc-4bff-ab76-c6982cc4eb70",
   "metadata": {
    "execution": {
     "iopub.execute_input": "2024-11-30T13:50:40.374209Z",
     "iopub.status.busy": "2024-11-30T13:50:40.373633Z",
     "iopub.status.idle": "2024-11-30T13:50:40.385853Z",
     "shell.execute_reply": "2024-11-30T13:50:40.383582Z",
     "shell.execute_reply.started": "2024-11-30T13:50:40.374166Z"
    }
   },
   "outputs": [
    {
     "data": {
      "text/plain": [
       "'hello'"
      ]
     },
     "execution_count": 34,
     "metadata": {},
     "output_type": "execute_result"
    }
   ],
   "source": [
    "model.to_string(24684)"
   ]
  },
  {
   "cell_type": "markdown",
   "id": "e2d0eeac-5d52-4048-bf2d-c200b81fc813",
   "metadata": {},
   "source": [
    "### basic usage"
   ]
  },
  {
   "cell_type": "code",
   "execution_count": 3,
   "id": "5f6fa320-ab24-4e28-a437-86032e4ac748",
   "metadata": {
    "execution": {
     "iopub.execute_input": "2024-12-03T15:07:19.865490Z",
     "iopub.status.busy": "2024-12-03T15:07:19.865150Z",
     "iopub.status.idle": "2024-12-03T15:07:24.135352Z",
     "shell.execute_reply": "2024-12-03T15:07:24.134108Z",
     "shell.execute_reply.started": "2024-12-03T15:07:19.865468Z"
    }
   },
   "outputs": [
    {
     "name": "stdout",
     "output_type": "stream",
     "text": [
      "Loaded pretrained model gpt2-small into HookedTransformer\n"
     ]
    }
   ],
   "source": [
    "# Load a model (eg GPT-2 Small)\n",
    "model = transformer_lens.HookedTransformer.from_pretrained(\"gpt2-small\")"
   ]
  },
  {
   "cell_type": "code",
   "execution_count": 4,
   "id": "8c63860d-f03b-4efd-b856-16f6c67baf8d",
   "metadata": {
    "execution": {
     "iopub.execute_input": "2024-12-03T15:07:38.308859Z",
     "iopub.status.busy": "2024-12-03T15:07:38.308533Z",
     "iopub.status.idle": "2024-12-03T15:07:38.648243Z",
     "shell.execute_reply": "2024-12-03T15:07:38.646347Z",
     "shell.execute_reply.started": "2024-12-03T15:07:38.308837Z"
    }
   },
   "outputs": [],
   "source": [
    "logits = model(\"Famous computer scientist Alan\")"
   ]
  },
  {
   "cell_type": "code",
   "execution_count": 6,
   "id": "eb86e32a-3657-4735-9908-3b9926a69ffb",
   "metadata": {
    "execution": {
     "iopub.execute_input": "2024-12-03T15:08:30.592390Z",
     "iopub.status.busy": "2024-12-03T15:08:30.591725Z",
     "iopub.status.idle": "2024-12-03T15:08:30.619744Z",
     "shell.execute_reply": "2024-12-03T15:08:30.618218Z",
     "shell.execute_reply.started": "2024-12-03T15:08:30.592339Z"
    }
   },
   "outputs": [
    {
     "data": {
      "text/plain": [
       "tensor([[50256,    37, 10877,  3644, 11444, 12246]], device='cuda:0')"
      ]
     },
     "execution_count": 6,
     "metadata": {},
     "output_type": "execute_result"
    }
   ],
   "source": [
    "model.to_tokens(\"Famous computer scientist Alan\")"
   ]
  },
  {
   "cell_type": "code",
   "execution_count": 5,
   "id": "afdcbcd2-74f7-4662-9d57-9dabd7348699",
   "metadata": {
    "execution": {
     "iopub.execute_input": "2024-12-03T15:07:39.684005Z",
     "iopub.status.busy": "2024-12-03T15:07:39.683706Z",
     "iopub.status.idle": "2024-12-03T15:07:39.696357Z",
     "shell.execute_reply": "2024-12-03T15:07:39.694692Z",
     "shell.execute_reply.started": "2024-12-03T15:07:39.683984Z"
    }
   },
   "outputs": [
    {
     "data": {
      "text/plain": [
       "torch.Size([1, 6, 50257])"
      ]
     },
     "execution_count": 5,
     "metadata": {},
     "output_type": "execute_result"
    }
   ],
   "source": [
    "logits.shape"
   ]
  },
  {
   "cell_type": "code",
   "execution_count": 11,
   "id": "1b3938b3-95b0-427f-882f-778ee4500908",
   "metadata": {
    "execution": {
     "iopub.execute_input": "2024-11-30T13:48:01.507359Z",
     "iopub.status.busy": "2024-11-30T13:48:01.507175Z",
     "iopub.status.idle": "2024-11-30T13:48:01.521337Z",
     "shell.execute_reply": "2024-11-30T13:48:01.520122Z",
     "shell.execute_reply.started": "2024-11-30T13:48:01.507344Z"
    }
   },
   "outputs": [
    {
     "name": "stdout",
     "output_type": "stream",
     "text": [
      " Turing\n"
     ]
    }
   ],
   "source": [
    "# The logit dimensions are: [batch, position, vocab]\n",
    "next_token_logits = logits[0, -1]\n",
    "next_token_prediction = next_token_logits.argmax()\n",
    "next_word_prediction = model.tokenizer.decode(next_token_prediction)\n",
    "print(next_word_prediction)"
   ]
  },
  {
   "cell_type": "code",
   "execution_count": 7,
   "id": "3377ed2e-a0be-4d57-9112-fb6c45c4e822",
   "metadata": {
    "execution": {
     "iopub.execute_input": "2024-12-03T15:18:02.904668Z",
     "iopub.status.busy": "2024-12-03T15:18:02.904013Z",
     "iopub.status.idle": "2024-12-03T15:18:02.912779Z",
     "shell.execute_reply": "2024-12-03T15:18:02.910520Z",
     "shell.execute_reply.started": "2024-12-03T15:18:02.904621Z"
    }
   },
   "outputs": [],
   "source": [
    "# model"
   ]
  },
  {
   "cell_type": "markdown",
   "id": "f9c8bf31-4a0b-42e6-a023-3fc172fa4632",
   "metadata": {},
   "source": [
    "#### cache & hook"
   ]
  },
  {
   "cell_type": "markdown",
   "id": "e0791df8-bde5-4047-88b9-0e11870c0bf7",
   "metadata": {},
   "source": [
    "- 关于 `hook_pattern`、`hook_z`\n",
    "    - `pattern = softmax((Q @ K.T) / sqrt(d_k))  # [batch, seq_len, seq_len]`\n",
    "    - `Z = pattern @ V  # weighted sum of value vectors`\n",
    "- hook_resid_pre vs. hook_resid_post"
   ]
  },
  {
   "cell_type": "code",
   "execution_count": 13,
   "id": "838ab0d6-ca58-4f95-a97e-3f907d67ea21",
   "metadata": {
    "execution": {
     "iopub.execute_input": "2024-11-30T13:48:01.529693Z",
     "iopub.status.busy": "2024-11-30T13:48:01.529485Z",
     "iopub.status.idle": "2024-11-30T13:48:01.579810Z",
     "shell.execute_reply": "2024-11-30T13:48:01.578525Z",
     "shell.execute_reply.started": "2024-11-30T13:48:01.529677Z"
    }
   },
   "outputs": [
    {
     "name": "stdout",
     "output_type": "stream",
     "text": [
      "hook_embed torch.Size([1, 6, 768])\n",
      "hook_pos_embed torch.Size([1, 6, 768])\n",
      "blocks.0.hook_resid_pre torch.Size([1, 6, 768])\n",
      "blocks.0.ln1.hook_scale torch.Size([1, 6, 1])\n",
      "blocks.0.ln1.hook_normalized torch.Size([1, 6, 768])\n",
      "blocks.0.attn.hook_q torch.Size([1, 6, 12, 64])\n",
      "blocks.0.attn.hook_k torch.Size([1, 6, 12, 64])\n",
      "blocks.0.attn.hook_v torch.Size([1, 6, 12, 64])\n",
      "blocks.0.attn.hook_attn_scores torch.Size([1, 12, 6, 6])\n",
      "blocks.0.attn.hook_pattern torch.Size([1, 12, 6, 6])\n",
      "blocks.0.attn.hook_z torch.Size([1, 6, 12, 64])\n",
      "blocks.0.hook_attn_out torch.Size([1, 6, 768])\n",
      "blocks.0.hook_resid_mid torch.Size([1, 6, 768])\n",
      "blocks.0.ln2.hook_scale torch.Size([1, 6, 1])\n",
      "blocks.0.ln2.hook_normalized torch.Size([1, 6, 768])\n",
      "blocks.0.mlp.hook_pre torch.Size([1, 6, 3072])\n",
      "blocks.0.mlp.hook_post torch.Size([1, 6, 3072])\n",
      "blocks.0.hook_mlp_out torch.Size([1, 6, 768])\n",
      "blocks.0.hook_resid_post torch.Size([1, 6, 768])\n",
      "blocks.1.hook_resid_pre torch.Size([1, 6, 768])\n",
      "blocks.1.ln1.hook_scale torch.Size([1, 6, 1])\n",
      "blocks.1.ln1.hook_normalized torch.Size([1, 6, 768])\n",
      "blocks.1.attn.hook_q torch.Size([1, 6, 12, 64])\n",
      "blocks.1.attn.hook_k torch.Size([1, 6, 12, 64])\n",
      "blocks.1.attn.hook_v torch.Size([1, 6, 12, 64])\n",
      "blocks.1.attn.hook_attn_scores torch.Size([1, 12, 6, 6])\n",
      "blocks.1.attn.hook_pattern torch.Size([1, 12, 6, 6])\n",
      "blocks.1.attn.hook_z torch.Size([1, 6, 12, 64])\n",
      "blocks.1.hook_attn_out torch.Size([1, 6, 768])\n",
      "blocks.1.hook_resid_mid torch.Size([1, 6, 768])\n",
      "blocks.1.ln2.hook_scale torch.Size([1, 6, 1])\n",
      "blocks.1.ln2.hook_normalized torch.Size([1, 6, 768])\n",
      "blocks.1.mlp.hook_pre torch.Size([1, 6, 3072])\n",
      "blocks.1.mlp.hook_post torch.Size([1, 6, 3072])\n",
      "blocks.1.hook_mlp_out torch.Size([1, 6, 768])\n",
      "blocks.1.hook_resid_post torch.Size([1, 6, 768])\n",
      "blocks.2.hook_resid_pre torch.Size([1, 6, 768])\n",
      "blocks.2.ln1.hook_scale torch.Size([1, 6, 1])\n",
      "blocks.2.ln1.hook_normalized torch.Size([1, 6, 768])\n",
      "blocks.2.attn.hook_q torch.Size([1, 6, 12, 64])\n",
      "blocks.2.attn.hook_k torch.Size([1, 6, 12, 64])\n",
      "blocks.2.attn.hook_v torch.Size([1, 6, 12, 64])\n",
      "blocks.2.attn.hook_attn_scores torch.Size([1, 12, 6, 6])\n",
      "blocks.2.attn.hook_pattern torch.Size([1, 12, 6, 6])\n",
      "blocks.2.attn.hook_z torch.Size([1, 6, 12, 64])\n",
      "blocks.2.hook_attn_out torch.Size([1, 6, 768])\n",
      "blocks.2.hook_resid_mid torch.Size([1, 6, 768])\n",
      "blocks.2.ln2.hook_scale torch.Size([1, 6, 1])\n",
      "blocks.2.ln2.hook_normalized torch.Size([1, 6, 768])\n",
      "blocks.2.mlp.hook_pre torch.Size([1, 6, 3072])\n",
      "blocks.2.mlp.hook_post torch.Size([1, 6, 3072])\n",
      "blocks.2.hook_mlp_out torch.Size([1, 6, 768])\n",
      "blocks.2.hook_resid_post torch.Size([1, 6, 768])\n",
      "blocks.3.hook_resid_pre torch.Size([1, 6, 768])\n",
      "blocks.3.ln1.hook_scale torch.Size([1, 6, 1])\n",
      "blocks.3.ln1.hook_normalized torch.Size([1, 6, 768])\n",
      "blocks.3.attn.hook_q torch.Size([1, 6, 12, 64])\n",
      "blocks.3.attn.hook_k torch.Size([1, 6, 12, 64])\n",
      "blocks.3.attn.hook_v torch.Size([1, 6, 12, 64])\n",
      "blocks.3.attn.hook_attn_scores torch.Size([1, 12, 6, 6])\n",
      "blocks.3.attn.hook_pattern torch.Size([1, 12, 6, 6])\n",
      "blocks.3.attn.hook_z torch.Size([1, 6, 12, 64])\n",
      "blocks.3.hook_attn_out torch.Size([1, 6, 768])\n",
      "blocks.3.hook_resid_mid torch.Size([1, 6, 768])\n",
      "blocks.3.ln2.hook_scale torch.Size([1, 6, 1])\n",
      "blocks.3.ln2.hook_normalized torch.Size([1, 6, 768])\n",
      "blocks.3.mlp.hook_pre torch.Size([1, 6, 3072])\n",
      "blocks.3.mlp.hook_post torch.Size([1, 6, 3072])\n",
      "blocks.3.hook_mlp_out torch.Size([1, 6, 768])\n",
      "blocks.3.hook_resid_post torch.Size([1, 6, 768])\n",
      "blocks.4.hook_resid_pre torch.Size([1, 6, 768])\n",
      "blocks.4.ln1.hook_scale torch.Size([1, 6, 1])\n",
      "blocks.4.ln1.hook_normalized torch.Size([1, 6, 768])\n",
      "blocks.4.attn.hook_q torch.Size([1, 6, 12, 64])\n",
      "blocks.4.attn.hook_k torch.Size([1, 6, 12, 64])\n",
      "blocks.4.attn.hook_v torch.Size([1, 6, 12, 64])\n",
      "blocks.4.attn.hook_attn_scores torch.Size([1, 12, 6, 6])\n",
      "blocks.4.attn.hook_pattern torch.Size([1, 12, 6, 6])\n",
      "blocks.4.attn.hook_z torch.Size([1, 6, 12, 64])\n",
      "blocks.4.hook_attn_out torch.Size([1, 6, 768])\n",
      "blocks.4.hook_resid_mid torch.Size([1, 6, 768])\n",
      "blocks.4.ln2.hook_scale torch.Size([1, 6, 1])\n",
      "blocks.4.ln2.hook_normalized torch.Size([1, 6, 768])\n",
      "blocks.4.mlp.hook_pre torch.Size([1, 6, 3072])\n",
      "blocks.4.mlp.hook_post torch.Size([1, 6, 3072])\n",
      "blocks.4.hook_mlp_out torch.Size([1, 6, 768])\n",
      "blocks.4.hook_resid_post torch.Size([1, 6, 768])\n",
      "blocks.5.hook_resid_pre torch.Size([1, 6, 768])\n",
      "blocks.5.ln1.hook_scale torch.Size([1, 6, 1])\n",
      "blocks.5.ln1.hook_normalized torch.Size([1, 6, 768])\n",
      "blocks.5.attn.hook_q torch.Size([1, 6, 12, 64])\n",
      "blocks.5.attn.hook_k torch.Size([1, 6, 12, 64])\n",
      "blocks.5.attn.hook_v torch.Size([1, 6, 12, 64])\n",
      "blocks.5.attn.hook_attn_scores torch.Size([1, 12, 6, 6])\n",
      "blocks.5.attn.hook_pattern torch.Size([1, 12, 6, 6])\n",
      "blocks.5.attn.hook_z torch.Size([1, 6, 12, 64])\n",
      "blocks.5.hook_attn_out torch.Size([1, 6, 768])\n",
      "blocks.5.hook_resid_mid torch.Size([1, 6, 768])\n",
      "blocks.5.ln2.hook_scale torch.Size([1, 6, 1])\n",
      "blocks.5.ln2.hook_normalized torch.Size([1, 6, 768])\n",
      "blocks.5.mlp.hook_pre torch.Size([1, 6, 3072])\n",
      "blocks.5.mlp.hook_post torch.Size([1, 6, 3072])\n",
      "blocks.5.hook_mlp_out torch.Size([1, 6, 768])\n",
      "blocks.5.hook_resid_post torch.Size([1, 6, 768])\n",
      "blocks.6.hook_resid_pre torch.Size([1, 6, 768])\n",
      "blocks.6.ln1.hook_scale torch.Size([1, 6, 1])\n",
      "blocks.6.ln1.hook_normalized torch.Size([1, 6, 768])\n",
      "blocks.6.attn.hook_q torch.Size([1, 6, 12, 64])\n",
      "blocks.6.attn.hook_k torch.Size([1, 6, 12, 64])\n",
      "blocks.6.attn.hook_v torch.Size([1, 6, 12, 64])\n",
      "blocks.6.attn.hook_attn_scores torch.Size([1, 12, 6, 6])\n",
      "blocks.6.attn.hook_pattern torch.Size([1, 12, 6, 6])\n",
      "blocks.6.attn.hook_z torch.Size([1, 6, 12, 64])\n",
      "blocks.6.hook_attn_out torch.Size([1, 6, 768])\n",
      "blocks.6.hook_resid_mid torch.Size([1, 6, 768])\n",
      "blocks.6.ln2.hook_scale torch.Size([1, 6, 1])\n",
      "blocks.6.ln2.hook_normalized torch.Size([1, 6, 768])\n",
      "blocks.6.mlp.hook_pre torch.Size([1, 6, 3072])\n",
      "blocks.6.mlp.hook_post torch.Size([1, 6, 3072])\n",
      "blocks.6.hook_mlp_out torch.Size([1, 6, 768])\n",
      "blocks.6.hook_resid_post torch.Size([1, 6, 768])\n",
      "blocks.7.hook_resid_pre torch.Size([1, 6, 768])\n",
      "blocks.7.ln1.hook_scale torch.Size([1, 6, 1])\n",
      "blocks.7.ln1.hook_normalized torch.Size([1, 6, 768])\n",
      "blocks.7.attn.hook_q torch.Size([1, 6, 12, 64])\n",
      "blocks.7.attn.hook_k torch.Size([1, 6, 12, 64])\n",
      "blocks.7.attn.hook_v torch.Size([1, 6, 12, 64])\n",
      "blocks.7.attn.hook_attn_scores torch.Size([1, 12, 6, 6])\n",
      "blocks.7.attn.hook_pattern torch.Size([1, 12, 6, 6])\n",
      "blocks.7.attn.hook_z torch.Size([1, 6, 12, 64])\n",
      "blocks.7.hook_attn_out torch.Size([1, 6, 768])\n",
      "blocks.7.hook_resid_mid torch.Size([1, 6, 768])\n",
      "blocks.7.ln2.hook_scale torch.Size([1, 6, 1])\n",
      "blocks.7.ln2.hook_normalized torch.Size([1, 6, 768])\n",
      "blocks.7.mlp.hook_pre torch.Size([1, 6, 3072])\n",
      "blocks.7.mlp.hook_post torch.Size([1, 6, 3072])\n",
      "blocks.7.hook_mlp_out torch.Size([1, 6, 768])\n",
      "blocks.7.hook_resid_post torch.Size([1, 6, 768])\n",
      "blocks.8.hook_resid_pre torch.Size([1, 6, 768])\n",
      "blocks.8.ln1.hook_scale torch.Size([1, 6, 1])\n",
      "blocks.8.ln1.hook_normalized torch.Size([1, 6, 768])\n",
      "blocks.8.attn.hook_q torch.Size([1, 6, 12, 64])\n",
      "blocks.8.attn.hook_k torch.Size([1, 6, 12, 64])\n",
      "blocks.8.attn.hook_v torch.Size([1, 6, 12, 64])\n",
      "blocks.8.attn.hook_attn_scores torch.Size([1, 12, 6, 6])\n",
      "blocks.8.attn.hook_pattern torch.Size([1, 12, 6, 6])\n",
      "blocks.8.attn.hook_z torch.Size([1, 6, 12, 64])\n",
      "blocks.8.hook_attn_out torch.Size([1, 6, 768])\n",
      "blocks.8.hook_resid_mid torch.Size([1, 6, 768])\n",
      "blocks.8.ln2.hook_scale torch.Size([1, 6, 1])\n",
      "blocks.8.ln2.hook_normalized torch.Size([1, 6, 768])\n",
      "blocks.8.mlp.hook_pre torch.Size([1, 6, 3072])\n",
      "blocks.8.mlp.hook_post torch.Size([1, 6, 3072])\n",
      "blocks.8.hook_mlp_out torch.Size([1, 6, 768])\n",
      "blocks.8.hook_resid_post torch.Size([1, 6, 768])\n",
      "blocks.9.hook_resid_pre torch.Size([1, 6, 768])\n",
      "blocks.9.ln1.hook_scale torch.Size([1, 6, 1])\n",
      "blocks.9.ln1.hook_normalized torch.Size([1, 6, 768])\n",
      "blocks.9.attn.hook_q torch.Size([1, 6, 12, 64])\n",
      "blocks.9.attn.hook_k torch.Size([1, 6, 12, 64])\n",
      "blocks.9.attn.hook_v torch.Size([1, 6, 12, 64])\n",
      "blocks.9.attn.hook_attn_scores torch.Size([1, 12, 6, 6])\n",
      "blocks.9.attn.hook_pattern torch.Size([1, 12, 6, 6])\n",
      "blocks.9.attn.hook_z torch.Size([1, 6, 12, 64])\n",
      "blocks.9.hook_attn_out torch.Size([1, 6, 768])\n",
      "blocks.9.hook_resid_mid torch.Size([1, 6, 768])\n",
      "blocks.9.ln2.hook_scale torch.Size([1, 6, 1])\n",
      "blocks.9.ln2.hook_normalized torch.Size([1, 6, 768])\n",
      "blocks.9.mlp.hook_pre torch.Size([1, 6, 3072])\n",
      "blocks.9.mlp.hook_post torch.Size([1, 6, 3072])\n",
      "blocks.9.hook_mlp_out torch.Size([1, 6, 768])\n",
      "blocks.9.hook_resid_post torch.Size([1, 6, 768])\n",
      "blocks.10.hook_resid_pre torch.Size([1, 6, 768])\n",
      "blocks.10.ln1.hook_scale torch.Size([1, 6, 1])\n",
      "blocks.10.ln1.hook_normalized torch.Size([1, 6, 768])\n",
      "blocks.10.attn.hook_q torch.Size([1, 6, 12, 64])\n",
      "blocks.10.attn.hook_k torch.Size([1, 6, 12, 64])\n",
      "blocks.10.attn.hook_v torch.Size([1, 6, 12, 64])\n",
      "blocks.10.attn.hook_attn_scores torch.Size([1, 12, 6, 6])\n",
      "blocks.10.attn.hook_pattern torch.Size([1, 12, 6, 6])\n",
      "blocks.10.attn.hook_z torch.Size([1, 6, 12, 64])\n",
      "blocks.10.hook_attn_out torch.Size([1, 6, 768])\n",
      "blocks.10.hook_resid_mid torch.Size([1, 6, 768])\n",
      "blocks.10.ln2.hook_scale torch.Size([1, 6, 1])\n",
      "blocks.10.ln2.hook_normalized torch.Size([1, 6, 768])\n",
      "blocks.10.mlp.hook_pre torch.Size([1, 6, 3072])\n",
      "blocks.10.mlp.hook_post torch.Size([1, 6, 3072])\n",
      "blocks.10.hook_mlp_out torch.Size([1, 6, 768])\n",
      "blocks.10.hook_resid_post torch.Size([1, 6, 768])\n",
      "blocks.11.hook_resid_pre torch.Size([1, 6, 768])\n",
      "blocks.11.ln1.hook_scale torch.Size([1, 6, 1])\n",
      "blocks.11.ln1.hook_normalized torch.Size([1, 6, 768])\n",
      "blocks.11.attn.hook_q torch.Size([1, 6, 12, 64])\n",
      "blocks.11.attn.hook_k torch.Size([1, 6, 12, 64])\n",
      "blocks.11.attn.hook_v torch.Size([1, 6, 12, 64])\n",
      "blocks.11.attn.hook_attn_scores torch.Size([1, 12, 6, 6])\n",
      "blocks.11.attn.hook_pattern torch.Size([1, 12, 6, 6])\n",
      "blocks.11.attn.hook_z torch.Size([1, 6, 12, 64])\n",
      "blocks.11.hook_attn_out torch.Size([1, 6, 768])\n",
      "blocks.11.hook_resid_mid torch.Size([1, 6, 768])\n",
      "blocks.11.ln2.hook_scale torch.Size([1, 6, 1])\n",
      "blocks.11.ln2.hook_normalized torch.Size([1, 6, 768])\n",
      "blocks.11.mlp.hook_pre torch.Size([1, 6, 3072])\n",
      "blocks.11.mlp.hook_post torch.Size([1, 6, 3072])\n",
      "blocks.11.hook_mlp_out torch.Size([1, 6, 768])\n",
      "blocks.11.hook_resid_post torch.Size([1, 6, 768])\n",
      "ln_final.hook_scale torch.Size([1, 6, 1])\n",
      "ln_final.hook_normalized torch.Size([1, 6, 768])\n"
     ]
    }
   ],
   "source": [
    "logits, cache = model.run_with_cache(\"Famous computer scientist Alan\")\n",
    "for key, value in cache.items():\n",
    "    print(key, value.shape)"
   ]
  },
  {
   "cell_type": "code",
   "execution_count": 14,
   "id": "cd7051bb-1c96-414a-af96-3fb0ab3c812a",
   "metadata": {
    "execution": {
     "iopub.execute_input": "2024-11-30T13:48:01.580773Z",
     "iopub.status.busy": "2024-11-30T13:48:01.580578Z",
     "iopub.status.idle": "2024-11-30T13:48:01.628195Z",
     "shell.execute_reply": "2024-11-30T13:48:01.626580Z",
     "shell.execute_reply.started": "2024-11-30T13:48:01.580758Z"
    }
   },
   "outputs": [],
   "source": [
    "# Run the model and get logits and activations\n",
    "logits, cache = model.run_with_cache(\"Hello World\")"
   ]
  },
  {
   "cell_type": "code",
   "execution_count": 15,
   "id": "21b89389-6e4d-4997-bd8e-58efd8ef2b0f",
   "metadata": {
    "execution": {
     "iopub.execute_input": "2024-11-30T13:48:01.629277Z",
     "iopub.status.busy": "2024-11-30T13:48:01.629063Z",
     "iopub.status.idle": "2024-11-30T13:48:01.635566Z",
     "shell.execute_reply": "2024-11-30T13:48:01.634666Z",
     "shell.execute_reply.started": "2024-11-30T13:48:01.629261Z"
    }
   },
   "outputs": [
    {
     "data": {
      "text/plain": [
       "torch.Size([1, 3, 50257])"
      ]
     },
     "execution_count": 15,
     "metadata": {},
     "output_type": "execute_result"
    }
   ],
   "source": [
    "logits.shape"
   ]
  },
  {
   "cell_type": "code",
   "execution_count": 16,
   "id": "cec533b6-e675-4463-bd68-5e6e4c1a97a1",
   "metadata": {
    "execution": {
     "iopub.execute_input": "2024-11-30T13:48:01.636665Z",
     "iopub.status.busy": "2024-11-30T13:48:01.636460Z",
     "iopub.status.idle": "2024-11-30T13:48:01.644266Z",
     "shell.execute_reply": "2024-11-30T13:48:01.643389Z",
     "shell.execute_reply.started": "2024-11-30T13:48:01.636650Z"
    }
   },
   "outputs": [
    {
     "data": {
      "text/plain": [
       "torch.Size([1, 12, 3, 3])"
      ]
     },
     "execution_count": 16,
     "metadata": {},
     "output_type": "execute_result"
    }
   ],
   "source": [
    "cache[\"blocks.0.attn.hook_pattern\"].shape"
   ]
  },
  {
   "cell_type": "code",
   "execution_count": 17,
   "id": "040e784e-c360-41cf-b59c-eb8f9145f7a6",
   "metadata": {
    "execution": {
     "iopub.execute_input": "2024-11-30T13:48:01.645255Z",
     "iopub.status.busy": "2024-11-30T13:48:01.645056Z",
     "iopub.status.idle": "2024-11-30T13:48:01.727510Z",
     "shell.execute_reply": "2024-11-30T13:48:01.726088Z",
     "shell.execute_reply.started": "2024-11-30T13:48:01.645239Z"
    }
   },
   "outputs": [
    {
     "data": {
      "text/plain": [
       "tensor([-0.0623, -0.2089, -0.0441,  0.7658, -0.0960, -0.4061, -0.0387, -0.1681,\n",
       "        -0.1954,  0.2037, -0.1689, -0.0635,  0.0478,  0.0231, -0.2398,  0.1860,\n",
       "        -0.2425, -0.0643, -0.0097, -0.0837,  0.1259, -0.0514, -0.0949, -0.1342,\n",
       "        -0.1288,  0.1212,  0.0954,  0.2853,  0.0163, -0.1749,  0.1404, -0.0348,\n",
       "        -0.3939,  0.2363, -0.0986,  0.0756,  0.3388,  0.0141, -0.0032, -0.0519,\n",
       "         0.0807, -0.0332,  0.1161,  0.2470, -0.1805, -0.0772, -0.8262,  0.2272,\n",
       "        -0.0716,  0.1921, -0.2517, -0.0693, -0.3242,  0.0707, -0.4548,  0.0135,\n",
       "         0.0316,  0.0898, -0.0733,  0.2011,  0.1891,  0.2649, -0.2121, -0.1774],\n",
       "       device='cuda:0')"
      ]
     },
     "execution_count": 17,
     "metadata": {},
     "output_type": "execute_result"
    }
   ],
   "source": [
    "head_idx = 5\n",
    "pos = 1\n",
    "weighting = cache[\"blocks.0.attn.hook_pattern\"][0, head_idx, pos, :] \n",
    "v = cache[\"blocks.0.attn.hook_v\"][0, :, head_idx, :]\n",
    "z = weighting @ v  # 等同于 cache[\"blocks.0.attn.hook_z\"][0, pos, head_idx, :]\n",
    "z"
   ]
  },
  {
   "cell_type": "code",
   "execution_count": 18,
   "id": "bac7a877-9d07-4cb7-aeea-b2dd5af6ad28",
   "metadata": {
    "execution": {
     "iopub.execute_input": "2024-11-30T13:48:01.728851Z",
     "iopub.status.busy": "2024-11-30T13:48:01.728628Z",
     "iopub.status.idle": "2024-11-30T13:48:01.736714Z",
     "shell.execute_reply": "2024-11-30T13:48:01.735809Z",
     "shell.execute_reply.started": "2024-11-30T13:48:01.728833Z"
    }
   },
   "outputs": [
    {
     "data": {
      "text/plain": [
       "tensor([-0.0623, -0.2089, -0.0441,  0.7658, -0.0960, -0.4061, -0.0387, -0.1681,\n",
       "        -0.1954,  0.2037, -0.1689, -0.0635,  0.0478,  0.0231, -0.2398,  0.1860,\n",
       "        -0.2425, -0.0643, -0.0097, -0.0837,  0.1259, -0.0514, -0.0949, -0.1342,\n",
       "        -0.1288,  0.1212,  0.0954,  0.2853,  0.0163, -0.1749,  0.1404, -0.0348,\n",
       "        -0.3939,  0.2363, -0.0986,  0.0756,  0.3388,  0.0141, -0.0032, -0.0519,\n",
       "         0.0807, -0.0332,  0.1161,  0.2470, -0.1805, -0.0772, -0.8262,  0.2272,\n",
       "        -0.0716,  0.1921, -0.2517, -0.0693, -0.3242,  0.0707, -0.4548,  0.0135,\n",
       "         0.0316,  0.0898, -0.0733,  0.2011,  0.1891,  0.2649, -0.2121, -0.1774],\n",
       "       device='cuda:0')"
      ]
     },
     "execution_count": 18,
     "metadata": {},
     "output_type": "execute_result"
    }
   ],
   "source": [
    "cache[\"blocks.0.attn.hook_z\"][0, pos, head_idx, :]"
   ]
  },
  {
   "cell_type": "markdown",
   "id": "ddc6c39c-61db-447c-84c7-e7b136110396",
   "metadata": {},
   "source": [
    "### induction heads"
   ]
  },
  {
   "cell_type": "code",
   "execution_count": 8,
   "id": "4446977c-bdd4-4252-b6b7-5e2091cd2095",
   "metadata": {
    "execution": {
     "iopub.execute_input": "2024-12-03T15:20:59.885345Z",
     "iopub.status.busy": "2024-12-03T15:20:59.884685Z",
     "iopub.status.idle": "2024-12-03T15:21:00.109822Z",
     "shell.execute_reply": "2024-12-03T15:21:00.107966Z",
     "shell.execute_reply.started": "2024-12-03T15:20:59.885285Z"
    }
   },
   "outputs": [
    {
     "name": "stdout",
     "output_type": "stream",
     "text": [
      "Tokenized prompt: ['<|endoftext|>', 'Her', ' name', ' was', ' Alex', ' Hart', '.', ' Tomorrow', ' at', ' lunch', ' time', ' Alex']\n",
      "Tokenized answer: [' Hart']\n"
     ]
    },
    {
     "data": {
      "text/html": [
       "<pre style=\"white-space:pre;overflow-x:auto;line-height:normal;font-family:Menlo,'DejaVu Sans Mono',consolas,'Courier New',monospace\">Performance on answer token:\n",
       "<span style=\"font-weight: bold\">Rank: </span><span style=\"color: #008080; text-decoration-color: #008080; font-weight: bold\">3</span><span style=\"font-weight: bold\">        Logit: </span><span style=\"color: #008080; text-decoration-color: #008080; font-weight: bold\">14.29</span><span style=\"font-weight: bold\"> Prob:  </span><span style=\"color: #008080; text-decoration-color: #008080; font-weight: bold\">7.35</span><span style=\"font-weight: bold\">% Token: | Hart|</span>\n",
       "</pre>\n"
      ],
      "text/plain": [
       "Performance on answer token:\n",
       "\u001b[1mRank: \u001b[0m\u001b[1;36m3\u001b[0m\u001b[1m        Logit: \u001b[0m\u001b[1;36m14.29\u001b[0m\u001b[1m Prob:  \u001b[0m\u001b[1;36m7.35\u001b[0m\u001b[1m% Token: | Hart|\u001b[0m\n"
      ]
     },
     "metadata": {},
     "output_type": "display_data"
    },
    {
     "name": "stdout",
     "output_type": "stream",
     "text": [
      "Top 0th token. Logit: 15.64 Prob: 28.38% Token: | will|\n",
      "Top 1th token. Logit: 14.47 Prob:  8.79% Token: | would|\n",
      "Top 2th token. Logit: 14.34 Prob:  7.74% Token: | was|\n",
      "Top 3th token. Logit: 14.29 Prob:  7.35% Token: | Hart|\n",
      "Top 4th token. Logit: 14.18 Prob:  6.54% Token: | and|\n",
      "Top 5th token. Logit: 14.09 Prob:  6.00% Token: | is|\n",
      "Top 6th token. Logit: 13.51 Prob:  3.38% Token: |'s|\n",
      "Top 7th token. Logit: 13.23 Prob:  2.53% Token: |,|\n",
      "Top 8th token. Logit: 12.73 Prob:  1.55% Token: | had|\n",
      "Top 9th token. Logit: 12.00 Prob:  0.74% Token: | has|\n"
     ]
    },
    {
     "data": {
      "text/html": [
       "<pre style=\"white-space:pre;overflow-x:auto;line-height:normal;font-family:Menlo,'DejaVu Sans Mono',consolas,'Courier New',monospace\"><span style=\"font-weight: bold\">Ranks of the answer tokens:</span> <span style=\"font-weight: bold\">[(</span><span style=\"color: #008000; text-decoration-color: #008000\">' Hart'</span>, <span style=\"color: #008080; text-decoration-color: #008080; font-weight: bold\">3</span><span style=\"font-weight: bold\">)]</span>\n",
       "</pre>\n"
      ],
      "text/plain": [
       "\u001b[1mRanks of the answer tokens:\u001b[0m \u001b[1m[\u001b[0m\u001b[1m(\u001b[0m\u001b[32m' Hart'\u001b[0m, \u001b[1;36m3\u001b[0m\u001b[1m)\u001b[0m\u001b[1m]\u001b[0m\n"
      ]
     },
     "metadata": {},
     "output_type": "display_data"
    }
   ],
   "source": [
    "utils.test_prompt(\"Her name was Alex Hart. Tomorrow at lunch time Alex\",\n",
    "                  answer=\" Hart\", model=model)"
   ]
  },
  {
   "cell_type": "markdown",
   "id": "9f388904-c491-44b8-a3a3-901d5a9fa0ac",
   "metadata": {},
   "source": [
    "I find it is useful to spend a few minutes thinking about which information is needed to solve the task: The model needs to\n",
    "\n",
    "- Realize the last token, Alex, is a **repetition** of a previous occurrence\n",
    "- The model needs to **copy** the last name from after the previous Alex occurrence to the last token as prediction"
   ]
  },
  {
   "cell_type": "markdown",
   "id": "26fef9ef-8913-4e72-8f36-1ef8ee7b3dda",
   "metadata": {},
   "source": [
    "### hook"
   ]
  },
  {
   "cell_type": "code",
   "execution_count": 20,
   "id": "fef6c8a0-d4b5-47b6-9327-ff03bc4eeb00",
   "metadata": {
    "execution": {
     "iopub.execute_input": "2024-11-30T13:48:01.835828Z",
     "iopub.status.busy": "2024-11-30T13:48:01.835412Z",
     "iopub.status.idle": "2024-11-30T13:48:01.839731Z",
     "shell.execute_reply": "2024-11-30T13:48:01.838817Z",
     "shell.execute_reply.started": "2024-11-30T13:48:01.835809Z"
    }
   },
   "outputs": [],
   "source": [
    "# model.hook_dict.keys()"
   ]
  },
  {
   "cell_type": "code",
   "execution_count": 21,
   "id": "4571a79a-9ab8-4bba-858d-9fdfdc80dc67",
   "metadata": {
    "execution": {
     "iopub.execute_input": "2024-11-30T13:48:01.842915Z",
     "iopub.status.busy": "2024-11-30T13:48:01.842697Z",
     "iopub.status.idle": "2024-11-30T13:48:01.848922Z",
     "shell.execute_reply": "2024-11-30T13:48:01.848050Z",
     "shell.execute_reply.started": "2024-11-30T13:48:01.842899Z"
    }
   },
   "outputs": [],
   "source": [
    "# def attention_pattern_hook(activation, hook):\n",
    "#     hook.ctx[\"pattern\"] = activation.detach().clone()\n",
    "#     print(f\"Attention pattern shape at {hook.name}: {activation.shape}\")\n",
    "#     return activation"
   ]
  },
  {
   "cell_type": "code",
   "execution_count": 22,
   "id": "78864223-1ab6-409b-babe-cae4e275dfce",
   "metadata": {
    "execution": {
     "iopub.execute_input": "2024-11-30T13:48:01.849995Z",
     "iopub.status.busy": "2024-11-30T13:48:01.849804Z",
     "iopub.status.idle": "2024-11-30T13:48:01.857750Z",
     "shell.execute_reply": "2024-11-30T13:48:01.856849Z",
     "shell.execute_reply.started": "2024-11-30T13:48:01.849980Z"
    }
   },
   "outputs": [],
   "source": [
    "# # 假设我们想在模型的某一层添加钩子，比如第一层的注意力输出\n",
    "# hook_name = 'blocks.0.attn.hook_pattern'  # 第一层注意力层的输出钩子\n",
    "\n",
    "# # 在指定的层添加前向钩子\n",
    "# model.add_hook(hook_name, attention_pattern_hook, dir='fwd')"
   ]
  },
  {
   "cell_type": "code",
   "execution_count": 23,
   "id": "70b24aaa-b1ac-4fee-8fa8-ae37123b31e0",
   "metadata": {
    "execution": {
     "iopub.execute_input": "2024-11-30T13:48:01.858680Z",
     "iopub.status.busy": "2024-11-30T13:48:01.858480Z",
     "iopub.status.idle": "2024-11-30T13:48:01.871777Z",
     "shell.execute_reply": "2024-11-30T13:48:01.869875Z",
     "shell.execute_reply.started": "2024-11-30T13:48:01.858665Z"
    }
   },
   "outputs": [],
   "source": [
    "# logits = model(\"Famous computer scientist Alan\")"
   ]
  },
  {
   "cell_type": "code",
   "execution_count": 24,
   "id": "9201e111-1107-4be0-80c7-5ac243873673",
   "metadata": {
    "execution": {
     "iopub.execute_input": "2024-11-30T13:48:01.873161Z",
     "iopub.status.busy": "2024-11-30T13:48:01.872915Z",
     "iopub.status.idle": "2024-11-30T13:48:01.879992Z",
     "shell.execute_reply": "2024-11-30T13:48:01.879000Z",
     "shell.execute_reply.started": "2024-11-30T13:48:01.873141Z"
    }
   },
   "outputs": [],
   "source": [
    "# def extended_attention_hook(activation, hook):\n",
    "#     \"\"\"Extended version with more analysis\"\"\"\n",
    "#     pattern = activation.detach()\n",
    "    \n",
    "#     # Get sequence length\n",
    "#     seq_len = pattern.shape[-1]\n",
    "    \n",
    "#     # Calculate average attention per position\n",
    "#     avg_attention = pattern.mean(dim=(0,1))  # Average across batch and heads\n",
    "    \n",
    "#     # Find which tokens get most attention\n",
    "#     max_attended_pos = avg_attention.argmax(dim=-1)\n",
    "    \n",
    "#     print(f\"\\nAnalysis for {hook.name}:\")\n",
    "#     print(f\"- Shape: {pattern.shape}\")\n",
    "#     print(f\"- Most attended position: {max_attended_pos.tolist()}\")\n",
    "    \n",
    "#     # Store for later use\n",
    "#     hook.ctx[\"pattern\"] = pattern\n",
    "#     hook.ctx[\"avg_attention\"] = avg_attention\n",
    "    \n",
    "#     return activation"
   ]
  },
  {
   "cell_type": "code",
   "execution_count": 25,
   "id": "701162e7-b468-4e85-83d2-3b023fc17c53",
   "metadata": {
    "execution": {
     "iopub.execute_input": "2024-11-30T13:48:01.881471Z",
     "iopub.status.busy": "2024-11-30T13:48:01.881206Z",
     "iopub.status.idle": "2024-11-30T13:48:01.888872Z",
     "shell.execute_reply": "2024-11-30T13:48:01.887841Z",
     "shell.execute_reply.started": "2024-11-30T13:48:01.881449Z"
    }
   },
   "outputs": [],
   "source": [
    "# # Hook specific layers\n",
    "# model.blocks[0].attn.hook_pattern.add_hook(extended_attention_hook)  # First layer\n",
    "# model.blocks[-1].attn.hook_pattern.add_hook(extended_attention_hook) # Last layer\n",
    "\n",
    "# # Hook multiple components\n",
    "# hooks = []\n",
    "# for layer in range(model.cfg.n_layers):\n",
    "#     hooks.append(\n",
    "#         model.blocks[layer].attn.hook_pattern.add_hook(\n",
    "#             extended_attention_hook,\n",
    "#             # name=f\"attn_pattern_layer_{layer}\"\n",
    "#         )\n",
    "#     )"
   ]
  },
  {
   "cell_type": "code",
   "execution_count": 26,
   "id": "e196a2ee-02cb-4ef1-aa38-7c9f66f16349",
   "metadata": {
    "execution": {
     "iopub.execute_input": "2024-11-30T13:48:01.890486Z",
     "iopub.status.busy": "2024-11-30T13:48:01.890027Z",
     "iopub.status.idle": "2024-11-30T13:48:01.897539Z",
     "shell.execute_reply": "2024-11-30T13:48:01.896525Z",
     "shell.execute_reply.started": "2024-11-30T13:48:01.890461Z"
    }
   },
   "outputs": [],
   "source": [
    "# logits = model(\"Famous computer scientist Alan\")"
   ]
  },
  {
   "cell_type": "markdown",
   "id": "2b9ceb87-9774-42ba-af33-0cf82f11e24c",
   "metadata": {},
   "source": [
    "### Method 1: Residual stream patching"
   ]
  },
  {
   "cell_type": "markdown",
   "id": "c08b668f-24e9-440b-aa5f-2fdd62637298",
   "metadata": {},
   "source": [
    "In transformers, the model keeps track of all information in the **residual stream**. \n",
    "- Attention heads & MLPs read from the residual stream, perform some computation or information moving,\n",
    "- and write their outputs back into the residual stream. "
   ]
  },
  {
   "cell_type": "markdown",
   "id": "2c9e6c4f-20e9-4c8a-822c-3069db94ee0b",
   "metadata": {},
   "source": [
    "last name `Hart`, 1st and 2nd occurrence of first name (Alex)\n",
    "\n",
    "- `[Baseline] Her name was Alex Hart. When Alex`\n",
    "- Her name was Alex **Carroll**. When Alex\n",
    "- Her name was **Sarah** Hart. When Alex\n",
    "- Her name was Alex Hart. When **Sarah**"
   ]
  },
  {
   "cell_type": "code",
   "execution_count": 9,
   "id": "682d1324-8d52-4f71-a90b-b5ebe9c54e92",
   "metadata": {
    "execution": {
     "iopub.execute_input": "2024-12-03T15:36:25.977514Z",
     "iopub.status.busy": "2024-12-03T15:36:25.977080Z",
     "iopub.status.idle": "2024-12-03T15:36:26.074810Z",
     "shell.execute_reply": "2024-12-03T15:36:26.072843Z",
     "shell.execute_reply.started": "2024-12-03T15:36:25.977481Z"
    }
   },
   "outputs": [
    {
     "name": "stdout",
     "output_type": "stream",
     "text": [
      "Tokenized prompt: ['<|endoftext|>', 'Her', ' name', ' was', ' Alex', ' Hart', '.', ' When', ' Alex']\n",
      "Tokenized answer: [' Hart']\n"
     ]
    },
    {
     "data": {
      "text/html": [
       "<pre style=\"white-space:pre;overflow-x:auto;line-height:normal;font-family:Menlo,'DejaVu Sans Mono',consolas,'Courier New',monospace\">Performance on answer token:\n",
       "<span style=\"font-weight: bold\">Rank: </span><span style=\"color: #008080; text-decoration-color: #008080; font-weight: bold\">1</span><span style=\"font-weight: bold\">        Logit: </span><span style=\"color: #008080; text-decoration-color: #008080; font-weight: bold\">15.53</span><span style=\"font-weight: bold\"> Prob: </span><span style=\"color: #008080; text-decoration-color: #008080; font-weight: bold\">13.43</span><span style=\"font-weight: bold\">% Token: | Hart|</span>\n",
       "</pre>\n"
      ],
      "text/plain": [
       "Performance on answer token:\n",
       "\u001b[1mRank: \u001b[0m\u001b[1;36m1\u001b[0m\u001b[1m        Logit: \u001b[0m\u001b[1;36m15.53\u001b[0m\u001b[1m Prob: \u001b[0m\u001b[1;36m13.43\u001b[0m\u001b[1m% Token: | Hart|\u001b[0m\n"
      ]
     },
     "metadata": {},
     "output_type": "display_data"
    },
    {
     "name": "stdout",
     "output_type": "stream",
     "text": [
      "Top 0th token. Logit: 16.23 Prob: 27.03% Token: | was|\n",
      "Top 1th token. Logit: 15.53 Prob: 13.43% Token: | Hart|\n",
      "Top 2th token. Logit: 14.35 Prob:  4.12% Token: | died|\n",
      "Top 3th token. Logit: 14.05 Prob:  3.03% Token: | came|\n",
      "Top 4th token. Logit: 14.02 Prob:  2.96% Token: |'s|\n",
      "Top 5th token. Logit: 13.96 Prob:  2.78% Token: | and|\n",
      "Top 6th token. Logit: 13.75 Prob:  2.26% Token: | arrived|\n",
      "Top 7th token. Logit: 13.74 Prob:  2.23% Token: | went|\n",
      "Top 8th token. Logit: 13.72 Prob:  2.19% Token: | started|\n",
      "Top 9th token. Logit: 13.48 Prob:  1.73% Token: | left|\n"
     ]
    },
    {
     "data": {
      "text/html": [
       "<pre style=\"white-space:pre;overflow-x:auto;line-height:normal;font-family:Menlo,'DejaVu Sans Mono',consolas,'Courier New',monospace\"><span style=\"font-weight: bold\">Ranks of the answer tokens:</span> <span style=\"font-weight: bold\">[(</span><span style=\"color: #008000; text-decoration-color: #008000\">' Hart'</span>, <span style=\"color: #008080; text-decoration-color: #008080; font-weight: bold\">1</span><span style=\"font-weight: bold\">)]</span>\n",
       "</pre>\n"
      ],
      "text/plain": [
       "\u001b[1mRanks of the answer tokens:\u001b[0m \u001b[1m[\u001b[0m\u001b[1m(\u001b[0m\u001b[32m' Hart'\u001b[0m, \u001b[1;36m1\u001b[0m\u001b[1m)\u001b[0m\u001b[1m]\u001b[0m\n"
      ]
     },
     "metadata": {},
     "output_type": "display_data"
    }
   ],
   "source": [
    "utils.test_prompt(\"Her name was Alex Hart. When Alex\",\n",
    "                  answer=\" Hart\", model=model)"
   ]
  },
  {
   "cell_type": "code",
   "execution_count": 10,
   "id": "936770f5-16f3-4ec2-8a20-ee4db3aa0b7c",
   "metadata": {
    "execution": {
     "iopub.execute_input": "2024-12-03T15:36:38.450758Z",
     "iopub.status.busy": "2024-12-03T15:36:38.450102Z",
     "iopub.status.idle": "2024-12-03T15:36:38.539366Z",
     "shell.execute_reply": "2024-12-03T15:36:38.537145Z",
     "shell.execute_reply.started": "2024-12-03T15:36:38.450710Z"
    }
   },
   "outputs": [
    {
     "name": "stdout",
     "output_type": "stream",
     "text": [
      "Tokenized prompt: ['<|endoftext|>', 'Her', ' name', ' was', ' Alex', ' Carroll', '.', ' When', ' Alex']\n",
      "Tokenized answer: [' Hart']\n"
     ]
    },
    {
     "data": {
      "text/html": [
       "<pre style=\"white-space:pre;overflow-x:auto;line-height:normal;font-family:Menlo,'DejaVu Sans Mono',consolas,'Courier New',monospace\">Performance on answer token:\n",
       "<span style=\"font-weight: bold\">Rank: </span><span style=\"color: #008080; text-decoration-color: #008080; font-weight: bold\">1479</span><span style=\"font-weight: bold\">     Logit:  </span><span style=\"color: #008080; text-decoration-color: #008080; font-weight: bold\">6.13</span><span style=\"font-weight: bold\"> Prob:  </span><span style=\"color: #008080; text-decoration-color: #008080; font-weight: bold\">0.00</span><span style=\"font-weight: bold\">% Token: | Hart|</span>\n",
       "</pre>\n"
      ],
      "text/plain": [
       "Performance on answer token:\n",
       "\u001b[1mRank: \u001b[0m\u001b[1;36m1479\u001b[0m\u001b[1m     Logit:  \u001b[0m\u001b[1;36m6.13\u001b[0m\u001b[1m Prob:  \u001b[0m\u001b[1;36m0.00\u001b[0m\u001b[1m% Token: | Hart|\u001b[0m\n"
      ]
     },
     "metadata": {},
     "output_type": "display_data"
    },
    {
     "name": "stdout",
     "output_type": "stream",
     "text": [
      "Top 0th token. Logit: 16.07 Prob: 28.98% Token: | was|\n",
      "Top 1th token. Logit: 15.18 Prob: 11.87% Token: | Carroll|\n",
      "Top 2th token. Logit: 13.97 Prob:  3.52% Token: | arrived|\n",
      "Top 3th token. Logit: 13.89 Prob:  3.25% Token: | came|\n",
      "Top 4th token. Logit: 13.78 Prob:  2.92% Token: |'s|\n",
      "Top 5th token. Logit: 13.55 Prob:  2.32% Token: | died|\n",
      "Top 6th token. Logit: 13.48 Prob:  2.17% Token: | started|\n",
      "Top 7th token. Logit: 13.46 Prob:  2.11% Token: | and|\n",
      "Top 8th token. Logit: 13.38 Prob:  1.96% Token: | moved|\n",
      "Top 9th token. Logit: 13.24 Prob:  1.71% Token: | went|\n"
     ]
    },
    {
     "data": {
      "text/html": [
       "<pre style=\"white-space:pre;overflow-x:auto;line-height:normal;font-family:Menlo,'DejaVu Sans Mono',consolas,'Courier New',monospace\"><span style=\"font-weight: bold\">Ranks of the answer tokens:</span> <span style=\"font-weight: bold\">[(</span><span style=\"color: #008000; text-decoration-color: #008000\">' Hart'</span>, <span style=\"color: #008080; text-decoration-color: #008080; font-weight: bold\">1479</span><span style=\"font-weight: bold\">)]</span>\n",
       "</pre>\n"
      ],
      "text/plain": [
       "\u001b[1mRanks of the answer tokens:\u001b[0m \u001b[1m[\u001b[0m\u001b[1m(\u001b[0m\u001b[32m' Hart'\u001b[0m, \u001b[1;36m1479\u001b[0m\u001b[1m)\u001b[0m\u001b[1m]\u001b[0m\n"
      ]
     },
     "metadata": {},
     "output_type": "display_data"
    }
   ],
   "source": [
    "utils.test_prompt(\"Her name was Alex Carroll. When Alex\",\n",
    "                  answer=\" Hart\", model=model)"
   ]
  },
  {
   "cell_type": "code",
   "execution_count": 11,
   "id": "31ada1b6-9e50-45af-aae9-2dffb3bc96bc",
   "metadata": {
    "execution": {
     "iopub.execute_input": "2024-12-03T15:37:03.253934Z",
     "iopub.status.busy": "2024-12-03T15:37:03.253256Z",
     "iopub.status.idle": "2024-12-03T15:37:03.354048Z",
     "shell.execute_reply": "2024-12-03T15:37:03.352513Z",
     "shell.execute_reply.started": "2024-12-03T15:37:03.253886Z"
    }
   },
   "outputs": [],
   "source": [
    "_, corrupt_cache = model.run_with_cache(\"Her name was Alex Carroll. Tomorrow at lunch time Alex\")"
   ]
  },
  {
   "cell_type": "code",
   "execution_count": 43,
   "id": "637c9b96-5071-4c29-919d-a7861cdb5945",
   "metadata": {
    "execution": {
     "iopub.execute_input": "2024-12-03T16:03:51.729365Z",
     "iopub.status.busy": "2024-12-03T16:03:51.728704Z",
     "iopub.status.idle": "2024-12-03T16:03:51.740941Z",
     "shell.execute_reply": "2024-12-03T16:03:51.738811Z",
     "shell.execute_reply.started": "2024-12-03T16:03:51.729317Z"
    }
   },
   "outputs": [],
   "source": [
    "def patch_residual_stream(activations, hook, layer=\"blocks.6.hook_resid_post\", pos=5):\n",
    "   # The residual stream dimensions are [batch, position, d_embed]\n",
    "   activations[:, pos, :] = corrupt_cache[layer][:, pos, :]\n",
    "   return activations"
   ]
  },
  {
   "cell_type": "code",
   "execution_count": 44,
   "id": "f72577e4-bd8b-4d79-8604-822e2d212fcd",
   "metadata": {
    "execution": {
     "iopub.execute_input": "2024-12-03T16:03:52.904320Z",
     "iopub.status.busy": "2024-12-03T16:03:52.903698Z",
     "iopub.status.idle": "2024-12-03T16:03:52.913643Z",
     "shell.execute_reply": "2024-12-03T16:03:52.911461Z",
     "shell.execute_reply.started": "2024-12-03T16:03:52.904261Z"
    }
   },
   "outputs": [],
   "source": [
    "model.add_hook(\"blocks.6.hook_resid_post\", patch_residual_stream)"
   ]
  },
  {
   "cell_type": "code",
   "execution_count": 45,
   "id": "52ac4c83-7632-4994-a06e-b7c86a177762",
   "metadata": {
    "execution": {
     "iopub.execute_input": "2024-12-03T16:03:54.289944Z",
     "iopub.status.busy": "2024-12-03T16:03:54.289330Z",
     "iopub.status.idle": "2024-12-03T16:03:54.393967Z",
     "shell.execute_reply": "2024-12-03T16:03:54.391959Z",
     "shell.execute_reply.started": "2024-12-03T16:03:54.289898Z"
    }
   },
   "outputs": [
    {
     "name": "stdout",
     "output_type": "stream",
     "text": [
      "Tokenized prompt: ['<|endoftext|>', 'Her', ' name', ' was', ' Alex', ' Hart', '.', ' Tomorrow', ' at', ' lunch', ' time', ' Alex']\n",
      "Tokenized answer: [' Hart']\n"
     ]
    },
    {
     "data": {
      "text/html": [
       "<pre style=\"white-space:pre;overflow-x:auto;line-height:normal;font-family:Menlo,'DejaVu Sans Mono',consolas,'Courier New',monospace\">Performance on answer token:\n",
       "<span style=\"font-weight: bold\">Rank: </span><span style=\"color: #008080; text-decoration-color: #008080; font-weight: bold\">1920</span><span style=\"font-weight: bold\">     Logit:  </span><span style=\"color: #008080; text-decoration-color: #008080; font-weight: bold\">5.48</span><span style=\"font-weight: bold\"> Prob:  </span><span style=\"color: #008080; text-decoration-color: #008080; font-weight: bold\">0.00</span><span style=\"font-weight: bold\">% Token: | Hart|</span>\n",
       "</pre>\n"
      ],
      "text/plain": [
       "Performance on answer token:\n",
       "\u001b[1mRank: \u001b[0m\u001b[1;36m1920\u001b[0m\u001b[1m     Logit:  \u001b[0m\u001b[1;36m5.48\u001b[0m\u001b[1m Prob:  \u001b[0m\u001b[1;36m0.00\u001b[0m\u001b[1m% Token: | Hart|\u001b[0m\n"
      ]
     },
     "metadata": {},
     "output_type": "display_data"
    },
    {
     "name": "stdout",
     "output_type": "stream",
     "text": [
      "Top 0th token. Logit: 15.67 Prob: 30.92% Token: | will|\n",
      "Top 1th token. Logit: 14.41 Prob:  8.78% Token: | was|\n",
      "Top 2th token. Logit: 14.07 Prob:  6.26% Token: | is|\n",
      "Top 3th token. Logit: 14.03 Prob:  6.01% Token: | Carroll|\n",
      "Top 4th token. Logit: 14.02 Prob:  5.96% Token: | would|\n",
      "Top 5th token. Logit: 14.02 Prob:  5.95% Token: | and|\n",
      "Top 6th token. Logit: 13.45 Prob:  3.36% Token: |'s|\n",
      "Top 7th token. Logit: 13.07 Prob:  2.30% Token: |,|\n",
      "Top 8th token. Logit: 12.60 Prob:  1.45% Token: | had|\n",
      "Top 9th token. Logit: 11.96 Prob:  0.76% Token: | has|\n"
     ]
    },
    {
     "data": {
      "text/html": [
       "<pre style=\"white-space:pre;overflow-x:auto;line-height:normal;font-family:Menlo,'DejaVu Sans Mono',consolas,'Courier New',monospace\"><span style=\"font-weight: bold\">Ranks of the answer tokens:</span> <span style=\"font-weight: bold\">[(</span><span style=\"color: #008000; text-decoration-color: #008000\">' Hart'</span>, <span style=\"color: #008080; text-decoration-color: #008080; font-weight: bold\">1920</span><span style=\"font-weight: bold\">)]</span>\n",
       "</pre>\n"
      ],
      "text/plain": [
       "\u001b[1mRanks of the answer tokens:\u001b[0m \u001b[1m[\u001b[0m\u001b[1m(\u001b[0m\u001b[32m' Hart'\u001b[0m, \u001b[1;36m1920\u001b[0m\u001b[1m)\u001b[0m\u001b[1m]\u001b[0m\n"
      ]
     },
     "metadata": {},
     "output_type": "display_data"
    }
   ],
   "source": [
    "utils.test_prompt(\"Her name was Alex Hart. Tomorrow at lunch time Alex\", \" Hart\", model)"
   ]
  },
  {
   "cell_type": "code",
   "execution_count": 46,
   "id": "d5d099e8-b6ac-4634-8834-0e16035ee1ff",
   "metadata": {
    "execution": {
     "iopub.execute_input": "2024-12-03T16:04:15.183663Z",
     "iopub.status.busy": "2024-12-03T16:04:15.183058Z",
     "iopub.status.idle": "2024-12-03T16:04:15.285573Z",
     "shell.execute_reply": "2024-12-03T16:04:15.283371Z",
     "shell.execute_reply.started": "2024-12-03T16:04:15.183619Z"
    }
   },
   "outputs": [
    {
     "name": "stdout",
     "output_type": "stream",
     "text": [
      "Tokenized prompt: ['<|endoftext|>', 'Her', ' name', ' was', ' Alex', ' Hart', '.', ' Tomorrow', ' at', ' lunch', ' time', ' Alex']\n",
      "Tokenized answer: [' Hart']\n"
     ]
    },
    {
     "data": {
      "text/html": [
       "<pre style=\"white-space:pre;overflow-x:auto;line-height:normal;font-family:Menlo,'DejaVu Sans Mono',consolas,'Courier New',monospace\">Performance on answer token:\n",
       "<span style=\"font-weight: bold\">Rank: </span><span style=\"color: #008080; text-decoration-color: #008080; font-weight: bold\">1920</span><span style=\"font-weight: bold\">     Logit:  </span><span style=\"color: #008080; text-decoration-color: #008080; font-weight: bold\">5.48</span><span style=\"font-weight: bold\"> Prob:  </span><span style=\"color: #008080; text-decoration-color: #008080; font-weight: bold\">0.00</span><span style=\"font-weight: bold\">% Token: | Hart|</span>\n",
       "</pre>\n"
      ],
      "text/plain": [
       "Performance on answer token:\n",
       "\u001b[1mRank: \u001b[0m\u001b[1;36m1920\u001b[0m\u001b[1m     Logit:  \u001b[0m\u001b[1;36m5.48\u001b[0m\u001b[1m Prob:  \u001b[0m\u001b[1;36m0.00\u001b[0m\u001b[1m% Token: | Hart|\u001b[0m\n"
      ]
     },
     "metadata": {},
     "output_type": "display_data"
    },
    {
     "name": "stdout",
     "output_type": "stream",
     "text": [
      "Top 0th token. Logit: 15.67 Prob: 30.92% Token: | will|\n",
      "Top 1th token. Logit: 14.41 Prob:  8.78% Token: | was|\n",
      "Top 2th token. Logit: 14.07 Prob:  6.26% Token: | is|\n",
      "Top 3th token. Logit: 14.03 Prob:  6.01% Token: | Carroll|\n",
      "Top 4th token. Logit: 14.02 Prob:  5.96% Token: | would|\n",
      "Top 5th token. Logit: 14.02 Prob:  5.95% Token: | and|\n",
      "Top 6th token. Logit: 13.45 Prob:  3.36% Token: |'s|\n",
      "Top 7th token. Logit: 13.07 Prob:  2.30% Token: |,|\n",
      "Top 8th token. Logit: 12.60 Prob:  1.45% Token: | had|\n",
      "Top 9th token. Logit: 11.96 Prob:  0.76% Token: | has|\n"
     ]
    },
    {
     "data": {
      "text/html": [
       "<pre style=\"white-space:pre;overflow-x:auto;line-height:normal;font-family:Menlo,'DejaVu Sans Mono',consolas,'Courier New',monospace\"><span style=\"font-weight: bold\">Ranks of the answer tokens:</span> <span style=\"font-weight: bold\">[(</span><span style=\"color: #008000; text-decoration-color: #008000\">' Hart'</span>, <span style=\"color: #008080; text-decoration-color: #008080; font-weight: bold\">1920</span><span style=\"font-weight: bold\">)]</span>\n",
       "</pre>\n"
      ],
      "text/plain": [
       "\u001b[1mRanks of the answer tokens:\u001b[0m \u001b[1m[\u001b[0m\u001b[1m(\u001b[0m\u001b[32m' Hart'\u001b[0m, \u001b[1;36m1920\u001b[0m\u001b[1m)\u001b[0m\u001b[1m]\u001b[0m\n"
      ]
     },
     "metadata": {},
     "output_type": "display_data"
    }
   ],
   "source": [
    "model.add_hook(\"blocks.11.hook_resid_post\", patch_residual_stream)\n",
    "utils.test_prompt(\"Her name was Alex Hart. Tomorrow at lunch time Alex\", \" Hart\", model)"
   ]
  },
  {
   "cell_type": "markdown",
   "id": "8aea89d7-2a72-471c-b792-3d7472370959",
   "metadata": {},
   "source": [
    "- So the residual stream at position 5 in layer 6 indeed contained crucial last name information!"
   ]
  },
  {
   "cell_type": "code",
   "execution_count": 15,
   "id": "ea766bec-6c33-4033-8602-1563a5fa6c86",
   "metadata": {
    "execution": {
     "iopub.execute_input": "2024-12-03T15:39:39.937237Z",
     "iopub.status.busy": "2024-12-03T15:39:39.936642Z",
     "iopub.status.idle": "2024-12-03T15:39:39.953873Z",
     "shell.execute_reply": "2024-12-03T15:39:39.951752Z",
     "shell.execute_reply.started": "2024-12-03T15:39:39.937195Z"
    }
   },
   "outputs": [],
   "source": [
    "model.reset_hooks()"
   ]
  },
  {
   "cell_type": "markdown",
   "id": "38ae564c-9e14-4948-9535-79daa7ec157b",
   "metadata": {},
   "source": [
    "#### logit diff "
   ]
  },
  {
   "cell_type": "markdown",
   "id": "10e69b73-1519-4941-9d9f-330eb9a979da",
   "metadata": {},
   "source": [
    "- We directly use the logit difference (\"logit diff\" for short) [7] between the different answers to measure change rather than manually looking at utils.test_prompt\n",
    "    - logit difference between Hart and Carroll "
   ]
  },
  {
   "cell_type": "code",
   "execution_count": 18,
   "id": "7c73850e-e738-4df8-81d1-1a5f4ff303a6",
   "metadata": {
    "execution": {
     "iopub.execute_input": "2024-12-03T15:43:03.373435Z",
     "iopub.status.busy": "2024-12-03T15:43:03.372775Z",
     "iopub.status.idle": "2024-12-03T15:43:03.394622Z",
     "shell.execute_reply": "2024-12-03T15:43:03.392165Z",
     "shell.execute_reply.started": "2024-12-03T15:43:03.373386Z"
    }
   },
   "outputs": [],
   "source": [
    "# Clean and corrupt prompts in variables\n",
    "clean_prompt = \"Her name was Alex Hart. Tomorrow at lunch time Alex\"\n",
    "corrupt_prompt = \"Her name was Alex Carroll. Tomorrow at lunch time Alex\"\n",
    "\n",
    "# Get the list of tokens the model will deal with\n",
    "clean_tokens = model.to_str_tokens(clean_prompt)"
   ]
  },
  {
   "cell_type": "code",
   "execution_count": 19,
   "id": "151a3fff-8ff8-44a3-82d9-c168fe75baf4",
   "metadata": {
    "execution": {
     "iopub.execute_input": "2024-12-03T15:43:09.018915Z",
     "iopub.status.busy": "2024-12-03T15:43:09.018273Z",
     "iopub.status.idle": "2024-12-03T15:43:09.030756Z",
     "shell.execute_reply": "2024-12-03T15:43:09.028593Z",
     "shell.execute_reply.started": "2024-12-03T15:43:09.018868Z"
    }
   },
   "outputs": [
    {
     "data": {
      "text/plain": [
       "['<|endoftext|>',\n",
       " 'Her',\n",
       " ' name',\n",
       " ' was',\n",
       " ' Alex',\n",
       " ' Hart',\n",
       " '.',\n",
       " ' Tomorrow',\n",
       " ' at',\n",
       " ' lunch',\n",
       " ' time',\n",
       " ' Alex']"
      ]
     },
     "execution_count": 19,
     "metadata": {},
     "output_type": "execute_result"
    }
   ],
   "source": [
    "clean_tokens"
   ]
  },
  {
   "cell_type": "code",
   "execution_count": 20,
   "id": "3a0073b8-3588-45b2-8842-85293443c432",
   "metadata": {
    "execution": {
     "iopub.execute_input": "2024-12-03T15:43:30.577599Z",
     "iopub.status.busy": "2024-12-03T15:43:30.576937Z",
     "iopub.status.idle": "2024-12-03T15:43:30.678721Z",
     "shell.execute_reply": "2024-12-03T15:43:30.676817Z",
     "shell.execute_reply.started": "2024-12-03T15:43:30.577549Z"
    }
   },
   "outputs": [],
   "source": [
    "_, corrupt_cache = model.run_with_cache(corrupt_prompt)"
   ]
  },
  {
   "cell_type": "code",
   "execution_count": 21,
   "id": "60e95e0a-9f74-42d7-a497-c4d159c5cf1b",
   "metadata": {
    "execution": {
     "iopub.execute_input": "2024-12-03T15:44:06.050637Z",
     "iopub.status.busy": "2024-12-03T15:44:06.050142Z",
     "iopub.status.idle": "2024-12-03T15:44:06.063584Z",
     "shell.execute_reply": "2024-12-03T15:44:06.061579Z",
     "shell.execute_reply.started": "2024-12-03T15:44:06.050602Z"
    }
   },
   "outputs": [
    {
     "data": {
      "text/plain": [
       "['blocks.0.hook_resid_pre',\n",
       " 'blocks.0.hook_resid_post',\n",
       " 'blocks.1.hook_resid_post',\n",
       " 'blocks.2.hook_resid_post',\n",
       " 'blocks.3.hook_resid_post',\n",
       " 'blocks.4.hook_resid_post',\n",
       " 'blocks.5.hook_resid_post',\n",
       " 'blocks.6.hook_resid_post',\n",
       " 'blocks.7.hook_resid_post',\n",
       " 'blocks.8.hook_resid_post',\n",
       " 'blocks.9.hook_resid_post',\n",
       " 'blocks.10.hook_resid_post',\n",
       " 'blocks.11.hook_resid_post']"
      ]
     },
     "execution_count": 21,
     "metadata": {},
     "output_type": "execute_result"
    }
   ],
   "source": [
    "layers = [\"blocks.0.hook_resid_pre\", *[f\"blocks.{i}.hook_resid_post\" for i in range(model.cfg.n_layers)]]\n",
    "layers"
   ]
  },
  {
   "cell_type": "code",
   "execution_count": 22,
   "id": "88b66e8d-c4f0-40ac-8d60-9b98c5d589aa",
   "metadata": {
    "execution": {
     "iopub.execute_input": "2024-12-03T15:44:23.061335Z",
     "iopub.status.busy": "2024-12-03T15:44:23.060676Z",
     "iopub.status.idle": "2024-12-03T15:44:23.070436Z",
     "shell.execute_reply": "2024-12-03T15:44:23.068141Z",
     "shell.execute_reply.started": "2024-12-03T15:44:23.061275Z"
    }
   },
   "outputs": [],
   "source": [
    "n_layers = len(layers)\n",
    "n_pos = len(clean_tokens)"
   ]
  },
  {
   "cell_type": "code",
   "execution_count": 24,
   "id": "16f7a740-f4cf-4ee7-bdf0-ab3056163a47",
   "metadata": {
    "execution": {
     "iopub.execute_input": "2024-12-03T15:44:41.709311Z",
     "iopub.status.busy": "2024-12-03T15:44:41.708674Z",
     "iopub.status.idle": "2024-12-03T15:44:41.723090Z",
     "shell.execute_reply": "2024-12-03T15:44:41.720944Z",
     "shell.execute_reply.started": "2024-12-03T15:44:41.709249Z"
    }
   },
   "outputs": [
    {
     "data": {
      "text/plain": [
       "([11345], [21298])"
      ]
     },
     "execution_count": 24,
     "metadata": {},
     "output_type": "execute_result"
    }
   ],
   "source": [
    "model.tokenizer.encode(\" Hart\"), model.tokenizer.encode(\" Carroll\")"
   ]
  },
  {
   "cell_type": "code",
   "execution_count": 25,
   "id": "ccaa9913-8248-4f92-9519-0b69b4758634",
   "metadata": {
    "execution": {
     "iopub.execute_input": "2024-12-03T15:44:50.678613Z",
     "iopub.status.busy": "2024-12-03T15:44:50.677961Z",
     "iopub.status.idle": "2024-12-03T15:44:50.689233Z",
     "shell.execute_reply": "2024-12-03T15:44:50.686977Z",
     "shell.execute_reply.started": "2024-12-03T15:44:50.678565Z"
    }
   },
   "outputs": [],
   "source": [
    "clean_answer_index = model.tokenizer.encode(\" Hart\")[0]\n",
    "corrupt_answer_index = model.tokenizer.encode(\" Carroll\")[0]"
   ]
  },
  {
   "cell_type": "code",
   "execution_count": 27,
   "id": "ec3ea549-b604-4885-8c26-6b7c5ed6fcc6",
   "metadata": {
    "execution": {
     "iopub.execute_input": "2024-12-03T15:45:17.981901Z",
     "iopub.status.busy": "2024-12-03T15:45:17.981268Z",
     "iopub.status.idle": "2024-12-03T15:45:17.999780Z",
     "shell.execute_reply": "2024-12-03T15:45:17.997494Z",
     "shell.execute_reply.started": "2024-12-03T15:45:17.981855Z"
    }
   },
   "outputs": [
    {
     "data": {
      "text/plain": [
       "\u001b[0;31mSignature:\u001b[0m\n",
       "\u001b[0mpatch_residual_stream\u001b[0m\u001b[0;34m(\u001b[0m\u001b[0;34m\u001b[0m\n",
       "\u001b[0;34m\u001b[0m    \u001b[0mactivations\u001b[0m\u001b[0;34m,\u001b[0m\u001b[0;34m\u001b[0m\n",
       "\u001b[0;34m\u001b[0m    \u001b[0mhook\u001b[0m\u001b[0;34m,\u001b[0m\u001b[0;34m\u001b[0m\n",
       "\u001b[0;34m\u001b[0m    \u001b[0mlayer\u001b[0m\u001b[0;34m=\u001b[0m\u001b[0;34m'blocks.6.hook_resid_post'\u001b[0m\u001b[0;34m,\u001b[0m\u001b[0;34m\u001b[0m\n",
       "\u001b[0;34m\u001b[0m    \u001b[0mpos\u001b[0m\u001b[0;34m=\u001b[0m\u001b[0;36m5\u001b[0m\u001b[0;34m,\u001b[0m\u001b[0;34m\u001b[0m\n",
       "\u001b[0;34m\u001b[0m\u001b[0;34m)\u001b[0m\u001b[0;34m\u001b[0m\u001b[0;34m\u001b[0m\u001b[0m\n",
       "\u001b[0;31mDocstring:\u001b[0m <no docstring>\n",
       "\u001b[0;31mSource:\u001b[0m   \n",
       "\u001b[0;32mdef\u001b[0m \u001b[0mpatch_residual_stream\u001b[0m\u001b[0;34m(\u001b[0m\u001b[0mactivations\u001b[0m\u001b[0;34m,\u001b[0m \u001b[0mhook\u001b[0m\u001b[0;34m,\u001b[0m \u001b[0mlayer\u001b[0m\u001b[0;34m=\u001b[0m\u001b[0;34m\"blocks.6.hook_resid_post\"\u001b[0m\u001b[0;34m,\u001b[0m \u001b[0mpos\u001b[0m\u001b[0;34m=\u001b[0m\u001b[0;36m5\u001b[0m\u001b[0;34m)\u001b[0m\u001b[0;34m:\u001b[0m\u001b[0;34m\u001b[0m\n",
       "\u001b[0;34m\u001b[0m   \u001b[0;31m# The residual stream dimensions are [batch, position, d_embed]\u001b[0m\u001b[0;34m\u001b[0m\n",
       "\u001b[0;34m\u001b[0m   \u001b[0mactivations\u001b[0m\u001b[0;34m[\u001b[0m\u001b[0;34m:\u001b[0m\u001b[0;34m,\u001b[0m \u001b[0mpos\u001b[0m\u001b[0;34m,\u001b[0m \u001b[0;34m:\u001b[0m\u001b[0;34m]\u001b[0m \u001b[0;34m=\u001b[0m \u001b[0mcorrupt_cache\u001b[0m\u001b[0;34m[\u001b[0m\u001b[0mlayer\u001b[0m\u001b[0;34m]\u001b[0m\u001b[0;34m[\u001b[0m\u001b[0;34m:\u001b[0m\u001b[0;34m,\u001b[0m \u001b[0mpos\u001b[0m\u001b[0;34m,\u001b[0m \u001b[0;34m:\u001b[0m\u001b[0;34m]\u001b[0m\u001b[0;34m\u001b[0m\n",
       "\u001b[0;34m\u001b[0m   \u001b[0;32mreturn\u001b[0m \u001b[0mactivations\u001b[0m\u001b[0;34m\u001b[0m\u001b[0;34m\u001b[0m\u001b[0m\n",
       "\u001b[0;31mFile:\u001b[0m      /tmp/ipykernel_11862/1883758840.py\n",
       "\u001b[0;31mType:\u001b[0m      function"
      ]
     },
     "metadata": {},
     "output_type": "display_data"
    }
   ],
   "source": [
    "patch_residual_stream??"
   ]
  },
  {
   "cell_type": "code",
   "execution_count": 28,
   "id": "3db1e01b-1c40-4b79-8368-b12bf4270a87",
   "metadata": {
    "execution": {
     "iopub.execute_input": "2024-12-03T15:46:27.261170Z",
     "iopub.status.busy": "2024-12-03T15:46:27.260515Z",
     "iopub.status.idle": "2024-12-03T15:46:27.293467Z",
     "shell.execute_reply": "2024-12-03T15:46:27.291036Z",
     "shell.execute_reply.started": "2024-12-03T15:46:27.261122Z"
    }
   },
   "outputs": [
    {
     "data": {
      "text/plain": [
       "\u001b[0;31mSignature:\u001b[0m\n",
       "\u001b[0mmodel\u001b[0m\u001b[0;34m.\u001b[0m\u001b[0mrun_with_hooks\u001b[0m\u001b[0;34m(\u001b[0m\u001b[0;34m\u001b[0m\n",
       "\u001b[0;34m\u001b[0m    \u001b[0;34m*\u001b[0m\u001b[0mmodel_args\u001b[0m\u001b[0;34m:\u001b[0m \u001b[0mAny\u001b[0m\u001b[0;34m,\u001b[0m\u001b[0;34m\u001b[0m\n",
       "\u001b[0;34m\u001b[0m    \u001b[0mfwd_hooks\u001b[0m\u001b[0;34m:\u001b[0m \u001b[0mList\u001b[0m\u001b[0;34m[\u001b[0m\u001b[0mTuple\u001b[0m\u001b[0;34m[\u001b[0m\u001b[0mUnion\u001b[0m\u001b[0;34m[\u001b[0m\u001b[0mstr\u001b[0m\u001b[0;34m,\u001b[0m \u001b[0mCallable\u001b[0m\u001b[0;34m]\u001b[0m\u001b[0;34m,\u001b[0m \u001b[0mCallable\u001b[0m\u001b[0;34m]\u001b[0m\u001b[0;34m]\u001b[0m \u001b[0;34m=\u001b[0m \u001b[0;34m[\u001b[0m\u001b[0;34m]\u001b[0m\u001b[0;34m,\u001b[0m\u001b[0;34m\u001b[0m\n",
       "\u001b[0;34m\u001b[0m    \u001b[0mbwd_hooks\u001b[0m\u001b[0;34m:\u001b[0m \u001b[0mList\u001b[0m\u001b[0;34m[\u001b[0m\u001b[0mTuple\u001b[0m\u001b[0;34m[\u001b[0m\u001b[0mUnion\u001b[0m\u001b[0;34m[\u001b[0m\u001b[0mstr\u001b[0m\u001b[0;34m,\u001b[0m \u001b[0mCallable\u001b[0m\u001b[0;34m]\u001b[0m\u001b[0;34m,\u001b[0m \u001b[0mCallable\u001b[0m\u001b[0;34m]\u001b[0m\u001b[0;34m]\u001b[0m \u001b[0;34m=\u001b[0m \u001b[0;34m[\u001b[0m\u001b[0;34m]\u001b[0m\u001b[0;34m,\u001b[0m\u001b[0;34m\u001b[0m\n",
       "\u001b[0;34m\u001b[0m    \u001b[0mreset_hooks_end\u001b[0m\u001b[0;34m:\u001b[0m \u001b[0mbool\u001b[0m \u001b[0;34m=\u001b[0m \u001b[0;32mTrue\u001b[0m\u001b[0;34m,\u001b[0m\u001b[0;34m\u001b[0m\n",
       "\u001b[0;34m\u001b[0m    \u001b[0mclear_contexts\u001b[0m\u001b[0;34m:\u001b[0m \u001b[0mbool\u001b[0m \u001b[0;34m=\u001b[0m \u001b[0;32mFalse\u001b[0m\u001b[0;34m,\u001b[0m\u001b[0;34m\u001b[0m\n",
       "\u001b[0;34m\u001b[0m    \u001b[0;34m**\u001b[0m\u001b[0mmodel_kwargs\u001b[0m\u001b[0;34m:\u001b[0m \u001b[0mAny\u001b[0m\u001b[0;34m,\u001b[0m\u001b[0;34m\u001b[0m\n",
       "\u001b[0;34m\u001b[0m\u001b[0;34m)\u001b[0m\u001b[0;34m\u001b[0m\u001b[0;34m\u001b[0m\u001b[0m\n",
       "\u001b[0;31mSource:\u001b[0m   \n",
       "    \u001b[0;32mdef\u001b[0m \u001b[0mrun_with_hooks\u001b[0m\u001b[0;34m(\u001b[0m\u001b[0;34m\u001b[0m\n",
       "\u001b[0;34m\u001b[0m        \u001b[0mself\u001b[0m\u001b[0;34m,\u001b[0m\u001b[0;34m\u001b[0m\n",
       "\u001b[0;34m\u001b[0m        \u001b[0;34m*\u001b[0m\u001b[0mmodel_args\u001b[0m\u001b[0;34m:\u001b[0m \u001b[0mAny\u001b[0m\u001b[0;34m,\u001b[0m  \u001b[0;31m# TODO: unsure about whether or not this Any typing is correct or not; may need to be replaced with something more specific?\u001b[0m\u001b[0;34m\u001b[0m\n",
       "\u001b[0;34m\u001b[0m        \u001b[0mfwd_hooks\u001b[0m\u001b[0;34m:\u001b[0m \u001b[0mList\u001b[0m\u001b[0;34m[\u001b[0m\u001b[0mTuple\u001b[0m\u001b[0;34m[\u001b[0m\u001b[0mUnion\u001b[0m\u001b[0;34m[\u001b[0m\u001b[0mstr\u001b[0m\u001b[0;34m,\u001b[0m \u001b[0mCallable\u001b[0m\u001b[0;34m]\u001b[0m\u001b[0;34m,\u001b[0m \u001b[0mCallable\u001b[0m\u001b[0;34m]\u001b[0m\u001b[0;34m]\u001b[0m \u001b[0;34m=\u001b[0m \u001b[0;34m[\u001b[0m\u001b[0;34m]\u001b[0m\u001b[0;34m,\u001b[0m\u001b[0;34m\u001b[0m\n",
       "\u001b[0;34m\u001b[0m        \u001b[0mbwd_hooks\u001b[0m\u001b[0;34m:\u001b[0m \u001b[0mList\u001b[0m\u001b[0;34m[\u001b[0m\u001b[0mTuple\u001b[0m\u001b[0;34m[\u001b[0m\u001b[0mUnion\u001b[0m\u001b[0;34m[\u001b[0m\u001b[0mstr\u001b[0m\u001b[0;34m,\u001b[0m \u001b[0mCallable\u001b[0m\u001b[0;34m]\u001b[0m\u001b[0;34m,\u001b[0m \u001b[0mCallable\u001b[0m\u001b[0;34m]\u001b[0m\u001b[0;34m]\u001b[0m \u001b[0;34m=\u001b[0m \u001b[0;34m[\u001b[0m\u001b[0;34m]\u001b[0m\u001b[0;34m,\u001b[0m\u001b[0;34m\u001b[0m\n",
       "\u001b[0;34m\u001b[0m        \u001b[0mreset_hooks_end\u001b[0m\u001b[0;34m:\u001b[0m \u001b[0mbool\u001b[0m \u001b[0;34m=\u001b[0m \u001b[0;32mTrue\u001b[0m\u001b[0;34m,\u001b[0m\u001b[0;34m\u001b[0m\n",
       "\u001b[0;34m\u001b[0m        \u001b[0mclear_contexts\u001b[0m\u001b[0;34m:\u001b[0m \u001b[0mbool\u001b[0m \u001b[0;34m=\u001b[0m \u001b[0;32mFalse\u001b[0m\u001b[0;34m,\u001b[0m\u001b[0;34m\u001b[0m\n",
       "\u001b[0;34m\u001b[0m        \u001b[0;34m**\u001b[0m\u001b[0mmodel_kwargs\u001b[0m\u001b[0;34m:\u001b[0m \u001b[0mAny\u001b[0m\u001b[0;34m,\u001b[0m\u001b[0;34m\u001b[0m\n",
       "\u001b[0;34m\u001b[0m    \u001b[0;34m)\u001b[0m\u001b[0;34m:\u001b[0m\u001b[0;34m\u001b[0m\n",
       "\u001b[0;34m\u001b[0m        \u001b[0;34m\"\"\"\u001b[0m\n",
       "\u001b[0;34m        Runs the model with specified forward and backward hooks.\u001b[0m\n",
       "\u001b[0;34m\u001b[0m\n",
       "\u001b[0;34m        Args:\u001b[0m\n",
       "\u001b[0;34m            fwd_hooks (List[Tuple[Union[str, Callable], Callable]]): A list of (name, hook), where name is\u001b[0m\n",
       "\u001b[0;34m                either the name of a hook point or a boolean function on hook names, and hook is the\u001b[0m\n",
       "\u001b[0;34m                function to add to that hook point. Hooks with names that evaluate to True are added\u001b[0m\n",
       "\u001b[0;34m                respectively.\u001b[0m\n",
       "\u001b[0;34m            bwd_hooks (List[Tuple[Union[str, Callable], Callable]]): Same as fwd_hooks, but for the\u001b[0m\n",
       "\u001b[0;34m                backward pass.\u001b[0m\n",
       "\u001b[0;34m            reset_hooks_end (bool): If True, all hooks are removed at the end, including those added\u001b[0m\n",
       "\u001b[0;34m                during this run. Default is True.\u001b[0m\n",
       "\u001b[0;34m            clear_contexts (bool): If True, clears hook contexts whenever hooks are reset. Default is\u001b[0m\n",
       "\u001b[0;34m                False.\u001b[0m\n",
       "\u001b[0;34m            *model_args: Positional arguments for the model.\u001b[0m\n",
       "\u001b[0;34m            **model_kwargs: Keyword arguments for the model.\u001b[0m\n",
       "\u001b[0;34m\u001b[0m\n",
       "\u001b[0;34m        Note:\u001b[0m\n",
       "\u001b[0;34m            If you want to use backward hooks, set `reset_hooks_end` to False, so the backward hooks\u001b[0m\n",
       "\u001b[0;34m            remain active. This function only runs a forward pass.\u001b[0m\n",
       "\u001b[0;34m        \"\"\"\u001b[0m\u001b[0;34m\u001b[0m\n",
       "\u001b[0;34m\u001b[0m        \u001b[0;32mif\u001b[0m \u001b[0mlen\u001b[0m\u001b[0;34m(\u001b[0m\u001b[0mbwd_hooks\u001b[0m\u001b[0;34m)\u001b[0m \u001b[0;34m>\u001b[0m \u001b[0;36m0\u001b[0m \u001b[0;32mand\u001b[0m \u001b[0mreset_hooks_end\u001b[0m\u001b[0;34m:\u001b[0m\u001b[0;34m\u001b[0m\n",
       "\u001b[0;34m\u001b[0m            \u001b[0mlogging\u001b[0m\u001b[0;34m.\u001b[0m\u001b[0mwarning\u001b[0m\u001b[0;34m(\u001b[0m\u001b[0;34m\u001b[0m\n",
       "\u001b[0;34m\u001b[0m                \u001b[0;34m\"WARNING: Hooks will be reset at the end of run_with_hooks. This removes the backward hooks before a backward pass can occur.\"\u001b[0m\u001b[0;34m\u001b[0m\n",
       "\u001b[0;34m\u001b[0m            \u001b[0;34m)\u001b[0m\u001b[0;34m\u001b[0m\n",
       "\u001b[0;34m\u001b[0m\u001b[0;34m\u001b[0m\n",
       "\u001b[0;34m\u001b[0m        \u001b[0;32mwith\u001b[0m \u001b[0mself\u001b[0m\u001b[0;34m.\u001b[0m\u001b[0mhooks\u001b[0m\u001b[0;34m(\u001b[0m\u001b[0mfwd_hooks\u001b[0m\u001b[0;34m,\u001b[0m \u001b[0mbwd_hooks\u001b[0m\u001b[0;34m,\u001b[0m \u001b[0mreset_hooks_end\u001b[0m\u001b[0;34m,\u001b[0m \u001b[0mclear_contexts\u001b[0m\u001b[0;34m)\u001b[0m \u001b[0;32mas\u001b[0m \u001b[0mhooked_model\u001b[0m\u001b[0;34m:\u001b[0m\u001b[0;34m\u001b[0m\n",
       "\u001b[0;34m\u001b[0m            \u001b[0;32mreturn\u001b[0m \u001b[0mhooked_model\u001b[0m\u001b[0;34m.\u001b[0m\u001b[0mforward\u001b[0m\u001b[0;34m(\u001b[0m\u001b[0;34m*\u001b[0m\u001b[0mmodel_args\u001b[0m\u001b[0;34m,\u001b[0m \u001b[0;34m**\u001b[0m\u001b[0mmodel_kwargs\u001b[0m\u001b[0;34m)\u001b[0m\u001b[0;34m\u001b[0m\u001b[0;34m\u001b[0m\u001b[0m\n",
       "\u001b[0;31mFile:\u001b[0m      ~/anaconda3/lib/python3.10/site-packages/transformer_lens/hook_points.py\n",
       "\u001b[0;31mType:\u001b[0m      method"
      ]
     },
     "metadata": {},
     "output_type": "display_data"
    }
   ],
   "source": [
    "model.run_with_hooks??"
   ]
  },
  {
   "cell_type": "code",
   "execution_count": 30,
   "id": "afea4f9e-3510-4a4f-becf-38d9defad1cb",
   "metadata": {
    "execution": {
     "iopub.execute_input": "2024-12-03T15:50:13.170656Z",
     "iopub.status.busy": "2024-12-03T15:50:13.170332Z",
     "iopub.status.idle": "2024-12-03T15:50:17.366334Z",
     "shell.execute_reply": "2024-12-03T15:50:17.365463Z",
     "shell.execute_reply.started": "2024-12-03T15:50:13.170634Z"
    }
   },
   "outputs": [],
   "source": [
    "patching_effect = torch.zeros(n_layers, n_pos)\n",
    "for l, layer in enumerate(layers):\n",
    "    for pos in range(n_pos):\n",
    "        fwd_hooks = [(layer, partial(patch_residual_stream, layer=layer, pos=pos))]\n",
    "        prediction_logits = model.run_with_hooks(clean_prompt,\n",
    "                                                 fwd_hooks=fwd_hooks)[0, -1]\n",
    "        # torch.Size([50257])\n",
    "        # print(l, pos, prediction_logits.shape)\n",
    "        # Hart (blue) vs Carroll (red).\n",
    "        patching_effect[l, pos] = prediction_logits[clean_answer_index] - prediction_logits[corrupt_answer_index]"
   ]
  },
  {
   "cell_type": "code",
   "execution_count": 31,
   "id": "2d28a34f-0054-4259-9318-11b279d72c76",
   "metadata": {
    "execution": {
     "iopub.execute_input": "2024-12-03T15:50:45.789883Z",
     "iopub.status.busy": "2024-12-03T15:50:45.789556Z",
     "iopub.status.idle": "2024-12-03T15:50:45.798706Z",
     "shell.execute_reply": "2024-12-03T15:50:45.796541Z",
     "shell.execute_reply.started": "2024-12-03T15:50:45.789862Z"
    }
   },
   "outputs": [],
   "source": [
    "torch.cuda.empty_cache()"
   ]
  },
  {
   "cell_type": "code",
   "execution_count": 36,
   "id": "7e63e929-f3fa-40de-8477-7d2d5f9a0418",
   "metadata": {
    "execution": {
     "iopub.execute_input": "2024-12-03T15:53:56.700520Z",
     "iopub.status.busy": "2024-12-03T15:53:56.699849Z",
     "iopub.status.idle": "2024-12-03T15:53:56.714762Z",
     "shell.execute_reply": "2024-12-03T15:53:56.712625Z",
     "shell.execute_reply.started": "2024-12-03T15:53:56.700471Z"
    }
   },
   "outputs": [],
   "source": [
    "import plotly.express as px\n",
    "\n",
    "def imshow(\n",
    "    tensor,\n",
    "    xlabel=\"X\",\n",
    "    ylabel=\"Y\",\n",
    "    zlabel=None,\n",
    "    xticks=None,\n",
    "    yticks=None,\n",
    "    c_midpoint=0.0,\n",
    "    c_scale=\"RdBu\",\n",
    "    show=True,\n",
    "    **kwargs\n",
    "):\n",
    "    tensor = utils.to_numpy(tensor)\n",
    "    xticks = [str(x) for x in xticks]\n",
    "    yticks = [str(y) for y in yticks]\n",
    "    labels = {\"x\": xlabel, \"y\": ylabel}\n",
    "    if zlabel is not None:\n",
    "        labels[\"color\"] = zlabel\n",
    "    fig = px.imshow(\n",
    "        tensor,\n",
    "        x=xticks,\n",
    "        y=yticks,\n",
    "        labels=labels,\n",
    "        color_continuous_midpoint=c_midpoint,\n",
    "        color_continuous_scale=c_scale,\n",
    "        **kwargs\n",
    "    ).show()"
   ]
  },
  {
   "cell_type": "code",
   "execution_count": 39,
   "id": "8868155c-a149-4cf1-b59f-18528d9d21be",
   "metadata": {
    "execution": {
     "iopub.execute_input": "2024-12-03T15:54:55.035659Z",
     "iopub.status.busy": "2024-12-03T15:54:55.035125Z",
     "iopub.status.idle": "2024-12-03T15:54:55.048389Z",
     "shell.execute_reply": "2024-12-03T15:54:55.046227Z",
     "shell.execute_reply.started": "2024-12-03T15:54:55.035621Z"
    }
   },
   "outputs": [
    {
     "data": {
      "text/plain": [
       "(['(pos  0) <|endoftext|>',\n",
       "  '(pos  1) Her',\n",
       "  '(pos  2)  name',\n",
       "  '(pos  3)  was',\n",
       "  '(pos  4)  Alex',\n",
       "  '(pos  5)  Hart',\n",
       "  '(pos  6) .',\n",
       "  '(pos  7)  Tomorrow',\n",
       "  '(pos  8)  at',\n",
       "  '(pos  9)  lunch',\n",
       "  '(pos 10)  time',\n",
       "  '(pos 11)  Alex'],\n",
       " ['blocks.0.hook_resid_pre',\n",
       "  'blocks.0.hook_resid_post',\n",
       "  'blocks.1.hook_resid_post',\n",
       "  'blocks.2.hook_resid_post',\n",
       "  'blocks.3.hook_resid_post',\n",
       "  'blocks.4.hook_resid_post',\n",
       "  'blocks.5.hook_resid_post',\n",
       "  'blocks.6.hook_resid_post',\n",
       "  'blocks.7.hook_resid_post',\n",
       "  'blocks.8.hook_resid_post',\n",
       "  'blocks.9.hook_resid_post',\n",
       "  'blocks.10.hook_resid_post',\n",
       "  'blocks.11.hook_resid_post'])"
      ]
     },
     "execution_count": 39,
     "metadata": {},
     "output_type": "execute_result"
    }
   ],
   "source": [
    "token_labels, layers"
   ]
  },
  {
   "cell_type": "code",
   "execution_count": 42,
   "id": "ccd36e5a-42a3-43ac-8980-d8c18b2a75cd",
   "metadata": {
    "execution": {
     "iopub.execute_input": "2024-12-03T15:56:56.998872Z",
     "iopub.status.busy": "2024-12-03T15:56:56.998209Z",
     "iopub.status.idle": "2024-12-03T15:56:57.015470Z",
     "shell.execute_reply": "2024-12-03T15:56:57.013433Z",
     "shell.execute_reply.started": "2024-12-03T15:56:56.998822Z"
    }
   },
   "outputs": [
    {
     "data": {
      "text/plain": [
       "tensor([[11.0183, 11.0183, 11.0183, 11.0183, 11.0183, -9.7010, 11.0183, 11.0183,\n",
       "         11.0183, 11.0183, 11.0183, 11.0183],\n",
       "        [11.0183, 11.0183, 11.0183, 11.0183, 11.0183, -9.5984, 10.9825, 11.0004,\n",
       "         11.0255, 11.0096, 11.0191, 11.0148],\n",
       "        [11.0183, 11.0183, 11.0183, 11.0183, 11.0183, -9.6611, 10.9821, 10.9834,\n",
       "         11.0217, 10.9733, 11.0338, 11.0449],\n",
       "        [11.0183, 11.0183, 11.0183, 11.0183, 11.0183, -9.6157, 10.9835, 10.9754,\n",
       "         11.0112, 10.9333, 11.0375, 11.0947],\n",
       "        [11.0183, 11.0183, 11.0183, 11.0183, 11.0183, -9.5755, 11.0033, 10.9952,\n",
       "         11.0078, 10.9355, 11.0157, 11.1147],\n",
       "        [11.0183, 11.0183, 11.0183, 11.0183, 11.0183, -9.5844, 10.8521, 10.9980,\n",
       "         11.0123, 10.9398, 11.0153, 11.0667],\n",
       "        [11.0183, 11.0183, 11.0183, 11.0183, 11.0183, -9.2289, 10.8592, 10.9923,\n",
       "         11.0144, 10.9508, 11.0149, 11.0719],\n",
       "        [11.0183, 11.0183, 11.0183, 11.0183, 11.0183, -8.5493, 10.8579, 10.9750,\n",
       "         11.0192, 10.9568, 10.9964, 10.4828],\n",
       "        [11.0183, 11.0183, 11.0183, 11.0183, 11.0183, -6.1110, 10.9501, 10.9778,\n",
       "         11.0223, 10.9598, 11.0024,  8.0634],\n",
       "        [11.0183, 11.0183, 11.0183, 11.0183, 11.0183, -5.9553, 10.9846, 10.9741,\n",
       "         11.0198, 10.9781, 10.9905,  7.4084],\n",
       "        [11.0183, 11.0183, 11.0183, 11.0183, 11.0183, -3.5987, 10.8783, 10.9803,\n",
       "         11.0173, 10.9887, 11.0068,  4.5176],\n",
       "        [11.0183, 11.0183, 11.0183, 11.0183, 11.0183,  5.2317, 10.5472, 10.9333,\n",
       "         11.0133, 10.9775, 10.9616, -3.7465],\n",
       "        [11.0183, 11.0183, 11.0183, 11.0183, 11.0183, 11.0183, 11.0183, 11.0183,\n",
       "         11.0183, 11.0183, 11.0183, -9.7010]], grad_fn=<CopySlices>)"
      ]
     },
     "execution_count": 42,
     "metadata": {},
     "output_type": "execute_result"
    }
   ],
   "source": [
    "patching_effect"
   ]
  },
  {
   "cell_type": "code",
   "execution_count": 38,
   "id": "00021feb-41b3-47b0-a4c0-eff8e3a6085f",
   "metadata": {
    "execution": {
     "iopub.execute_input": "2024-12-03T15:54:45.465156Z",
     "iopub.status.busy": "2024-12-03T15:54:45.464642Z",
     "iopub.status.idle": "2024-12-03T15:54:45.561193Z",
     "shell.execute_reply": "2024-12-03T15:54:45.559214Z",
     "shell.execute_reply.started": "2024-12-03T15:54:45.465119Z"
    }
   },
   "outputs": [
    {
     "data": {
      "application/vnd.plotly.v1+json": {
       "config": {
        "plotlyServerURL": "https://plot.ly"
       },
       "data": [
        {
         "coloraxis": "coloraxis",
         "hovertemplate": "pos: %{x}<br>layer: %{y}<br>Logit difference: %{z}<extra></extra>",
         "name": "0",
         "type": "heatmap",
         "x": [
          "(pos  0) <|endoftext|>",
          "(pos  1) Her",
          "(pos  2)  name",
          "(pos  3)  was",
          "(pos  4)  Alex",
          "(pos  5)  Hart",
          "(pos  6) .",
          "(pos  7)  Tomorrow",
          "(pos  8)  at",
          "(pos  9)  lunch",
          "(pos 10)  time",
          "(pos 11)  Alex"
         ],
         "xaxis": "x",
         "y": [
          "blocks.0.hook_resid_pre",
          "blocks.0.hook_resid_post",
          "blocks.1.hook_resid_post",
          "blocks.2.hook_resid_post",
          "blocks.3.hook_resid_post",
          "blocks.4.hook_resid_post",
          "blocks.5.hook_resid_post",
          "blocks.6.hook_resid_post",
          "blocks.7.hook_resid_post",
          "blocks.8.hook_resid_post",
          "blocks.9.hook_resid_post",
          "blocks.10.hook_resid_post",
          "blocks.11.hook_resid_post"
         ],
         "yaxis": "y",
         "z": [
          [
           11.018325,
           11.018325,
           11.018325,
           11.018325,
           11.018325,
           -9.700953,
           11.018325,
           11.018325,
           11.018325,
           11.018325,
           11.018325,
           11.018325
          ],
          [
           11.018325,
           11.018325,
           11.018325,
           11.018325,
           11.018325,
           -9.598398,
           10.982473,
           11.000357,
           11.025464,
           11.009558,
           11.019095,
           11.014841
          ],
          [
           11.018325,
           11.018325,
           11.018325,
           11.018325,
           11.018325,
           -9.6610985,
           10.982077,
           10.983392,
           11.021674,
           10.973317,
           11.033836,
           11.044881
          ],
          [
           11.018325,
           11.018325,
           11.018325,
           11.018325,
           11.018325,
           -9.615697,
           10.983519,
           10.975354,
           11.011214,
           10.933329,
           11.037508,
           11.094677
          ],
          [
           11.018325,
           11.018325,
           11.018325,
           11.018325,
           11.018325,
           -9.57547,
           11.003299,
           10.995198,
           11.007799,
           10.9354725,
           11.015704,
           11.114708
          ],
          [
           11.018325,
           11.018325,
           11.018325,
           11.018325,
           11.018325,
           -9.584415,
           10.852125,
           10.998006,
           11.012308,
           10.939765,
           11.01529,
           11.066741
          ],
          [
           11.018325,
           11.018325,
           11.018325,
           11.018325,
           11.018325,
           -9.228892,
           10.85919,
           10.992301,
           11.014363,
           10.95077,
           11.014896,
           11.071911
          ],
          [
           11.018325,
           11.018325,
           11.018325,
           11.018325,
           11.018325,
           -8.549342,
           10.857851,
           10.975003,
           11.019205,
           10.956839,
           10.996394,
           10.482777
          ],
          [
           11.018325,
           11.018325,
           11.018325,
           11.018325,
           11.018325,
           -6.111011,
           10.950142,
           10.977816,
           11.022268,
           10.959766,
           11.002352,
           8.063357
          ],
          [
           11.018325,
           11.018325,
           11.018325,
           11.018325,
           11.018325,
           -5.9552565,
           10.984592,
           10.974105,
           11.01979,
           10.97814,
           10.990465,
           7.408433
          ],
          [
           11.018325,
           11.018325,
           11.018325,
           11.018325,
           11.018325,
           -3.5987177,
           10.878345,
           10.980303,
           11.017281,
           10.988657,
           11.006838,
           4.517582
          ],
          [
           11.018325,
           11.018325,
           11.018325,
           11.018325,
           11.018325,
           5.2317066,
           10.54716,
           10.933285,
           11.013294,
           10.977473,
           10.961552,
           -3.746499
          ],
          [
           11.018325,
           11.018325,
           11.018325,
           11.018325,
           11.018325,
           11.018325,
           11.018325,
           11.018325,
           11.018325,
           11.018325,
           11.018325,
           -9.700953
          ]
         ]
        }
       ],
       "layout": {
        "coloraxis": {
         "cmid": 0,
         "colorbar": {
          "title": {
           "text": "Logit difference"
          }
         },
         "colorscale": [
          [
           0,
           "rgb(103,0,31)"
          ],
          [
           0.1,
           "rgb(178,24,43)"
          ],
          [
           0.2,
           "rgb(214,96,77)"
          ],
          [
           0.3,
           "rgb(244,165,130)"
          ],
          [
           0.4,
           "rgb(253,219,199)"
          ],
          [
           0.5,
           "rgb(247,247,247)"
          ],
          [
           0.6,
           "rgb(209,229,240)"
          ],
          [
           0.7,
           "rgb(146,197,222)"
          ],
          [
           0.8,
           "rgb(67,147,195)"
          ],
          [
           0.9,
           "rgb(33,102,172)"
          ],
          [
           1,
           "rgb(5,48,97)"
          ]
         ]
        },
        "height": 380,
        "template": {
         "data": {
          "bar": [
           {
            "error_x": {
             "color": "#2a3f5f"
            },
            "error_y": {
             "color": "#2a3f5f"
            },
            "marker": {
             "line": {
              "color": "#E5ECF6",
              "width": 0.5
             },
             "pattern": {
              "fillmode": "overlay",
              "size": 10,
              "solidity": 0.2
             }
            },
            "type": "bar"
           }
          ],
          "barpolar": [
           {
            "marker": {
             "line": {
              "color": "#E5ECF6",
              "width": 0.5
             },
             "pattern": {
              "fillmode": "overlay",
              "size": 10,
              "solidity": 0.2
             }
            },
            "type": "barpolar"
           }
          ],
          "carpet": [
           {
            "aaxis": {
             "endlinecolor": "#2a3f5f",
             "gridcolor": "white",
             "linecolor": "white",
             "minorgridcolor": "white",
             "startlinecolor": "#2a3f5f"
            },
            "baxis": {
             "endlinecolor": "#2a3f5f",
             "gridcolor": "white",
             "linecolor": "white",
             "minorgridcolor": "white",
             "startlinecolor": "#2a3f5f"
            },
            "type": "carpet"
           }
          ],
          "choropleth": [
           {
            "colorbar": {
             "outlinewidth": 0,
             "ticks": ""
            },
            "type": "choropleth"
           }
          ],
          "contour": [
           {
            "colorbar": {
             "outlinewidth": 0,
             "ticks": ""
            },
            "colorscale": [
             [
              0,
              "#0d0887"
             ],
             [
              0.1111111111111111,
              "#46039f"
             ],
             [
              0.2222222222222222,
              "#7201a8"
             ],
             [
              0.3333333333333333,
              "#9c179e"
             ],
             [
              0.4444444444444444,
              "#bd3786"
             ],
             [
              0.5555555555555556,
              "#d8576b"
             ],
             [
              0.6666666666666666,
              "#ed7953"
             ],
             [
              0.7777777777777778,
              "#fb9f3a"
             ],
             [
              0.8888888888888888,
              "#fdca26"
             ],
             [
              1,
              "#f0f921"
             ]
            ],
            "type": "contour"
           }
          ],
          "contourcarpet": [
           {
            "colorbar": {
             "outlinewidth": 0,
             "ticks": ""
            },
            "type": "contourcarpet"
           }
          ],
          "heatmap": [
           {
            "colorbar": {
             "outlinewidth": 0,
             "ticks": ""
            },
            "colorscale": [
             [
              0,
              "#0d0887"
             ],
             [
              0.1111111111111111,
              "#46039f"
             ],
             [
              0.2222222222222222,
              "#7201a8"
             ],
             [
              0.3333333333333333,
              "#9c179e"
             ],
             [
              0.4444444444444444,
              "#bd3786"
             ],
             [
              0.5555555555555556,
              "#d8576b"
             ],
             [
              0.6666666666666666,
              "#ed7953"
             ],
             [
              0.7777777777777778,
              "#fb9f3a"
             ],
             [
              0.8888888888888888,
              "#fdca26"
             ],
             [
              1,
              "#f0f921"
             ]
            ],
            "type": "heatmap"
           }
          ],
          "heatmapgl": [
           {
            "colorbar": {
             "outlinewidth": 0,
             "ticks": ""
            },
            "colorscale": [
             [
              0,
              "#0d0887"
             ],
             [
              0.1111111111111111,
              "#46039f"
             ],
             [
              0.2222222222222222,
              "#7201a8"
             ],
             [
              0.3333333333333333,
              "#9c179e"
             ],
             [
              0.4444444444444444,
              "#bd3786"
             ],
             [
              0.5555555555555556,
              "#d8576b"
             ],
             [
              0.6666666666666666,
              "#ed7953"
             ],
             [
              0.7777777777777778,
              "#fb9f3a"
             ],
             [
              0.8888888888888888,
              "#fdca26"
             ],
             [
              1,
              "#f0f921"
             ]
            ],
            "type": "heatmapgl"
           }
          ],
          "histogram": [
           {
            "marker": {
             "pattern": {
              "fillmode": "overlay",
              "size": 10,
              "solidity": 0.2
             }
            },
            "type": "histogram"
           }
          ],
          "histogram2d": [
           {
            "colorbar": {
             "outlinewidth": 0,
             "ticks": ""
            },
            "colorscale": [
             [
              0,
              "#0d0887"
             ],
             [
              0.1111111111111111,
              "#46039f"
             ],
             [
              0.2222222222222222,
              "#7201a8"
             ],
             [
              0.3333333333333333,
              "#9c179e"
             ],
             [
              0.4444444444444444,
              "#bd3786"
             ],
             [
              0.5555555555555556,
              "#d8576b"
             ],
             [
              0.6666666666666666,
              "#ed7953"
             ],
             [
              0.7777777777777778,
              "#fb9f3a"
             ],
             [
              0.8888888888888888,
              "#fdca26"
             ],
             [
              1,
              "#f0f921"
             ]
            ],
            "type": "histogram2d"
           }
          ],
          "histogram2dcontour": [
           {
            "colorbar": {
             "outlinewidth": 0,
             "ticks": ""
            },
            "colorscale": [
             [
              0,
              "#0d0887"
             ],
             [
              0.1111111111111111,
              "#46039f"
             ],
             [
              0.2222222222222222,
              "#7201a8"
             ],
             [
              0.3333333333333333,
              "#9c179e"
             ],
             [
              0.4444444444444444,
              "#bd3786"
             ],
             [
              0.5555555555555556,
              "#d8576b"
             ],
             [
              0.6666666666666666,
              "#ed7953"
             ],
             [
              0.7777777777777778,
              "#fb9f3a"
             ],
             [
              0.8888888888888888,
              "#fdca26"
             ],
             [
              1,
              "#f0f921"
             ]
            ],
            "type": "histogram2dcontour"
           }
          ],
          "mesh3d": [
           {
            "colorbar": {
             "outlinewidth": 0,
             "ticks": ""
            },
            "type": "mesh3d"
           }
          ],
          "parcoords": [
           {
            "line": {
             "colorbar": {
              "outlinewidth": 0,
              "ticks": ""
             }
            },
            "type": "parcoords"
           }
          ],
          "pie": [
           {
            "automargin": true,
            "type": "pie"
           }
          ],
          "scatter": [
           {
            "fillpattern": {
             "fillmode": "overlay",
             "size": 10,
             "solidity": 0.2
            },
            "type": "scatter"
           }
          ],
          "scatter3d": [
           {
            "line": {
             "colorbar": {
              "outlinewidth": 0,
              "ticks": ""
             }
            },
            "marker": {
             "colorbar": {
              "outlinewidth": 0,
              "ticks": ""
             }
            },
            "type": "scatter3d"
           }
          ],
          "scattercarpet": [
           {
            "marker": {
             "colorbar": {
              "outlinewidth": 0,
              "ticks": ""
             }
            },
            "type": "scattercarpet"
           }
          ],
          "scattergeo": [
           {
            "marker": {
             "colorbar": {
              "outlinewidth": 0,
              "ticks": ""
             }
            },
            "type": "scattergeo"
           }
          ],
          "scattergl": [
           {
            "marker": {
             "colorbar": {
              "outlinewidth": 0,
              "ticks": ""
             }
            },
            "type": "scattergl"
           }
          ],
          "scattermapbox": [
           {
            "marker": {
             "colorbar": {
              "outlinewidth": 0,
              "ticks": ""
             }
            },
            "type": "scattermapbox"
           }
          ],
          "scatterpolar": [
           {
            "marker": {
             "colorbar": {
              "outlinewidth": 0,
              "ticks": ""
             }
            },
            "type": "scatterpolar"
           }
          ],
          "scatterpolargl": [
           {
            "marker": {
             "colorbar": {
              "outlinewidth": 0,
              "ticks": ""
             }
            },
            "type": "scatterpolargl"
           }
          ],
          "scatterternary": [
           {
            "marker": {
             "colorbar": {
              "outlinewidth": 0,
              "ticks": ""
             }
            },
            "type": "scatterternary"
           }
          ],
          "surface": [
           {
            "colorbar": {
             "outlinewidth": 0,
             "ticks": ""
            },
            "colorscale": [
             [
              0,
              "#0d0887"
             ],
             [
              0.1111111111111111,
              "#46039f"
             ],
             [
              0.2222222222222222,
              "#7201a8"
             ],
             [
              0.3333333333333333,
              "#9c179e"
             ],
             [
              0.4444444444444444,
              "#bd3786"
             ],
             [
              0.5555555555555556,
              "#d8576b"
             ],
             [
              0.6666666666666666,
              "#ed7953"
             ],
             [
              0.7777777777777778,
              "#fb9f3a"
             ],
             [
              0.8888888888888888,
              "#fdca26"
             ],
             [
              1,
              "#f0f921"
             ]
            ],
            "type": "surface"
           }
          ],
          "table": [
           {
            "cells": {
             "fill": {
              "color": "#EBF0F8"
             },
             "line": {
              "color": "white"
             }
            },
            "header": {
             "fill": {
              "color": "#C8D4E3"
             },
             "line": {
              "color": "white"
             }
            },
            "type": "table"
           }
          ]
         },
         "layout": {
          "annotationdefaults": {
           "arrowcolor": "#2a3f5f",
           "arrowhead": 0,
           "arrowwidth": 1
          },
          "autotypenumbers": "strict",
          "coloraxis": {
           "colorbar": {
            "outlinewidth": 0,
            "ticks": ""
           }
          },
          "colorscale": {
           "diverging": [
            [
             0,
             "#8e0152"
            ],
            [
             0.1,
             "#c51b7d"
            ],
            [
             0.2,
             "#de77ae"
            ],
            [
             0.3,
             "#f1b6da"
            ],
            [
             0.4,
             "#fde0ef"
            ],
            [
             0.5,
             "#f7f7f7"
            ],
            [
             0.6,
             "#e6f5d0"
            ],
            [
             0.7,
             "#b8e186"
            ],
            [
             0.8,
             "#7fbc41"
            ],
            [
             0.9,
             "#4d9221"
            ],
            [
             1,
             "#276419"
            ]
           ],
           "sequential": [
            [
             0,
             "#0d0887"
            ],
            [
             0.1111111111111111,
             "#46039f"
            ],
            [
             0.2222222222222222,
             "#7201a8"
            ],
            [
             0.3333333333333333,
             "#9c179e"
            ],
            [
             0.4444444444444444,
             "#bd3786"
            ],
            [
             0.5555555555555556,
             "#d8576b"
            ],
            [
             0.6666666666666666,
             "#ed7953"
            ],
            [
             0.7777777777777778,
             "#fb9f3a"
            ],
            [
             0.8888888888888888,
             "#fdca26"
            ],
            [
             1,
             "#f0f921"
            ]
           ],
           "sequentialminus": [
            [
             0,
             "#0d0887"
            ],
            [
             0.1111111111111111,
             "#46039f"
            ],
            [
             0.2222222222222222,
             "#7201a8"
            ],
            [
             0.3333333333333333,
             "#9c179e"
            ],
            [
             0.4444444444444444,
             "#bd3786"
            ],
            [
             0.5555555555555556,
             "#d8576b"
            ],
            [
             0.6666666666666666,
             "#ed7953"
            ],
            [
             0.7777777777777778,
             "#fb9f3a"
            ],
            [
             0.8888888888888888,
             "#fdca26"
            ],
            [
             1,
             "#f0f921"
            ]
           ]
          },
          "colorway": [
           "#636efa",
           "#EF553B",
           "#00cc96",
           "#ab63fa",
           "#FFA15A",
           "#19d3f3",
           "#FF6692",
           "#B6E880",
           "#FF97FF",
           "#FECB52"
          ],
          "font": {
           "color": "#2a3f5f"
          },
          "geo": {
           "bgcolor": "white",
           "lakecolor": "white",
           "landcolor": "#E5ECF6",
           "showlakes": true,
           "showland": true,
           "subunitcolor": "white"
          },
          "hoverlabel": {
           "align": "left"
          },
          "hovermode": "closest",
          "mapbox": {
           "style": "light"
          },
          "paper_bgcolor": "white",
          "plot_bgcolor": "#E5ECF6",
          "polar": {
           "angularaxis": {
            "gridcolor": "white",
            "linecolor": "white",
            "ticks": ""
           },
           "bgcolor": "#E5ECF6",
           "radialaxis": {
            "gridcolor": "white",
            "linecolor": "white",
            "ticks": ""
           }
          },
          "scene": {
           "xaxis": {
            "backgroundcolor": "#E5ECF6",
            "gridcolor": "white",
            "gridwidth": 2,
            "linecolor": "white",
            "showbackground": true,
            "ticks": "",
            "zerolinecolor": "white"
           },
           "yaxis": {
            "backgroundcolor": "#E5ECF6",
            "gridcolor": "white",
            "gridwidth": 2,
            "linecolor": "white",
            "showbackground": true,
            "ticks": "",
            "zerolinecolor": "white"
           },
           "zaxis": {
            "backgroundcolor": "#E5ECF6",
            "gridcolor": "white",
            "gridwidth": 2,
            "linecolor": "white",
            "showbackground": true,
            "ticks": "",
            "zerolinecolor": "white"
           }
          },
          "shapedefaults": {
           "line": {
            "color": "#2a3f5f"
           }
          },
          "ternary": {
           "aaxis": {
            "gridcolor": "white",
            "linecolor": "white",
            "ticks": ""
           },
           "baxis": {
            "gridcolor": "white",
            "linecolor": "white",
            "ticks": ""
           },
           "bgcolor": "#E5ECF6",
           "caxis": {
            "gridcolor": "white",
            "linecolor": "white",
            "ticks": ""
           }
          },
          "title": {
           "x": 0.05
          },
          "xaxis": {
           "automargin": true,
           "gridcolor": "white",
           "linecolor": "white",
           "ticks": "",
           "title": {
            "standoff": 15
           },
           "zerolinecolor": "white",
           "zerolinewidth": 2
          },
          "yaxis": {
           "automargin": true,
           "gridcolor": "white",
           "linecolor": "white",
           "ticks": "",
           "title": {
            "standoff": 15
           },
           "zerolinecolor": "white",
           "zerolinewidth": 2
          }
         }
        },
        "title": {
         "text": "Patching with 1st occurrence of first name"
        },
        "width": 800,
        "xaxis": {
         "anchor": "y",
         "autorange": true,
         "constrain": "domain",
         "domain": [
          0.42185592185592186,
          0.5781440781440781
         ],
         "range": [
          -0.5,
          11.5
         ],
         "scaleanchor": "y",
         "title": {
          "text": "pos"
         },
         "type": "category"
        },
        "yaxis": {
         "anchor": "x",
         "autorange": true,
         "constrain": "domain",
         "domain": [
          0,
          1
         ],
         "range": [
          12.5,
          -0.5
         ],
         "title": {
          "text": "layer"
         },
         "type": "category"
        }
       }
      },
      "image/png": "[encoded data removed]",
      "text/html": [
       "<div>                            <div id=\"e1af7a23-3011-4e2a-9f70-940fb2357386\" class=\"plotly-graph-div\" style=\"height:380px; width:800px;\"></div>            <script type=\"text/javascript\">                require([\"plotly\"], function(Plotly) {                    window.PLOTLYENV=window.PLOTLYENV || {};                                    if (document.getElementById(\"e1af7a23-3011-4e2a-9f70-940fb2357386\")) {                    Plotly.newPlot(                        \"e1af7a23-3011-4e2a-9f70-940fb2357386\",                        [{\"coloraxis\":\"coloraxis\",\"name\":\"0\",\"x\":[\"(pos  0) \\u003c|endoftext|\\u003e\",\"(pos  1) Her\",\"(pos  2)  name\",\"(pos  3)  was\",\"(pos  4)  Alex\",\"(pos  5)  Hart\",\"(pos  6) .\",\"(pos  7)  Tomorrow\",\"(pos  8)  at\",\"(pos  9)  lunch\",\"(pos 10)  time\",\"(pos 11)  Alex\"],\"y\":[\"blocks.0.hook_resid_pre\",\"blocks.0.hook_resid_post\",\"blocks.1.hook_resid_post\",\"blocks.2.hook_resid_post\",\"blocks.3.hook_resid_post\",\"blocks.4.hook_resid_post\",\"blocks.5.hook_resid_post\",\"blocks.6.hook_resid_post\",\"blocks.7.hook_resid_post\",\"blocks.8.hook_resid_post\",\"blocks.9.hook_resid_post\",\"blocks.10.hook_resid_post\",\"blocks.11.hook_resid_post\"],\"z\":[[11.018325,11.018325,11.018325,11.018325,11.018325,-9.700953,11.018325,11.018325,11.018325,11.018325,11.018325,11.018325],[11.018325,11.018325,11.018325,11.018325,11.018325,-9.598398,10.982473,11.000357,11.025464,11.009558,11.019095,11.014841],[11.018325,11.018325,11.018325,11.018325,11.018325,-9.6610985,10.982077,10.983392,11.021674,10.973317,11.033836,11.044881],[11.018325,11.018325,11.018325,11.018325,11.018325,-9.615697,10.983519,10.975354,11.011214,10.933329,11.037508,11.094677],[11.018325,11.018325,11.018325,11.018325,11.018325,-9.57547,11.003299,10.995198,11.007799,10.9354725,11.015704,11.114708],[11.018325,11.018325,11.018325,11.018325,11.018325,-9.584415,10.852125,10.998006,11.012308,10.939765,11.01529,11.066741],[11.018325,11.018325,11.018325,11.018325,11.018325,-9.228892,10.85919,10.992301,11.014363,10.95077,11.014896,11.071911],[11.018325,11.018325,11.018325,11.018325,11.018325,-8.549342,10.857851,10.975003,11.019205,10.956839,10.996394,10.482777],[11.018325,11.018325,11.018325,11.018325,11.018325,-6.111011,10.950142,10.977816,11.022268,10.959766,11.002352,8.063357],[11.018325,11.018325,11.018325,11.018325,11.018325,-5.9552565,10.984592,10.974105,11.01979,10.97814,10.990465,7.408433],[11.018325,11.018325,11.018325,11.018325,11.018325,-3.5987177,10.878345,10.980303,11.017281,10.988657,11.006838,4.517582],[11.018325,11.018325,11.018325,11.018325,11.018325,5.2317066,10.54716,10.933285,11.013294,10.977473,10.961552,-3.746499],[11.018325,11.018325,11.018325,11.018325,11.018325,11.018325,11.018325,11.018325,11.018325,11.018325,11.018325,-9.700953]],\"type\":\"heatmap\",\"xaxis\":\"x\",\"yaxis\":\"y\",\"hovertemplate\":\"pos: %{x}\\u003cbr\\u003elayer: %{y}\\u003cbr\\u003eLogit difference: %{z}\\u003cextra\\u003e\\u003c\\u002fextra\\u003e\"}],                        {\"template\":{\"data\":{\"histogram2dcontour\":[{\"type\":\"histogram2dcontour\",\"colorbar\":{\"outlinewidth\":0,\"ticks\":\"\"},\"colorscale\":[[0.0,\"#0d0887\"],[0.1111111111111111,\"#46039f\"],[0.2222222222222222,\"#7201a8\"],[0.3333333333333333,\"#9c179e\"],[0.4444444444444444,\"#bd3786\"],[0.5555555555555556,\"#d8576b\"],[0.6666666666666666,\"#ed7953\"],[0.7777777777777778,\"#fb9f3a\"],[0.8888888888888888,\"#fdca26\"],[1.0,\"#f0f921\"]]}],\"choropleth\":[{\"type\":\"choropleth\",\"colorbar\":{\"outlinewidth\":0,\"ticks\":\"\"}}],\"histogram2d\":[{\"type\":\"histogram2d\",\"colorbar\":{\"outlinewidth\":0,\"ticks\":\"\"},\"colorscale\":[[0.0,\"#0d0887\"],[0.1111111111111111,\"#46039f\"],[0.2222222222222222,\"#7201a8\"],[0.3333333333333333,\"#9c179e\"],[0.4444444444444444,\"#bd3786\"],[0.5555555555555556,\"#d8576b\"],[0.6666666666666666,\"#ed7953\"],[0.7777777777777778,\"#fb9f3a\"],[0.8888888888888888,\"#fdca26\"],[1.0,\"#f0f921\"]]}],\"heatmap\":[{\"type\":\"heatmap\",\"colorbar\":{\"outlinewidth\":0,\"ticks\":\"\"},\"colorscale\":[[0.0,\"#0d0887\"],[0.1111111111111111,\"#46039f\"],[0.2222222222222222,\"#7201a8\"],[0.3333333333333333,\"#9c179e\"],[0.4444444444444444,\"#bd3786\"],[0.5555555555555556,\"#d8576b\"],[0.6666666666666666,\"#ed7953\"],[0.7777777777777778,\"#fb9f3a\"],[0.8888888888888888,\"#fdca26\"],[1.0,\"#f0f921\"]]}],\"heatmapgl\":[{\"type\":\"heatmapgl\",\"colorbar\":{\"outlinewidth\":0,\"ticks\":\"\"},\"colorscale\":[[0.0,\"#0d0887\"],[0.1111111111111111,\"#46039f\"],[0.2222222222222222,\"#7201a8\"],[0.3333333333333333,\"#9c179e\"],[0.4444444444444444,\"#bd3786\"],[0.5555555555555556,\"#d8576b\"],[0.6666666666666666,\"#ed7953\"],[0.7777777777777778,\"#fb9f3a\"],[0.8888888888888888,\"#fdca26\"],[1.0,\"#f0f921\"]]}],\"contourcarpet\":[{\"type\":\"contourcarpet\",\"colorbar\":{\"outlinewidth\":0,\"ticks\":\"\"}}],\"contour\":[{\"type\":\"contour\",\"colorbar\":{\"outlinewidth\":0,\"ticks\":\"\"},\"colorscale\":[[0.0,\"#0d0887\"],[0.1111111111111111,\"#46039f\"],[0.2222222222222222,\"#7201a8\"],[0.3333333333333333,\"#9c179e\"],[0.4444444444444444,\"#bd3786\"],[0.5555555555555556,\"#d8576b\"],[0.6666666666666666,\"#ed7953\"],[0.7777777777777778,\"#fb9f3a\"],[0.8888888888888888,\"#fdca26\"],[1.0,\"#f0f921\"]]}],\"surface\":[{\"type\":\"surface\",\"colorbar\":{\"outlinewidth\":0,\"ticks\":\"\"},\"colorscale\":[[0.0,\"#0d0887\"],[0.1111111111111111,\"#46039f\"],[0.2222222222222222,\"#7201a8\"],[0.3333333333333333,\"#9c179e\"],[0.4444444444444444,\"#bd3786\"],[0.5555555555555556,\"#d8576b\"],[0.6666666666666666,\"#ed7953\"],[0.7777777777777778,\"#fb9f3a\"],[0.8888888888888888,\"#fdca26\"],[1.0,\"#f0f921\"]]}],\"mesh3d\":[{\"type\":\"mesh3d\",\"colorbar\":{\"outlinewidth\":0,\"ticks\":\"\"}}],\"scatter\":[{\"fillpattern\":{\"fillmode\":\"overlay\",\"size\":10,\"solidity\":0.2},\"type\":\"scatter\"}],\"parcoords\":[{\"type\":\"parcoords\",\"line\":{\"colorbar\":{\"outlinewidth\":0,\"ticks\":\"\"}}}],\"scatterpolargl\":[{\"type\":\"scatterpolargl\",\"marker\":{\"colorbar\":{\"outlinewidth\":0,\"ticks\":\"\"}}}],\"bar\":[{\"error_x\":{\"color\":\"#2a3f5f\"},\"error_y\":{\"color\":\"#2a3f5f\"},\"marker\":{\"line\":{\"color\":\"#E5ECF6\",\"width\":0.5},\"pattern\":{\"fillmode\":\"overlay\",\"size\":10,\"solidity\":0.2}},\"type\":\"bar\"}],\"scattergeo\":[{\"type\":\"scattergeo\",\"marker\":{\"colorbar\":{\"outlinewidth\":0,\"ticks\":\"\"}}}],\"scatterpolar\":[{\"type\":\"scatterpolar\",\"marker\":{\"colorbar\":{\"outlinewidth\":0,\"ticks\":\"\"}}}],\"histogram\":[{\"marker\":{\"pattern\":{\"fillmode\":\"overlay\",\"size\":10,\"solidity\":0.2}},\"type\":\"histogram\"}],\"scattergl\":[{\"type\":\"scattergl\",\"marker\":{\"colorbar\":{\"outlinewidth\":0,\"ticks\":\"\"}}}],\"scatter3d\":[{\"type\":\"scatter3d\",\"line\":{\"colorbar\":{\"outlinewidth\":0,\"ticks\":\"\"}},\"marker\":{\"colorbar\":{\"outlinewidth\":0,\"ticks\":\"\"}}}],\"scattermapbox\":[{\"type\":\"scattermapbox\",\"marker\":{\"colorbar\":{\"outlinewidth\":0,\"ticks\":\"\"}}}],\"scatterternary\":[{\"type\":\"scatterternary\",\"marker\":{\"colorbar\":{\"outlinewidth\":0,\"ticks\":\"\"}}}],\"scattercarpet\":[{\"type\":\"scattercarpet\",\"marker\":{\"colorbar\":{\"outlinewidth\":0,\"ticks\":\"\"}}}],\"carpet\":[{\"aaxis\":{\"endlinecolor\":\"#2a3f5f\",\"gridcolor\":\"white\",\"linecolor\":\"white\",\"minorgridcolor\":\"white\",\"startlinecolor\":\"#2a3f5f\"},\"baxis\":{\"endlinecolor\":\"#2a3f5f\",\"gridcolor\":\"white\",\"linecolor\":\"white\",\"minorgridcolor\":\"white\",\"startlinecolor\":\"#2a3f5f\"},\"type\":\"carpet\"}],\"table\":[{\"cells\":{\"fill\":{\"color\":\"#EBF0F8\"},\"line\":{\"color\":\"white\"}},\"header\":{\"fill\":{\"color\":\"#C8D4E3\"},\"line\":{\"color\":\"white\"}},\"type\":\"table\"}],\"barpolar\":[{\"marker\":{\"line\":{\"color\":\"#E5ECF6\",\"width\":0.5},\"pattern\":{\"fillmode\":\"overlay\",\"size\":10,\"solidity\":0.2}},\"type\":\"barpolar\"}],\"pie\":[{\"automargin\":true,\"type\":\"pie\"}]},\"layout\":{\"autotypenumbers\":\"strict\",\"colorway\":[\"#636efa\",\"#EF553B\",\"#00cc96\",\"#ab63fa\",\"#FFA15A\",\"#19d3f3\",\"#FF6692\",\"#B6E880\",\"#FF97FF\",\"#FECB52\"],\"font\":{\"color\":\"#2a3f5f\"},\"hovermode\":\"closest\",\"hoverlabel\":{\"align\":\"left\"},\"paper_bgcolor\":\"white\",\"plot_bgcolor\":\"#E5ECF6\",\"polar\":{\"bgcolor\":\"#E5ECF6\",\"angularaxis\":{\"gridcolor\":\"white\",\"linecolor\":\"white\",\"ticks\":\"\"},\"radialaxis\":{\"gridcolor\":\"white\",\"linecolor\":\"white\",\"ticks\":\"\"}},\"ternary\":{\"bgcolor\":\"#E5ECF6\",\"aaxis\":{\"gridcolor\":\"white\",\"linecolor\":\"white\",\"ticks\":\"\"},\"baxis\":{\"gridcolor\":\"white\",\"linecolor\":\"white\",\"ticks\":\"\"},\"caxis\":{\"gridcolor\":\"white\",\"linecolor\":\"white\",\"ticks\":\"\"}},\"coloraxis\":{\"colorbar\":{\"outlinewidth\":0,\"ticks\":\"\"}},\"colorscale\":{\"sequential\":[[0.0,\"#0d0887\"],[0.1111111111111111,\"#46039f\"],[0.2222222222222222,\"#7201a8\"],[0.3333333333333333,\"#9c179e\"],[0.4444444444444444,\"#bd3786\"],[0.5555555555555556,\"#d8576b\"],[0.6666666666666666,\"#ed7953\"],[0.7777777777777778,\"#fb9f3a\"],[0.8888888888888888,\"#fdca26\"],[1.0,\"#f0f921\"]],\"sequentialminus\":[[0.0,\"#0d0887\"],[0.1111111111111111,\"#46039f\"],[0.2222222222222222,\"#7201a8\"],[0.3333333333333333,\"#9c179e\"],[0.4444444444444444,\"#bd3786\"],[0.5555555555555556,\"#d8576b\"],[0.6666666666666666,\"#ed7953\"],[0.7777777777777778,\"#fb9f3a\"],[0.8888888888888888,\"#fdca26\"],[1.0,\"#f0f921\"]],\"diverging\":[[0,\"#8e0152\"],[0.1,\"#c51b7d\"],[0.2,\"#de77ae\"],[0.3,\"#f1b6da\"],[0.4,\"#fde0ef\"],[0.5,\"#f7f7f7\"],[0.6,\"#e6f5d0\"],[0.7,\"#b8e186\"],[0.8,\"#7fbc41\"],[0.9,\"#4d9221\"],[1,\"#276419\"]]},\"xaxis\":{\"gridcolor\":\"white\",\"linecolor\":\"white\",\"ticks\":\"\",\"title\":{\"standoff\":15},\"zerolinecolor\":\"white\",\"automargin\":true,\"zerolinewidth\":2},\"yaxis\":{\"gridcolor\":\"white\",\"linecolor\":\"white\",\"ticks\":\"\",\"title\":{\"standoff\":15},\"zerolinecolor\":\"white\",\"automargin\":true,\"zerolinewidth\":2},\"scene\":{\"xaxis\":{\"backgroundcolor\":\"#E5ECF6\",\"gridcolor\":\"white\",\"linecolor\":\"white\",\"showbackground\":true,\"ticks\":\"\",\"zerolinecolor\":\"white\",\"gridwidth\":2},\"yaxis\":{\"backgroundcolor\":\"#E5ECF6\",\"gridcolor\":\"white\",\"linecolor\":\"white\",\"showbackground\":true,\"ticks\":\"\",\"zerolinecolor\":\"white\",\"gridwidth\":2},\"zaxis\":{\"backgroundcolor\":\"#E5ECF6\",\"gridcolor\":\"white\",\"linecolor\":\"white\",\"showbackground\":true,\"ticks\":\"\",\"zerolinecolor\":\"white\",\"gridwidth\":2}},\"shapedefaults\":{\"line\":{\"color\":\"#2a3f5f\"}},\"annotationdefaults\":{\"arrowcolor\":\"#2a3f5f\",\"arrowhead\":0,\"arrowwidth\":1},\"geo\":{\"bgcolor\":\"white\",\"landcolor\":\"#E5ECF6\",\"subunitcolor\":\"white\",\"showland\":true,\"showlakes\":true,\"lakecolor\":\"white\"},\"title\":{\"x\":0.05},\"mapbox\":{\"style\":\"light\"}}},\"xaxis\":{\"anchor\":\"y\",\"domain\":[0.0,1.0],\"scaleanchor\":\"y\",\"constrain\":\"domain\",\"title\":{\"text\":\"pos\"}},\"yaxis\":{\"anchor\":\"x\",\"domain\":[0.0,1.0],\"autorange\":\"reversed\",\"constrain\":\"domain\",\"title\":{\"text\":\"layer\"}},\"coloraxis\":{\"colorbar\":{\"title\":{\"text\":\"Logit difference\"}},\"colorscale\":[[0.0,\"rgb(103,0,31)\"],[0.1,\"rgb(178,24,43)\"],[0.2,\"rgb(214,96,77)\"],[0.3,\"rgb(244,165,130)\"],[0.4,\"rgb(253,219,199)\"],[0.5,\"rgb(247,247,247)\"],[0.6,\"rgb(209,229,240)\"],[0.7,\"rgb(146,197,222)\"],[0.8,\"rgb(67,147,195)\"],[0.9,\"rgb(33,102,172)\"],[1.0,\"rgb(5,48,97)\"]],\"cmid\":0.0},\"title\":{\"text\":\"Patching with 1st occurrence of first name\"},\"height\":380,\"width\":800},                        {\"responsive\": true}                    ).then(function(){\n",
       "                            \n",
       "var gd = document.getElementById('e1af7a23-3011-4e2a-9f70-940fb2357386');\n",
       "var x = new MutationObserver(function (mutations, observer) {{\n",
       "        var display = window.getComputedStyle(gd).display;\n",
       "        if (!display || display === 'none') {{\n",
       "            console.log([gd, 'removed!']);\n",
       "            Plotly.purge(gd);\n",
       "            observer.disconnect();\n",
       "        }}\n",
       "}});\n",
       "\n",
       "// Listen for the removal of the full notebook cells\n",
       "var notebookContainer = gd.closest('#notebook-container');\n",
       "if (notebookContainer) {{\n",
       "    x.observe(notebookContainer, {childList: true});\n",
       "}}\n",
       "\n",
       "// Listen for the clearing of the current output cell\n",
       "var outputEl = gd.closest('.output');\n",
       "if (outputEl) {{\n",
       "    x.observe(outputEl, {childList: true});\n",
       "}}\n",
       "\n",
       "                        })                };                });            </script>        </div>"
      ]
     },
     "metadata": {},
     "output_type": "display_data"
    }
   ],
   "source": [
    "# Plot\n",
    "token_labels = [f\"(pos {i:2}) {t}\" for i, t in enumerate(clean_tokens)]\n",
    "imshow(patching_effect, xticks=token_labels, yticks=layers, xlabel=\"pos\", ylabel=\"layer\",\n",
    "       zlabel=\"Logit difference\", title=\"Patching with 1st occurrence of first name\", width=800, height=380)"
   ]
  },
  {
   "cell_type": "code",
   "execution_count": null,
   "id": "d571af55-4446-499e-aa1e-ec196beb6d3b",
   "metadata": {},
   "outputs": [],
   "source": []
  }
 ],
 "metadata": {
  "kernelspec": {
   "display_name": "Python 3 (ipykernel)",
   "language": "python",
   "name": "python3"
  },
  "language_info": {
   "codemirror_mode": {
    "name": "ipython",
    "version": 3
   },
   "file_extension": ".py",
   "mimetype": "text/x-python",
   "name": "python",
   "nbconvert_exporter": "python",
   "pygments_lexer": "ipython3",
   "version": "3.10.13"
  }
 },
 "nbformat": 4,
 "nbformat_minor": 5
}
