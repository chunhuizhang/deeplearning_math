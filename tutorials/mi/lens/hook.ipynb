{
 "cells": [
  {
   "cell_type": "code",
   "execution_count": 1,
   "id": "cda02330-ffe6-4f85-a777-1af7830f43cd",
   "metadata": {
    "execution": {
     "iopub.execute_input": "2024-12-18T15:11:31.902555Z",
     "iopub.status.busy": "2024-12-18T15:11:31.901810Z",
     "iopub.status.idle": "2024-12-18T15:11:31.908407Z",
     "shell.execute_reply": "2024-12-18T15:11:31.907132Z",
     "shell.execute_reply.started": "2024-12-18T15:11:31.902510Z"
    }
   },
   "outputs": [],
   "source": [
    "# !pip install transformer_lens"
   ]
  },
  {
   "cell_type": "code",
   "execution_count": 101,
   "id": "6dabe001-3edf-4118-a03f-6637605b1878",
   "metadata": {
    "execution": {
     "iopub.execute_input": "2024-12-18T15:43:20.241192Z",
     "iopub.status.busy": "2024-12-18T15:43:20.240542Z",
     "iopub.status.idle": "2024-12-18T15:43:20.250384Z",
     "shell.execute_reply": "2024-12-18T15:43:20.247951Z",
     "shell.execute_reply.started": "2024-12-18T15:43:20.241146Z"
    }
   },
   "outputs": [],
   "source": [
    "import torch\n",
    "from transformers import GPT2Model, GPT2Tokenizer\n",
    "from transformer_lens import HookedTransformer"
   ]
  },
  {
   "cell_type": "code",
   "execution_count": null,
   "id": "3d06c161-488f-4df6-9e30-90c0dfeabce5",
   "metadata": {},
   "outputs": [],
   "source": []
  }
 ],
 "metadata": {
  "kernelspec": {
   "display_name": "Python 3 (ipykernel)",
   "language": "python",
   "name": "python3"
  },
  "language_info": {
   "codemirror_mode": {
    "name": "ipython",
    "version": 3
   },
   "file_extension": ".py",
   "mimetype": "text/x-python",
   "name": "python",
   "nbconvert_exporter": "python",
   "pygments_lexer": "ipython3",
   "version": "3.10.13"
  }
 },
 "nbformat": 4,
 "nbformat_minor": 5
}
