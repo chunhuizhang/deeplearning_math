{
 "cells": [
  {
   "cell_type": "code",
   "execution_count": 3,
   "id": "e0481d17-01ee-4c52-a4b7-0528905ddaa8",
   "metadata": {
    "execution": {
     "iopub.execute_input": "2024-11-25T14:38:46.982892Z",
     "iopub.status.busy": "2024-11-25T14:38:46.982239Z",
     "iopub.status.idle": "2024-11-25T14:38:46.991413Z",
     "shell.execute_reply": "2024-11-25T14:38:46.989300Z",
     "shell.execute_reply.started": "2024-11-25T14:38:46.982840Z"
    }
   },
   "outputs": [],
   "source": [
    "# !pip install sae-lens\n",
    "# !pip install sae-dashboard"
   ]
  },
  {
   "cell_type": "code",
   "execution_count": 4,
   "id": "a3599834-19ad-41d0-be33-ed22a4d48675",
   "metadata": {
    "execution": {
     "iopub.execute_input": "2024-11-25T14:38:58.919551Z",
     "iopub.status.busy": "2024-11-25T14:38:58.918938Z",
     "iopub.status.idle": "2024-11-25T14:39:00.265816Z",
     "shell.execute_reply": "2024-11-25T14:39:00.265004Z",
     "shell.execute_reply.started": "2024-11-25T14:38:58.919504Z"
    }
   },
   "outputs": [],
   "source": [
    "import torch"
   ]
  },
  {
   "cell_type": "code",
   "execution_count": null,
   "id": "d31363c0-dca8-4b90-8801-a8dbaf443259",
   "metadata": {},
   "outputs": [],
   "source": []
  }
 ],
 "metadata": {
  "kernelspec": {
   "display_name": "Python 3 (ipykernel)",
   "language": "python",
   "name": "python3"
  },
  "language_info": {
   "codemirror_mode": {
    "name": "ipython",
    "version": 3
   },
   "file_extension": ".py",
   "mimetype": "text/x-python",
   "name": "python",
   "nbconvert_exporter": "python",
   "pygments_lexer": "ipython3",
   "version": "3.10.13"
  }
 },
 "nbformat": 4,
 "nbformat_minor": 5
}
