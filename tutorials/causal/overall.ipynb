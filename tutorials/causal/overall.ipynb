{
 "cells": [
  {
   "cell_type": "markdown",
   "id": "f962f379-0079-4769-9a9b-624b45e924eb",
   "metadata": {},
   "source": [
    "### causal ladder"
   ]
  },
  {
   "cell_type": "markdown",
   "id": "c75dfcbc-aed5-4e59-91da-a8afafa2eca0",
   "metadata": {},
   "source": [
    "- seeing\n",
    "- doing\n",
    "    - 决策A，赚了多少钱；\n",
    "- imagining\n",
    "    - 如果我当时做了决策B呢；"
   ]
  },
  {
   "cell_type": "markdown",
   "id": "6a0e4595-601b-4a5f-bddd-5a1bcbb47ec8",
   "metadata": {},
   "source": [
    "### 因果图"
   ]
  },
  {
   "cell_type": "markdown",
   "id": "de60d99f-f8f6-4a1d-bf44-8235e8b9a6ac",
   "metadata": {},
   "source": [
    "- 序列化决策过程，是一个有向无环图（DAG）\n",
    "    - 大部分因果图也是有向无环图；\n",
    "    - 因果图可以表征序列化决策过程；"
   ]
  }
 ],
 "metadata": {
  "kernelspec": {
   "display_name": "Python 3 (ipykernel)",
   "language": "python",
   "name": "python3"
  },
  "language_info": {
   "codemirror_mode": {
    "name": "ipython",
    "version": 3
   },
   "file_extension": ".py",
   "mimetype": "text/x-python",
   "name": "python",
   "nbconvert_exporter": "python",
   "pygments_lexer": "ipython3",
   "version": "3.10.0"
  }
 },
 "nbformat": 4,
 "nbformat_minor": 5
}
