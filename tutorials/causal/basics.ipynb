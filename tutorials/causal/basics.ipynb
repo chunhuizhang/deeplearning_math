{
 "cells": [
  {
   "cell_type": "markdown",
   "id": "9e7fa9be-8a1b-48a7-9a79-e1d5d7bd95ec",
   "metadata": {},
   "source": [
    "### d-separation"
   ]
  },
  {
   "cell_type": "markdown",
   "id": "77e39ce3-3688-4f71-ad50-54d5d006000f",
   "metadata": {},
   "source": [
    "- d分离的规则：\n",
    "    - 如果在一个因果图中，所有链接 $x$ 和 $z$ 的路径都被阻断（blocked），那么 $x$ 和 $z$ 在给定一组变量 $S$ 的条件下是独立的；\n",
    "- 一条路径被阻断的条件是\n",
    "    - 路径包含一个链结构 (A -> B -> C) 或 分叉结构 (A <- B -> C)，并且中间节点 B 在条件集 S 中。\n",
    "    - 路径包含一个对撞结构/汇聚点 (A -> B <- C)，并且中间节点 B 以及 B 的任何后代 都不在条件集 S 中。"
   ]
  },
  {
   "cell_type": "markdown",
   "id": "92834215-f71f-4bf1-abae-f9811bc88ba0",
   "metadata": {},
   "source": [
    "### block path "
   ]
  },
  {
   "cell_type": "markdown",
   "id": "6a74394d-e6b2-4827-8c71-d093eb77fc8b",
   "metadata": {},
   "source": [
    "$$\n",
    "\\begin{split}\n",
    "p(x,z|y)&=p(x|y)p(z|y)\\\\\n",
    "&\\updownarrow \\\\\n",
    "p(z|x,y)&=p(z|y)\n",
    "\\end{split}\n",
    "$$\n",
    "- 简单证明\n",
    "$$\n",
    "p(z|x,y)=\\frac{p(x,y,z)}{p(x,y)}=\\frac{p(x,z|y)}{p(x|y)}=\\frac{p(x|y)p(z|y)}{p(x|y)}=p(z|y)\n",
    "$$\n",
    "- linear chain（链式结构）：$x\\rightarrow y \\rightarrow z$\n",
    "    - $x\\perp z \\mid y$（$x$ 和 $z$ 在给定 $y$ 的条件下独立），conditional independent\n",
    "    - X 导致 Y，Y 导致 Z。信息从 X 流向 Y，再从 Y 流向 Z。\n",
    "    - 不控制 Y 时: X 和 Z 是相关的（依赖的）。因为 X 的变化会通过 Y 影响 Z。\n",
    "    - 控制 Y 时 (给定 Y): 当我们观察或固定了 Y 的值时，Y 就“阻断”了 X 到 Z 的路径。知道了 Y 之后，X 对于预测 Z 不再提供通过 Y 传递的额外信息。\n",
    "    $$\n",
    "    \\begin{split}\n",
    "    p(x,y,z)&=p(z|y)p(y|x)p(x)\\\\\n",
    "    p(x,y,z)&=p(z|y)p(x|y)p(y)\\\\\n",
    "    \\frac{p(x,y,z)}{p(y)}&=p(z|y)p(x|y)\\\\\n",
    "    p(x,z|y)&=p(z|y)p(x|y)\\\\\n",
    "    \\end{split}\n",
    "    $$\n",
    "- fork/comman cause（分叉结构）：$x\\leftarrow y \\rightarrow z$\n",
    "    - Y 是 X 和 Z 的共同原因。Y 导致 X，Y 也导致 Z。\n",
    "    - 不控制 Y 时: X 和 Z 是相关的（依赖的）。这是因为它们共享一个共同的原因 Y。例如，如果 Y 增加了 X 和 Z 同时增加的可能性，那么 X 和 Z 就会表现出相关性，即使它们之间没有直接的因果关系（这种相关性有时被称为“伪相关”）。\n",
    "- collider/common effect（对撞结构）：$x\\rightarrow y\\leftarrow z$\n",
    "    - X 和 Z 都是 Y 的原因（Y 是 X 和 Z 的共同结果）。路径在 Y 点“对撞”。\n",
    "    - 一个具体的例子，$X\\sim U[0,10], Z\\sim U[0, 10], Y=X+Z$\n",
    "        - 此时，given $Y=15$，显然 $X, Z$ 是不独立的"
   ]
  },
  {
   "cell_type": "code",
   "execution_count": null,
   "id": "2982f5b9-30b4-4caa-bf91-2356bfc776b5",
   "metadata": {},
   "outputs": [],
   "source": []
  }
 ],
 "metadata": {
  "kernelspec": {
   "display_name": "Python 3 (ipykernel)",
   "language": "python",
   "name": "python3"
  },
  "language_info": {
   "codemirror_mode": {
    "name": "ipython",
    "version": 3
   },
   "file_extension": ".py",
   "mimetype": "text/x-python",
   "name": "python",
   "nbconvert_exporter": "python",
   "pygments_lexer": "ipython3",
   "version": "3.10.0"
  }
 },
 "nbformat": 4,
 "nbformat_minor": 5
}
