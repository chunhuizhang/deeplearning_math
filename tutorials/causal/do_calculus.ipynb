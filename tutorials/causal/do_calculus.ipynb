{
 "cells": [
  {
   "cell_type": "markdown",
   "id": "15538b1a-88e0-47b3-a312-8e81089ddea6",
   "metadata": {},
   "source": [
    "- https://arxiv.org/pdf/2407.19789v3\n",
    "- https://zhuanlan.zhihu.com/p/708754441"
   ]
  },
  {
   "cell_type": "markdown",
   "id": "70e8c9a4-9357-4eb3-bc00-765757266d37",
   "metadata": {},
   "source": [
    "- 干预操作do(p=x)（意思是将变量p直接赋值为x，但保持系统内其他变量不变）\n",
    "    - 我们发现夏天T恤的销量和冰淇淋的销量成正相关关系，于是我们固定T恤的销量（或者干脆不卖T恤），看它对冰淇淋销量的影响。显然，冰淇淋销量不受影响，所以T恤对冰淇淋的因果效应为0（No causal effect）。同样的道理，我们通过改变一部分输入像素，看它对输出结果的影响，就可以发现它们之间的因果关系。比如我们改变了图像外围平滑区域的输入像素，发现中心纹理的输出结果变差了，就说明改变后的像素给中心纹理带来了负因果效应（Negative causal effect），这个现象在使用了注意力机制的网络里普遍存在。\n",
    "- 干预算子：“干预什么”和“如何干预”"
   ]
  }
 ],
 "metadata": {
  "kernelspec": {
   "display_name": "Python 3 (ipykernel)",
   "language": "python",
   "name": "python3"
  },
  "language_info": {
   "codemirror_mode": {
    "name": "ipython",
    "version": 3
   },
   "file_extension": ".py",
   "mimetype": "text/x-python",
   "name": "python",
   "nbconvert_exporter": "python",
   "pygments_lexer": "ipython3",
   "version": "3.10.0"
  }
 },
 "nbformat": 4,
 "nbformat_minor": 5
}
