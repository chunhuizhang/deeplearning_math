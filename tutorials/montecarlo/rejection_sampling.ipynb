{
 "cells": [
  {
   "cell_type": "markdown",
   "id": "2b28e3e8",
   "metadata": {},
   "source": [
    "- references\n",
    "    - https://www.youtube.com/watch?v=kYWHfgkRc9s\n",
    "    - https://rh8liuqy.github.io/Accept_reject.html"
   ]
  },
  {
   "cell_type": "markdown",
   "id": "a89de166",
   "metadata": {},
   "source": [
    "## basics"
   ]
  },
  {
   "cell_type": "markdown",
   "id": "c2303448",
   "metadata": {},
   "source": [
    "- 也叫 accept/reject algorithm\n",
    "    - 一种采样 sampling method"
   ]
  }
 ],
 "metadata": {
  "kernelspec": {
   "display_name": "Python 3 (ipykernel)",
   "language": "python",
   "name": "python3"
  },
  "language_info": {
   "codemirror_mode": {
    "name": "ipython",
    "version": 3
   },
   "file_extension": ".py",
   "mimetype": "text/x-python",
   "name": "python",
   "nbconvert_exporter": "python",
   "pygments_lexer": "ipython3",
   "version": "3.10.9"
  },
  "toc": {
   "base_numbering": 1,
   "nav_menu": {},
   "number_sections": true,
   "sideBar": true,
   "skip_h1_title": false,
   "title_cell": "Table of Contents",
   "title_sidebar": "Contents",
   "toc_cell": false,
   "toc_position": {},
   "toc_section_display": true,
   "toc_window_display": false
  }
 },
 "nbformat": 4,
 "nbformat_minor": 5
}
