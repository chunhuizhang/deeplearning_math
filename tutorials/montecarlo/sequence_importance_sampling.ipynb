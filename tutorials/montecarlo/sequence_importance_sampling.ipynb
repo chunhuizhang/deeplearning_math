{
 "cells": [
  {
   "cell_type": "markdown",
   "id": "e94729bb",
   "metadata": {},
   "source": [
    "- references\n",
    "    - http://www.stat.ucla.edu/~zhou/courses/Stats102C-IS.pdf\n",
    "    - https://gist.github.com/simeoncarstens/3d3cc9bb340edeecf21bb58f419da860"
   ]
  },
  {
   "cell_type": "markdown",
   "id": "5498664c",
   "metadata": {},
   "source": [
    "## introduction"
   ]
  },
  {
   "cell_type": "markdown",
   "id": "b241409a",
   "metadata": {},
   "source": [
    "- 对于高维 $\\mathbf x=(x_1,\\cdots,x_d)$，\n",
    "    - target distribution $p$\n",
    "    - importance distribution $q$, \n",
    "- 很难找到其 trivial importance distribution $q$\n",
    "- 序列式地构建 $q$\n",
    "    - $q(\\mathbf x)=q_1(x_1)q_2(x_2|x_1)\\cdots q_d(x_d|x_1,x_2,\\cdots,x_{d-1})$\n",
    "- 同样序列式地分解 $p$\n",
    "    - $p(\\mathbf x)=p(x_1)p(x_2|x_1)\\cdots p(x_d|x_1,x_2,\\cdots,x_{d-1})$\n",
    "- 因此有\n",
    "\n",
    "\n",
    "$$\n",
    "\\begin{split}\n",
    "w(\\mathbf x)=\\frac{p(\\mathbf x)}{q(\\mathbf x)}&=\\frac{p(x_1)p(x_2|x_1)\\cdots p(x_d|x_1,x_2,\\cdots,x_{d-1})}{q_1(x_1)q_2(x_2|x_1)\\cdots q_d(x_d|x_1,x_2,\\cdots,x_{d-1})}\\\\\n",
    "&=\\frac{p(x_1)p(x_2|x_1)\\cdots}{q_1(x_1)q_2(x_2|x_1)\\cdots}\\cdot\\frac{p(x_d|x_1,x_2,\\cdots,x_{d-1})}{q_d(x_d|x_1,x_2,\\cdots,x_{d-1})}\\\\\n",
    "&=w(\\mathbf x_{t-1})\\frac{p(x_d|\\mathbf x_{t-1})}{q_d(x_d|\\mathbf x_{t-1})}\n",
    "\\end{split}\n",
    "$$"
   ]
  },
  {
   "cell_type": "markdown",
   "id": "fb7860ff",
   "metadata": {},
   "source": [
    "- $n$ time steps, 得到 $n$ 次 observations $y_1,\\cdots,y_n\\equiv y_{1:n}$，我们想知道观察背后的 $x_1,\\cdots,x_n\\equiv x_{1:n}$\n",
    "    - $x_{1:n}\\rightarrow y_{1:n}$\n",
    "- 先验后验分布\n",
    "    - 先验分布（prior distribution）：$P(x_{1:n})$\n",
    "    - 后验分布（posterior distribution）：$P(x_{1:n}|y_{1:n})$\n",
    "- 假如 $x_{1:n}$ 是 markov 的，即 $P(x_{n+1}|x_{1:n})=P(x_{n+1}|x_n)$\n",
    "\n",
    "- 从 IS 到 SIS\n",
    "    - 假如先验分布 $P(x_{1:n})$ 就是重要性分布（importance distribution）为 $q(\\cdot)$\n",
    "    - 则有第 $i$ 个样本的 importance weight \n",
    "\n",
    "$$\n",
    "w(x_n^i)\\propto w(x_{n-1}^i)p(y_n|x_n^i)\n",
    "$$"
   ]
  },
  {
   "cell_type": "code",
   "execution_count": null,
   "id": "bf1b03aa",
   "metadata": {},
   "outputs": [],
   "source": []
  }
 ],
 "metadata": {
  "kernelspec": {
   "display_name": "Python 3 (ipykernel)",
   "language": "python",
   "name": "python3"
  },
  "language_info": {
   "codemirror_mode": {
    "name": "ipython",
    "version": 3
   },
   "file_extension": ".py",
   "mimetype": "text/x-python",
   "name": "python",
   "nbconvert_exporter": "python",
   "pygments_lexer": "ipython3",
   "version": "3.10.9"
  },
  "toc": {
   "base_numbering": 1,
   "nav_menu": {},
   "number_sections": true,
   "sideBar": true,
   "skip_h1_title": false,
   "title_cell": "Table of Contents",
   "title_sidebar": "Contents",
   "toc_cell": false,
   "toc_position": {},
   "toc_section_display": true,
   "toc_window_display": false
  }
 },
 "nbformat": 4,
 "nbformat_minor": 5
}
