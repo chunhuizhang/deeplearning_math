{
 "cells": [
  {
   "cell_type": "code",
   "execution_count": 2,
   "id": "261e6f3a-cb39-4fde-a794-ebce3c9c5e7e",
   "metadata": {
    "execution": {
     "iopub.execute_input": "2024-12-22T09:37:48.169938Z",
     "iopub.status.busy": "2024-12-22T09:37:48.169278Z",
     "iopub.status.idle": "2024-12-22T09:37:48.178081Z",
     "shell.execute_reply": "2024-12-22T09:37:48.175965Z",
     "shell.execute_reply.started": "2024-12-22T09:37:48.169888Z"
    }
   },
   "outputs": [],
   "source": [
    "# !pip install pymc"
   ]
  },
  {
   "cell_type": "code",
   "execution_count": null,
   "id": "3d39abfd-33ef-427c-b27b-03c193a7e8bf",
   "metadata": {},
   "outputs": [],
   "source": []
  }
 ],
 "metadata": {
  "kernelspec": {
   "display_name": "Python 3 (ipykernel)",
   "language": "python",
   "name": "python3"
  },
  "language_info": {
   "codemirror_mode": {
    "name": "ipython",
    "version": 3
   },
   "file_extension": ".py",
   "mimetype": "text/x-python",
   "name": "python",
   "nbconvert_exporter": "python",
   "pygments_lexer": "ipython3",
   "version": "3.10.13"
  }
 },
 "nbformat": 4,
 "nbformat_minor": 5
}
