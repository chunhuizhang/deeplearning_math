{
 "cells": [
  {
   "cell_type": "markdown",
   "id": "cfc395fc",
   "metadata": {},
   "source": [
    "## basics"
   ]
  },
  {
   "cell_type": "markdown",
   "id": "5f0539d7",
   "metadata": {
    "ExecuteTime": {
     "end_time": "2023-08-03T12:09:36.445647Z",
     "start_time": "2023-08-03T12:09:36.428384Z"
    }
   },
   "source": [
    "- 计算 $f(x)$ w.r.t $p(x)$（distribution） 的期望\n",
    "\n",
    "$$\n",
    "\\langle f \\rangle_{p} =\\int f(x)p(x)dx\n",
    "$$\n",
    "\n",
    "- 在一些场景下，很难尤其解析解形式，所以要转向数值解，\n",
    "    - 如果可以正确地在 $p(x)$ 中进行采样，假如采样 $N$ 次，得到 $N$ 个样本：$x_1,x_2,\\cdots,x_N$\n",
    "\n",
    "$$\n",
    "\\langle f \\rangle_{p} \\approx \\frac{1}{N}\\sum_i f(x_i)_{x_i\\sim p(x)}\n",
    "$$\n",
    "\n",
    "- 现在的问题在于 $p(x)$ 很难被采样，这个时候引入 $q(x)$（也是一个概率分布，容易被采样）来间接地计算：\n",
    "    - $q(x)$：称为重要性分布（importance distribution），所谓的重要性采样，即是从这样一个简单的重要性分布中进行采样\n",
    "        - 从 $q(x)$ 采样 $N$ 次，得到 $N$ 个样本：$x_1,x_2,\\cdots,x_N$\n",
    "    - $w(x)=\\frac{p(x)}{q(x)}$：称为 importance weight\n",
    "$$\n",
    "\\begin{split}\n",
    "\\langle f \\rangle_{p}&=\\int f(x)\\frac{p(x)}{q(x)}q(x)dx\\\\\n",
    "&=\\int f(x)w(x)q(x)dx, \\qquad w(x)=\\frac{p(x)}{q(x)}\\\\\n",
    "&=\\langle f\\cdot w\\rangle_q\\\\\n",
    "&\\approx\\frac{1}{N}\\sum_i^Nf(x_i)w(x_i)_{x_i\\sim q(x)}\n",
    "\\end{split}\n",
    "$$\n",
    "\n",
    "\n"
   ]
  },
  {
   "cell_type": "markdown",
   "id": "c4080abd",
   "metadata": {},
   "source": [
    "## 实现重要性采样"
   ]
  },
  {
   "cell_type": "code",
   "execution_count": 4,
   "id": "33f7c74d",
   "metadata": {
    "ExecuteTime": {
     "end_time": "2023-08-03T12:46:51.628939Z",
     "start_time": "2023-08-03T12:46:51.623386Z"
    }
   },
   "outputs": [],
   "source": [
    "import numpy as np\n",
    "import matplotlib.pyplot as plt\n",
    "from scipy.special import logsumexp"
   ]
  },
  {
   "cell_type": "markdown",
   "id": "dc8e614f",
   "metadata": {},
   "source": [
    "- 正态分布与均匀分布\n",
    "    - $f(x) = \\frac{1}{\\sigma \\sqrt{2\\pi} } e^{-\\frac{1}{2}\\left(\\frac{x-\\mu}{\\sigma}\\right)^2}$\n",
    "        - $\\log f(x)=-\\frac12\\left(\\frac{x-\\mu}{\\sigma}\\right)^2$\n",
    "    \n",
    "    - $f(x)=\\frac{1}{b-a}$\n",
    "        - $\\log f(x)=-\\log (b-a)$\n",
    "    \n",
    "- $w_i=\\frac{p(x_i)}{q(x_i)}, \\log w_i=\\log p(x_i)-\\log q(x_i)$\n",
    "    - $w_i=\\frac{\\exp(w_i)}{\\sum_j\\exp(w_j)}$\n",
    "    - $\\log w_i=w_i-\\log\\sum_j\\exp(w_j)$\n"
   ]
  },
  {
   "cell_type": "code",
   "execution_count": 3,
   "id": "8be2d476",
   "metadata": {
    "ExecuteTime": {
     "end_time": "2023-08-03T12:32:25.095379Z",
     "start_time": "2023-08-03T12:32:25.083243Z"
    }
   },
   "outputs": [],
   "source": [
    "class Pdf:\n",
    "    def __call__(self, x):\n",
    "        '''log prob'''\n",
    "        pass\n",
    "    def sample(self, n):\n",
    "        pass\n",
    "\n",
    "# 待估计的分布\n",
    "class Norm(Pdf):\n",
    "    def __init__(self, mu=0, sigma=1):\n",
    "        self.mu = mu\n",
    "        self.sigma = sigma\n",
    "        \n",
    "    def __call__(self, x):\n",
    "        return -0.5*(x-self.mu)**2/self.sigma**2\n",
    "    \n",
    "    # 不会被调用\n",
    "    def sample(self, n):\n",
    "        return np.random.normal(self.mu, self.sigma, n)\n",
    "\n",
    "# 重要性分布\n",
    "class Uniform(Pdf):\n",
    "    def __init__(self, low, high):\n",
    "        self.low = low\n",
    "        self.high = high\n",
    "    def __call__(self, x):\n",
    "        return np.repeat(-np.log(self.high - self.low), len(x))\n",
    "    def sample(self, n):\n",
    "        return np.random.uniform(self.low, self.high, n)"
   ]
  },
  {
   "cell_type": "code",
   "execution_count": 5,
   "id": "af07a9ca",
   "metadata": {
    "ExecuteTime": {
     "end_time": "2023-08-03T12:47:17.550357Z",
     "start_time": "2023-08-03T12:47:17.540590Z"
    }
   },
   "outputs": [],
   "source": [
    "class ImportanceSampler:\n",
    "    def __init__(self, p_dist, q_dist):\n",
    "        self.p_dist = p_dist\n",
    "        self.q_dist = q_dist\n",
    "        \n",
    "    def sample(self, n):\n",
    "        samples = self.q_dist.sample(n)\n",
    "        weights = self.calc_weights(samples)\n",
    "        norm_weights = weights - logsumexp(weights)\n",
    "        return samples, norm_weights\n",
    "    def calc_weights(self, samples):\n",
    "        # log(p(x)/q(x)) = log(p) - log(q)\n",
    "        return self.p_dist(samples) - self.q_dist(samples)"
   ]
  },
  {
   "cell_type": "code",
   "execution_count": 17,
   "id": "725f05cd",
   "metadata": {
    "ExecuteTime": {
     "end_time": "2023-08-03T13:07:17.003554Z",
     "start_time": "2023-08-03T13:07:16.993421Z"
    }
   },
   "outputs": [],
   "source": [
    "N = 200000\n",
    "target_p = Norm()\n",
    "imp_q = Uniform(-20, 30)\n",
    "sampler = ImportanceSampler(target_p, imp_q)\n",
    "biased_samples, logws = sampler.sample(N)"
   ]
  },
  {
   "cell_type": "code",
   "execution_count": 18,
   "id": "8ce915e3",
   "metadata": {
    "ExecuteTime": {
     "end_time": "2023-08-03T13:07:18.274353Z",
     "start_time": "2023-08-03T13:07:18.167671Z"
    }
   },
   "outputs": [],
   "source": [
    "samples = np.random.choice(biased_samples, N, p=np.exp(logws))"
   ]
  },
  {
   "cell_type": "code",
   "execution_count": 19,
   "id": "882821a9",
   "metadata": {
    "ExecuteTime": {
     "end_time": "2023-08-03T13:07:20.093651Z",
     "start_time": "2023-08-03T13:07:19.835029Z"
    }
   },
   "outputs": [
    {
     "data": {
      "image/png": "[encoded data removed]",
      "text/plain": [
       "<Figure size 640x480 with 1 Axes>"
      ]
     },
     "metadata": {},
     "output_type": "display_data"
    }
   ],
   "source": [
    "_ = plt.hist(samples, bins=40)"
   ]
  },
  {
   "cell_type": "code",
   "execution_count": null,
   "id": "386d6b13",
   "metadata": {},
   "outputs": [],
   "source": []
  }
 ],
 "metadata": {
  "kernelspec": {
   "display_name": "Python 3 (ipykernel)",
   "language": "python",
   "name": "python3"
  },
  "language_info": {
   "codemirror_mode": {
    "name": "ipython",
    "version": 3
   },
   "file_extension": ".py",
   "mimetype": "text/x-python",
   "name": "python",
   "nbconvert_exporter": "python",
   "pygments_lexer": "ipython3",
   "version": "3.10.13"
  },
  "toc": {
   "base_numbering": 1,
   "nav_menu": {},
   "number_sections": true,
   "sideBar": true,
   "skip_h1_title": false,
   "title_cell": "Table of Contents",
   "title_sidebar": "Contents",
   "toc_cell": false,
   "toc_position": {},
   "toc_section_display": true,
   "toc_window_display": false
  }
 },
 "nbformat": 4,
 "nbformat_minor": 5
}
