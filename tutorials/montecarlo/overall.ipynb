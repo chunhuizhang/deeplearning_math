{
 "cells": [
  {
   "cell_type": "markdown",
   "id": "1a7702c2-00aa-435d-a47e-621979e44f52",
   "metadata": {},
   "source": [
    "- 用采样近似期望（expection）\n",
    "    - $\\nabla_\\theta J(\\theta)=\\mathbb E[\\nabla_\\theta\\ln \\pi_\\theta(A|S)q_\\pi(S,A)]$\n",
    "    - $\\nabla_\\theta \\approx \\nabla_\\theta\\ln \\pi_\\theta(a|s)q_\\pi(s,a)$"
   ]
  }
 ],
 "metadata": {
  "kernelspec": {
   "display_name": "Python 3 (ipykernel)",
   "language": "python",
   "name": "python3"
  },
  "language_info": {
   "codemirror_mode": {
    "name": "ipython",
    "version": 3
   },
   "file_extension": ".py",
   "mimetype": "text/x-python",
   "name": "python",
   "nbconvert_exporter": "python",
   "pygments_lexer": "ipython3",
   "version": "3.10.0"
  }
 },
 "nbformat": 4,
 "nbformat_minor": 5
}
