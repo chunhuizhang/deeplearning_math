{
 "cells": [
  {
   "cell_type": "markdown",
   "id": "3d70997d-8a34-4e73-a7bd-459c14bf3913",
   "metadata": {},
   "source": [
    "> generate observations from a distribution.\n",
    "\n",
    "- target distribution vs. candidate distribution (proposal distribution)\n",
    "    $$\n",
    "    p(s)=\\frac{f(s)}{NC}\n",
    "    $$\n",
    "    - NC：Normalizing constant（是分子部分的积分，$\\int f(s)ds$）\n",
    "        - reduce any **probability function** to a **probability density function**(PDF) with total probability of one.\n",
    "    - 我们不知道目标分布（$p(s)$），只知道 numerator（$f(s)$）\n",
    "        - 无法直接对 $f(s)$ 进行采样；\n",
    "- reject sampling\n",
    "    - 选择 $g(s)$ 跟 $p(s)$ 很接近，且易采样；\n",
    "    - scale $g(s)$ by M, 确保 $M\\cdot g(s)\\geq f(s)$\n",
    "    - algorithm\n",
    "        - sample $s$ from $g(s)$\n",
    "        - accept ratio: $\\frac{f(s)}{Mg(s)}$（一定是 <= 1 的）\n",
    "        - 可以做一个简单的推导（$D(s|A)$，given accepted，这个样本 $s$ 是 $p(s)$ 的样本的 density）\n",
    "            - $D(s|A)=\\frac{P(A|s)D(s)}{P(A)}=\\frac{\\frac{f(s)}{Mg(s)}g(s)}{P(A)}$\n",
    "                - $P(A)=\\int g(s)\\frac{f(s)}{Mg(s)}ds=\\frac1M\\int f(s)ds=\\frac{NC}M$\n",
    "            - $D(s|A)=\\frac{f(s)/M}{NC/M}=f(s)/NC=p(s)$\n",
    "    - M 越大，accept rate（$P(A)$）越低，意味着采样效率（inefficient）"
   ]
  },
  {
   "cell_type": "code",
   "execution_count": 2,
   "id": "ce628438-6a4b-491c-a93e-f30333bc8047",
   "metadata": {
    "execution": {
     "iopub.execute_input": "2024-12-21T09:22:55.242728Z",
     "iopub.status.busy": "2024-12-21T09:22:55.242436Z",
     "iopub.status.idle": "2024-12-21T09:22:55.250269Z",
     "shell.execute_reply": "2024-12-21T09:22:55.248336Z",
     "shell.execute_reply.started": "2024-12-21T09:22:55.242709Z"
    }
   },
   "outputs": [],
   "source": [
    "from IPython.display import Image"
   ]
  },
  {
   "cell_type": "code",
   "execution_count": 3,
   "id": "5497074d-7d35-4109-ac08-15150e06fa12",
   "metadata": {
    "execution": {
     "iopub.execute_input": "2024-12-21T09:22:56.468892Z",
     "iopub.status.busy": "2024-12-21T09:22:56.468285Z",
     "iopub.status.idle": "2024-12-21T09:22:56.486408Z",
     "shell.execute_reply": "2024-12-21T09:22:56.484378Z",
     "shell.execute_reply.started": "2024-12-21T09:22:56.468847Z"
    }
   },
   "outputs": [
    {
     "data": {
      "text/html": [
       "<img src=\"https://blogger.googleusercontent.com/img/b/R29vZ2xl/AVvXsEjxFGGCceUEJ5vYDOXDHa2xwkAgqr09eo-u-fJ4dLCAH8k873Z9JABI78_uU86ci-kj1IEoxVJMHaz95fwzL59btVpddMdc5BcZSBAdD2ASG_ExlosiqcpKHuJGAPsyVIEllUOcgm33aDk/s1600/rejection-sampling.png\"/>"
      ],
      "text/plain": [
       "<IPython.core.display.Image object>"
      ]
     },
     "execution_count": 3,
     "metadata": {},
     "output_type": "execute_result"
    }
   ],
   "source": [
    "Image(url='https://blogger.googleusercontent.com/img/b/R29vZ2xl/AVvXsEjxFGGCceUEJ5vYDOXDHa2xwkAgqr09eo-u-fJ4dLCAH8k873Z9JABI78_uU86ci-kj1IEoxVJMHaz95fwzL59btVpddMdc5BcZSBAdD2ASG_ExlosiqcpKHuJGAPsyVIEllUOcgm33aDk/s1600/rejection-sampling.png')"
   ]
  }
 ],
 "metadata": {
  "kernelspec": {
   "display_name": "Python 3 (ipykernel)",
   "language": "python",
   "name": "python3"
  },
  "language_info": {
   "codemirror_mode": {
    "name": "ipython",
    "version": 3
   },
   "file_extension": ".py",
   "mimetype": "text/x-python",
   "name": "python",
   "nbconvert_exporter": "python",
   "pygments_lexer": "ipython3",
   "version": "3.10.13"
  }
 },
 "nbformat": 4,
 "nbformat_minor": 5
}
