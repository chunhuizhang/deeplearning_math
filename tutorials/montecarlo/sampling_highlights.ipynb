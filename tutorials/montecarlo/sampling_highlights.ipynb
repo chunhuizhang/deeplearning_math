{
 "cells": [
  {
   "cell_type": "markdown",
   "id": "9ed90789",
   "metadata": {},
   "source": [
    "- 采样（sampling）即观测，（observation），观测即采样\n",
    "- 随机梯度（stochastic）是对期望（难以求定积分求解析解）的蒙特卡洛近似，"
   ]
  },
  {
   "cell_type": "markdown",
   "id": "7a1faed9-070b-4b6e-88de-71578925b9e3",
   "metadata": {},
   "source": [
    "- 基础方法\n",
    "    - 接受拒绝采样\n",
    "    - 重要性采样\n",
    "- mcmc\n",
    "    - mh sampling"
   ]
  }
 ],
 "metadata": {
  "kernelspec": {
   "display_name": "Python 3 (ipykernel)",
   "language": "python",
   "name": "python3"
  },
  "language_info": {
   "codemirror_mode": {
    "name": "ipython",
    "version": 3
   },
   "file_extension": ".py",
   "mimetype": "text/x-python",
   "name": "python",
   "nbconvert_exporter": "python",
   "pygments_lexer": "ipython3",
   "version": "3.10.13"
  },
  "toc": {
   "base_numbering": 1,
   "nav_menu": {},
   "number_sections": true,
   "sideBar": true,
   "skip_h1_title": false,
   "title_cell": "Table of Contents",
   "title_sidebar": "Contents",
   "toc_cell": false,
   "toc_position": {},
   "toc_section_display": true,
   "toc_window_display": false
  }
 },
 "nbformat": 4,
 "nbformat_minor": 5
}
