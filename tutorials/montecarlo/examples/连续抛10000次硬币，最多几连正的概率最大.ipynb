{
 "cells": [
  {
   "cell_type": "code",
   "execution_count": 7,
   "id": "9e4f624f-d278-4fb2-9060-18194ae0b47b",
   "metadata": {},
   "outputs": [],
   "source": [
    "import numpy as np\n",
    "import itertools\n",
    "from tqdm import tqdm\n",
    "from collections import Counter"
   ]
  },
  {
   "cell_type": "code",
   "execution_count": 4,
   "id": "86498c73-05d4-4922-88e2-2d4288789d40",
   "metadata": {},
   "outputs": [],
   "source": [
    "def simulate_coin_flips(n, trials):\n",
    "    max_lengths = []\n",
    "    for _ in tqdm(range(trials)):\n",
    "        # Generate a sequence of 0s and 1s, where 1 represents heads\n",
    "        flips = np.random.randint(0, 2, n)\n",
    "        # Find lengths of consecutive heads\n",
    "        heads_lengths = [sum(1 for _ in group) for bit, group in itertools.groupby(flips) if bit == 1]\n",
    "        # Track the maximum length of consecutive heads\n",
    "        max_lengths.append(max(heads_lengths) if heads_lengths else 0)\n",
    "    return max_lengths"
   ]
  },
  {
   "cell_type": "code",
   "execution_count": 5,
   "id": "e2dbdbf8-5ee2-4d2d-92dc-6413a25c5cb1",
   "metadata": {},
   "outputs": [
    {
     "name": "stderr",
     "output_type": "stream",
     "text": [
      "100%|██████████| 10000/10000 [00:16<00:00, 616.18it/s]\n"
     ]
    }
   ],
   "source": [
    "# Number of flips and number of simulations\n",
    "n_flips = 10000\n",
    "n_trials = 10000\n",
    "\n",
    "# Perform the simulation\n",
    "max_lengths = simulate_coin_flips(n_flips, n_trials)"
   ]
  },
  {
   "cell_type": "code",
   "execution_count": 8,
   "id": "12e61524-fa85-49f3-8e8f-b2ab90234a2e",
   "metadata": {},
   "outputs": [
    {
     "data": {
      "text/plain": [
       "Counter({12: 2450,\n",
       "         11: 2049,\n",
       "         13: 1943,\n",
       "         14: 1255,\n",
       "         10: 784,\n",
       "         15: 675,\n",
       "         16: 382,\n",
       "         17: 186,\n",
       "         18: 99,\n",
       "         9: 75,\n",
       "         19: 42,\n",
       "         20: 27,\n",
       "         22: 11,\n",
       "         21: 9,\n",
       "         23: 5,\n",
       "         24: 4,\n",
       "         27: 1,\n",
       "         25: 1,\n",
       "         8: 1,\n",
       "         26: 1})"
      ]
     },
     "execution_count": 8,
     "metadata": {},
     "output_type": "execute_result"
    }
   ],
   "source": [
    "Counter(max_lengths)"
   ]
  },
  {
   "cell_type": "code",
   "execution_count": 9,
   "id": "91ff0fda-4fe4-485e-81de-81ca15264e1a",
   "metadata": {},
   "outputs": [
    {
     "data": {
      "text/plain": [
       "(12, 27)"
      ]
     },
     "execution_count": 9,
     "metadata": {},
     "output_type": "execute_result"
    }
   ],
   "source": [
    "# Calculate and print the most common maximum streak length\n",
    "unique, counts = np.unique(max_lengths, return_counts=True)\n",
    "most_common_length = unique[np.argmax(counts)]\n",
    "\n",
    "most_common_length, max(max_lengths)"
   ]
  },
  {
   "cell_type": "code",
   "execution_count": null,
   "id": "b37e91f8-b1ba-4b73-943f-56a66683ac4c",
   "metadata": {},
   "outputs": [],
   "source": []
  }
 ],
 "metadata": {
  "kernelspec": {
   "display_name": "Python 3 (ipykernel)",
   "language": "python",
   "name": "python3"
  },
  "language_info": {
   "codemirror_mode": {
    "name": "ipython",
    "version": 3
   },
   "file_extension": ".py",
   "mimetype": "text/x-python",
   "name": "python",
   "nbconvert_exporter": "python",
   "pygments_lexer": "ipython3",
   "version": "3.10.13"
  }
 },
 "nbformat": 4,
 "nbformat_minor": 5
}
