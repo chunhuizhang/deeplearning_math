{
 "cells": [
  {
   "cell_type": "code",
   "execution_count": 1,
   "id": "81104351-0b31-4227-a08d-61d9b56fdb5c",
   "metadata": {},
   "outputs": [],
   "source": [
    "import scipy as sp\n",
    "import numpy as np"
   ]
  },
  {
   "cell_type": "markdown",
   "id": "3d13305f-b4cc-4e48-b03d-94ba8d7f12f3",
   "metadata": {},
   "source": [
    "## LU 分解"
   ]
  },
  {
   "cell_type": "markdown",
   "id": "d008fd20-c3df-4e4b-9e12-5a895abc013c",
   "metadata": {},
   "source": [
    "$$\n",
    "A = P @ L @ U\n",
    "$$\n",
    "\n",
    "- P is a permutation matrix\n",
    "- L lower triangular with **unit diagonal elements**,\n",
    "- U upper triangular."
   ]
  },
  {
   "cell_type": "code",
   "execution_count": 2,
   "id": "8880a0ab-1377-44ee-b6bb-0985d7b65c3e",
   "metadata": {},
   "outputs": [
    {
     "data": {
      "text/plain": [
       "array([[2, 5, 8, 7],\n",
       "       [5, 2, 2, 8],\n",
       "       [7, 5, 6, 6],\n",
       "       [5, 4, 4, 8]])"
      ]
     },
     "execution_count": 2,
     "metadata": {},
     "output_type": "execute_result"
    }
   ],
   "source": [
    "A = np.array([[2, 5, 8, 7], \n",
    "              [5, 2, 2, 8], \n",
    "              [7, 5, 6, 6], \n",
    "              [5, 4, 4, 8]])\n",
    "A"
   ]
  },
  {
   "cell_type": "code",
   "execution_count": 17,
   "id": "f78f4411-3ed8-4743-b918-c494ebfe9840",
   "metadata": {},
   "outputs": [],
   "source": [
    "P, L, U = sp.linalg.lu(A)"
   ]
  },
  {
   "cell_type": "code",
   "execution_count": 7,
   "id": "6fc98820-028d-43a9-8797-ec150cded80d",
   "metadata": {},
   "outputs": [
    {
     "data": {
      "text/plain": [
       "True"
      ]
     },
     "execution_count": 7,
     "metadata": {},
     "output_type": "execute_result"
    }
   ],
   "source": [
    "np.allclose(A, P @ L @ U)"
   ]
  },
  {
   "cell_type": "code",
   "execution_count": 19,
   "id": "31650dd0-7a28-403f-9456-b7c5adae471b",
   "metadata": {},
   "outputs": [
    {
     "data": {
      "text/plain": [
       "array([[0., 1., 0., 0.],\n",
       "       [0., 0., 0., 1.],\n",
       "       [1., 0., 0., 0.],\n",
       "       [0., 0., 1., 0.]])"
      ]
     },
     "execution_count": 19,
     "metadata": {},
     "output_type": "execute_result"
    }
   ],
   "source": [
    "# 要看每一行为1的entry所在的 column index\n",
    "# 1, 3, 0, 2\n",
    "P"
   ]
  },
  {
   "cell_type": "code",
   "execution_count": 11,
   "id": "b8112e6f-761d-417c-8de7-3ae05f9fa5b5",
   "metadata": {},
   "outputs": [],
   "source": [
    "# L"
   ]
  },
  {
   "cell_type": "code",
   "execution_count": 12,
   "id": "2849cfc0-68f9-4d63-86cb-6ed42ab5f46a",
   "metadata": {},
   "outputs": [],
   "source": [
    "# U"
   ]
  },
  {
   "cell_type": "code",
   "execution_count": 14,
   "id": "70273735-1ab0-4925-936f-f4a940a8cda7",
   "metadata": {},
   "outputs": [],
   "source": [
    "P, L, U = sp.linalg.lu(A, p_indices=True)"
   ]
  },
  {
   "cell_type": "code",
   "execution_count": 15,
   "id": "65396239-9aea-43ae-9679-0dc14e60caa1",
   "metadata": {},
   "outputs": [
    {
     "data": {
      "text/plain": [
       "array([1, 3, 0, 2], dtype=int32)"
      ]
     },
     "execution_count": 15,
     "metadata": {},
     "output_type": "execute_result"
    }
   ],
   "source": [
    "P"
   ]
  },
  {
   "cell_type": "code",
   "execution_count": 16,
   "id": "8feb9596-f204-450e-b0c4-73363591df23",
   "metadata": {},
   "outputs": [
    {
     "data": {
      "text/plain": [
       "True"
      ]
     },
     "execution_count": 16,
     "metadata": {},
     "output_type": "execute_result"
    }
   ],
   "source": [
    "np.allclose(A, L[P, :] @ U)"
   ]
  },
  {
   "cell_type": "markdown",
   "id": "cf99b009-7a3a-44a3-9f89-3a1dd5ff0ed9",
   "metadata": {},
   "source": [
    "## Cholesky 分解"
   ]
  },
  {
   "cell_type": "markdown",
   "id": "ff599507-c28d-48ad-86b4-62712a41ee26",
   "metadata": {},
   "source": [
    "- 一个矩阵能够被 Cholesky 分解的前提就是必须是正定的（这也是 check 一个矩阵是否为正定矩阵的方法）\n",
    "    - 首先需要是对称的方阵\n",
    "- Cholesky 分解被用于快速求解如下的线性方程组\n",
    "\n",
    "$$\n",
    "Ax=b\n",
    "$$\n",
    "\n",
    "- A = L @ L.T\n",
    "- A = U.T @ U"
   ]
  },
  {
   "cell_type": "code",
   "execution_count": 20,
   "id": "b126f2cc-a3eb-4f26-a63c-8346f9943214",
   "metadata": {},
   "outputs": [
    {
     "data": {
      "text/plain": [
       "array([[ 6,  3,  4,  8],\n",
       "       [ 3,  6,  5,  1],\n",
       "       [ 4,  5, 10,  7],\n",
       "       [ 8,  1,  7, 25]])"
      ]
     },
     "execution_count": 20,
     "metadata": {},
     "output_type": "execute_result"
    }
   ],
   "source": [
    "A = np.array([[6, 3, 4, 8], \n",
    "              [3, 6, 5, 1], \n",
    "              [4, 5, 10, 7], \n",
    "              [8, 1, 7, 25]])\n",
    "A"
   ]
  },
  {
   "cell_type": "code",
   "execution_count": 22,
   "id": "d416484f-703a-4a68-a072-4a2d7a13c7df",
   "metadata": {},
   "outputs": [],
   "source": [
    "L = np.linalg.cholesky(A)"
   ]
  },
  {
   "cell_type": "code",
   "execution_count": 23,
   "id": "3eced882-6f75-4e87-96ee-45038cd4c234",
   "metadata": {},
   "outputs": [
    {
     "data": {
      "text/plain": [
       "array([[ 2.44948974,  0.        ,  0.        ,  0.        ],\n",
       "       [ 1.22474487,  2.12132034,  0.        ,  0.        ],\n",
       "       [ 1.63299316,  1.41421356,  2.30940108,  0.        ],\n",
       "       [ 3.26598632, -1.41421356,  1.58771324,  3.13249102]])"
      ]
     },
     "execution_count": 23,
     "metadata": {},
     "output_type": "execute_result"
    }
   ],
   "source": [
    "L"
   ]
  },
  {
   "cell_type": "code",
   "execution_count": 24,
   "id": "302a7201-4fe9-45af-b009-174ec6d02ad1",
   "metadata": {},
   "outputs": [
    {
     "data": {
      "text/plain": [
       "True"
      ]
     },
     "execution_count": 24,
     "metadata": {},
     "output_type": "execute_result"
    }
   ],
   "source": [
    "np.allclose(L @ L.T, A)"
   ]
  },
  {
   "cell_type": "code",
   "execution_count": 30,
   "id": "b7261904-3120-403c-bddf-b5c0d648801c",
   "metadata": {},
   "outputs": [],
   "source": [
    "L = np.linalg.cholesky(A)"
   ]
  },
  {
   "cell_type": "code",
   "execution_count": 31,
   "id": "a83adf92-66b8-467e-834b-abcfbcd573d1",
   "metadata": {},
   "outputs": [
    {
     "data": {
      "text/plain": [
       "True"
      ]
     },
     "execution_count": 31,
     "metadata": {},
     "output_type": "execute_result"
    }
   ],
   "source": [
    "U = L.T\n",
    "np.allclose(U.T @ U, A)"
   ]
  },
  {
   "cell_type": "markdown",
   "id": "91334409-50f0-4cd0-aaab-52e374d99e76",
   "metadata": {},
   "source": [
    "### QR 分解"
   ]
  },
  {
   "cell_type": "markdown",
   "id": "0fc1f9e4-d014-41e7-8315-1d071d36517e",
   "metadata": {},
   "source": [
    "- 最小二乘\n",
    "    - $Ax=b$\n",
    "    - $QRx=b$\n",
    "    - $Rx=Q^Tb$"
   ]
  },
  {
   "cell_type": "code",
   "execution_count": 3,
   "id": "c798b27e-bedf-45d0-8a22-3e4a30f11931",
   "metadata": {},
   "outputs": [],
   "source": [
    "A = np.array([[1., 2., 3.],\n",
    "              [4., 5., 6.],\n",
    "              [7., 8., 11.],\n",
    "              [10., 12., 13.]])"
   ]
  },
  {
   "cell_type": "code",
   "execution_count": 4,
   "id": "5eba6c17-8e24-4b33-8379-60edddfa1821",
   "metadata": {},
   "outputs": [],
   "source": [
    "Q, R = np.linalg.qr(A)"
   ]
  },
  {
   "cell_type": "code",
   "execution_count": 5,
   "id": "d75fab26-eb53-473a-9585-e89d1bdec7c6",
   "metadata": {},
   "outputs": [
    {
     "data": {
      "text/plain": [
       "array([[-12.88409873, -15.36778041, -18.1619223 ],\n",
       "       [  0.        ,   0.91177042,   0.97784074],\n",
       "       [  0.        ,   0.        ,  -2.0465595 ]])"
      ]
     },
     "execution_count": 5,
     "metadata": {},
     "output_type": "execute_result"
    }
   ],
   "source": [
    "R"
   ]
  },
  {
   "cell_type": "code",
   "execution_count": 6,
   "id": "2d72c281-689a-41db-916f-32e650e57c8d",
   "metadata": {},
   "outputs": [
    {
     "data": {
      "text/plain": [
       "array([[-0.07761505,  0.88534229, -0.35407604],\n",
       "       [-0.31046021,  0.25106722, -0.05665217],\n",
       "       [-0.54330537, -0.38320786, -0.73647816],\n",
       "       [-0.77615053,  0.07928438,  0.57360318]])"
      ]
     },
     "execution_count": 6,
     "metadata": {},
     "output_type": "execute_result"
    }
   ],
   "source": [
    "Q"
   ]
  },
  {
   "cell_type": "code",
   "execution_count": 7,
   "id": "335cfb6b-3cb8-49a0-b3f1-9b1f2c4d8dcf",
   "metadata": {},
   "outputs": [
    {
     "data": {
      "text/plain": [
       "array([[ 1.00000000e+00, -4.46366570e-16,  2.46478751e-16],\n",
       "       [-4.46366570e-16,  1.00000000e+00, -2.10349284e-16],\n",
       "       [ 2.46478751e-16, -2.10349284e-16,  1.00000000e+00]])"
      ]
     },
     "execution_count": 7,
     "metadata": {},
     "output_type": "execute_result"
    }
   ],
   "source": [
    "Q.T @ Q"
   ]
  },
  {
   "cell_type": "code",
   "execution_count": 8,
   "id": "cefdde13-8af3-4edc-a983-b31943d582b4",
   "metadata": {},
   "outputs": [],
   "source": [
    "b = np.array([6., 15., 26., 35.])"
   ]
  },
  {
   "cell_type": "code",
   "execution_count": 9,
   "id": "fd907c6f-1418-4b2b-8780-1f1eb451c0f1",
   "metadata": {},
   "outputs": [],
   "source": [
    "QT_b = Q.T @ b"
   ]
  },
  {
   "cell_type": "code",
   "execution_count": 11,
   "id": "fec24099-88a4-4093-8a80-5dd8af3b6264",
   "metadata": {},
   "outputs": [
    {
     "data": {
      "text/plain": [
       "array([1., 1., 1.])"
      ]
     },
     "execution_count": 11,
     "metadata": {},
     "output_type": "execute_result"
    }
   ],
   "source": [
    "x = np.linalg.solve(R, QT_b)\n",
    "x"
   ]
  },
  {
   "cell_type": "code",
   "execution_count": 12,
   "id": "daf6e108-2860-4879-8605-35d9ab51418b",
   "metadata": {},
   "outputs": [
    {
     "data": {
      "text/plain": [
       "(array([1., 1., 1.]),\n",
       " array([9.96557415e-31]),\n",
       " np.int32(3),\n",
       " array([27.11639294,  1.53931299,  0.5759769 ]))"
      ]
     },
     "execution_count": 12,
     "metadata": {},
     "output_type": "execute_result"
    }
   ],
   "source": [
    "np.linalg.lstsq(A, b, rcond=None)"
   ]
  },
  {
   "cell_type": "code",
   "execution_count": null,
   "id": "9d559dc9-bb32-4e27-92b4-e5a85d828d73",
   "metadata": {},
   "outputs": [],
   "source": []
  }
 ],
 "metadata": {
  "kernelspec": {
   "display_name": "Python 3 (ipykernel)",
   "language": "python",
   "name": "python3"
  },
  "language_info": {
   "codemirror_mode": {
    "name": "ipython",
    "version": 3
   },
   "file_extension": ".py",
   "mimetype": "text/x-python",
   "name": "python",
   "nbconvert_exporter": "python",
   "pygments_lexer": "ipython3",
   "version": "3.10.0"
  }
 },
 "nbformat": 4,
 "nbformat_minor": 5
}
