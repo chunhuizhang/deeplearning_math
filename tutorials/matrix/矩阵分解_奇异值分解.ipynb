{
 "cells": [
  {
   "cell_type": "markdown",
   "id": "a0c483c7",
   "metadata": {},
   "source": [
    "## 对角化与特征值分解"
   ]
  },
  {
   "cell_type": "markdown",
   "id": "3ecb0ba0",
   "metadata": {},
   "source": [
    "- 对 $A$ 进行特征值分解\n",
    "    - $Q=\\left[\\mathbf v_1, \\mathbf v_2, \\cdots, \\mathbf v_n\\right]$\n",
    "    - $AQ=\\left[\\lambda_1\\mathbf v_1, \\lambda_2\\mathbf v_2, \\cdots, \\lambda_n\\mathbf v_n\\right]$\n",
    "    - $AQ=Q\\Lambda$\n",
    "        - $Ax=\\sum_ix_ia_i$\n",
    "\n",
    "        $$\n",
    "        \\Lambda=\\begin{pmatrix}\n",
    "        \\lambda_1 & 0 & \\cdots & 0 \\\\\n",
    "        0 & \\lambda_2 & \\cdots & 0 \\\\\n",
    "        \\vdots & \\vdots & \\ddots & \\vdots \\\\\n",
    "        0 & 0 & \\cdots & \\lambda_n\n",
    "        \\end{pmatrix} \n",
    "        $$\n",
    "    - $A=Q\\Lambda Q^{-1}$\n",
    "\n",
    "    "
   ]
  },
  {
   "cell_type": "markdown",
   "id": "85a3b97a",
   "metadata": {},
   "source": [
    "### 实对称矩阵"
   ]
  },
  {
   "cell_type": "markdown",
   "id": "2fdbf2e3",
   "metadata": {},
   "source": [
    "- 当 $A$ 是实对称矩阵时，$A=Q\\Lambda Q^T$\n",
    "    - $(\\lambda_i, v_i), (\\lambda_j, v_j)$\n",
    "    - $v_i^TAv_j=\\lambda_jv_i^Tv_j$\n",
    "    - $v_j^TAv_i=\\lambda_iv_j^Tv_i$\n",
    "    - 因为 $A=A^T$，所以有 $v_i^TAv_j=v_j^TAv_i$（两等式左侧），因此有 $\\lambda_jv_i^Tv_j=\\lambda_iv_j^Tv_i$（等式右侧）\n",
    "        - 因为 $\\lambda_i \\neq \\lambda_j$，所以只能是 $v_i\\perp v_j$\n",
    "    - 所以 $Q$ 是一个正交阵（orthogonal matrix）\n",
    "        - $Q^TQ=I, \\quad v_i^Tv_i=1, v_i^Tv_j=0$"
   ]
  },
  {
   "cell_type": "code",
   "execution_count": 3,
   "id": "fbd57cdd",
   "metadata": {
    "ExecuteTime": {
     "end_time": "2023-11-13T15:57:26.385241Z",
     "start_time": "2023-11-13T15:57:26.379570Z"
    }
   },
   "outputs": [],
   "source": [
    "import numpy as np\n",
    "from numpy.linalg import eigh"
   ]
  },
  {
   "cell_type": "code",
   "execution_count": 16,
   "id": "c128834e",
   "metadata": {
    "ExecuteTime": {
     "end_time": "2023-11-13T15:58:44.678273Z",
     "start_time": "2023-11-13T15:58:44.670488Z"
    }
   },
   "outputs": [],
   "source": [
    "a = np.asarray([[ 2.,  1.,  0.,  0.], \n",
    "                [ 1.,  2.,  0.,  0.], \n",
    "                [ 0.,  0.,  2.,  1.], \n",
    "                [ 0.,  0.,  1.,  2.]])"
   ]
  },
  {
   "cell_type": "code",
   "execution_count": 17,
   "id": "e44952dc",
   "metadata": {
    "ExecuteTime": {
     "end_time": "2023-11-13T15:58:45.877614Z",
     "start_time": "2023-11-13T15:58:45.871898Z"
    }
   },
   "outputs": [],
   "source": [
    "Lambda, Q = eigh(a)"
   ]
  },
  {
   "cell_type": "code",
   "execution_count": 18,
   "id": "242f7b8d",
   "metadata": {
    "ExecuteTime": {
     "end_time": "2023-11-13T15:58:46.855053Z",
     "start_time": "2023-11-13T15:58:46.845118Z"
    }
   },
   "outputs": [
    {
     "data": {
      "text/plain": [
       "array([[-0.70710678,  0.70710678,  0.        ,  0.        ],\n",
       "       [ 0.        ,  0.        , -0.70710678,  0.70710678],\n",
       "       [ 0.        ,  0.        ,  0.70710678,  0.70710678],\n",
       "       [ 0.70710678,  0.70710678,  0.        ,  0.        ]])"
      ]
     },
     "execution_count": 18,
     "metadata": {},
     "output_type": "execute_result"
    }
   ],
   "source": [
    "Q.T"
   ]
  },
  {
   "cell_type": "code",
   "execution_count": 19,
   "id": "b1a8edcc",
   "metadata": {
    "ExecuteTime": {
     "end_time": "2023-11-13T15:58:48.023679Z",
     "start_time": "2023-11-13T15:58:48.011810Z"
    },
    "scrolled": true
   },
   "outputs": [
    {
     "data": {
      "text/plain": [
       "array([[-0.70710678,  0.70710678, -0.        , -0.        ],\n",
       "       [-0.        , -0.        , -0.70710678,  0.70710678],\n",
       "       [ 0.        ,  0.        ,  0.70710678,  0.70710678],\n",
       "       [ 0.70710678,  0.70710678,  0.        ,  0.        ]])"
      ]
     },
     "execution_count": 19,
     "metadata": {},
     "output_type": "execute_result"
    }
   ],
   "source": [
    "np.linalg.inv(Q)"
   ]
  },
  {
   "cell_type": "code",
   "execution_count": 23,
   "id": "87aab600",
   "metadata": {
    "ExecuteTime": {
     "end_time": "2023-11-13T15:59:15.173100Z",
     "start_time": "2023-11-13T15:59:15.162984Z"
    }
   },
   "outputs": [
    {
     "data": {
      "text/plain": [
       "array([[1., 0., 0., 0.],\n",
       "       [0., 1., 0., 0.],\n",
       "       [0., 0., 3., 0.],\n",
       "       [0., 0., 0., 3.]])"
      ]
     },
     "execution_count": 23,
     "metadata": {},
     "output_type": "execute_result"
    }
   ],
   "source": [
    "np.diag(Lambda)"
   ]
  },
  {
   "cell_type": "code",
   "execution_count": 24,
   "id": "62ece5df",
   "metadata": {
    "ExecuteTime": {
     "end_time": "2023-11-13T15:59:18.729555Z",
     "start_time": "2023-11-13T15:59:18.710778Z"
    }
   },
   "outputs": [
    {
     "data": {
      "text/plain": [
       "array([[2., 1., 0., 0.],\n",
       "       [1., 2., 0., 0.],\n",
       "       [0., 0., 2., 1.],\n",
       "       [0., 0., 1., 2.]])"
      ]
     },
     "execution_count": 24,
     "metadata": {},
     "output_type": "execute_result"
    }
   ],
   "source": [
    "Q.dot(np.diag(Lambda)).dot(Q.T)"
   ]
  },
  {
   "cell_type": "code",
   "execution_count": 26,
   "id": "d2319bd8",
   "metadata": {
    "ExecuteTime": {
     "end_time": "2023-11-13T15:59:36.040044Z",
     "start_time": "2023-11-13T15:59:36.027932Z"
    }
   },
   "outputs": [
    {
     "data": {
      "text/plain": [
       "array([[2., 1., 0., 0.],\n",
       "       [1., 2., 0., 0.],\n",
       "       [0., 0., 2., 1.],\n",
       "       [0., 0., 1., 2.]])"
      ]
     },
     "execution_count": 26,
     "metadata": {},
     "output_type": "execute_result"
    }
   ],
   "source": [
    "Q.dot(np.diag(Lambda)).dot(np.linalg.inv(Q))"
   ]
  }
 ],
 "metadata": {
  "kernelspec": {
   "display_name": "Python 3 (ipykernel)",
   "language": "python",
   "name": "python3"
  },
  "language_info": {
   "codemirror_mode": {
    "name": "ipython",
    "version": 3
   },
   "file_extension": ".py",
   "mimetype": "text/x-python",
   "name": "python",
   "nbconvert_exporter": "python",
   "pygments_lexer": "ipython3",
   "version": "3.10.9"
  },
  "toc": {
   "base_numbering": 1,
   "nav_menu": {},
   "number_sections": true,
   "sideBar": true,
   "skip_h1_title": false,
   "title_cell": "Table of Contents",
   "title_sidebar": "Contents",
   "toc_cell": false,
   "toc_position": {},
   "toc_section_display": true,
   "toc_window_display": false
  }
 },
 "nbformat": 4,
 "nbformat_minor": 5
}
