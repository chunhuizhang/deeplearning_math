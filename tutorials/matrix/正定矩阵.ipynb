{
 "cells": [
  {
   "cell_type": "code",
   "execution_count": 1,
   "id": "51786bd9-08f1-4302-bd4a-19723588a550",
   "metadata": {},
   "outputs": [],
   "source": [
    "import numpy as np"
   ]
  },
  {
   "cell_type": "markdown",
   "id": "a12ec345-daac-4adf-9a18-dacdc017510e",
   "metadata": {},
   "source": [
    "## 正定矩阵（positive definite）"
   ]
  },
  {
   "cell_type": "markdown",
   "id": "d4ea4852-c34d-46b9-9307-7fb69bfd2478",
   "metadata": {},
   "source": [
    "- A matrix is positive definite if it’s symmetric and all its **pivots** are positive.\n",
    "    - 正定矩阵首先是对称的；（方阵）\n",
    "    - pivots：一般翻译为主元；\n",
    "- One way to tell if a matrix is positive definite is to calculate all the eigenvalues and just check to see if they’re all positive.\n",
    "\n",
    "$$\n",
    "x^TAx\\gt 0, \\quad \\forall x\\in\\mathcal R^n \\textbackslash \\{0\\}\n",
    "$$"
   ]
  },
  {
   "cell_type": "code",
   "execution_count": 2,
   "id": "f1e6833d-96d3-434c-a5e3-e27ae70e23ef",
   "metadata": {},
   "outputs": [
    {
     "data": {
      "text/plain": [
       "array([[2, 1],\n",
       "       [1, 2]])"
      ]
     },
     "execution_count": 2,
     "metadata": {},
     "output_type": "execute_result"
    }
   ],
   "source": [
    "A = np.array([[2, 1], [1, 2]])\n",
    "A"
   ]
  },
  {
   "cell_type": "markdown",
   "id": "a1a203d8-47db-4705-9be2-33ec67cc60e4",
   "metadata": {},
   "source": [
    "### 特征值检测"
   ]
  },
  {
   "cell_type": "code",
   "execution_count": 7,
   "id": "d1f387e9-8b42-468e-8aaa-90e758d8b5a6",
   "metadata": {},
   "outputs": [
    {
     "data": {
      "text/plain": [
       "True"
      ]
     },
     "execution_count": 7,
     "metadata": {},
     "output_type": "execute_result"
    }
   ],
   "source": [
    "np.allclose(A, A.T)"
   ]
  },
  {
   "cell_type": "code",
   "execution_count": 5,
   "id": "07da1de4-d278-43db-a2c0-8ff5340b5c47",
   "metadata": {},
   "outputs": [
    {
     "data": {
      "text/plain": [
       "array([3., 1.])"
      ]
     },
     "execution_count": 5,
     "metadata": {},
     "output_type": "execute_result"
    }
   ],
   "source": [
    "eigvals = np.linalg.eigvals(A)\n",
    "eigvals"
   ]
  },
  {
   "cell_type": "code",
   "execution_count": 6,
   "id": "8f0216f8-159e-4390-a1e3-f22c108f5244",
   "metadata": {},
   "outputs": [
    {
     "data": {
      "text/plain": [
       "True"
      ]
     },
     "execution_count": 6,
     "metadata": {},
     "output_type": "execute_result"
    }
   ],
   "source": [
    "np.all(eigvals > 0)"
   ]
  },
  {
   "cell_type": "markdown",
   "id": "6b4b74c7-f073-4b53-9b05-4aa34fcce6c6",
   "metadata": {},
   "source": [
    "### Cholesky 分解"
   ]
  },
  {
   "cell_type": "markdown",
   "id": "bac5889d-f566-4aed-aa43-b50776f5a99a",
   "metadata": {},
   "source": [
    "- 一个矩阵能够 Cholesky 分解的前提必须是正定矩阵，\n",
    "    - 也即对于一个非正定矩阵进行 Cholesky 分解，会抛错"
   ]
  },
  {
   "cell_type": "code",
   "execution_count": 8,
   "id": "cd4092c2-9487-4c6c-8ee5-2ddc3c605636",
   "metadata": {},
   "outputs": [
    {
     "data": {
      "text/plain": [
       "array([[1.41421356, 0.        ],\n",
       "       [0.70710678, 1.22474487]])"
      ]
     },
     "execution_count": 8,
     "metadata": {},
     "output_type": "execute_result"
    }
   ],
   "source": [
    "np.linalg.cholesky(A)"
   ]
  },
  {
   "cell_type": "code",
   "execution_count": 9,
   "id": "17ebcd33-7406-4dcb-9423-02b4544e1aa1",
   "metadata": {},
   "outputs": [],
   "source": [
    "def is_pos_definite(A):\n",
    "    if not np.allclose(A, A.T):\n",
    "        return False\n",
    "    try:\n",
    "        np.linalg.cholesky(A)\n",
    "        return True\n",
    "    except np.linalg.LinAlgError:\n",
    "        return False"
   ]
  },
  {
   "cell_type": "code",
   "execution_count": 10,
   "id": "ca698213-4d8e-4417-9db8-b1552cb7f228",
   "metadata": {},
   "outputs": [
    {
     "data": {
      "text/plain": [
       "array([[2., 1.],\n",
       "       [1., 2.]])"
      ]
     },
     "execution_count": 10,
     "metadata": {},
     "output_type": "execute_result"
    }
   ],
   "source": [
    "A_prime = np.linalg.cholesky(A)\n",
    "A_prime @ A_prime.T"
   ]
  }
 ],
 "metadata": {
  "kernelspec": {
   "display_name": "Python 3 (ipykernel)",
   "language": "python",
   "name": "python3"
  },
  "language_info": {
   "codemirror_mode": {
    "name": "ipython",
    "version": 3
   },
   "file_extension": ".py",
   "mimetype": "text/x-python",
   "name": "python",
   "nbconvert_exporter": "python",
   "pygments_lexer": "ipython3",
   "version": "3.10.13"
  }
 },
 "nbformat": 4,
 "nbformat_minor": 5
}
