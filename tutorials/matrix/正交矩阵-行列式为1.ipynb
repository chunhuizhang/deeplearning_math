{
 "cells": [
  {
   "cell_type": "markdown",
   "id": "0ab044bc-b016-4beb-abe3-b160dc8cf9c0",
   "metadata": {},
   "source": [
    "## 正交矩阵（orthogonal）"
   ]
  },
  {
   "cell_type": "markdown",
   "id": "15e4f599-936f-4203-b1e2-3d4a0a3b03b9",
   "metadata": {},
   "source": [
    "- $Q^TQ=QQ^T=\\mathbf I$\n",
    "    - $Q^T=Q^{-1}$（这是一个很好的性质，可以通过转置快速计算正交矩阵的逆矩阵）\n",
    "- $\\|Qu\\|=(Qu)^TQu=u^TQ^TQu=u^Tu=\\|u\\|$\n",
    "    - 矩阵变换后，不改变模长；\n",
    "    - preserves vector lengths\n",
    "- 正交矩阵的行列式为 1/-1\n",
    "\n",
    "    $$\n",
    "    1=\\det(I)=\\det\\left(Q^\\mathrm{T}Q\\right)=\\det\\left(Q^\\mathrm{T}\\right)\\det(Q)=\\bigl(\\det(Q)\\bigr)^2 \n",
    "    $$"
   ]
  },
  {
   "cell_type": "markdown",
   "id": "0ef6b104-4353-4897-9cc2-1799b21c5e6a",
   "metadata": {},
   "source": [
    "## 行列式为1"
   ]
  },
  {
   "cell_type": "markdown",
   "id": "3b586638-3e70-4651-a891-344b4b0e5d28",
   "metadata": {},
   "source": [
    "- https://mathinsight.org/determinant_linear_transformation"
   ]
  }
 ],
 "metadata": {
  "kernelspec": {
   "display_name": "Python 3 (ipykernel)",
   "language": "python",
   "name": "python3"
  },
  "language_info": {
   "codemirror_mode": {
    "name": "ipython",
    "version": 3
   },
   "file_extension": ".py",
   "mimetype": "text/x-python",
   "name": "python",
   "nbconvert_exporter": "python",
   "pygments_lexer": "ipython3",
   "version": "3.10.13"
  }
 },
 "nbformat": 4,
 "nbformat_minor": 5
}
