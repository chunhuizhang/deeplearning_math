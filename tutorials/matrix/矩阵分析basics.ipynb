{
 "cells": [
  {
   "cell_type": "markdown",
   "id": "8933ec4c",
   "metadata": {},
   "source": [
    "## `Ax`"
   ]
  },
  {
   "cell_type": "markdown",
   "id": "debef283",
   "metadata": {},
   "source": [
    "### 线性组合"
   ]
  },
  {
   "cell_type": "markdown",
   "id": "87ec58c5",
   "metadata": {},
   "source": [
    "- A 列向量的线性组合；\n",
    "    - $a_i$ 表示 $A$ 的列向量；\n",
    "\n",
    "$$\n",
    "Ax=\\sum_ix_ia_i\n",
    "$$"
   ]
  },
  {
   "cell_type": "markdown",
   "id": "7d40013b",
   "metadata": {},
   "source": [
    "### x 的线性变换"
   ]
  },
  {
   "cell_type": "markdown",
   "id": "0ff07702",
   "metadata": {},
   "source": [
    "- A 是方阵时，\n",
    "- A 不是方阵时\n",
    "    - 投影 project；"
   ]
  },
  {
   "cell_type": "markdown",
   "id": "0d43f80c",
   "metadata": {},
   "source": [
    "## 矩阵微分"
   ]
  },
  {
   "cell_type": "markdown",
   "id": "1759e073",
   "metadata": {},
   "source": [
    "- references\n",
    "    - https://atmos.washington.edu/~dennis/MatrixCalculus.pdf"
   ]
  },
  {
   "cell_type": "markdown",
   "id": "53256ad2",
   "metadata": {
    "ExecuteTime": {
     "end_time": "2023-11-25T05:34:17.820614Z",
     "start_time": "2023-11-25T05:34:17.810015Z"
    }
   },
   "source": [
    "$$\n",
    "\\begin{split}\n",
    "&\\frac{\\partial}{\\partial x}(v^Tx)=v\\\\\n",
    "&\\frac{\\partial}{\\partial x}(A\\cdot x)=A\n",
    "\\end{split}\n",
    "$$"
   ]
  }
 ],
 "metadata": {
  "kernelspec": {
   "display_name": "Python 3 (ipykernel)",
   "language": "python",
   "name": "python3"
  },
  "language_info": {
   "codemirror_mode": {
    "name": "ipython",
    "version": 3
   },
   "file_extension": ".py",
   "mimetype": "text/x-python",
   "name": "python",
   "nbconvert_exporter": "python",
   "pygments_lexer": "ipython3",
   "version": "3.10.13"
  },
  "toc": {
   "base_numbering": 1,
   "nav_menu": {},
   "number_sections": true,
   "sideBar": true,
   "skip_h1_title": false,
   "title_cell": "Table of Contents",
   "title_sidebar": "Contents",
   "toc_cell": false,
   "toc_position": {},
   "toc_section_display": true,
   "toc_window_display": false
  }
 },
 "nbformat": 4,
 "nbformat_minor": 5
}
