{
 "cells": [
  {
   "cell_type": "markdown",
   "id": "8933ec4c",
   "metadata": {},
   "source": [
    "## `Ax`"
   ]
  },
  {
   "cell_type": "markdown",
   "id": "debef283",
   "metadata": {},
   "source": [
    "### 线性组合"
   ]
  },
  {
   "cell_type": "markdown",
   "id": "87ec58c5",
   "metadata": {},
   "source": [
    "- A 列向量的线性组合；\n",
    "    - $a_i$ 表示 $A$ 的列向量；\n",
    "\n",
    "$$\n",
    "Ax=\\sum_ix_ia_i\n",
    "$$"
   ]
  },
  {
   "cell_type": "markdown",
   "id": "7d40013b",
   "metadata": {},
   "source": [
    "### x 的线性变换"
   ]
  },
  {
   "cell_type": "markdown",
   "id": "0ff07702",
   "metadata": {},
   "source": [
    "- A 是方阵时，\n",
    "- A 不是方阵时\n",
    "    - 投影 project；"
   ]
  }
 ],
 "metadata": {
  "kernelspec": {
   "display_name": "Python 3 (ipykernel)",
   "language": "python",
   "name": "python3"
  },
  "language_info": {
   "codemirror_mode": {
    "name": "ipython",
    "version": 3
   },
   "file_extension": ".py",
   "mimetype": "text/x-python",
   "name": "python",
   "nbconvert_exporter": "python",
   "pygments_lexer": "ipython3",
   "version": "3.10.9"
  },
  "toc": {
   "base_numbering": 1,
   "nav_menu": {},
   "number_sections": true,
   "sideBar": true,
   "skip_h1_title": false,
   "title_cell": "Table of Contents",
   "title_sidebar": "Contents",
   "toc_cell": false,
   "toc_position": {},
   "toc_section_display": true,
   "toc_window_display": false
  }
 },
 "nbformat": 4,
 "nbformat_minor": 5
}
