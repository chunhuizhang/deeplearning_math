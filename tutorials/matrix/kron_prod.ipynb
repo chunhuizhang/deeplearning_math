{
 "cells": [
  {
   "cell_type": "markdown",
   "id": "928e85b8",
   "metadata": {},
   "source": [
    "## `np.kron`"
   ]
  },
  {
   "cell_type": "markdown",
   "id": "7a7135d3",
   "metadata": {},
   "source": [
    "- `\\otimes`\n",
    "$$\n",
    "\\mathbf{A}\\otimes\\mathbf{B} = \\begin{bmatrix}\n",
    "  a_{11} \\mathbf{B} & \\cdots & a_{1n}\\mathbf{B} \\\\\n",
    "             \\vdots & \\ddots &           \\vdots \\\\\n",
    "  a_{m1} \\mathbf{B} & \\cdots & a_{mn} \\mathbf{B}\n",
    "\\end{bmatrix}\n",
    "$$\n",
    "\n",
    "- $\\mathbf{A}\\otimes\\mathbf{B} \\neq \\mathbf{B}\\otimes\\mathbf{A}$"
   ]
  },
  {
   "cell_type": "markdown",
   "id": "aec7925f",
   "metadata": {},
   "source": [
    "- Parameters: a, b: array_like\n",
    "- Returns: out: ndarray\n",
    "    - `a.shape = (r0,r1,..,rN)` and `b.shape = (s0,s1,...,sN)`\n",
    "    - `out.shape = (r0*s0, r1*s1, ..., rN*SN)`\n",
    "    - 因此要求 `len(a.shape) == len(b.shape)`"
   ]
  },
  {
   "cell_type": "code",
   "execution_count": 1,
   "id": "9faf31fd",
   "metadata": {
    "ExecuteTime": {
     "end_time": "2023-06-13T14:22:40.543749Z",
     "start_time": "2023-06-13T14:22:40.399672Z"
    }
   },
   "outputs": [],
   "source": [
    "import numpy as np"
   ]
  },
  {
   "cell_type": "markdown",
   "id": "398b086e",
   "metadata": {},
   "source": [
    "### case 1"
   ]
  },
  {
   "cell_type": "code",
   "execution_count": 3,
   "id": "eedcfd13",
   "metadata": {
    "ExecuteTime": {
     "end_time": "2023-06-13T14:23:12.326141Z",
     "start_time": "2023-06-13T14:23:12.315822Z"
    }
   },
   "outputs": [
    {
     "data": {
      "text/plain": [
       "array([  5,   6,  50,  60, 500, 600])"
      ]
     },
     "execution_count": 3,
     "metadata": {},
     "output_type": "execute_result"
    }
   ],
   "source": [
    "# a.shape = (3, ), b.shape = (2, )\n",
    "np.kron([1, 10, 100], [5, 6])"
   ]
  },
  {
   "cell_type": "code",
   "execution_count": 4,
   "id": "56b9da56",
   "metadata": {
    "ExecuteTime": {
     "end_time": "2023-06-13T14:23:36.382834Z",
     "start_time": "2023-06-13T14:23:36.372253Z"
    }
   },
   "outputs": [
    {
     "data": {
      "text/plain": [
       "array([  5,  50, 500,   6,  60, 600])"
      ]
     },
     "execution_count": 4,
     "metadata": {},
     "output_type": "execute_result"
    }
   ],
   "source": [
    "np.kron([5, 6], [1, 10, 100])"
   ]
  },
  {
   "cell_type": "markdown",
   "id": "67ed7f98",
   "metadata": {},
   "source": [
    "### case 2"
   ]
  },
  {
   "cell_type": "code",
   "execution_count": 5,
   "id": "9d690614",
   "metadata": {
    "ExecuteTime": {
     "end_time": "2023-06-13T14:25:36.692858Z",
     "start_time": "2023-06-13T14:25:36.685258Z"
    }
   },
   "outputs": [
    {
     "data": {
      "text/plain": [
       "array([[1., 0.],\n",
       "       [0., 1.]])"
      ]
     },
     "execution_count": 5,
     "metadata": {},
     "output_type": "execute_result"
    }
   ],
   "source": [
    "np.eye(2)"
   ]
  },
  {
   "cell_type": "code",
   "execution_count": 7,
   "id": "5aff2fa4",
   "metadata": {
    "ExecuteTime": {
     "end_time": "2023-06-13T14:26:00.291052Z",
     "start_time": "2023-06-13T14:26:00.282564Z"
    }
   },
   "outputs": [
    {
     "data": {
      "text/plain": [
       "array([[1., 1., 1.],\n",
       "       [1., 1., 1.],\n",
       "       [1., 1., 1.]])"
      ]
     },
     "execution_count": 7,
     "metadata": {},
     "output_type": "execute_result"
    }
   ],
   "source": [
    "np.ones((3, 3))"
   ]
  },
  {
   "cell_type": "code",
   "execution_count": 11,
   "id": "0f48291a",
   "metadata": {
    "ExecuteTime": {
     "end_time": "2023-06-13T14:26:55.570524Z",
     "start_time": "2023-06-13T14:26:55.560341Z"
    }
   },
   "outputs": [
    {
     "data": {
      "text/plain": [
       "array([[2., 2., 2., 0., 0., 0.],\n",
       "       [2., 2., 2., 0., 0., 0.],\n",
       "       [2., 2., 2., 0., 0., 0.],\n",
       "       [0., 0., 0., 2., 2., 2.],\n",
       "       [0., 0., 0., 2., 2., 2.],\n",
       "       [0., 0., 0., 2., 2., 2.]])"
      ]
     },
     "execution_count": 11,
     "metadata": {},
     "output_type": "execute_result"
    }
   ],
   "source": [
    "# (2, 2)*(3, 3) ==> (6, 6)\n",
    "np.kron(np.eye(2), 2*np.ones((3, 3)))"
   ]
  }
 ],
 "metadata": {
  "kernelspec": {
   "display_name": "Python 3 (ipykernel)",
   "language": "python",
   "name": "python3"
  },
  "language_info": {
   "codemirror_mode": {
    "name": "ipython",
    "version": 3
   },
   "file_extension": ".py",
   "mimetype": "text/x-python",
   "name": "python",
   "nbconvert_exporter": "python",
   "pygments_lexer": "ipython3",
   "version": "3.10.9"
  },
  "toc": {
   "base_numbering": 1,
   "nav_menu": {},
   "number_sections": true,
   "sideBar": true,
   "skip_h1_title": false,
   "title_cell": "Table of Contents",
   "title_sidebar": "Contents",
   "toc_cell": false,
   "toc_position": {},
   "toc_section_display": true,
   "toc_window_display": false
  }
 },
 "nbformat": 4,
 "nbformat_minor": 5
}
