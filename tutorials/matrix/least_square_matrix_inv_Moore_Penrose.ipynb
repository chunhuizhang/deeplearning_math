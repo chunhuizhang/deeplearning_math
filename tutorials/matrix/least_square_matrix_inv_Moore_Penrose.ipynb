{
 "cells": [
  {
   "cell_type": "code",
   "execution_count": 7,
   "id": "b8cb3860",
   "metadata": {
    "ExecuteTime": {
     "end_time": "2023-11-26T02:59:17.438819Z",
     "start_time": "2023-11-26T02:59:17.432253Z"
    }
   },
   "outputs": [],
   "source": [
    "import numpy as np\n",
    "from scipy import linalg"
   ]
  },
  {
   "cell_type": "markdown",
   "id": "895de098",
   "metadata": {},
   "source": [
    "## $Ax=b$"
   ]
  },
  {
   "cell_type": "markdown",
   "id": "63e84a49",
   "metadata": {},
   "source": [
    "$$\n",
    "x=A^{-1}b\n",
    "$$\n",
    "\n",
    "- $A$ 需要可逆，$A$ 的行列式不能为0"
   ]
  },
  {
   "cell_type": "code",
   "execution_count": 2,
   "id": "6b904597",
   "metadata": {
    "ExecuteTime": {
     "end_time": "2023-11-25T05:41:13.634448Z",
     "start_time": "2023-11-25T05:41:13.630690Z"
    }
   },
   "outputs": [],
   "source": [
    "A = np.array(\n",
    "    [\n",
    "        [1, 9, 2, 1, 1],\n",
    "        [10, 1, 2, 1, 1],\n",
    "        [1, 0, 5, 1, 1],\n",
    "        [2, 1, 1, 2, 9],\n",
    "        [2, 1, 2, 13, 2],\n",
    "    ]\n",
    ")"
   ]
  },
  {
   "cell_type": "code",
   "execution_count": 3,
   "id": "c588d62f",
   "metadata": {
    "ExecuteTime": {
     "end_time": "2023-11-25T05:41:33.218018Z",
     "start_time": "2023-11-25T05:41:33.212903Z"
    }
   },
   "outputs": [],
   "source": [
    "b = np.array([170, 180, 140, 180, 350]).reshape((-1, 1))"
   ]
  },
  {
   "cell_type": "code",
   "execution_count": 4,
   "id": "4e30e8b0",
   "metadata": {
    "ExecuteTime": {
     "end_time": "2023-11-25T05:41:46.630425Z",
     "start_time": "2023-11-25T05:41:46.617028Z"
    }
   },
   "outputs": [
    {
     "data": {
      "text/plain": [
       "array([[10.],\n",
       "       [10.],\n",
       "       [20.],\n",
       "       [20.],\n",
       "       [10.]])"
      ]
     },
     "execution_count": 4,
     "metadata": {},
     "output_type": "execute_result"
    }
   ],
   "source": [
    "x = linalg.inv(A).dot(b)\n",
    "x"
   ]
  },
  {
   "cell_type": "code",
   "execution_count": 6,
   "id": "1a5f00f0",
   "metadata": {
    "ExecuteTime": {
     "end_time": "2023-11-25T05:42:23.501774Z",
     "start_time": "2023-11-25T05:42:23.485957Z"
    }
   },
   "outputs": [
    {
     "data": {
      "text/plain": [
       "array([[10.],\n",
       "       [10.],\n",
       "       [20.],\n",
       "       [20.],\n",
       "       [10.]])"
      ]
     },
     "execution_count": 6,
     "metadata": {},
     "output_type": "execute_result"
    }
   ],
   "source": [
    "linalg.solve(A, b)"
   ]
  },
  {
   "cell_type": "markdown",
   "id": "523f6b7b",
   "metadata": {},
   "source": [
    "## Moore-Penrose inverse"
   ]
  },
  {
   "cell_type": "markdown",
   "id": "c6a1730b",
   "metadata": {},
   "source": [
    "- 又叫伪逆（Pseudo inverse）、广义逆"
   ]
  },
  {
   "cell_type": "markdown",
   "id": "a8346d9c",
   "metadata": {},
   "source": [
    "## Wikipedia examples"
   ]
  },
  {
   "cell_type": "markdown",
   "id": "01aec9fb",
   "metadata": {},
   "source": [
    "- 取决于如何建模"
   ]
  },
  {
   "cell_type": "markdown",
   "id": "8bfaaeaa",
   "metadata": {},
   "source": [
    "### fitting a line"
   ]
  },
  {
   "cell_type": "code",
   "execution_count": 11,
   "id": "800f5aba",
   "metadata": {
    "ExecuteTime": {
     "end_time": "2023-11-26T03:01:12.482564Z",
     "start_time": "2023-11-26T03:01:12.474582Z"
    }
   },
   "outputs": [],
   "source": [
    "A = np.asarray([[1, 1], \n",
    "                [1, 2], \n",
    "                [1, 3], \n",
    "                [1, 4]])\n",
    "y = np.asarray([6, 5, 7, 10]).reshape(-1, 1)"
   ]
  },
  {
   "cell_type": "code",
   "execution_count": 12,
   "id": "e619e538",
   "metadata": {
    "ExecuteTime": {
     "end_time": "2023-11-26T03:01:13.388545Z",
     "start_time": "2023-11-26T03:01:13.377262Z"
    }
   },
   "outputs": [
    {
     "data": {
      "text/plain": [
       "array([[3.5],\n",
       "       [1.4]])"
      ]
     },
     "execution_count": 12,
     "metadata": {},
     "output_type": "execute_result"
    }
   ],
   "source": [
    "beta = np.linalg.inv(A.T.dot(A)).dot(A.T).dot(y)\n",
    "beta"
   ]
  },
  {
   "cell_type": "code",
   "execution_count": 14,
   "id": "8f34c056",
   "metadata": {
    "ExecuteTime": {
     "end_time": "2023-11-26T03:01:52.817273Z",
     "start_time": "2023-11-26T03:01:52.805802Z"
    }
   },
   "outputs": [
    {
     "data": {
      "text/plain": [
       "array([[3.5],\n",
       "       [1.4]])"
      ]
     },
     "execution_count": 14,
     "metadata": {},
     "output_type": "execute_result"
    }
   ],
   "source": [
    "beta = np.linalg.pinv(A).dot(y)\n",
    "beta"
   ]
  },
  {
   "cell_type": "markdown",
   "id": "c04f6796",
   "metadata": {},
   "source": [
    "### fitting a parabola"
   ]
  },
  {
   "cell_type": "code",
   "execution_count": 19,
   "id": "5f7be2de",
   "metadata": {
    "ExecuteTime": {
     "end_time": "2023-11-26T03:20:36.174360Z",
     "start_time": "2023-11-26T03:20:36.166938Z"
    }
   },
   "outputs": [],
   "source": [
    "A = np.asarray([[1], \n",
    "                [4], \n",
    "                [9], \n",
    "                [16]])\n",
    "y = np.asarray([6, 5, 7, 10]).reshape(-1, 1)"
   ]
  },
  {
   "cell_type": "code",
   "execution_count": 20,
   "id": "1542c3b8",
   "metadata": {
    "ExecuteTime": {
     "end_time": "2023-11-26T03:20:37.294572Z",
     "start_time": "2023-11-26T03:20:37.282955Z"
    }
   },
   "outputs": [
    {
     "data": {
      "text/plain": [
       "array([[0.70338983]])"
      ]
     },
     "execution_count": 20,
     "metadata": {},
     "output_type": "execute_result"
    }
   ],
   "source": [
    "beta = np.linalg.inv(A.T.dot(A)).dot(A.T).dot(y)\n",
    "beta"
   ]
  },
  {
   "cell_type": "code",
   "execution_count": 21,
   "id": "be9c76a2",
   "metadata": {
    "ExecuteTime": {
     "end_time": "2023-11-26T03:20:51.189128Z",
     "start_time": "2023-11-26T03:20:51.178390Z"
    }
   },
   "outputs": [
    {
     "data": {
      "text/plain": [
       "array([[0.70338983]])"
      ]
     },
     "execution_count": 21,
     "metadata": {},
     "output_type": "execute_result"
    }
   ],
   "source": [
    "np.linalg.pinv(A).dot(y)"
   ]
  },
  {
   "cell_type": "code",
   "execution_count": null,
   "id": "3e897f16",
   "metadata": {},
   "outputs": [],
   "source": []
  }
 ],
 "metadata": {
  "kernelspec": {
   "display_name": "Python 3 (ipykernel)",
   "language": "python",
   "name": "python3"
  },
  "language_info": {
   "codemirror_mode": {
    "name": "ipython",
    "version": 3
   },
   "file_extension": ".py",
   "mimetype": "text/x-python",
   "name": "python",
   "nbconvert_exporter": "python",
   "pygments_lexer": "ipython3",
   "version": "3.10.13"
  },
  "toc": {
   "base_numbering": 1,
   "nav_menu": {},
   "number_sections": true,
   "sideBar": true,
   "skip_h1_title": false,
   "title_cell": "Table of Contents",
   "title_sidebar": "Contents",
   "toc_cell": false,
   "toc_position": {},
   "toc_section_display": true,
   "toc_window_display": false
  }
 },
 "nbformat": 4,
 "nbformat_minor": 5
}
