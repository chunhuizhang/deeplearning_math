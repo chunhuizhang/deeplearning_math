{
 "cells": [
  {
   "cell_type": "code",
   "execution_count": 1,
   "id": "2a599133",
   "metadata": {
    "ExecuteTime": {
     "end_time": "2023-08-30T14:26:47.880210Z",
     "start_time": "2023-08-30T14:26:47.741338Z"
    }
   },
   "outputs": [],
   "source": [
    "import numpy as np"
   ]
  },
  {
   "cell_type": "markdown",
   "id": "ab2d3548",
   "metadata": {},
   "source": [
    "## 旋转矩阵（rotation matrix）"
   ]
  },
  {
   "cell_type": "markdown",
   "id": "b00cefc9",
   "metadata": {},
   "source": [
    "$$\n",
    "R=\\begin{pmatrix}\n",
    "\\cos\\theta & -\\sin\\theta\\\\\n",
    "\\sin\\theta & \\cos\\theta\n",
    "\\end{pmatrix}\n",
    "$$"
   ]
  },
  {
   "cell_type": "markdown",
   "id": "ed04ed3d",
   "metadata": {},
   "source": [
    "### 作用于向量"
   ]
  },
  {
   "cell_type": "markdown",
   "id": "07f5e9e9",
   "metadata": {},
   "source": [
    "- 乘以一个向量，\n",
    "    - 不改变其长度（norm）\n",
    "    - 只改变其角度（只进行旋转）\n",
    "    \n",
    "$$\n",
    "\\cos\\theta=\\frac{a\\cdot b}{\\|a\\|\\|b\\|}\n",
    "$$"
   ]
  },
  {
   "cell_type": "code",
   "execution_count": 2,
   "id": "65748558",
   "metadata": {
    "ExecuteTime": {
     "end_time": "2023-08-30T14:28:14.782173Z",
     "start_time": "2023-08-30T14:28:14.777361Z"
    }
   },
   "outputs": [],
   "source": [
    "def rot_matrix(theta):\n",
    "    return np.asarray([[np.cos(theta), -np.sin(theta)],\n",
    "                       [np.sin(theta), np.cos(theta)]])"
   ]
  },
  {
   "cell_type": "code",
   "execution_count": 3,
   "id": "53626e87",
   "metadata": {
    "ExecuteTime": {
     "end_time": "2023-08-30T14:28:31.587359Z",
     "start_time": "2023-08-30T14:28:31.581973Z"
    }
   },
   "outputs": [],
   "source": [
    "x = np.asarray([1, 0])"
   ]
  },
  {
   "cell_type": "code",
   "execution_count": 4,
   "id": "3f7e1f7e",
   "metadata": {
    "ExecuteTime": {
     "end_time": "2023-08-30T14:28:41.381822Z",
     "start_time": "2023-08-30T14:28:41.377267Z"
    }
   },
   "outputs": [],
   "source": [
    "# 逆时针旋转30度\n",
    "R1 = rot_matrix(np.pi/6)"
   ]
  },
  {
   "cell_type": "code",
   "execution_count": 6,
   "id": "0656a999",
   "metadata": {
    "ExecuteTime": {
     "end_time": "2023-08-30T14:28:55.122753Z",
     "start_time": "2023-08-30T14:28:55.106656Z"
    }
   },
   "outputs": [
    {
     "data": {
      "text/plain": [
       "array([0.8660254, 0.5      ])"
      ]
     },
     "execution_count": 6,
     "metadata": {},
     "output_type": "execute_result"
    }
   ],
   "source": [
    "x_prime = R1.dot(x)\n",
    "x_prime"
   ]
  },
  {
   "cell_type": "code",
   "execution_count": 7,
   "id": "df575921",
   "metadata": {
    "ExecuteTime": {
     "end_time": "2023-08-30T14:29:08.668936Z",
     "start_time": "2023-08-30T14:29:08.654929Z"
    }
   },
   "outputs": [
    {
     "data": {
      "text/plain": [
       "0.9999999999999999"
      ]
     },
     "execution_count": 7,
     "metadata": {},
     "output_type": "execute_result"
    }
   ],
   "source": [
    "# 长度\n",
    "np.linalg.norm(x_prime)"
   ]
  },
  {
   "cell_type": "code",
   "execution_count": 8,
   "id": "656b555e",
   "metadata": {
    "ExecuteTime": {
     "end_time": "2023-08-30T14:30:52.673878Z",
     "start_time": "2023-08-30T14:30:52.666546Z"
    }
   },
   "outputs": [
    {
     "data": {
      "text/plain": [
       "0.8660254037844387"
      ]
     },
     "execution_count": 8,
     "metadata": {},
     "output_type": "execute_result"
    }
   ],
   "source": [
    "# 角度\n",
    "x_prime.dot(x) / (np.linalg.norm(x_prime) * np.linalg.norm(x))"
   ]
  },
  {
   "cell_type": "code",
   "execution_count": 9,
   "id": "27581234",
   "metadata": {
    "ExecuteTime": {
     "end_time": "2023-08-30T14:31:11.199722Z",
     "start_time": "2023-08-30T14:31:11.191858Z"
    }
   },
   "outputs": [
    {
     "data": {
      "text/plain": [
       "0.8660254037844386"
      ]
     },
     "execution_count": 9,
     "metadata": {},
     "output_type": "execute_result"
    }
   ],
   "source": [
    "np.cos(np.pi/6)"
   ]
  },
  {
   "cell_type": "markdown",
   "id": "2c2244b4",
   "metadata": {},
   "source": [
    "### 旋转矩阵连乘"
   ]
  },
  {
   "cell_type": "code",
   "execution_count": 10,
   "id": "74199f75",
   "metadata": {
    "ExecuteTime": {
     "end_time": "2023-08-30T14:31:47.162309Z",
     "start_time": "2023-08-30T14:31:47.159158Z"
    }
   },
   "outputs": [],
   "source": [
    "R2 = rot_matrix(np.pi/6)"
   ]
  },
  {
   "cell_type": "code",
   "execution_count": 12,
   "id": "e40e0368",
   "metadata": {
    "ExecuteTime": {
     "end_time": "2023-08-30T14:32:04.692203Z",
     "start_time": "2023-08-30T14:32:04.684544Z"
    }
   },
   "outputs": [
    {
     "data": {
      "text/plain": [
       "array([0.5      , 0.8660254])"
      ]
     },
     "execution_count": 12,
     "metadata": {},
     "output_type": "execute_result"
    }
   ],
   "source": [
    "x_prime2 = R2.dot(R1).dot(x)\n",
    "x_prime2"
   ]
  },
  {
   "cell_type": "code",
   "execution_count": 13,
   "id": "fb74c481",
   "metadata": {
    "ExecuteTime": {
     "end_time": "2023-08-30T14:32:15.618345Z",
     "start_time": "2023-08-30T14:32:15.609878Z"
    }
   },
   "outputs": [
    {
     "data": {
      "text/plain": [
       "0.9999999999999998"
      ]
     },
     "execution_count": 13,
     "metadata": {},
     "output_type": "execute_result"
    }
   ],
   "source": [
    "np.linalg.norm(x_prime2)"
   ]
  },
  {
   "cell_type": "code",
   "execution_count": 14,
   "id": "f61818d1",
   "metadata": {
    "ExecuteTime": {
     "end_time": "2023-08-30T14:32:24.532149Z",
     "start_time": "2023-08-30T14:32:24.523469Z"
    }
   },
   "outputs": [
    {
     "data": {
      "text/plain": [
       "0.5000000000000001"
      ]
     },
     "execution_count": 14,
     "metadata": {},
     "output_type": "execute_result"
    }
   ],
   "source": [
    "# 角度\n",
    "x_prime2.dot(x) / (np.linalg.norm(x_prime2) * np.linalg.norm(x))"
   ]
  },
  {
   "cell_type": "code",
   "execution_count": 15,
   "id": "5d3b92fd",
   "metadata": {
    "ExecuteTime": {
     "end_time": "2023-08-30T14:32:37.175123Z",
     "start_time": "2023-08-30T14:32:37.168057Z"
    }
   },
   "outputs": [
    {
     "data": {
      "text/plain": [
       "0.5000000000000001"
      ]
     },
     "execution_count": 15,
     "metadata": {},
     "output_type": "execute_result"
    }
   ],
   "source": [
    "np.cos(np.pi/6 + np.pi/6)"
   ]
  },
  {
   "cell_type": "markdown",
   "id": "649b4983",
   "metadata": {},
   "source": [
    "### 作用于矩阵"
   ]
  },
  {
   "cell_type": "code",
   "execution_count": null,
   "id": "4776fde8",
   "metadata": {},
   "outputs": [],
   "source": []
  }
 ],
 "metadata": {
  "kernelspec": {
   "display_name": "Python 3 (ipykernel)",
   "language": "python",
   "name": "python3"
  },
  "language_info": {
   "codemirror_mode": {
    "name": "ipython",
    "version": 3
   },
   "file_extension": ".py",
   "mimetype": "text/x-python",
   "name": "python",
   "nbconvert_exporter": "python",
   "pygments_lexer": "ipython3",
   "version": "3.10.9"
  },
  "toc": {
   "base_numbering": 1,
   "nav_menu": {},
   "number_sections": true,
   "sideBar": true,
   "skip_h1_title": false,
   "title_cell": "Table of Contents",
   "title_sidebar": "Contents",
   "toc_cell": false,
   "toc_position": {},
   "toc_section_display": true,
   "toc_window_display": false
  }
 },
 "nbformat": 4,
 "nbformat_minor": 5
}
