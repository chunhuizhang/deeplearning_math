{
 "cells": [
  {
   "cell_type": "code",
   "execution_count": 1,
   "id": "0f9702d1",
   "metadata": {
    "ExecuteTime": {
     "end_time": "2023-08-30T14:26:47.880210Z",
     "start_time": "2023-08-30T14:26:47.741338Z"
    }
   },
   "outputs": [],
   "source": [
    "import numpy as np"
   ]
  },
  {
   "cell_type": "markdown",
   "id": "8d604149",
   "metadata": {},
   "source": [
    "## 旋转矩阵（rotation matrix）"
   ]
  },
  {
   "cell_type": "markdown",
   "id": "4904ee59",
   "metadata": {},
   "source": [
    "$$\n",
    "R=\\begin{pmatrix}\n",
    "\\cos\\theta & -\\sin\\theta\\\\\n",
    "\\sin\\theta & \\cos\\theta\n",
    "\\end{pmatrix}\n",
    "$$"
   ]
  },
  {
   "cell_type": "markdown",
   "id": "bf8673b7",
   "metadata": {},
   "source": [
    "### 作用于向量"
   ]
  },
  {
   "cell_type": "markdown",
   "id": "d18f099e",
   "metadata": {},
   "source": [
    "- 乘以一个向量，\n",
    "    - 不改变其长度（norm）\n",
    "    - 只改变其角度（只进行旋转）\n",
    "    \n",
    "$$\n",
    "\\cos\\theta=\\frac{a\\cdot b}{\\|a\\|\\|b\\|}\n",
    "$$"
   ]
  },
  {
   "cell_type": "code",
   "execution_count": 2,
   "id": "4772650d",
   "metadata": {
    "ExecuteTime": {
     "end_time": "2023-08-30T14:28:14.782173Z",
     "start_time": "2023-08-30T14:28:14.777361Z"
    }
   },
   "outputs": [],
   "source": [
    "def rot_matrix(theta):\n",
    "    return np.asarray([[np.cos(theta), -np.sin(theta)],\n",
    "                       [np.sin(theta), np.cos(theta)]])"
   ]
  },
  {
   "cell_type": "code",
   "execution_count": 3,
   "id": "b003abab",
   "metadata": {
    "ExecuteTime": {
     "end_time": "2023-08-30T14:28:31.587359Z",
     "start_time": "2023-08-30T14:28:31.581973Z"
    }
   },
   "outputs": [],
   "source": [
    "x = np.asarray([1, 0])"
   ]
  },
  {
   "cell_type": "code",
   "execution_count": 4,
   "id": "e7ca9cc6",
   "metadata": {
    "ExecuteTime": {
     "end_time": "2023-08-30T14:28:41.381822Z",
     "start_time": "2023-08-30T14:28:41.377267Z"
    }
   },
   "outputs": [],
   "source": [
    "# 逆时针旋转30度\n",
    "R1 = rot_matrix(np.pi/6)"
   ]
  },
  {
   "cell_type": "code",
   "execution_count": 6,
   "id": "fd02f362",
   "metadata": {
    "ExecuteTime": {
     "end_time": "2023-08-30T14:28:55.122753Z",
     "start_time": "2023-08-30T14:28:55.106656Z"
    }
   },
   "outputs": [
    {
     "data": {
      "text/plain": [
       "array([0.8660254, 0.5      ])"
      ]
     },
     "execution_count": 6,
     "metadata": {},
     "output_type": "execute_result"
    }
   ],
   "source": [
    "x_prime = R1.dot(x)\n",
    "x_prime"
   ]
  },
  {
   "cell_type": "code",
   "execution_count": 7,
   "id": "7270a876",
   "metadata": {
    "ExecuteTime": {
     "end_time": "2023-08-30T14:29:08.668936Z",
     "start_time": "2023-08-30T14:29:08.654929Z"
    }
   },
   "outputs": [
    {
     "data": {
      "text/plain": [
       "0.9999999999999999"
      ]
     },
     "execution_count": 7,
     "metadata": {},
     "output_type": "execute_result"
    }
   ],
   "source": [
    "# 长度\n",
    "np.linalg.norm(x_prime)"
   ]
  },
  {
   "cell_type": "code",
   "execution_count": 8,
   "id": "3de48ddb",
   "metadata": {
    "ExecuteTime": {
     "end_time": "2023-08-30T14:30:52.673878Z",
     "start_time": "2023-08-30T14:30:52.666546Z"
    }
   },
   "outputs": [
    {
     "data": {
      "text/plain": [
       "0.8660254037844387"
      ]
     },
     "execution_count": 8,
     "metadata": {},
     "output_type": "execute_result"
    }
   ],
   "source": [
    "# 角度\n",
    "x_prime.dot(x) / (np.linalg.norm(x_prime) * np.linalg.norm(x))"
   ]
  },
  {
   "cell_type": "code",
   "execution_count": 9,
   "id": "bbd0a32b",
   "metadata": {
    "ExecuteTime": {
     "end_time": "2023-08-30T14:31:11.199722Z",
     "start_time": "2023-08-30T14:31:11.191858Z"
    }
   },
   "outputs": [
    {
     "data": {
      "text/plain": [
       "0.8660254037844386"
      ]
     },
     "execution_count": 9,
     "metadata": {},
     "output_type": "execute_result"
    }
   ],
   "source": [
    "np.cos(np.pi/6)"
   ]
  },
  {
   "cell_type": "markdown",
   "id": "8d08d30c",
   "metadata": {},
   "source": [
    "### 旋转矩阵连乘"
   ]
  },
  {
   "cell_type": "code",
   "execution_count": 10,
   "id": "5b84d044",
   "metadata": {
    "ExecuteTime": {
     "end_time": "2023-08-30T14:31:47.162309Z",
     "start_time": "2023-08-30T14:31:47.159158Z"
    }
   },
   "outputs": [],
   "source": [
    "R2 = rot_matrix(np.pi/6)"
   ]
  },
  {
   "cell_type": "code",
   "execution_count": 12,
   "id": "aa35db55",
   "metadata": {
    "ExecuteTime": {
     "end_time": "2023-08-30T14:32:04.692203Z",
     "start_time": "2023-08-30T14:32:04.684544Z"
    }
   },
   "outputs": [
    {
     "data": {
      "text/plain": [
       "array([0.5      , 0.8660254])"
      ]
     },
     "execution_count": 12,
     "metadata": {},
     "output_type": "execute_result"
    }
   ],
   "source": [
    "x_prime2 = R2.dot(R1).dot(x)\n",
    "x_prime2"
   ]
  },
  {
   "cell_type": "code",
   "execution_count": 13,
   "id": "f69d96c5",
   "metadata": {
    "ExecuteTime": {
     "end_time": "2023-08-30T14:32:15.618345Z",
     "start_time": "2023-08-30T14:32:15.609878Z"
    }
   },
   "outputs": [
    {
     "data": {
      "text/plain": [
       "0.9999999999999998"
      ]
     },
     "execution_count": 13,
     "metadata": {},
     "output_type": "execute_result"
    }
   ],
   "source": [
    "np.linalg.norm(x_prime2)"
   ]
  },
  {
   "cell_type": "code",
   "execution_count": 14,
   "id": "111cb2e8",
   "metadata": {
    "ExecuteTime": {
     "end_time": "2023-08-30T14:32:24.532149Z",
     "start_time": "2023-08-30T14:32:24.523469Z"
    }
   },
   "outputs": [
    {
     "data": {
      "text/plain": [
       "0.5000000000000001"
      ]
     },
     "execution_count": 14,
     "metadata": {},
     "output_type": "execute_result"
    }
   ],
   "source": [
    "# 角度\n",
    "x_prime2.dot(x) / (np.linalg.norm(x_prime2) * np.linalg.norm(x))"
   ]
  },
  {
   "cell_type": "code",
   "execution_count": 15,
   "id": "60acbe07",
   "metadata": {
    "ExecuteTime": {
     "end_time": "2023-08-30T14:32:37.175123Z",
     "start_time": "2023-08-30T14:32:37.168057Z"
    }
   },
   "outputs": [
    {
     "data": {
      "text/plain": [
       "0.5000000000000001"
      ]
     },
     "execution_count": 15,
     "metadata": {},
     "output_type": "execute_result"
    }
   ],
   "source": [
    "np.cos(np.pi/6 + np.pi/6)"
   ]
  },
  {
   "cell_type": "markdown",
   "id": "e57ae735",
   "metadata": {},
   "source": [
    "### 作用于矩阵"
   ]
  },
  {
   "cell_type": "code",
   "execution_count": null,
   "id": "71fa0bb7",
   "metadata": {},
   "outputs": [],
   "source": []
  }
 ],
 "metadata": {
  "kernelspec": {
   "display_name": "Python 3 (ipykernel)",
   "language": "python",
   "name": "python3"
  },
  "language_info": {
   "codemirror_mode": {
    "name": "ipython",
    "version": 3
   },
   "file_extension": ".py",
   "mimetype": "text/x-python",
   "name": "python",
   "nbconvert_exporter": "python",
   "pygments_lexer": "ipython3",
   "version": "3.10.9"
  },
  "toc": {
   "base_numbering": 1,
   "nav_menu": {},
   "number_sections": true,
   "sideBar": true,
   "skip_h1_title": false,
   "title_cell": "Table of Contents",
   "title_sidebar": "Contents",
   "toc_cell": false,
   "toc_position": {},
   "toc_section_display": true,
   "toc_window_display": false
  }
 },
 "nbformat": 4,
 "nbformat_minor": 5
}
