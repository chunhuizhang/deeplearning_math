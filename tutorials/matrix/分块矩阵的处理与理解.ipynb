{
 "cells": [
  {
   "cell_type": "code",
   "execution_count": 1,
   "id": "8be2e24b",
   "metadata": {
    "ExecuteTime": {
     "end_time": "2024-01-03T14:41:47.183814Z",
     "start_time": "2024-01-03T14:41:47.057825Z"
    }
   },
   "outputs": [],
   "source": [
    "import numpy as np"
   ]
  },
  {
   "cell_type": "code",
   "execution_count": 10,
   "id": "356e34d9",
   "metadata": {
    "ExecuteTime": {
     "end_time": "2024-01-03T14:44:51.157281Z",
     "start_time": "2024-01-03T14:44:51.150387Z"
    }
   },
   "outputs": [],
   "source": [
    "np.random.seed(42)"
   ]
  },
  {
   "cell_type": "markdown",
   "id": "2d1eea4f",
   "metadata": {},
   "source": [
    "## 右乘以一个对角矩阵"
   ]
  },
  {
   "cell_type": "markdown",
   "id": "48f6dc73",
   "metadata": {},
   "source": [
    "$$\n",
    "A_{mn}B_{nn}=\\begin{bmatrix}\n",
    "B_{11}A_1, \\cdots,B_{ii}A_i,\\cdots\n",
    "\\end{bmatrix}\n",
    "$$"
   ]
  },
  {
   "cell_type": "code",
   "execution_count": 11,
   "id": "05c3592f",
   "metadata": {
    "ExecuteTime": {
     "end_time": "2024-01-03T14:44:52.333429Z",
     "start_time": "2024-01-03T14:44:52.323781Z"
    }
   },
   "outputs": [
    {
     "data": {
      "text/plain": [
       "array([[3, 4, 2],\n",
       "       [4, 4, 1]])"
      ]
     },
     "execution_count": 11,
     "metadata": {},
     "output_type": "execute_result"
    }
   ],
   "source": [
    "A = np.random.randint(0, 5, (2, 3))\n",
    "A"
   ]
  },
  {
   "cell_type": "code",
   "execution_count": 12,
   "id": "f6c13eb1",
   "metadata": {
    "ExecuteTime": {
     "end_time": "2024-01-03T14:45:03.775283Z",
     "start_time": "2024-01-03T14:45:03.765182Z"
    }
   },
   "outputs": [
    {
     "data": {
      "text/plain": [
       "array([[1, 0, 0],\n",
       "       [0, 2, 0],\n",
       "       [0, 0, 3]])"
      ]
     },
     "execution_count": 12,
     "metadata": {},
     "output_type": "execute_result"
    }
   ],
   "source": [
    "B = np.diag([1, 2, 3])\n",
    "B"
   ]
  },
  {
   "cell_type": "code",
   "execution_count": 13,
   "id": "c5fc5372",
   "metadata": {
    "ExecuteTime": {
     "end_time": "2024-01-03T14:45:08.849741Z",
     "start_time": "2024-01-03T14:45:08.839741Z"
    }
   },
   "outputs": [
    {
     "data": {
      "text/plain": [
       "array([[3, 8, 6],\n",
       "       [4, 8, 3]])"
      ]
     },
     "execution_count": 13,
     "metadata": {},
     "output_type": "execute_result"
    }
   ],
   "source": [
    "A.dot(B)"
   ]
  }
 ],
 "metadata": {
  "kernelspec": {
   "display_name": "Python 3 (ipykernel)",
   "language": "python",
   "name": "python3"
  },
  "language_info": {
   "codemirror_mode": {
    "name": "ipython",
    "version": 3
   },
   "file_extension": ".py",
   "mimetype": "text/x-python",
   "name": "python",
   "nbconvert_exporter": "python",
   "pygments_lexer": "ipython3",
   "version": "3.10.13"
  },
  "toc": {
   "base_numbering": 1,
   "nav_menu": {},
   "number_sections": true,
   "sideBar": true,
   "skip_h1_title": false,
   "title_cell": "Table of Contents",
   "title_sidebar": "Contents",
   "toc_cell": false,
   "toc_position": {},
   "toc_section_display": true,
   "toc_window_display": false
  }
 },
 "nbformat": 4,
 "nbformat_minor": 5
}
