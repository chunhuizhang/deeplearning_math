{
 "cells": [
  {
   "cell_type": "code",
   "execution_count": 1,
   "id": "8be2e24b",
   "metadata": {
    "ExecuteTime": {
     "end_time": "2024-01-22T14:42:07.125028Z",
     "start_time": "2024-01-22T14:42:06.954738Z"
    }
   },
   "outputs": [],
   "source": [
    "import numpy as np"
   ]
  },
  {
   "cell_type": "code",
   "execution_count": 2,
   "id": "356e34d9",
   "metadata": {
    "ExecuteTime": {
     "end_time": "2024-01-22T14:42:07.829701Z",
     "start_time": "2024-01-22T14:42:07.824313Z"
    }
   },
   "outputs": [],
   "source": [
    "np.random.seed(42)"
   ]
  },
  {
   "cell_type": "markdown",
   "id": "ae2a98cc",
   "metadata": {},
   "source": [
    "## 矩阵矢量乘法"
   ]
  },
  {
   "cell_type": "code",
   "execution_count": 5,
   "id": "db41ffe9",
   "metadata": {
    "ExecuteTime": {
     "end_time": "2024-01-22T14:42:30.000163Z",
     "start_time": "2024-01-22T14:42:29.989435Z"
    }
   },
   "outputs": [
    {
     "data": {
      "text/plain": [
       "array([[4, 1, 3],\n",
       "       [1, 3, 4],\n",
       "       [0, 3, 1],\n",
       "       [4, 3, 0]])"
      ]
     },
     "execution_count": 5,
     "metadata": {},
     "output_type": "execute_result"
    }
   ],
   "source": [
    "A = np.random.randint(0, 5, (4, 3))\n",
    "A"
   ]
  },
  {
   "cell_type": "code",
   "execution_count": 15,
   "id": "1d8241ee",
   "metadata": {
    "ExecuteTime": {
     "end_time": "2024-01-22T14:44:56.073226Z",
     "start_time": "2024-01-22T14:44:56.062583Z"
    }
   },
   "outputs": [
    {
     "data": {
      "text/plain": [
       "array([[1.],\n",
       "       [1.],\n",
       "       [1.]])"
      ]
     },
     "execution_count": 15,
     "metadata": {},
     "output_type": "execute_result"
    }
   ],
   "source": [
    "B = np.ones(3)[:, np.newaxis]\n",
    "B"
   ]
  },
  {
   "cell_type": "markdown",
   "id": "c2b4f3ed",
   "metadata": {},
   "source": [
    "### 列的线性组合"
   ]
  },
  {
   "cell_type": "code",
   "execution_count": 16,
   "id": "57611118",
   "metadata": {
    "ExecuteTime": {
     "end_time": "2024-01-22T14:44:58.527441Z",
     "start_time": "2024-01-22T14:44:58.516167Z"
    }
   },
   "outputs": [
    {
     "data": {
      "text/plain": [
       "array([[8.],\n",
       "       [8.],\n",
       "       [4.],\n",
       "       [7.]])"
      ]
     },
     "execution_count": 16,
     "metadata": {},
     "output_type": "execute_result"
    }
   ],
   "source": [
    "# 列的线性组合\n",
    "A.dot(B)"
   ]
  },
  {
   "cell_type": "markdown",
   "id": "e21b3b19",
   "metadata": {},
   "source": [
    "### 列选择"
   ]
  },
  {
   "cell_type": "code",
   "execution_count": 17,
   "id": "976b5cf7",
   "metadata": {
    "ExecuteTime": {
     "end_time": "2024-01-22T14:45:08.940434Z",
     "start_time": "2024-01-22T14:45:08.929918Z"
    }
   },
   "outputs": [
    {
     "data": {
      "text/plain": [
       "array([[1.],\n",
       "       [0.],\n",
       "       [0.]])"
      ]
     },
     "execution_count": 17,
     "metadata": {},
     "output_type": "execute_result"
    }
   ],
   "source": [
    "B = np.zeros(3)[:, np.newaxis]\n",
    "B[0] = 1\n",
    "B"
   ]
  },
  {
   "cell_type": "code",
   "execution_count": 22,
   "id": "45811b78",
   "metadata": {
    "ExecuteTime": {
     "end_time": "2024-01-22T14:46:10.527500Z",
     "start_time": "2024-01-22T14:46:10.517042Z"
    }
   },
   "outputs": [
    {
     "data": {
      "text/plain": [
       "array([[4, 1, 3],\n",
       "       [1, 3, 4],\n",
       "       [0, 3, 1],\n",
       "       [4, 3, 0]])"
      ]
     },
     "execution_count": 22,
     "metadata": {},
     "output_type": "execute_result"
    }
   ],
   "source": [
    "A"
   ]
  },
  {
   "cell_type": "code",
   "execution_count": 18,
   "id": "c038bfff",
   "metadata": {
    "ExecuteTime": {
     "end_time": "2024-01-22T14:45:11.800513Z",
     "start_time": "2024-01-22T14:45:11.790280Z"
    }
   },
   "outputs": [
    {
     "data": {
      "text/plain": [
       "array([[4.],\n",
       "       [1.],\n",
       "       [0.],\n",
       "       [4.]])"
      ]
     },
     "execution_count": 18,
     "metadata": {},
     "output_type": "execute_result"
    }
   ],
   "source": [
    "A.dot(B)"
   ]
  },
  {
   "cell_type": "code",
   "execution_count": 19,
   "id": "5fbd837c",
   "metadata": {
    "ExecuteTime": {
     "end_time": "2024-01-22T14:45:41.532948Z",
     "start_time": "2024-01-22T14:45:41.521132Z"
    }
   },
   "outputs": [
    {
     "data": {
      "text/plain": [
       "array([[2.],\n",
       "       [0.],\n",
       "       [0.]])"
      ]
     },
     "execution_count": 19,
     "metadata": {},
     "output_type": "execute_result"
    }
   ],
   "source": [
    "B = np.zeros(3)[:, np.newaxis]\n",
    "B[0] = 2\n",
    "B"
   ]
  },
  {
   "cell_type": "code",
   "execution_count": 23,
   "id": "24fb32ea",
   "metadata": {
    "ExecuteTime": {
     "end_time": "2024-01-22T14:46:15.166227Z",
     "start_time": "2024-01-22T14:46:15.156522Z"
    }
   },
   "outputs": [
    {
     "data": {
      "text/plain": [
       "array([[4, 1, 3],\n",
       "       [1, 3, 4],\n",
       "       [0, 3, 1],\n",
       "       [4, 3, 0]])"
      ]
     },
     "execution_count": 23,
     "metadata": {},
     "output_type": "execute_result"
    }
   ],
   "source": [
    "A"
   ]
  },
  {
   "cell_type": "code",
   "execution_count": 20,
   "id": "82b82afc",
   "metadata": {
    "ExecuteTime": {
     "end_time": "2024-01-22T14:45:44.908731Z",
     "start_time": "2024-01-22T14:45:44.897726Z"
    }
   },
   "outputs": [
    {
     "data": {
      "text/plain": [
       "array([[8.],\n",
       "       [2.],\n",
       "       [0.],\n",
       "       [8.]])"
      ]
     },
     "execution_count": 20,
     "metadata": {},
     "output_type": "execute_result"
    }
   ],
   "source": [
    "A.dot(B)"
   ]
  },
  {
   "cell_type": "code",
   "execution_count": 25,
   "id": "5652add3",
   "metadata": {
    "ExecuteTime": {
     "end_time": "2024-01-22T14:46:23.867557Z",
     "start_time": "2024-01-22T14:46:23.857343Z"
    }
   },
   "outputs": [
    {
     "data": {
      "text/plain": [
       "array([[0.],\n",
       "       [2.],\n",
       "       [0.]])"
      ]
     },
     "execution_count": 25,
     "metadata": {},
     "output_type": "execute_result"
    }
   ],
   "source": [
    "B = np.zeros(3)[:, np.newaxis]\n",
    "B[1] = 2\n",
    "B"
   ]
  },
  {
   "cell_type": "code",
   "execution_count": 24,
   "id": "c8fb1fec",
   "metadata": {
    "ExecuteTime": {
     "end_time": "2024-01-22T14:46:22.835440Z",
     "start_time": "2024-01-22T14:46:22.826088Z"
    }
   },
   "outputs": [
    {
     "data": {
      "text/plain": [
       "array([[4, 1, 3],\n",
       "       [1, 3, 4],\n",
       "       [0, 3, 1],\n",
       "       [4, 3, 0]])"
      ]
     },
     "execution_count": 24,
     "metadata": {},
     "output_type": "execute_result"
    }
   ],
   "source": [
    "A"
   ]
  },
  {
   "cell_type": "code",
   "execution_count": 26,
   "id": "628b0f7d",
   "metadata": {
    "ExecuteTime": {
     "end_time": "2024-01-22T14:46:28.913492Z",
     "start_time": "2024-01-22T14:46:28.902850Z"
    }
   },
   "outputs": [
    {
     "data": {
      "text/plain": [
       "array([[2.],\n",
       "       [6.],\n",
       "       [6.],\n",
       "       [6.]])"
      ]
     },
     "execution_count": 26,
     "metadata": {},
     "output_type": "execute_result"
    }
   ],
   "source": [
    "A.dot(B)"
   ]
  },
  {
   "cell_type": "markdown",
   "id": "2d1eea4f",
   "metadata": {},
   "source": [
    "## 右乘以一个对角矩阵"
   ]
  },
  {
   "cell_type": "markdown",
   "id": "48f6dc73",
   "metadata": {},
   "source": [
    "$$\n",
    "A_{mn}B_{nn}=\\begin{bmatrix}\n",
    "B_{11}A_1, \\cdots,B_{ii}A_i,\\cdots\n",
    "\\end{bmatrix}\n",
    "$$"
   ]
  },
  {
   "cell_type": "code",
   "execution_count": 4,
   "id": "05c3592f",
   "metadata": {
    "ExecuteTime": {
     "end_time": "2024-01-22T14:42:15.547516Z",
     "start_time": "2024-01-22T14:42:15.536718Z"
    }
   },
   "outputs": [
    {
     "data": {
      "text/plain": [
       "array([[2, 2, 2],\n",
       "       [4, 3, 2]])"
      ]
     },
     "execution_count": 4,
     "metadata": {},
     "output_type": "execute_result"
    }
   ],
   "source": [
    "A = np.random.randint(0, 5, (2, 3))\n",
    "A"
   ]
  },
  {
   "cell_type": "code",
   "execution_count": 12,
   "id": "f6c13eb1",
   "metadata": {
    "ExecuteTime": {
     "end_time": "2024-01-03T14:45:03.775283Z",
     "start_time": "2024-01-03T14:45:03.765182Z"
    }
   },
   "outputs": [
    {
     "data": {
      "text/plain": [
       "array([[1, 0, 0],\n",
       "       [0, 2, 0],\n",
       "       [0, 0, 3]])"
      ]
     },
     "execution_count": 12,
     "metadata": {},
     "output_type": "execute_result"
    }
   ],
   "source": [
    "B = np.diag([1, 2, 3])\n",
    "B"
   ]
  },
  {
   "cell_type": "code",
   "execution_count": 13,
   "id": "c5fc5372",
   "metadata": {
    "ExecuteTime": {
     "end_time": "2024-01-03T14:45:08.849741Z",
     "start_time": "2024-01-03T14:45:08.839741Z"
    }
   },
   "outputs": [
    {
     "data": {
      "text/plain": [
       "array([[3, 8, 6],\n",
       "       [4, 8, 3]])"
      ]
     },
     "execution_count": 13,
     "metadata": {},
     "output_type": "execute_result"
    }
   ],
   "source": [
    "A.dot(B)"
   ]
  }
 ],
 "metadata": {
  "kernelspec": {
   "display_name": "Python 3 (ipykernel)",
   "language": "python",
   "name": "python3"
  },
  "language_info": {
   "codemirror_mode": {
    "name": "ipython",
    "version": 3
   },
   "file_extension": ".py",
   "mimetype": "text/x-python",
   "name": "python",
   "nbconvert_exporter": "python",
   "pygments_lexer": "ipython3",
   "version": "3.10.13"
  },
  "toc": {
   "base_numbering": 1,
   "nav_menu": {},
   "number_sections": true,
   "sideBar": true,
   "skip_h1_title": false,
   "title_cell": "Table of Contents",
   "title_sidebar": "Contents",
   "toc_cell": false,
   "toc_position": {},
   "toc_section_display": true,
   "toc_window_display": false
  }
 },
 "nbformat": 4,
 "nbformat_minor": 5
}
