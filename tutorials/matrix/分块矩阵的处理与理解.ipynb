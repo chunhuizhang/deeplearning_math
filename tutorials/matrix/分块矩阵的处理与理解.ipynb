{
 "cells": [
  {
   "cell_type": "markdown",
   "id": "141e95e4",
   "metadata": {},
   "source": [
    "> 从分块矩阵的角度，重新理解矩阵矢量乘法，矩阵乘法；\n",
    "> - matrix vector multiplication\n",
    "    - 矩阵右乘以 onehot vector 是一种特殊的矩阵矢量乘法，用于选择列；\n",
    "    - 第$i$个entry为1，就是选择矩阵的第 $i$ 列；\n",
    "> - matrix matrix multiplication\n",
    "    - 矩阵右乘以对角矩阵是一种特殊的矩阵矩阵乘法（mm），是对原始矩阵各个列的伸缩；"
   ]
  },
  {
   "cell_type": "code",
   "execution_count": 2,
   "id": "8be2e24b",
   "metadata": {
    "ExecuteTime": {
     "end_time": "2024-01-23T11:02:01.041518Z",
     "start_time": "2024-01-23T11:02:00.876215Z"
    }
   },
   "outputs": [],
   "source": [
    "import numpy as np"
   ]
  },
  {
   "cell_type": "code",
   "execution_count": 3,
   "id": "356e34d9",
   "metadata": {
    "ExecuteTime": {
     "end_time": "2024-01-23T11:02:01.864453Z",
     "start_time": "2024-01-23T11:02:01.859144Z"
    }
   },
   "outputs": [],
   "source": [
    "np.random.seed(42)"
   ]
  },
  {
   "cell_type": "markdown",
   "id": "ae2a98cc",
   "metadata": {},
   "source": [
    "## 矩阵矢量乘法"
   ]
  },
  {
   "cell_type": "code",
   "execution_count": 4,
   "id": "db41ffe9",
   "metadata": {
    "ExecuteTime": {
     "end_time": "2024-01-23T11:02:02.905530Z",
     "start_time": "2024-01-23T11:02:02.877083Z"
    }
   },
   "outputs": [
    {
     "data": {
      "text/plain": [
       "array([[3, 4, 2],\n",
       "       [4, 4, 1],\n",
       "       [2, 2, 2],\n",
       "       [4, 3, 2]])"
      ]
     },
     "execution_count": 4,
     "metadata": {},
     "output_type": "execute_result"
    }
   ],
   "source": [
    "A = np.random.randint(0, 5, (4, 3))\n",
    "A"
   ]
  },
  {
   "cell_type": "code",
   "execution_count": 15,
   "id": "1d8241ee",
   "metadata": {
    "ExecuteTime": {
     "end_time": "2024-01-22T14:44:56.073226Z",
     "start_time": "2024-01-22T14:44:56.062583Z"
    }
   },
   "outputs": [
    {
     "data": {
      "text/plain": [
       "array([[1.],\n",
       "       [1.],\n",
       "       [1.]])"
      ]
     },
     "execution_count": 15,
     "metadata": {},
     "output_type": "execute_result"
    }
   ],
   "source": [
    "B = np.ones(3)[:, np.newaxis]\n",
    "B"
   ]
  },
  {
   "cell_type": "markdown",
   "id": "c2b4f3ed",
   "metadata": {},
   "source": [
    "### 列的线性组合"
   ]
  },
  {
   "cell_type": "markdown",
   "id": "360ed64f",
   "metadata": {},
   "source": [
    "> matrix-vector multiplication：column linear combination"
   ]
  },
  {
   "cell_type": "code",
   "execution_count": 16,
   "id": "57611118",
   "metadata": {
    "ExecuteTime": {
     "end_time": "2024-01-22T14:44:58.527441Z",
     "start_time": "2024-01-22T14:44:58.516167Z"
    }
   },
   "outputs": [
    {
     "data": {
      "text/plain": [
       "array([[8.],\n",
       "       [8.],\n",
       "       [4.],\n",
       "       [7.]])"
      ]
     },
     "execution_count": 16,
     "metadata": {},
     "output_type": "execute_result"
    }
   ],
   "source": [
    "# 列的线性组合\n",
    "A.dot(B)"
   ]
  },
  {
   "cell_type": "markdown",
   "id": "e21b3b19",
   "metadata": {},
   "source": [
    "### 列选择"
   ]
  },
  {
   "cell_type": "code",
   "execution_count": 5,
   "id": "976b5cf7",
   "metadata": {
    "ExecuteTime": {
     "end_time": "2024-01-23T11:02:04.656308Z",
     "start_time": "2024-01-23T11:02:04.645134Z"
    }
   },
   "outputs": [
    {
     "data": {
      "text/plain": [
       "array([[1.],\n",
       "       [0.],\n",
       "       [0.]])"
      ]
     },
     "execution_count": 5,
     "metadata": {},
     "output_type": "execute_result"
    }
   ],
   "source": [
    "B = np.zeros(3)[:, np.newaxis]\n",
    "# one shot\n",
    "B[0] = 1\n",
    "B"
   ]
  },
  {
   "cell_type": "code",
   "execution_count": 22,
   "id": "45811b78",
   "metadata": {
    "ExecuteTime": {
     "end_time": "2024-01-22T14:46:10.527500Z",
     "start_time": "2024-01-22T14:46:10.517042Z"
    }
   },
   "outputs": [
    {
     "data": {
      "text/plain": [
       "array([[4, 1, 3],\n",
       "       [1, 3, 4],\n",
       "       [0, 3, 1],\n",
       "       [4, 3, 0]])"
      ]
     },
     "execution_count": 22,
     "metadata": {},
     "output_type": "execute_result"
    }
   ],
   "source": [
    "A"
   ]
  },
  {
   "cell_type": "code",
   "execution_count": 18,
   "id": "c038bfff",
   "metadata": {
    "ExecuteTime": {
     "end_time": "2024-01-22T14:45:11.800513Z",
     "start_time": "2024-01-22T14:45:11.790280Z"
    }
   },
   "outputs": [
    {
     "data": {
      "text/plain": [
       "array([[4.],\n",
       "       [1.],\n",
       "       [0.],\n",
       "       [4.]])"
      ]
     },
     "execution_count": 18,
     "metadata": {},
     "output_type": "execute_result"
    }
   ],
   "source": [
    "A.dot(B)"
   ]
  },
  {
   "cell_type": "code",
   "execution_count": 19,
   "id": "5fbd837c",
   "metadata": {
    "ExecuteTime": {
     "end_time": "2024-01-22T14:45:41.532948Z",
     "start_time": "2024-01-22T14:45:41.521132Z"
    }
   },
   "outputs": [
    {
     "data": {
      "text/plain": [
       "array([[2.],\n",
       "       [0.],\n",
       "       [0.]])"
      ]
     },
     "execution_count": 19,
     "metadata": {},
     "output_type": "execute_result"
    }
   ],
   "source": [
    "B = np.zeros(3)[:, np.newaxis]\n",
    "B[0] = 2\n",
    "B"
   ]
  },
  {
   "cell_type": "code",
   "execution_count": 23,
   "id": "24fb32ea",
   "metadata": {
    "ExecuteTime": {
     "end_time": "2024-01-22T14:46:15.166227Z",
     "start_time": "2024-01-22T14:46:15.156522Z"
    }
   },
   "outputs": [
    {
     "data": {
      "text/plain": [
       "array([[4, 1, 3],\n",
       "       [1, 3, 4],\n",
       "       [0, 3, 1],\n",
       "       [4, 3, 0]])"
      ]
     },
     "execution_count": 23,
     "metadata": {},
     "output_type": "execute_result"
    }
   ],
   "source": [
    "A"
   ]
  },
  {
   "cell_type": "code",
   "execution_count": 20,
   "id": "82b82afc",
   "metadata": {
    "ExecuteTime": {
     "end_time": "2024-01-22T14:45:44.908731Z",
     "start_time": "2024-01-22T14:45:44.897726Z"
    }
   },
   "outputs": [
    {
     "data": {
      "text/plain": [
       "array([[8.],\n",
       "       [2.],\n",
       "       [0.],\n",
       "       [8.]])"
      ]
     },
     "execution_count": 20,
     "metadata": {},
     "output_type": "execute_result"
    }
   ],
   "source": [
    "A.dot(B)"
   ]
  },
  {
   "cell_type": "code",
   "execution_count": 25,
   "id": "5652add3",
   "metadata": {
    "ExecuteTime": {
     "end_time": "2024-01-22T14:46:23.867557Z",
     "start_time": "2024-01-22T14:46:23.857343Z"
    }
   },
   "outputs": [
    {
     "data": {
      "text/plain": [
       "array([[0.],\n",
       "       [2.],\n",
       "       [0.]])"
      ]
     },
     "execution_count": 25,
     "metadata": {},
     "output_type": "execute_result"
    }
   ],
   "source": [
    "B = np.zeros(3)[:, np.newaxis]\n",
    "B[1] = 2\n",
    "B"
   ]
  },
  {
   "cell_type": "code",
   "execution_count": 24,
   "id": "c8fb1fec",
   "metadata": {
    "ExecuteTime": {
     "end_time": "2024-01-22T14:46:22.835440Z",
     "start_time": "2024-01-22T14:46:22.826088Z"
    }
   },
   "outputs": [
    {
     "data": {
      "text/plain": [
       "array([[4, 1, 3],\n",
       "       [1, 3, 4],\n",
       "       [0, 3, 1],\n",
       "       [4, 3, 0]])"
      ]
     },
     "execution_count": 24,
     "metadata": {},
     "output_type": "execute_result"
    }
   ],
   "source": [
    "A"
   ]
  },
  {
   "cell_type": "code",
   "execution_count": 26,
   "id": "628b0f7d",
   "metadata": {
    "ExecuteTime": {
     "end_time": "2024-01-22T14:46:28.913492Z",
     "start_time": "2024-01-22T14:46:28.902850Z"
    }
   },
   "outputs": [
    {
     "data": {
      "text/plain": [
       "array([[2.],\n",
       "       [6.],\n",
       "       [6.],\n",
       "       [6.]])"
      ]
     },
     "execution_count": 26,
     "metadata": {},
     "output_type": "execute_result"
    }
   ],
   "source": [
    "A.dot(B)"
   ]
  },
  {
   "cell_type": "markdown",
   "id": "2d1eea4f",
   "metadata": {},
   "source": [
    "## 右乘以一个对角矩阵"
   ]
  },
  {
   "cell_type": "markdown",
   "id": "48f6dc73",
   "metadata": {},
   "source": [
    "$$\n",
    "A_{mn}B_{nn}=\\begin{bmatrix}\n",
    "B_{11}A_1, \\cdots,B_{ii}A_i,\\cdots\n",
    "\\end{bmatrix}\n",
    "$$"
   ]
  },
  {
   "cell_type": "code",
   "execution_count": 6,
   "id": "05c3592f",
   "metadata": {
    "ExecuteTime": {
     "end_time": "2024-01-23T11:08:49.172606Z",
     "start_time": "2024-01-23T11:08:49.161921Z"
    }
   },
   "outputs": [
    {
     "data": {
      "text/plain": [
       "array([[4, 1, 3],\n",
       "       [1, 3, 4]])"
      ]
     },
     "execution_count": 6,
     "metadata": {},
     "output_type": "execute_result"
    }
   ],
   "source": [
    "A = np.random.randint(0, 5, (2, 3))\n",
    "A"
   ]
  },
  {
   "cell_type": "code",
   "execution_count": 7,
   "id": "f6c13eb1",
   "metadata": {
    "ExecuteTime": {
     "end_time": "2024-01-23T11:08:50.302323Z",
     "start_time": "2024-01-23T11:08:50.292947Z"
    }
   },
   "outputs": [
    {
     "data": {
      "text/plain": [
       "array([[1, 0, 0],\n",
       "       [0, 2, 0],\n",
       "       [0, 0, 3]])"
      ]
     },
     "execution_count": 7,
     "metadata": {},
     "output_type": "execute_result"
    }
   ],
   "source": [
    "B = np.diag([1, 2, 3])\n",
    "B"
   ]
  },
  {
   "cell_type": "code",
   "execution_count": 8,
   "id": "c5fc5372",
   "metadata": {
    "ExecuteTime": {
     "end_time": "2024-01-23T11:08:51.661717Z",
     "start_time": "2024-01-23T11:08:51.652319Z"
    }
   },
   "outputs": [
    {
     "data": {
      "text/plain": [
       "array([[ 4,  2,  9],\n",
       "       [ 1,  6, 12]])"
      ]
     },
     "execution_count": 8,
     "metadata": {},
     "output_type": "execute_result"
    }
   ],
   "source": [
    "A.dot(B)"
   ]
  }
 ],
 "metadata": {
  "kernelspec": {
   "display_name": "Python 3 (ipykernel)",
   "language": "python",
   "name": "python3"
  },
  "language_info": {
   "codemirror_mode": {
    "name": "ipython",
    "version": 3
   },
   "file_extension": ".py",
   "mimetype": "text/x-python",
   "name": "python",
   "nbconvert_exporter": "python",
   "pygments_lexer": "ipython3",
   "version": "3.10.13"
  },
  "toc": {
   "base_numbering": 1,
   "nav_menu": {},
   "number_sections": true,
   "sideBar": true,
   "skip_h1_title": false,
   "title_cell": "Table of Contents",
   "title_sidebar": "Contents",
   "toc_cell": false,
   "toc_position": {},
   "toc_section_display": true,
   "toc_window_display": false
  }
 },
 "nbformat": 4,
 "nbformat_minor": 5
}
