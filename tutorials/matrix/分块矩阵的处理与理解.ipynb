{
 "cells": [
  {
   "cell_type": "markdown",
   "id": "10c5d689",
   "metadata": {},
   "source": [
    "> 从分块矩阵的角度，重新理解矩阵矢量乘法，矩阵矩阵乘法；\n",
    "> - matrix vector multiplication：column linear combination\n",
    "    - 矩阵右乘以 onehot vector 是一种特殊的矩阵矢量乘法，用于选择列；\n",
    "    - 第 $i$ 个entry为1，就是选择矩阵的第 $i$ 列；\n",
    "> - matrix matrix multiplication\n",
    "    - 矩阵右乘以对角矩阵是一种特殊的矩阵矩阵乘法（mm），是对原始矩阵各个列的伸缩；"
   ]
  },
  {
   "cell_type": "code",
   "execution_count": 1,
   "id": "8be2e24b",
   "metadata": {
    "ExecuteTime": {
     "end_time": "2024-01-23T11:51:13.067177Z",
     "start_time": "2024-01-23T11:51:12.940574Z"
    }
   },
   "outputs": [],
   "source": [
    "import numpy as np"
   ]
  },
  {
   "cell_type": "code",
   "execution_count": 2,
   "id": "356e34d9",
   "metadata": {
    "ExecuteTime": {
     "end_time": "2024-01-23T11:51:13.845525Z",
     "start_time": "2024-01-23T11:51:13.839299Z"
    }
   },
   "outputs": [],
   "source": [
    "np.random.seed(42)"
   ]
  },
  {
   "cell_type": "markdown",
   "id": "ae2a98cc",
   "metadata": {},
   "source": [
    "## 矩阵矢量乘法"
   ]
  },
  {
   "cell_type": "code",
   "execution_count": 3,
   "id": "db41ffe9",
   "metadata": {
    "ExecuteTime": {
     "end_time": "2024-01-23T11:51:15.140310Z",
     "start_time": "2024-01-23T11:51:15.122879Z"
    }
   },
   "outputs": [
    {
     "data": {
      "text/plain": [
       "array([[3, 4, 2],\n",
       "       [4, 4, 1],\n",
       "       [2, 2, 2],\n",
       "       [4, 3, 2]])"
      ]
     },
     "execution_count": 3,
     "metadata": {},
     "output_type": "execute_result"
    }
   ],
   "source": [
    "A = np.random.randint(0, 5, (4, 3))\n",
    "A"
   ]
  },
  {
   "cell_type": "code",
   "execution_count": 4,
   "id": "1d8241ee",
   "metadata": {
    "ExecuteTime": {
     "end_time": "2024-01-23T11:51:18.669356Z",
     "start_time": "2024-01-23T11:51:18.657186Z"
    }
   },
   "outputs": [
    {
     "data": {
      "text/plain": [
       "array([[1.],\n",
       "       [1.],\n",
       "       [1.]])"
      ]
     },
     "execution_count": 4,
     "metadata": {},
     "output_type": "execute_result"
    }
   ],
   "source": [
    "B = np.ones(3)[:, np.newaxis]\n",
    "B"
   ]
  },
  {
   "cell_type": "markdown",
   "id": "c2b4f3ed",
   "metadata": {},
   "source": [
    "### 列的线性组合"
   ]
  },
  {
   "cell_type": "markdown",
   "id": "120e7f72",
   "metadata": {},
   "source": [
    "> matrix-vector multiplication：column linear combination"
   ]
  },
  {
   "cell_type": "code",
   "execution_count": 5,
   "id": "57611118",
   "metadata": {
    "ExecuteTime": {
     "end_time": "2024-01-23T11:51:44.660701Z",
     "start_time": "2024-01-23T11:51:44.641241Z"
    }
   },
   "outputs": [
    {
     "data": {
      "text/plain": [
       "array([[9.],\n",
       "       [9.],\n",
       "       [6.],\n",
       "       [9.]])"
      ]
     },
     "execution_count": 5,
     "metadata": {},
     "output_type": "execute_result"
    }
   ],
   "source": [
    "# 列的线性组合\n",
    "A.dot(B)"
   ]
  },
  {
   "cell_type": "code",
   "execution_count": 6,
   "id": "babca99f",
   "metadata": {
    "ExecuteTime": {
     "end_time": "2024-01-23T11:52:13.798646Z",
     "start_time": "2024-01-23T11:52:13.789725Z"
    }
   },
   "outputs": [
    {
     "data": {
      "text/plain": [
       "array([[1],\n",
       "       [2],\n",
       "       [3]])"
      ]
     },
     "execution_count": 6,
     "metadata": {},
     "output_type": "execute_result"
    }
   ],
   "source": [
    "B = np.array([1,2,3])[:, np.newaxis]\n",
    "B"
   ]
  },
  {
   "cell_type": "code",
   "execution_count": 7,
   "id": "e9bc2a3d",
   "metadata": {
    "ExecuteTime": {
     "end_time": "2024-01-23T11:52:25.377017Z",
     "start_time": "2024-01-23T11:52:25.367808Z"
    }
   },
   "outputs": [
    {
     "data": {
      "text/plain": [
       "array([[3, 4, 2],\n",
       "       [4, 4, 1],\n",
       "       [2, 2, 2],\n",
       "       [4, 3, 2]])"
      ]
     },
     "execution_count": 7,
     "metadata": {},
     "output_type": "execute_result"
    }
   ],
   "source": [
    "A"
   ]
  },
  {
   "cell_type": "code",
   "execution_count": 8,
   "id": "1b821506",
   "metadata": {
    "ExecuteTime": {
     "end_time": "2024-01-23T11:52:33.420920Z",
     "start_time": "2024-01-23T11:52:33.410556Z"
    }
   },
   "outputs": [
    {
     "data": {
      "text/plain": [
       "array([[17],\n",
       "       [15],\n",
       "       [12],\n",
       "       [16]])"
      ]
     },
     "execution_count": 8,
     "metadata": {},
     "output_type": "execute_result"
    }
   ],
   "source": [
    "A.dot(B)"
   ]
  },
  {
   "cell_type": "markdown",
   "id": "e21b3b19",
   "metadata": {},
   "source": [
    "### 列选择"
   ]
  },
  {
   "cell_type": "code",
   "execution_count": 9,
   "id": "976b5cf7",
   "metadata": {
    "ExecuteTime": {
     "end_time": "2024-01-23T11:53:06.737007Z",
     "start_time": "2024-01-23T11:53:06.725423Z"
    }
   },
   "outputs": [
    {
     "data": {
      "text/plain": [
       "array([[1.],\n",
       "       [0.],\n",
       "       [0.]])"
      ]
     },
     "execution_count": 9,
     "metadata": {},
     "output_type": "execute_result"
    }
   ],
   "source": [
    "B = np.zeros(3)[:, np.newaxis]\n",
    "# one shot\n",
    "B[0] = 1\n",
    "B"
   ]
  },
  {
   "cell_type": "code",
   "execution_count": 10,
   "id": "45811b78",
   "metadata": {
    "ExecuteTime": {
     "end_time": "2024-01-23T11:53:10.414534Z",
     "start_time": "2024-01-23T11:53:10.404329Z"
    }
   },
   "outputs": [
    {
     "data": {
      "text/plain": [
       "array([[3, 4, 2],\n",
       "       [4, 4, 1],\n",
       "       [2, 2, 2],\n",
       "       [4, 3, 2]])"
      ]
     },
     "execution_count": 10,
     "metadata": {},
     "output_type": "execute_result"
    }
   ],
   "source": [
    "A"
   ]
  },
  {
   "cell_type": "code",
   "execution_count": 11,
   "id": "c038bfff",
   "metadata": {
    "ExecuteTime": {
     "end_time": "2024-01-23T11:53:15.458228Z",
     "start_time": "2024-01-23T11:53:15.447923Z"
    }
   },
   "outputs": [
    {
     "data": {
      "text/plain": [
       "array([[3.],\n",
       "       [4.],\n",
       "       [2.],\n",
       "       [4.]])"
      ]
     },
     "execution_count": 11,
     "metadata": {},
     "output_type": "execute_result"
    }
   ],
   "source": [
    "A.dot(B)"
   ]
  },
  {
   "cell_type": "code",
   "execution_count": 14,
   "id": "5fbd837c",
   "metadata": {
    "ExecuteTime": {
     "end_time": "2024-01-23T11:53:25.156110Z",
     "start_time": "2024-01-23T11:53:25.146364Z"
    }
   },
   "outputs": [
    {
     "data": {
      "text/plain": [
       "array([[0.],\n",
       "       [1.],\n",
       "       [0.]])"
      ]
     },
     "execution_count": 14,
     "metadata": {},
     "output_type": "execute_result"
    }
   ],
   "source": [
    "B = np.zeros(3)[:, np.newaxis]\n",
    "B[1] = 1\n",
    "B"
   ]
  },
  {
   "cell_type": "code",
   "execution_count": 15,
   "id": "24fb32ea",
   "metadata": {
    "ExecuteTime": {
     "end_time": "2024-01-23T11:53:29.535160Z",
     "start_time": "2024-01-23T11:53:29.525842Z"
    }
   },
   "outputs": [
    {
     "data": {
      "text/plain": [
       "array([[3, 4, 2],\n",
       "       [4, 4, 1],\n",
       "       [2, 2, 2],\n",
       "       [4, 3, 2]])"
      ]
     },
     "execution_count": 15,
     "metadata": {},
     "output_type": "execute_result"
    }
   ],
   "source": [
    "A"
   ]
  },
  {
   "cell_type": "code",
   "execution_count": 16,
   "id": "82b82afc",
   "metadata": {
    "ExecuteTime": {
     "end_time": "2024-01-23T11:53:31.517916Z",
     "start_time": "2024-01-23T11:53:31.508014Z"
    }
   },
   "outputs": [
    {
     "data": {
      "text/plain": [
       "array([[4.],\n",
       "       [4.],\n",
       "       [2.],\n",
       "       [3.]])"
      ]
     },
     "execution_count": 16,
     "metadata": {},
     "output_type": "execute_result"
    }
   ],
   "source": [
    "A.dot(B)"
   ]
  },
  {
   "cell_type": "code",
   "execution_count": 18,
   "id": "5652add3",
   "metadata": {
    "ExecuteTime": {
     "end_time": "2024-01-23T11:53:39.278000Z",
     "start_time": "2024-01-23T11:53:39.267167Z"
    }
   },
   "outputs": [
    {
     "data": {
      "text/plain": [
       "array([[0.],\n",
       "       [0.],\n",
       "       [1.]])"
      ]
     },
     "execution_count": 18,
     "metadata": {},
     "output_type": "execute_result"
    }
   ],
   "source": [
    "B = np.zeros(3)[:, np.newaxis]\n",
    "B[2] = 1\n",
    "B"
   ]
  },
  {
   "cell_type": "code",
   "execution_count": 19,
   "id": "c8fb1fec",
   "metadata": {
    "ExecuteTime": {
     "end_time": "2024-01-23T11:53:44.053722Z",
     "start_time": "2024-01-23T11:53:44.044284Z"
    }
   },
   "outputs": [
    {
     "data": {
      "text/plain": [
       "array([[3, 4, 2],\n",
       "       [4, 4, 1],\n",
       "       [2, 2, 2],\n",
       "       [4, 3, 2]])"
      ]
     },
     "execution_count": 19,
     "metadata": {},
     "output_type": "execute_result"
    }
   ],
   "source": [
    "A"
   ]
  },
  {
   "cell_type": "code",
   "execution_count": 20,
   "id": "628b0f7d",
   "metadata": {
    "ExecuteTime": {
     "end_time": "2024-01-23T11:53:45.713224Z",
     "start_time": "2024-01-23T11:53:45.703045Z"
    }
   },
   "outputs": [
    {
     "data": {
      "text/plain": [
       "array([[2.],\n",
       "       [1.],\n",
       "       [2.],\n",
       "       [2.]])"
      ]
     },
     "execution_count": 20,
     "metadata": {},
     "output_type": "execute_result"
    }
   ],
   "source": [
    "A.dot(B)"
   ]
  },
  {
   "cell_type": "markdown",
   "id": "2d1eea4f",
   "metadata": {},
   "source": [
    "## 右乘以一个对角矩阵"
   ]
  },
  {
   "cell_type": "markdown",
   "id": "48f6dc73",
   "metadata": {},
   "source": [
    "$$\n",
    "A_{mn}B_{nn}=\\begin{bmatrix}\n",
    "B_{11}A_1, \\cdots,B_{ii}A_i,\\cdots\n",
    "\\end{bmatrix}\n",
    "$$"
   ]
  },
  {
   "cell_type": "code",
   "execution_count": 21,
   "id": "05c3592f",
   "metadata": {
    "ExecuteTime": {
     "end_time": "2024-01-23T11:54:14.480815Z",
     "start_time": "2024-01-23T11:54:14.470095Z"
    }
   },
   "outputs": [
    {
     "data": {
      "text/plain": [
       "array([[4, 1, 3],\n",
       "       [1, 3, 4]])"
      ]
     },
     "execution_count": 21,
     "metadata": {},
     "output_type": "execute_result"
    }
   ],
   "source": [
    "A = np.random.randint(0, 5, (2, 3))\n",
    "A"
   ]
  },
  {
   "cell_type": "code",
   "execution_count": 22,
   "id": "f6c13eb1",
   "metadata": {
    "ExecuteTime": {
     "end_time": "2024-01-23T11:54:19.425081Z",
     "start_time": "2024-01-23T11:54:19.413588Z"
    }
   },
   "outputs": [
    {
     "data": {
      "text/plain": [
       "array([[1, 0, 0],\n",
       "       [0, 2, 0],\n",
       "       [0, 0, 3]])"
      ]
     },
     "execution_count": 22,
     "metadata": {},
     "output_type": "execute_result"
    }
   ],
   "source": [
    "B = np.diag([1, 2, 3])\n",
    "B"
   ]
  },
  {
   "cell_type": "code",
   "execution_count": 23,
   "id": "c5fc5372",
   "metadata": {
    "ExecuteTime": {
     "end_time": "2024-01-23T11:54:38.172550Z",
     "start_time": "2024-01-23T11:54:38.163359Z"
    }
   },
   "outputs": [
    {
     "data": {
      "text/plain": [
       "array([[ 4,  2,  9],\n",
       "       [ 1,  6, 12]])"
      ]
     },
     "execution_count": 23,
     "metadata": {},
     "output_type": "execute_result"
    }
   ],
   "source": [
    "A.dot(B)"
   ]
  }
 ],
 "metadata": {
  "kernelspec": {
   "display_name": "Python 3 (ipykernel)",
   "language": "python",
   "name": "python3"
  },
  "language_info": {
   "codemirror_mode": {
    "name": "ipython",
    "version": 3
   },
   "file_extension": ".py",
   "mimetype": "text/x-python",
   "name": "python",
   "nbconvert_exporter": "python",
   "pygments_lexer": "ipython3",
   "version": "3.10.13"
  },
  "toc": {
   "base_numbering": 1,
   "nav_menu": {},
   "number_sections": true,
   "sideBar": true,
   "skip_h1_title": false,
   "title_cell": "Table of Contents",
   "title_sidebar": "Contents",
   "toc_cell": false,
   "toc_position": {},
   "toc_section_display": true,
   "toc_window_display": false
  }
 },
 "nbformat": 4,
 "nbformat_minor": 5
}
