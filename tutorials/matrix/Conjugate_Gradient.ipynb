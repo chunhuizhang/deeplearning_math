{
 "cells": [
  {
   "cell_type": "code",
   "execution_count": 58,
   "id": "0c41955d-0166-495e-945f-eaccce75e915",
   "metadata": {},
   "outputs": [],
   "source": [
    "import torch\n",
    "import numpy as np\n",
    "from scipy.sparse import csc_matrix\n",
    "from scipy.sparse.linalg import cg\n",
    "from IPython.display import Image"
   ]
  },
  {
   "cell_type": "markdown",
   "id": "f37c7812-eb48-4a6c-b868-55d6d7acbf34",
   "metadata": {},
   "source": [
    "## basics"
   ]
  },
  {
   "cell_type": "markdown",
   "id": "30f8931b-7b1a-4317-9e8c-60b326f2c2cc",
   "metadata": {},
   "source": [
    "求解线性方程组  $Ax=b$ 的**迭代**方法。它特别适合于大型稀疏矩阵的求解，并且当 $A$ 为对称正定矩阵时，共轭梯度法特别有效。\n",
    "- $x=A^{-1}b$\n",
    "- 正定矩阵：$x^TAx\\geq 0$\n",
    "\n",
    "TRPO 的关系\n",
    "\n",
    "- Hvp：hessian vector product"
   ]
  },
  {
   "cell_type": "code",
   "execution_count": 35,
   "id": "8e72c458-c100-41fe-8cd0-88bc36655685",
   "metadata": {},
   "outputs": [
    {
     "data": {
      "text/html": [
       "<img src=\"../../imgs/cg.png\" width=\"400\"/>"
      ],
      "text/plain": [
       "<IPython.core.display.Image object>"
      ]
     },
     "execution_count": 35,
     "metadata": {},
     "output_type": "execute_result"
    }
   ],
   "source": [
    "# https://zh.wikipedia.org/wiki/%E5%85%B1%E8%BD%AD%E6%A2%AF%E5%BA%A6%E6%B3%95\n",
    "Image(url='../../imgs/cg.png', width=400)"
   ]
  },
  {
   "cell_type": "code",
   "execution_count": 52,
   "id": "6a8e50a1-0e79-4264-85b7-8a1adc45fa95",
   "metadata": {},
   "outputs": [],
   "source": [
    "def conjugate_gradient(A, b, delta=0., max_iterations=float('inf')):\n",
    "    x = torch.zeros_like(b)\n",
    "    r = b.clone()\n",
    "    p = b.clone()\n",
    "\n",
    "    i = 0\n",
    "    while i < max_iterations:\n",
    "        AVP = A @ p\n",
    "\n",
    "        dot_old = r @ r\n",
    "        alpha = dot_old / (p @ AVP)\n",
    "        \n",
    "        # 避免由于数值问题导致的分母过小\n",
    "        if torch.abs(torch.dot(p, AVP)) < 1e-10:\n",
    "            break\n",
    "            \n",
    "        x_new = x + alpha * p\n",
    "\n",
    "        if (x - x_new).norm() <= delta:\n",
    "            return x_new\n",
    "\n",
    "        i += 1\n",
    "        r = r - alpha * AVP\n",
    "\n",
    "        beta = (r @ r) / dot_old\n",
    "        p = r + beta * p\n",
    "\n",
    "        x = x_new\n",
    "    return x\n"
   ]
  },
  {
   "cell_type": "markdown",
   "id": "a1a40a5e-254f-4229-85b6-d23ac4ee31d3",
   "metadata": {},
   "source": [
    "### cases 1"
   ]
  },
  {
   "cell_type": "code",
   "execution_count": 51,
   "id": "e158873a-7efd-45b4-b530-1597529b49d9",
   "metadata": {},
   "outputs": [
    {
     "data": {
      "text/plain": [
       "tensor([nan, nan])"
      ]
     },
     "execution_count": 51,
     "metadata": {},
     "output_type": "execute_result"
    }
   ],
   "source": [
    "# 定义一个对称正定矩阵 A\n",
    "A = torch.tensor([[4., 1.], [1., 3.]], dtype=torch.float32)\n",
    "b = torch.tensor([1., 2.], dtype=torch.float32)\n",
    "    \n",
    "x = conjugate_gradient(A, b, delta=1e-5, max_iterations=1000)\n",
    "x"
   ]
  },
  {
   "cell_type": "code",
   "execution_count": 49,
   "id": "377ee443-0d89-47bc-b250-7004dcf64dc0",
   "metadata": {},
   "outputs": [
    {
     "data": {
      "text/plain": [
       "tensor([1., 2.])"
      ]
     },
     "execution_count": 49,
     "metadata": {},
     "output_type": "execute_result"
    }
   ],
   "source": [
    "A @ x"
   ]
  },
  {
   "cell_type": "code",
   "execution_count": 45,
   "id": "9f3a71b0-6715-4993-8687-e83009b3eb7c",
   "metadata": {},
   "outputs": [
    {
     "data": {
      "text/plain": [
       "tensor([0.0909, 0.6364])"
      ]
     },
     "execution_count": 45,
     "metadata": {},
     "output_type": "execute_result"
    }
   ],
   "source": [
    "A.inverse() @ b"
   ]
  },
  {
   "cell_type": "markdown",
   "id": "196d3261-5924-4708-a1a8-4c47c17f5ffc",
   "metadata": {},
   "source": [
    "### cases 2"
   ]
  },
  {
   "cell_type": "code",
   "execution_count": 53,
   "id": "e6ae5564-2be1-4178-bfc8-43279551bdc6",
   "metadata": {},
   "outputs": [
    {
     "data": {
      "text/plain": [
       "tensor([-1.9017,  0.9358,  1.7556])"
      ]
     },
     "execution_count": 53,
     "metadata": {},
     "output_type": "execute_result"
    }
   ],
   "source": [
    "M = torch.rand(9).reshape((3, 3))\n",
    "A = M.T @ M\n",
    "\n",
    "b = torch.rand(3)\n",
    "\n",
    "x = conjugate_gradient(A, b, delta=1e-5, max_iterations=1000)\n",
    "x"
   ]
  },
  {
   "cell_type": "code",
   "execution_count": 54,
   "id": "f66acee2-1d7e-41a1-8f94-a290abd04337",
   "metadata": {},
   "outputs": [
    {
     "data": {
      "text/plain": [
       "tensor([-1.9017,  0.9358,  1.7556])"
      ]
     },
     "execution_count": 54,
     "metadata": {},
     "output_type": "execute_result"
    }
   ],
   "source": [
    "A.inverse() @ b"
   ]
  },
  {
   "cell_type": "markdown",
   "id": "a001a82e-0df6-401d-b97e-ae8b5e3a18de",
   "metadata": {},
   "source": [
    "### cases 3"
   ]
  },
  {
   "cell_type": "code",
   "execution_count": 59,
   "id": "f5abaaae-3c7b-45d3-8eea-6380564d0585",
   "metadata": {},
   "outputs": [
    {
     "name": "stdout",
     "output_type": "stream",
     "text": [
      "0\n"
     ]
    }
   ],
   "source": [
    "P = np.array([[4, 0, 1, 0],\n",
    "              [0, 5, 0, 0],\n",
    "              [1, 0, 3, 2],\n",
    "              [0, 0, 2, 4]])\n",
    "A = csc_matrix(P)\n",
    "b = np.array([-1, -0.5, -1, 2])\n",
    "x, exit_code = cg(A, b, atol=1e-5)\n",
    "print(exit_code)"
   ]
  },
  {
   "cell_type": "code",
   "execution_count": 60,
   "id": "f00cd4b9-32ff-4bf5-8440-2b4ab3f3c87d",
   "metadata": {},
   "outputs": [
    {
     "data": {
      "text/plain": [
       "array([ 8.05079565e-17, -1.00000000e-01, -1.00000000e+00,  1.00000000e+00])"
      ]
     },
     "execution_count": 60,
     "metadata": {},
     "output_type": "execute_result"
    }
   ],
   "source": [
    "x"
   ]
  },
  {
   "cell_type": "code",
   "execution_count": 61,
   "id": "dc3feaf7-6e58-4377-b7b1-c77aab921dc6",
   "metadata": {},
   "outputs": [
    {
     "data": {
      "text/plain": [
       "True"
      ]
     },
     "execution_count": 61,
     "metadata": {},
     "output_type": "execute_result"
    }
   ],
   "source": [
    "np.allclose(A.dot(x), b)"
   ]
  },
  {
   "cell_type": "code",
   "execution_count": 63,
   "id": "ec457abf-4c1b-447e-850c-0b127c081853",
   "metadata": {},
   "outputs": [],
   "source": [
    "A = torch.tensor([[4, 0, 1, 0],\n",
    "              [0, 5, 0, 0],\n",
    "              [1, 0, 3, 2],\n",
    "              [0, 0, 2, 4]], dtype=torch.float32)\n",
    "b = torch.tensor([-1, -0.5, -1, 2], dtype=torch.float32)\n",
    "x = conjugate_gradient(A, b, delta=1e-5, max_iterations=1000)"
   ]
  },
  {
   "cell_type": "code",
   "execution_count": 65,
   "id": "a62ec2b1-8869-4c04-8006-6d4b0f7a83aa",
   "metadata": {},
   "outputs": [
    {
     "data": {
      "text/plain": [
       "True"
      ]
     },
     "execution_count": 65,
     "metadata": {},
     "output_type": "execute_result"
    }
   ],
   "source": [
    "torch.allclose(A @ x, b)"
   ]
  }
 ],
 "metadata": {
  "kernelspec": {
   "display_name": "Python 3 (ipykernel)",
   "language": "python",
   "name": "python3"
  },
  "language_info": {
   "codemirror_mode": {
    "name": "ipython",
    "version": 3
   },
   "file_extension": ".py",
   "mimetype": "text/x-python",
   "name": "python",
   "nbconvert_exporter": "python",
   "pygments_lexer": "ipython3",
   "version": "3.10.13"
  }
 },
 "nbformat": 4,
 "nbformat_minor": 5
}
