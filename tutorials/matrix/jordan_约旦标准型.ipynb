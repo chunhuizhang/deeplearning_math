{
 "cells": [
  {
   "cell_type": "markdown",
   "id": "a60a5e78",
   "metadata": {},
   "source": [
    "## basics"
   ]
  },
  {
   "cell_type": "markdown",
   "id": "588def61",
   "metadata": {},
   "source": [
    "- Jordan标准型的总大小与原始矩阵的大小相同。\n"
   ]
  },
  {
   "cell_type": "markdown",
   "id": "31142ef9",
   "metadata": {},
   "source": [
    "## examples"
   ]
  },
  {
   "cell_type": "code",
   "execution_count": 1,
   "id": "530433c6",
   "metadata": {
    "ExecuteTime": {
     "end_time": "2023-11-22T14:39:39.623421Z",
     "start_time": "2023-11-22T14:39:39.194018Z"
    }
   },
   "outputs": [],
   "source": [
    "import numpy as np\n",
    "from sympy import Matrix"
   ]
  },
  {
   "cell_type": "code",
   "execution_count": 6,
   "id": "2d0f8053",
   "metadata": {
    "ExecuteTime": {
     "end_time": "2023-11-22T14:40:41.562329Z",
     "start_time": "2023-11-22T14:40:41.554231Z"
    }
   },
   "outputs": [],
   "source": [
    "A = np.array([[5, 4, 2, 1], \n",
    "              [0, 1, -1, -1], \n",
    "              [-1, -1, 3, 0], \n",
    "              [1, 1, -1, 2]])"
   ]
  },
  {
   "cell_type": "code",
   "execution_count": 7,
   "id": "ab356012",
   "metadata": {
    "ExecuteTime": {
     "end_time": "2023-11-22T14:40:43.171313Z",
     "start_time": "2023-11-22T14:40:43.161398Z"
    }
   },
   "outputs": [
    {
     "data": {
      "text/plain": [
       "array([3.99999998, 4.00000002, 1.        , 2.        ])"
      ]
     },
     "execution_count": 7,
     "metadata": {},
     "output_type": "execute_result"
    }
   ],
   "source": [
    "eigenvalues, eigenvectors = np.linalg.eig(A)\n",
    "eigenvalues"
   ]
  },
  {
   "cell_type": "code",
   "execution_count": 9,
   "id": "95ea86f1",
   "metadata": {
    "ExecuteTime": {
     "end_time": "2023-11-22T14:40:47.983970Z",
     "start_time": "2023-11-22T14:40:47.971280Z"
    }
   },
   "outputs": [
    {
     "data": {
      "text/latex": [
       "$\\displaystyle \\left[\\begin{matrix}5 & 4 & 2 & 1\\\\0 & 1 & -1 & -1\\\\-1 & -1 & 3 & 0\\\\1 & 1 & -1 & 2\\end{matrix}\\right]$"
      ],
      "text/plain": [
       "Matrix([\n",
       "[ 5,  4,  2,  1],\n",
       "[ 0,  1, -1, -1],\n",
       "[-1, -1,  3,  0],\n",
       "[ 1,  1, -1,  2]])"
      ]
     },
     "execution_count": 9,
     "metadata": {},
     "output_type": "execute_result"
    }
   ],
   "source": [
    "m = Matrix(A)\n",
    "m"
   ]
  },
  {
   "cell_type": "code",
   "execution_count": 12,
   "id": "738792c0",
   "metadata": {
    "ExecuteTime": {
     "end_time": "2023-11-22T14:41:31.179334Z",
     "start_time": "2023-11-22T14:41:31.134712Z"
    }
   },
   "outputs": [
    {
     "data": {
      "text/latex": [
       "$\\displaystyle \\left[\\begin{matrix}1 & 0 & 0 & 0\\\\0 & 2 & 0 & 0\\\\0 & 0 & 4 & 1\\\\0 & 0 & 0 & 4\\end{matrix}\\right]$"
      ],
      "text/plain": [
       "Matrix([\n",
       "[1, 0, 0, 0],\n",
       "[0, 2, 0, 0],\n",
       "[0, 0, 4, 1],\n",
       "[0, 0, 0, 4]])"
      ]
     },
     "execution_count": 12,
     "metadata": {},
     "output_type": "execute_result"
    }
   ],
   "source": [
    "P, J = m.jordan_form()\n",
    "J"
   ]
  },
  {
   "cell_type": "code",
   "execution_count": null,
   "id": "e3893a02",
   "metadata": {},
   "outputs": [],
   "source": []
  }
 ],
 "metadata": {
  "kernelspec": {
   "display_name": "Python 3 (ipykernel)",
   "language": "python",
   "name": "python3"
  },
  "language_info": {
   "codemirror_mode": {
    "name": "ipython",
    "version": 3
   },
   "file_extension": ".py",
   "mimetype": "text/x-python",
   "name": "python",
   "nbconvert_exporter": "python",
   "pygments_lexer": "ipython3",
   "version": "3.10.13"
  },
  "toc": {
   "base_numbering": 1,
   "nav_menu": {},
   "number_sections": true,
   "sideBar": true,
   "skip_h1_title": false,
   "title_cell": "Table of Contents",
   "title_sidebar": "Contents",
   "toc_cell": false,
   "toc_position": {},
   "toc_section_display": true,
   "toc_window_display": false
  }
 },
 "nbformat": 4,
 "nbformat_minor": 5
}
