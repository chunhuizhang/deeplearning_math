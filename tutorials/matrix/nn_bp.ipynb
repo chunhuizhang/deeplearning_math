{
 "cells": [
  {
   "cell_type": "markdown",
   "id": "131eecd2-bfa6-43b9-9659-bf6dd2997068",
   "metadata": {},
   "source": [
    "- https://www.youtube.com/watch?v=x4RNPJD-IkQ"
   ]
  },
  {
   "cell_type": "code",
   "execution_count": 1,
   "id": "0db16404-0c6e-4dd6-aaca-e0419179bf45",
   "metadata": {
    "execution": {
     "iopub.execute_input": "2024-07-27T05:17:49.229802Z",
     "iopub.status.busy": "2024-07-27T05:17:49.229160Z",
     "iopub.status.idle": "2024-07-27T05:17:49.239863Z",
     "shell.execute_reply": "2024-07-27T05:17:49.237883Z",
     "shell.execute_reply.started": "2024-07-27T05:17:49.229754Z"
    }
   },
   "outputs": [],
   "source": [
    "from IPython.display import Image"
   ]
  },
  {
   "cell_type": "code",
   "execution_count": 2,
   "id": "885318a2-6fa1-4173-a0af-51ef7770e069",
   "metadata": {
    "execution": {
     "iopub.execute_input": "2024-07-27T05:18:05.410652Z",
     "iopub.status.busy": "2024-07-27T05:18:05.410083Z",
     "iopub.status.idle": "2024-07-27T05:18:05.427717Z",
     "shell.execute_reply": "2024-07-27T05:18:05.425636Z",
     "shell.execute_reply.started": "2024-07-27T05:18:05.410606Z"
    }
   },
   "outputs": [
    {
     "data": {
      "text/html": [
       "<img src=\"../../imgs/mlp_bp.png\" width=\"400\"/>"
      ],
      "text/plain": [
       "<IPython.core.display.Image object>"
      ]
     },
     "execution_count": 2,
     "metadata": {},
     "output_type": "execute_result"
    }
   ],
   "source": [
    "Image(url='../../imgs/mlp_bp.png', width=400)"
   ]
  },
  {
   "cell_type": "markdown",
   "id": "e7b8bcb4-db25-432f-96fb-fc448ab7b1bf",
   "metadata": {},
   "source": [
    "## forward"
   ]
  },
  {
   "cell_type": "markdown",
   "id": "0a2f0dda-288a-44b7-98ae-9179c9ff2122",
   "metadata": {},
   "source": [
    "\n",
    "$$\n",
    "\\begin{pmatrix}x_1 & x_2\\end{pmatrix}\\begin{pmatrix}w_{11} & w_{12} & w_{13}\\\\ w_{21} & w_{22} & w_{23}\\end{pmatrix}=\\begin{pmatrix}z_1 & z_2 & z_3\\end{pmatrix}\n",
    "$$\n",
    "\n",
    "\n",
    "- $\\mathbf x\\in \\mathbb R^2$ as row vectors, in preparation to using batches\n",
    "- 1 hidden layer with 3 neurons\n",
    "    - $z_1^{1\\times 3}=x^{1\\times 2}W_1^{2\\times 3}+b_1^{1\\times 3}$\n",
    "    - $a_1^{1\\times 3}=\\sigma(z_1)$, element-wise operation\n",
    "- output\n",
    "    - $z_2^{1\\times 1}=a_1^{1\\times 3}W_2^{3\\times 1}+b_2^{1\\times 1}$\n",
    "    - $a_2=\\sigma(z_2)=\\hat y$\n",
    "- 考虑是一个二分类问题（$gt\\in {0,1}$），则有 BCE（Binary CrossEntropy Loss）\n",
    "    - $L_i=-y_i\\log\\hat y_i-(1-y_i)\\log(1-\\hat y_i)$"
   ]
  },
  {
   "cell_type": "markdown",
   "id": "61030153-6d2d-4708-88c1-53e687e510f5",
   "metadata": {},
   "source": [
    "## backward"
   ]
  },
  {
   "cell_type": "markdown",
   "id": "153dd2bf-e631-4393-ba4d-54fc83096137",
   "metadata": {},
   "source": [
    "$$\n",
    "\\frac{\\partial L}{\\partial W_2}=\\frac{\\partial L}{\\partial a_2}\\frac{\\partial a_2}{\\partial z_2}\\frac{\\partial z_2}{\\partial W_2}\n",
    "$$\n",
    "\n",
    "- 一个标量（scalar，比如 loss）w.r.t.（关于）谁求导，导数就跟其的shape保持一致；\n",
    "    - $\\nabla_{W_2}L=\\frac{\\partial L}{\\partial W_2}$ 跟 $W_2$ 的 shape 保持一致；\n",
    "- $z\\rightarrow a$，element-wise operation\n",
    "    - $\\frac{\\partial L}{\\partial a_2}\\circ\\frac{\\partial a_2}{\\partial z_2}$（Hadamard product）\n",
    "- $\\frac{\\partial xW}{\\partial x}=W^T,\\frac{\\partial aW}{\\partial a}=W^T$\n",
    "    - $\\frac{\\partial L}{\\partial z}\\frac{\\partial z}{\\partial a}=\\frac{\\partial L}{\\partial z}\\frac{\\partial (aW+b)}{\\partial a}=\\frac{\\partial L}{\\partial z}W^T$\n",
    "- $\\frac{\\partial xW}{\\partial W}=x^T,\\frac{\\partial aW}{\\partial W}=a^T$ ????\n",
    "\n",
    "    $$\n",
    "    \\begin{pmatrix}x_1 & x_2\\end{pmatrix}\\begin{pmatrix}w_{11} & w_{12} & w_{13}\\\\ w_{21} & w_{22} & w_{23}\\end{pmatrix}=\\begin{pmatrix}z_1 & z_2 & z_3\\end{pmatrix}\n",
    "    $$\n",
    "\n",
    "  - $z_1=x_1w_{11}+x_2w_{21}$ => $\\frac{\\partial z_1}{\\partial W}$\n",
    "  - $z_2=x_1w_{12}+x_2w_{22}$ => $\\frac{\\partial z_2}{\\partial W}$ \n",
    "  - $z_3=x_1w_{13}+x_2w_{23}$ => $\\frac{\\partial z_3}{\\partial W}$\n",
    "  - $\\frac{\\partial z}{\\partial W}$ 是一个三维 tensor\n",
    " \n",
    "$$\n",
    "\\left[\n",
    "\\begin{pmatrix}\n",
    "\\frac{\\partial z_1}{\\partial w_{11}} & \\frac{\\partial z_1}{\\partial w_{12}} & \\frac{\\partial z_1}{\\partial w_{13}} \\\\\n",
    "\\frac{\\partial z_1}{\\partial w_{21}} & \\frac{\\partial z_1}{\\partial w_{22}} & \\frac{\\partial z_1}{\\partial w_{23}}\n",
    "\\end{pmatrix},\n",
    "\\begin{pmatrix}\n",
    "\\frac{\\partial z_2}{\\partial w_{11}} & \\frac{\\partial z_2}{\\partial w_{12}} & \\frac{\\partial z_2}{\\partial w_{13}} \\\\\n",
    "\\frac{\\partial z_2}{\\partial w_{21}} & \\frac{\\partial z_2}{\\partial w_{22}} & \\frac{\\partial z_2}{\\partial w_{23}}\n",
    "\\end{pmatrix},\n",
    "\\begin{pmatrix}\n",
    "\\frac{\\partial z_3}{\\partial w_{11}} & \\frac{\\partial z_3}{\\partial w_{12}} & \\frac{\\partial z_3}{\\partial w_{13}} \\\\\n",
    "\\frac{\\partial z_3}{\\partial w_{21}} & \\frac{\\partial z_3}{\\partial w_{22}} & \\frac{\\partial z_3}{\\partial w_{23}}\n",
    "\\end{pmatrix}\n",
    "\\right]=\n",
    "\\left[\n",
    "\\begin{pmatrix}\n",
    "x_1 & 0 & 0 \\\\\n",
    "x_2 & 0 & 0\n",
    "\\end{pmatrix},\n",
    "\\begin{pmatrix}\n",
    "0 & x_1 & 0 \\\\\n",
    "0 & x_2 & 0\n",
    "\\end{pmatrix},\n",
    "\\begin{pmatrix}\n",
    "0 & 0 & x_1 \\\\\n",
    "0 & 0 & x_2\n",
    "\\end{pmatrix}\n",
    "\\right]\n",
    "$$\n",
    "\n",
    "\n",
    "$$\n",
    "\\frac{\\partial L}{\\partial w_{ij}}=\\frac{\\partial L}{\\partial z_1}\\frac{\\partial z_1}{\\partial w_{ij}}+\\frac{\\partial L}{\\partial z_2}\\frac{\\partial z_2}{\\partial w_{ij}}+\\frac{\\partial L}{\\partial z_3}\\frac{\\partial z_3}{\\partial w_{ij}}\n",
    "$$"
   ]
  }
 ],
 "metadata": {
  "kernelspec": {
   "display_name": "Python 3 (ipykernel)",
   "language": "python",
   "name": "python3"
  },
  "language_info": {
   "codemirror_mode": {
    "name": "ipython",
    "version": 3
   },
   "file_extension": ".py",
   "mimetype": "text/x-python",
   "name": "python",
   "nbconvert_exporter": "python",
   "pygments_lexer": "ipython3",
   "version": "3.10.13"
  }
 },
 "nbformat": 4,
 "nbformat_minor": 5
}
