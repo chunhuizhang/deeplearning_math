{
 "cells": [
  {
   "cell_type": "markdown",
   "id": "103b7501-5aa7-4c46-9360-62e302054a01",
   "metadata": {},
   "source": [
    "- 相同 shape 的 vector 的 add 运算可以通过 concat 之后，基于一定的矩阵运算转化为 add\n",
    "    - 比如 Transformer 中 multi-head self attention 的多个头输出之后的 concat or add"
   ]
  },
  {
   "cell_type": "code",
   "execution_count": 1,
   "id": "2e305730-b602-4a0c-997f-c70b30382e5e",
   "metadata": {
    "execution": {
     "iopub.execute_input": "2024-06-28T12:34:11.154006Z",
     "iopub.status.busy": "2024-06-28T12:34:11.153802Z",
     "iopub.status.idle": "2024-06-28T12:34:11.171003Z",
     "shell.execute_reply": "2024-06-28T12:34:11.170260Z",
     "shell.execute_reply.started": "2024-06-28T12:34:11.153992Z"
    }
   },
   "outputs": [
    {
     "data": {
      "text/plain": [
       "<torch._C.Generator at 0x7b6a87f3e510>"
      ]
     },
     "execution_count": 1,
     "metadata": {},
     "output_type": "execute_result"
    }
   ],
   "source": [
    "import torch\n",
    "torch.manual_seed(42)"
   ]
  },
  {
   "cell_type": "code",
   "execution_count": 2,
   "id": "8a05bf47-291e-4c0d-8805-a37b9c539dc9",
   "metadata": {
    "execution": {
     "iopub.execute_input": "2024-06-28T12:34:31.904816Z",
     "iopub.status.busy": "2024-06-28T12:34:31.903451Z",
     "iopub.status.idle": "2024-06-28T12:34:31.910855Z",
     "shell.execute_reply": "2024-06-28T12:34:31.909539Z",
     "shell.execute_reply.started": "2024-06-28T12:34:31.904769Z"
    }
   },
   "outputs": [],
   "source": [
    "H, d = 3, 4"
   ]
  },
  {
   "cell_type": "code",
   "execution_count": 3,
   "id": "01436b73-8fce-426f-bbe4-1b51a296936b",
   "metadata": {
    "execution": {
     "iopub.execute_input": "2024-06-28T12:34:51.597264Z",
     "iopub.status.busy": "2024-06-28T12:34:51.596189Z",
     "iopub.status.idle": "2024-06-28T12:34:51.607283Z",
     "shell.execute_reply": "2024-06-28T12:34:51.606438Z",
     "shell.execute_reply.started": "2024-06-28T12:34:51.597217Z"
    }
   },
   "outputs": [],
   "source": [
    "h1 = torch.randn(d)\n",
    "h2 = torch.randn(d)\n",
    "h3 = torch.randn(d)"
   ]
  },
  {
   "cell_type": "code",
   "execution_count": 4,
   "id": "ce2b2b05-5e19-45d9-9b59-3a450e2f3f43",
   "metadata": {
    "execution": {
     "iopub.execute_input": "2024-06-28T12:34:56.028354Z",
     "iopub.status.busy": "2024-06-28T12:34:56.027259Z",
     "iopub.status.idle": "2024-06-28T12:34:56.048018Z",
     "shell.execute_reply": "2024-06-28T12:34:56.047524Z",
     "shell.execute_reply.started": "2024-06-28T12:34:56.028305Z"
    }
   },
   "outputs": [
    {
     "data": {
      "text/plain": [
       "tensor([-0.3245,  0.2098,  2.9776,  0.4017])"
      ]
     },
     "execution_count": 4,
     "metadata": {},
     "output_type": "execute_result"
    }
   ],
   "source": [
    "h1 + h2 + h3"
   ]
  },
  {
   "cell_type": "code",
   "execution_count": 5,
   "id": "bfc518cf-abc7-47b3-8970-e8083d7062c0",
   "metadata": {
    "execution": {
     "iopub.execute_input": "2024-06-28T12:35:19.688834Z",
     "iopub.status.busy": "2024-06-28T12:35:19.688382Z",
     "iopub.status.idle": "2024-06-28T12:35:19.704246Z",
     "shell.execute_reply": "2024-06-28T12:35:19.703347Z",
     "shell.execute_reply.started": "2024-06-28T12:35:19.688813Z"
    }
   },
   "outputs": [
    {
     "data": {
      "text/plain": [
       "tensor([ 0.3367,  0.1288,  0.2345,  0.2303, -1.1229, -0.1863,  2.2082, -0.6380,\n",
       "         0.4617,  0.2674,  0.5349,  0.8094])"
      ]
     },
     "execution_count": 5,
     "metadata": {},
     "output_type": "execute_result"
    }
   ],
   "source": [
    "h_concat = torch.concat([h1, h2, h3], dim=-1)\n",
    "h_concat"
   ]
  },
  {
   "cell_type": "code",
   "execution_count": 9,
   "id": "e2d7f9ea-cfbf-4671-a2c9-c896e3f9b406",
   "metadata": {
    "execution": {
     "iopub.execute_input": "2024-06-28T12:37:26.996467Z",
     "iopub.status.busy": "2024-06-28T12:37:26.995057Z",
     "iopub.status.idle": "2024-06-28T12:37:27.007757Z",
     "shell.execute_reply": "2024-06-28T12:37:27.006432Z",
     "shell.execute_reply.started": "2024-06-28T12:37:26.996419Z"
    }
   },
   "outputs": [
    {
     "data": {
      "text/plain": [
       "tensor([[1., 0., 0., 0.],\n",
       "        [0., 1., 0., 0.],\n",
       "        [0., 0., 1., 0.],\n",
       "        [0., 0., 0., 1.],\n",
       "        [1., 0., 0., 0.],\n",
       "        [0., 1., 0., 0.],\n",
       "        [0., 0., 1., 0.],\n",
       "        [0., 0., 0., 1.],\n",
       "        [1., 0., 0., 0.],\n",
       "        [0., 1., 0., 0.],\n",
       "        [0., 0., 1., 0.],\n",
       "        [0., 0., 0., 1.]])"
      ]
     },
     "execution_count": 9,
     "metadata": {},
     "output_type": "execute_result"
    }
   ],
   "source": [
    "# (nh*dh, dh)\n",
    "# (dh, dh) 的 identity matrix 纵向拼接 nh 个\n",
    "W = torch.concat([torch.eye(d) for _ in range(H)], dim=0)\n",
    "W"
   ]
  },
  {
   "cell_type": "code",
   "execution_count": 8,
   "id": "d953d79c-8f85-4617-9cd3-2d1310c3a971",
   "metadata": {
    "execution": {
     "iopub.execute_input": "2024-06-28T12:36:33.929296Z",
     "iopub.status.busy": "2024-06-28T12:36:33.929034Z",
     "iopub.status.idle": "2024-06-28T12:36:33.944690Z",
     "shell.execute_reply": "2024-06-28T12:36:33.943886Z",
     "shell.execute_reply.started": "2024-06-28T12:36:33.929278Z"
    }
   },
   "outputs": [
    {
     "data": {
      "text/plain": [
       "tensor([-0.3245,  0.2098,  2.9776,  0.4017])"
      ]
     },
     "execution_count": 8,
     "metadata": {},
     "output_type": "execute_result"
    }
   ],
   "source": [
    "h_concat @ W"
   ]
  },
  {
   "cell_type": "code",
   "execution_count": null,
   "id": "200fb9a8-67d0-42e3-884a-965f802e0341",
   "metadata": {},
   "outputs": [],
   "source": []
  }
 ],
 "metadata": {
  "kernelspec": {
   "display_name": "Python 3 (ipykernel)",
   "language": "python",
   "name": "python3"
  },
  "language_info": {
   "codemirror_mode": {
    "name": "ipython",
    "version": 3
   },
   "file_extension": ".py",
   "mimetype": "text/x-python",
   "name": "python",
   "nbconvert_exporter": "python",
   "pygments_lexer": "ipython3",
   "version": "3.10.13"
  }
 },
 "nbformat": 4,
 "nbformat_minor": 5
}
