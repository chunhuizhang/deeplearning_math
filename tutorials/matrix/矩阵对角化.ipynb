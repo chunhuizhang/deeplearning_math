{
 "cells": [
  {
   "cell_type": "markdown",
   "id": "1135dd37",
   "metadata": {},
   "source": [
    "## basics"
   ]
  },
  {
   "cell_type": "markdown",
   "id": "8453e0f8",
   "metadata": {},
   "source": [
    "$$\n",
    "M=PDP^{-1}\n",
    "$$\n",
    "\n",
    "\n",
    "- 对角化的形式不止一种；\n",
    "- $P$ 可以是特征向量构成的矩阵；（$MP=PD$）"
   ]
  },
  {
   "cell_type": "markdown",
   "id": "d0ce27d6",
   "metadata": {},
   "source": [
    "## sympy"
   ]
  },
  {
   "cell_type": "code",
   "execution_count": 10,
   "id": "86a9f4f6",
   "metadata": {
    "ExecuteTime": {
     "end_time": "2023-11-24T13:05:36.239947Z",
     "start_time": "2023-11-24T13:05:36.232339Z"
    }
   },
   "outputs": [],
   "source": [
    "from sympy import * "
   ]
  },
  {
   "cell_type": "code",
   "execution_count": 11,
   "id": "dd7d8f3c",
   "metadata": {
    "ExecuteTime": {
     "end_time": "2023-11-24T13:05:37.274610Z",
     "start_time": "2023-11-24T13:05:37.268108Z"
    }
   },
   "outputs": [],
   "source": [
    "M = Matrix([[3, -2, 4, -2], \n",
    "            [5, 3, -3, -2],\n",
    "            [5, -2, 2, -2],\n",
    "            [5, -2, -3, 3]])"
   ]
  },
  {
   "cell_type": "code",
   "execution_count": 6,
   "id": "1669b8fd",
   "metadata": {
    "ExecuteTime": {
     "end_time": "2023-11-24T13:04:17.584966Z",
     "start_time": "2023-11-24T13:04:17.569343Z"
    }
   },
   "outputs": [],
   "source": [
    "P, D = M.diagonalize()"
   ]
  },
  {
   "cell_type": "code",
   "execution_count": 7,
   "id": "4c58514a",
   "metadata": {
    "ExecuteTime": {
     "end_time": "2023-11-24T13:04:18.525953Z",
     "start_time": "2023-11-24T13:04:18.515716Z"
    }
   },
   "outputs": [
    {
     "data": {
      "text/latex": [
       "$\\displaystyle \\left[\\begin{matrix}0 & 1 & 1 & 0\\\\1 & 1 & 1 & -1\\\\1 & 1 & 1 & 0\\\\1 & 1 & 0 & 1\\end{matrix}\\right]$"
      ],
      "text/plain": [
       "Matrix([\n",
       "[0, 1, 1,  0],\n",
       "[1, 1, 1, -1],\n",
       "[1, 1, 1,  0],\n",
       "[1, 1, 0,  1]])"
      ]
     },
     "execution_count": 7,
     "metadata": {},
     "output_type": "execute_result"
    }
   ],
   "source": [
    "P"
   ]
  },
  {
   "cell_type": "code",
   "execution_count": 8,
   "id": "480d85d7",
   "metadata": {
    "ExecuteTime": {
     "end_time": "2023-11-24T13:04:19.841442Z",
     "start_time": "2023-11-24T13:04:19.830860Z"
    }
   },
   "outputs": [
    {
     "data": {
      "text/latex": [
       "$\\displaystyle \\left[\\begin{matrix}-2 & 0 & 0 & 0\\\\0 & 3 & 0 & 0\\\\0 & 0 & 5 & 0\\\\0 & 0 & 0 & 5\\end{matrix}\\right]$"
      ],
      "text/plain": [
       "Matrix([\n",
       "[-2, 0, 0, 0],\n",
       "[ 0, 3, 0, 0],\n",
       "[ 0, 0, 5, 0],\n",
       "[ 0, 0, 0, 5]])"
      ]
     },
     "execution_count": 8,
     "metadata": {},
     "output_type": "execute_result"
    }
   ],
   "source": [
    "D"
   ]
  },
  {
   "cell_type": "code",
   "execution_count": 12,
   "id": "748c81c6",
   "metadata": {
    "ExecuteTime": {
     "end_time": "2023-11-24T13:05:44.060264Z",
     "start_time": "2023-11-24T13:05:43.941746Z"
    }
   },
   "outputs": [],
   "source": [
    "import numpy as np"
   ]
  },
  {
   "cell_type": "code",
   "execution_count": 16,
   "id": "addc6caf",
   "metadata": {
    "ExecuteTime": {
     "end_time": "2023-11-24T13:07:05.022628Z",
     "start_time": "2023-11-24T13:07:04.995195Z"
    }
   },
   "outputs": [
    {
     "data": {
      "text/plain": [
       "array([[ 3., -2.,  4., -2.],\n",
       "       [ 5.,  3., -3., -2.],\n",
       "       [ 5., -2.,  2., -2.],\n",
       "       [ 5., -2., -3.,  3.]])"
      ]
     },
     "execution_count": 16,
     "metadata": {},
     "output_type": "execute_result"
    }
   ],
   "source": [
    "P = np.array(P).astype(np.float64)\n",
    "D = np.array(D).astype(np.float64)\n",
    "P.dot(D).dot(np.linalg.inv(P))"
   ]
  },
  {
   "cell_type": "markdown",
   "id": "f0f904c5",
   "metadata": {},
   "source": [
    "## numpy"
   ]
  },
  {
   "cell_type": "code",
   "execution_count": 19,
   "id": "eb83fbf7",
   "metadata": {
    "ExecuteTime": {
     "end_time": "2023-11-24T13:08:58.522986Z",
     "start_time": "2023-11-24T13:08:58.518161Z"
    }
   },
   "outputs": [],
   "source": [
    "from scipy.linalg import eig\n",
    "\n",
    "def diagonalize_matrix(matrix):\n",
    "    # 计算特征值和特征向量\n",
    "    eigenvalues, eigenvectors = eig(matrix)\n",
    "\n",
    "    # 检查特征向量是否形成了基，即是否线性无关\n",
    "    if np.linalg.matrix_rank(eigenvectors) != matrix.shape[0]:\n",
    "        return None, None\n",
    "\n",
    "    # 对角矩阵，其对角线元素是特征值\n",
    "    D = np.diag(eigenvalues)\n",
    "\n",
    "    # 特征向量矩阵 P\n",
    "    P = eigenvectors\n",
    "\n",
    "    return P, D"
   ]
  },
  {
   "cell_type": "code",
   "execution_count": 20,
   "id": "95e3edc7",
   "metadata": {
    "ExecuteTime": {
     "end_time": "2023-11-24T13:08:59.866049Z",
     "start_time": "2023-11-24T13:08:59.849730Z"
    }
   },
   "outputs": [],
   "source": [
    "M = np.array(M).astype(np.float64)\n",
    "P, D = diagonalize_matrix(M)"
   ]
  },
  {
   "cell_type": "code",
   "execution_count": 21,
   "id": "815d92e9",
   "metadata": {
    "ExecuteTime": {
     "end_time": "2023-11-24T13:09:03.761331Z",
     "start_time": "2023-11-24T13:09:03.751910Z"
    }
   },
   "outputs": [
    {
     "data": {
      "text/plain": [
       "array([[ 5.00000000e-01,  0.00000000e+00, -5.77350269e-01,\n",
       "        -6.07237672e-01],\n",
       "       [ 5.00000000e-01, -5.77350269e-01, -6.17589503e-16,\n",
       "        -5.01300427e-01],\n",
       "       [ 5.00000000e-01, -5.77350269e-01, -5.77350269e-01,\n",
       "        -6.07237672e-01],\n",
       "       [ 5.00000000e-01, -5.77350269e-01, -5.77350269e-01,\n",
       "        -1.05937245e-01]])"
      ]
     },
     "execution_count": 21,
     "metadata": {},
     "output_type": "execute_result"
    }
   ],
   "source": [
    "P"
   ]
  },
  {
   "cell_type": "code",
   "execution_count": 22,
   "id": "81994ac7",
   "metadata": {
    "ExecuteTime": {
     "end_time": "2023-11-24T13:09:05.067759Z",
     "start_time": "2023-11-24T13:09:05.058566Z"
    }
   },
   "outputs": [
    {
     "data": {
      "text/plain": [
       "array([[ 3.+0.j,  0.+0.j,  0.+0.j,  0.+0.j],\n",
       "       [ 0.+0.j, -2.+0.j,  0.+0.j,  0.+0.j],\n",
       "       [ 0.+0.j,  0.+0.j,  5.+0.j,  0.+0.j],\n",
       "       [ 0.+0.j,  0.+0.j,  0.+0.j,  5.+0.j]])"
      ]
     },
     "execution_count": 22,
     "metadata": {},
     "output_type": "execute_result"
    }
   ],
   "source": [
    "D"
   ]
  },
  {
   "cell_type": "code",
   "execution_count": 23,
   "id": "72bb5196",
   "metadata": {
    "ExecuteTime": {
     "end_time": "2023-11-24T13:09:38.844262Z",
     "start_time": "2023-11-24T13:09:38.807874Z"
    }
   },
   "outputs": [
    {
     "data": {
      "text/plain": [
       "array([[ 3.+0.j, -2.+0.j,  4.+0.j, -2.+0.j],\n",
       "       [ 5.+0.j,  3.+0.j, -3.+0.j, -2.+0.j],\n",
       "       [ 5.+0.j, -2.+0.j,  2.+0.j, -2.+0.j],\n",
       "       [ 5.+0.j, -2.+0.j, -3.+0.j,  3.+0.j]])"
      ]
     },
     "execution_count": 23,
     "metadata": {},
     "output_type": "execute_result"
    }
   ],
   "source": [
    "P.dot(D).dot(np.linalg.inv(P))"
   ]
  }
 ],
 "metadata": {
  "kernelspec": {
   "display_name": "Python 3 (ipykernel)",
   "language": "python",
   "name": "python3"
  },
  "language_info": {
   "codemirror_mode": {
    "name": "ipython",
    "version": 3
   },
   "file_extension": ".py",
   "mimetype": "text/x-python",
   "name": "python",
   "nbconvert_exporter": "python",
   "pygments_lexer": "ipython3",
   "version": "3.10.13"
  },
  "toc": {
   "base_numbering": 1,
   "nav_menu": {},
   "number_sections": true,
   "sideBar": true,
   "skip_h1_title": false,
   "title_cell": "Table of Contents",
   "title_sidebar": "Contents",
   "toc_cell": false,
   "toc_position": {},
   "toc_section_display": true,
   "toc_window_display": false
  }
 },
 "nbformat": 4,
 "nbformat_minor": 5
}
