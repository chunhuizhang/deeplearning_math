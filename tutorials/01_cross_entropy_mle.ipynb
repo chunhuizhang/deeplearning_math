{
 "cells": [
  {
   "cell_type": "markdown",
   "id": "4cc8f2c3",
   "metadata": {},
   "source": [
    "- 参考：\n",
    "    - https://medium.com/konvergen/cross-entropy-and-maximum-likelihood-estimation-58942b52517a"
   ]
  },
  {
   "cell_type": "markdown",
   "id": "b7cf4916",
   "metadata": {},
   "source": [
    "## Entropy"
   ]
  },
  {
   "cell_type": "markdown",
   "id": "83353727",
   "metadata": {},
   "source": [
    "- Entropy: 随机变量（或者对一个概率分布）不确定性的度量\n",
    "\n",
    "$$\n",
    "H(X)=-\\sum_xp(x)\\log p(x)\n",
    "$$\n",
    "\n",
    "- 考虑一个特例，$p(X=x_0) == 1$，则有\n",
    "\n",
    "$$\n",
    "\\begin{split}\n",
    "H(X)&=-\\sum_xp(x)\\log p(x)\\\\\n",
    "&=-p(x_0)\\log p(x_0)\\\\\n",
    "&=-1\\log 1\\\\\n",
    "&=0\n",
    "\\end{split}\n",
    "$$"
   ]
  },
  {
   "cell_type": "code",
   "execution_count": 1,
   "id": "f4f951d3",
   "metadata": {
    "ExecuteTime": {
     "end_time": "2023-06-18T09:13:06.107443Z",
     "start_time": "2023-06-18T09:13:05.830217Z"
    }
   },
   "outputs": [],
   "source": [
    "import numpy as np\n",
    "import matplotlib.pyplot as plt"
   ]
  },
  {
   "cell_type": "code",
   "execution_count": 6,
   "id": "a510d63a",
   "metadata": {
    "ExecuteTime": {
     "end_time": "2023-06-18T09:16:08.188651Z",
     "start_time": "2023-06-18T09:16:08.180878Z"
    }
   },
   "outputs": [],
   "source": [
    "def entropy(dist):\n",
    "    assert np.sum(dist) == 1.\n",
    "    return -np.sum([p*np.log2(p) for p in dist])"
   ]
  },
  {
   "cell_type": "code",
   "execution_count": 7,
   "id": "7934fda6",
   "metadata": {
    "ExecuteTime": {
     "end_time": "2023-06-18T09:16:09.391685Z",
     "start_time": "2023-06-18T09:16:09.182473Z"
    },
    "scrolled": false
   },
   "outputs": [
    {
     "name": "stderr",
     "output_type": "stream",
     "text": [
      "/tmp/ipykernel_4026114/749262781.py:3: RuntimeWarning: divide by zero encountered in log2\n",
      "  return -np.sum([p*np.log2(p) for p in dist])\n",
      "/tmp/ipykernel_4026114/749262781.py:3: RuntimeWarning: invalid value encountered in double_scalars\n",
      "  return -np.sum([p*np.log2(p) for p in dist])\n"
     ]
    },
    {
     "data": {
      "text/plain": [
       "[<matplotlib.lines.Line2D at 0x7f42b7bd17b0>]"
      ]
     },
     "execution_count": 7,
     "metadata": {},
     "output_type": "execute_result"
    },
    {
     "data": {
      "image/png": "[encoded data removed]",
      "text/plain": [
       "<Figure size 640x480 with 1 Axes>"
      ]
     },
     "metadata": {},
     "output_type": "display_data"
    }
   ],
   "source": [
    "ps = np.arange(0, 1, .01)\n",
    "ents = [entropy([p, 1-p]) for p in ps]\n",
    "plt.plot(p, ents)"
   ]
  },
  {
   "cell_type": "markdown",
   "id": "8b32d58d",
   "metadata": {},
   "source": [
    "## Entropy 与 Expectation"
   ]
  },
  {
   "cell_type": "markdown",
   "id": "9432d06d",
   "metadata": {},
   "source": [
    "- So the entropy of a random variable is the expected value of the random variable $\\log(1/p(x))$ where $X$ is drawn from $p(x)$. \n",
    "- Note that we can also denote entropy by $H(p)$."
   ]
  },
  {
   "cell_type": "markdown",
   "id": "0b5bfb27",
   "metadata": {},
   "source": [
    "$$\n",
    "\\begin{split}\n",
    "H(X)&=-\\sum_xp(x)\\log p(x)\\\\\n",
    "&=\\sum_xp(x)\\log \\frac1{p(x)}\\\\\n",
    "&=\\mathbb E_{X\\sim p(x)}\\left[\\log \\frac1{p(x)}\\right]\n",
    "\\end{split}\n",
    "$$"
   ]
  },
  {
   "cell_type": "markdown",
   "id": "b0c445d1",
   "metadata": {},
   "source": [
    "## 相对熵或KL-散度，与交叉熵"
   ]
  },
  {
   "cell_type": "markdown",
   "id": "c28aa7b4",
   "metadata": {},
   "source": [
    "- 未知概率分布 $p(x)$，我们用 $q(x)$ 去逼近 $p(x)$，我们定义相对熵或者叫 kl 散度\n",
    "\n",
    "$$\n",
    "\\begin{split}\n",
    "D(p||q)&=\\sum_xp(x)\\log \\frac{p(x)}{q(x)}\\\\\n",
    "&=\\mathbb E_{X\\sim p(x)}\\left[\\log \\frac{p(x)}{q(x)}\\right]\\\\\n",
    "&=\\mathbb E_{X\\sim p(x)}\\left[\\log\\frac1{q(x)}\\right]-E_{X\\sim p(x)}\\left[\\log\\frac1{p(x)}\\right]\\\\\n",
    "&=H(p,q)-H(p)\n",
    "\\end{split}\n",
    "$$\n",
    "\n",
    "- $H(p,q)=\\mathbb E_{X\\sim p(x)}\\left[\\log\\frac1{q(x)}\\right]$ 就叫交叉熵\n",
    "\n",
    "$$\n",
    "H(p,q)=D(p||q)+H(p)\n",
    "$$"
   ]
  },
  {
   "cell_type": "markdown",
   "id": "5bd4278b",
   "metadata": {},
   "source": [
    "## MLE: 最大似然估计"
   ]
  },
  {
   "cell_type": "markdown",
   "id": "ce9bfe4e",
   "metadata": {},
   "source": [
    "- 统计学习方法中的一个核心计算原则，对于一个数据驱动的统计学习问题\n",
    "    - $X_{\\text{example}}=\\{x_1,x_2,\\cdots,x_N\\}$, 从 $p_{\\text{data}}(x)$ （true 但未知，待学习）的分布中独立采样得到；\n",
    "        - $x_i$ 观察得到的数据独立同分布（iid, $p_{\\text{data}}(x)$）采样得到，\n",
    "    - 现在的问题是通过这些观察数据中估计 $p_{\\text{model}}(x;\\theta)$ （$\\theta$ 即为待估计的参数）"
   ]
  },
  {
   "cell_type": "markdown",
   "id": "7d37d510",
   "metadata": {},
   "source": [
    "$$\n",
    "\\begin{split}\n",
    "\\theta_{ML}&=\\arg\\max_\\theta p_{\\text{model}}(X_\\text{example};\\theta)\\\\\n",
    "&=\\arg\\max_\\theta \\Pi_{i=1}^N p_{\\text{model}}(x_i;\\theta)\\\\\n",
    "&=\\arg\\max_\\theta \\sum_{i=1}^N \\log p_{\\text{model}}(x_i;\\theta)\\\\\n",
    "&=\\arg\\max_\\theta \\sum_{i=1}^N \\frac1N\\log p_{\\text{model}}(x_i;\\theta)\\\\\n",
    "&\\approx\\arg\\max_\\theta\\mathbb E_{X\\sim p_{\\text{data}}(x)}[\\log p_{\\text{model}}(x;\\theta)],\\quad \\text{law of large numbers}\n",
    "\\end{split}\n",
    "$$"
   ]
  },
  {
   "cell_type": "markdown",
   "id": "bc08a759",
   "metadata": {},
   "source": [
    "- 我们通过 $p_{\\text{model}}(x;\\theta)$ （分布, 记为 $q(x)$） 来逼近 $p_{\\text{data}}(x)$（分布，记为 $p(x)$）\n",
    "\n",
    "$$\n",
    "\\begin{split}\n",
    "\\theta_{ML}&=\\arg\\max_\\theta\\mathbb E_{X\\sim p(x)}[\\log q(x)]\\\\\n",
    "&=\\arg\\min_\\theta\\mathbb -E_{X\\sim p(x)}[\\log q(x)]\\\\\n",
    "&=\\arg\\min_\\theta\\mathbb E_{X\\sim p(x)}\\left[\\log \\frac1{q(x)}\\right]\n",
    "\\end{split}\n",
    "$$"
   ]
  }
 ],
 "metadata": {
  "kernelspec": {
   "display_name": "Python 3 (ipykernel)",
   "language": "python",
   "name": "python3"
  },
  "language_info": {
   "codemirror_mode": {
    "name": "ipython",
    "version": 3
   },
   "file_extension": ".py",
   "mimetype": "text/x-python",
   "name": "python",
   "nbconvert_exporter": "python",
   "pygments_lexer": "ipython3",
   "version": "3.10.9"
  },
  "toc": {
   "base_numbering": 1,
   "nav_menu": {},
   "number_sections": true,
   "sideBar": true,
   "skip_h1_title": false,
   "title_cell": "Table of Contents",
   "title_sidebar": "Contents",
   "toc_cell": false,
   "toc_position": {
    "height": "calc(100% - 180px)",
    "left": "10px",
    "top": "150px",
    "width": "336px"
   },
   "toc_section_display": true,
   "toc_window_display": true
  }
 },
 "nbformat": 4,
 "nbformat_minor": 5
}
