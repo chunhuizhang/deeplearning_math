{
 "cells": [
  {
   "cell_type": "markdown",
   "id": "016e29e9",
   "metadata": {},
   "source": [
    "## basics"
   ]
  },
  {
   "cell_type": "markdown",
   "id": "a5ad7396",
   "metadata": {},
   "source": [
    "> 所谓空间，容纳点和运动（变换）；"
   ]
  },
  {
   "cell_type": "markdown",
   "id": "cf2e6f11",
   "metadata": {},
   "source": [
    "- 希尔伯特\n",
    "    - 空间中的点为函数（function）\n",
    "    - 为线性空间：支持数乘和加法；\n",
    "- 希尔伯特空间中的基（basis）\n",
    "    - 如果选择幂函数来做走标轴（$x^0, x^1, \\cdots, x^k,\\cdots$）\n",
    "        - 则其所构成的函数空间就有无穷维；\n",
    "        - 任意一个连续函数都可以塞进这个空间中了；\n",
    "        - 因为任意连续函数都可以分解为泰勒级数：$f(x)=\\sum_{n=0}^\\infty a_nx^n$\n",
    "    - 不同的函数分解方式（比如上文所说的泰勒分解）就相当于在函数空间（function space）中选择不同的基矢量；\n",
    "        - 幂级数（泰勒展开）：$f(x)=\\sum_{n=0}^\\infty a_nx^n$\n",
    "        - 傅里叶级数：$f(x)=\\sum_{n=1}^\\infty C_ne^{-in\\omega x}$"
   ]
  },
  {
   "cell_type": "markdown",
   "id": "5d982641",
   "metadata": {},
   "source": [
    "## 空间变换：一个函数 => 另一个函数"
   ]
  },
  {
   "cell_type": "markdown",
   "id": "2c79962e",
   "metadata": {},
   "source": [
    "### 求导运算"
   ]
  },
  {
   "cell_type": "markdown",
   "id": "0b950eaf",
   "metadata": {},
   "source": [
    "$$\n",
    "\\frac{d()}{dx}<=>\\begin{pmatrix}\n",
    "0 & 1 & 0 & 0 & 0 & \\cdots \\\\\n",
    "0 & 0 & 2 & 0 & 0 & \\cdots \\\\\n",
    "0 & 0 & 0 & 3 & 0 & \\cdots \\\\\n",
    "0 & 0 & 0 & 0 & 4 & \\cdots \\\\\n",
    "\\vdots & \\vdots & \\vdots & \\vdots & \\vdots & \\ddots\n",
    "\\end{pmatrix}\n",
    "$$"
   ]
  },
  {
   "cell_type": "markdown",
   "id": "db872873",
   "metadata": {},
   "source": [
    "- 求导运算在函数空间实际上是一个线性变换；\n",
    "- 举例，$(x^n)'=nx^{n-1}$（幂函数求导）\n",
    "    - 假如 $n=3$ => $x^3=3x^2$\n",
    "    \n",
    "$$\n",
    "\\begin{pmatrix}\n",
    "0 & 1 & 0 & 0\\\\\n",
    "0 & 0 & 2 & 0\\\\\n",
    "0 & 0 & 0 & 3\\\\\n",
    "0 & 0 & 0 & 0\n",
    "\\end{pmatrix}\\cdot \\begin{pmatrix}\n",
    "6\\\\\n",
    "5\\\\\n",
    "4\\\\\n",
    "3\n",
    "\\end{pmatrix}=\\begin{pmatrix}\n",
    "5\\\\\n",
    "8\\\\\n",
    "9\\\\\n",
    "0\n",
    "\\end{pmatrix}\n",
    "$$\n",
    "\n",
    "- $(6+5x+4x^2+3x^3)'=5+8x+9x^2$"
   ]
  },
  {
   "cell_type": "code",
   "execution_count": null,
   "id": "513f447f",
   "metadata": {},
   "outputs": [],
   "source": []
  }
 ],
 "metadata": {
  "kernelspec": {
   "display_name": "Python 3 (ipykernel)",
   "language": "python",
   "name": "python3"
  },
  "language_info": {
   "codemirror_mode": {
    "name": "ipython",
    "version": 3
   },
   "file_extension": ".py",
   "mimetype": "text/x-python",
   "name": "python",
   "nbconvert_exporter": "python",
   "pygments_lexer": "ipython3",
   "version": "3.10.13"
  },
  "toc": {
   "base_numbering": 1,
   "nav_menu": {},
   "number_sections": true,
   "sideBar": true,
   "skip_h1_title": false,
   "title_cell": "Table of Contents",
   "title_sidebar": "Contents",
   "toc_cell": false,
   "toc_position": {},
   "toc_section_display": true,
   "toc_window_display": false
  }
 },
 "nbformat": 4,
 "nbformat_minor": 5
}
