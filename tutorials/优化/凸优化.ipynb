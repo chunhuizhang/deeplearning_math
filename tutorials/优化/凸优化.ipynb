{
 "cells": [
  {
   "cell_type": "code",
   "execution_count": 1,
   "id": "2850532b-a572-4d26-8767-1b9ef6a46419",
   "metadata": {},
   "outputs": [],
   "source": [
    "from IPython.display import Image"
   ]
  },
  {
   "cell_type": "markdown",
   "id": "e4928b21-ab74-4278-bd31-3fbb926b436f",
   "metadata": {},
   "source": [
    "$$\n",
    "f(t * x₁ + (1-t) * x₂) ≤ t * f(x₁) + (1-t) * f(x₂)\n",
    "$$\n",
    "- 弦在弧上\n",
    "    - “先平均，再求函数值”的结果，小于等于“先求函数值，再平均”的结果。\n",
    "    - 推广到多点：$f(∑tᵢ * xᵢ) ≤ ∑tᵢ * f(xᵢ)$\n",
    "        - $f(E[X]) ≤ E[f(X)]$\n",
    "- 下凸为凸（convex），凸函数是梯度逐渐上升的函数；\n",
    "    - $y=x^2, y'=2x$（$y'$ 随着 $x$ 的升高而升高）\n",
    "    - 或者严谨地说，凸函数的gradient单调非递减\n",
    "- 全局最优解的保证：正因为梯度的这种单调性，凸函数不会有“局部最优但非全局最优”的陷阱。任何一个梯度为零的点（$∇f(x) = 0$），都一定是全局最小值点。"
   ]
  },
  {
   "cell_type": "code",
   "execution_count": 2,
   "id": "b3d67da9-ee2b-4e6c-9fe2-8c5cf0758569",
   "metadata": {
    "scrolled": true
   },
   "outputs": [
    {
     "data": {
      "text/html": [
       "<img src=\"https://www.xenonstack.com/hubfs/concave-convex-function.png\" width=\"500\"/>"
      ],
      "text/plain": [
       "<IPython.core.display.Image object>"
      ]
     },
     "execution_count": 2,
     "metadata": {},
     "output_type": "execute_result"
    }
   ],
   "source": [
    "Image(url='https://www.xenonstack.com/hubfs/concave-convex-function.png', width=500)"
   ]
  },
  {
   "cell_type": "markdown",
   "id": "9276a679-4546-419a-aeae-2d2b048ebdf9",
   "metadata": {},
   "source": [
    "### kl 散度非负性的推导"
   ]
  },
  {
   "cell_type": "markdown",
   "id": "428f7bb4-0275-4be7-b178-cf411f348fd8",
   "metadata": {},
   "source": [
    "$$\n",
    "D_{KL}(P\\|Q)=E_p\\log\\frac{p}{q}\n",
    "$$\n",
    "\n",
    "- $\\log$ 是 concave 函数：$f(E)\\geq E[f]$\n",
    "    - $E_p\\log\\frac{p}{q}=-E_p\\log\\frac{q}{p}\\geq -\\log E_p\\frac{q}{p}=0$"
   ]
  }
 ],
 "metadata": {
  "kernelspec": {
   "display_name": "Python 3 (ipykernel)",
   "language": "python",
   "name": "python3"
  },
  "language_info": {
   "codemirror_mode": {
    "name": "ipython",
    "version": 3
   },
   "file_extension": ".py",
   "mimetype": "text/x-python",
   "name": "python",
   "nbconvert_exporter": "python",
   "pygments_lexer": "ipython3",
   "version": "3.10.0"
  }
 },
 "nbformat": 4,
 "nbformat_minor": 5
}
