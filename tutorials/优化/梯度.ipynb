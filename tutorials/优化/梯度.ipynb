{
 "cells": [
  {
   "cell_type": "markdown",
   "id": "394aae47-f67d-480f-95c6-8326f97280a0",
   "metadata": {},
   "source": [
    "- 梯度方向，指向函数值增加最快的方向（梯度上升 => 最大化）：在函数定义域内的任何一点，该点的梯度向量所指的方向是函数值上升最陡峭的方向\n",
    "    - $y=-x^2, y'=-2x$\n",
    "        - $x\\leftarrow x+0.01 y'$\n",
    "            - $x=1, x=1-0.02$，向左移动（向 0 点靠近）\n",
    "            - $x=-1, x=-1+0.02$，向右移动（向 0 点靠近）\n",
    "    - 梯度下降（gradient descent），沿着梯度的反方向，最小化目标；"
   ]
  }
 ],
 "metadata": {
  "kernelspec": {
   "display_name": "Python 3 (ipykernel)",
   "language": "python",
   "name": "python3"
  },
  "language_info": {
   "codemirror_mode": {
    "name": "ipython",
    "version": 3
   },
   "file_extension": ".py",
   "mimetype": "text/x-python",
   "name": "python",
   "nbconvert_exporter": "python",
   "pygments_lexer": "ipython3",
   "version": "3.10.0"
  }
 },
 "nbformat": 4,
 "nbformat_minor": 5
}
