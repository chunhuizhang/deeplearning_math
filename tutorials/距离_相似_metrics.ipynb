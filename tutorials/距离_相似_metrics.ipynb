{
 "cells": [
  {
   "cell_type": "markdown",
   "id": "65d5e6fb-a54d-4204-a925-6aedbe836fde",
   "metadata": {},
   "source": [
    "### cosine similarity"
   ]
  },
  {
   "cell_type": "markdown",
   "id": "2e034a3c-8234-4438-9327-74c8eb1d7834",
   "metadata": {},
   "source": [
    "> cos similarity 只关心方向，而不关心幅值；\n",
    "\n",
    "- cosine 关心的是方向，更具体的说，是**两向量的夹角**，而与别的无关；\n",
    "    - 向量可以是很高维空间中的点（也就是向量）"
   ]
  },
  {
   "cell_type": "code",
   "execution_count": 2,
   "id": "387c34c9-ffef-4222-9cb4-154b478df675",
   "metadata": {
    "execution": {
     "iopub.execute_input": "2024-07-23T15:00:52.850512Z",
     "iopub.status.busy": "2024-07-23T15:00:52.849862Z",
     "iopub.status.idle": "2024-07-23T15:00:52.859767Z",
     "shell.execute_reply": "2024-07-23T15:00:52.858134Z",
     "shell.execute_reply.started": "2024-07-23T15:00:52.850464Z"
    }
   },
   "outputs": [],
   "source": [
    "from sklearn.metrics.pairwise import cosine_distances\n",
    "import numpy as np"
   ]
  },
  {
   "cell_type": "code",
   "execution_count": 3,
   "id": "4fb62bf7-1c21-45f6-983e-717ce28634cd",
   "metadata": {
    "execution": {
     "iopub.execute_input": "2024-07-23T15:01:17.997187Z",
     "iopub.status.busy": "2024-07-23T15:01:17.996537Z",
     "iopub.status.idle": "2024-07-23T15:01:18.006044Z",
     "shell.execute_reply": "2024-07-23T15:01:18.004405Z",
     "shell.execute_reply.started": "2024-07-23T15:01:17.997140Z"
    }
   },
   "outputs": [],
   "source": [
    "matrix = np.array([[1, 2, 3],\n",
    "                   [4, 5, 6],\n",
    "                   [2, 4, 6]])"
   ]
  },
  {
   "cell_type": "code",
   "execution_count": 6,
   "id": "8e0d89a8-0e18-4de3-9dbb-1626fc5a80ec",
   "metadata": {
    "execution": {
     "iopub.execute_input": "2024-07-23T15:01:55.677202Z",
     "iopub.status.busy": "2024-07-23T15:01:55.676582Z",
     "iopub.status.idle": "2024-07-23T15:01:55.691164Z",
     "shell.execute_reply": "2024-07-23T15:01:55.688903Z",
     "shell.execute_reply.started": "2024-07-23T15:01:55.677156Z"
    }
   },
   "outputs": [
    {
     "data": {
      "text/plain": [
       "array([[0.        , 0.02536815, 0.        ],\n",
       "       [0.02536815, 0.        , 0.02536815],\n",
       "       [0.        , 0.02536815, 0.        ]])"
      ]
     },
     "execution_count": 6,
     "metadata": {},
     "output_type": "execute_result"
    }
   ],
   "source": [
    "cosine_distances(matrix)"
   ]
  },
  {
   "cell_type": "code",
   "execution_count": 7,
   "id": "cc140482-c892-4fff-8809-163f7ef39d47",
   "metadata": {
    "execution": {
     "iopub.execute_input": "2024-07-23T15:02:11.902184Z",
     "iopub.status.busy": "2024-07-23T15:02:11.901481Z",
     "iopub.status.idle": "2024-07-23T15:02:11.916985Z",
     "shell.execute_reply": "2024-07-23T15:02:11.914824Z",
     "shell.execute_reply.started": "2024-07-23T15:02:11.902137Z"
    }
   },
   "outputs": [
    {
     "data": {
      "text/plain": [
       "array([[1.        , 0.97463185, 1.        ],\n",
       "       [0.97463185, 1.        , 0.97463185],\n",
       "       [1.        , 0.97463185, 1.        ]])"
      ]
     },
     "execution_count": 7,
     "metadata": {},
     "output_type": "execute_result"
    }
   ],
   "source": [
    "1 - cosine_distances(matrix)"
   ]
  }
 ],
 "metadata": {
  "kernelspec": {
   "display_name": "Python 3 (ipykernel)",
   "language": "python",
   "name": "python3"
  },
  "language_info": {
   "codemirror_mode": {
    "name": "ipython",
    "version": 3
   },
   "file_extension": ".py",
   "mimetype": "text/x-python",
   "name": "python",
   "nbconvert_exporter": "python",
   "pygments_lexer": "ipython3",
   "version": "3.10.13"
  }
 },
 "nbformat": 4,
 "nbformat_minor": 5
}
