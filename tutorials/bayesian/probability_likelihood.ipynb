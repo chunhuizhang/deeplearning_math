{
 "cells": [
  {
   "cell_type": "code",
   "execution_count": 1,
   "id": "24d1ed88",
   "metadata": {
    "ExecuteTime": {
     "end_time": "2024-01-24T13:50:30.320156Z",
     "start_time": "2024-01-24T13:50:30.304573Z"
    }
   },
   "outputs": [],
   "source": [
    "from IPython.display import Image"
   ]
  },
  {
   "cell_type": "markdown",
   "id": "1bfdada7",
   "metadata": {},
   "source": [
    "- references\n",
    "    - https://medium.com/aimonks/understanding-the-distinct-concepts-of-likelihood-and-probability-in-statistics-44cae9e1b56a"
   ]
  },
  {
   "cell_type": "markdown",
   "id": "b55a69eb",
   "metadata": {},
   "source": [
    "## basics"
   ]
  },
  {
   "cell_type": "code",
   "execution_count": 4,
   "id": "5bd95a9e",
   "metadata": {
    "ExecuteTime": {
     "end_time": "2024-01-24T13:54:38.155621Z",
     "start_time": "2024-01-24T13:54:38.145433Z"
    }
   },
   "outputs": [
    {
     "data": {
      "text/html": [
       "<img src=\"https://miro.medium.com/v2/resize:fit:4800/format:webp/0*2iZ2CDfy2TZomy8W.png\" width=\"500\"/>"
      ],
      "text/plain": [
       "<IPython.core.display.Image object>"
      ]
     },
     "execution_count": 4,
     "metadata": {},
     "output_type": "execute_result"
    }
   ],
   "source": [
    "Image(url='https://miro.medium.com/v2/resize:fit:4800/format:webp/0*2iZ2CDfy2TZomy8W.png', width=500)"
   ]
  },
  {
   "cell_type": "markdown",
   "id": "e83c50a1",
   "metadata": {},
   "source": [
    "> Probability tells the tale of what might happen in a world of chance, while likelihood reveals the story of our **observations**, explaining the world we see.\n",
    "\n",
    "- 概率（Probability）：概率描述了在一个充满偶然性的世界中可能发生的事件。它是预先定义的，基于理论或历史数据来预测未来事件的可能性。例如，掷骰子得到6的概率是1/6，这是在投掷之前就已经确定的。\n",
    "\n",
    "- 似然（Likelihood）：似然是在观察到某些数据之后，用来解释这些**观察结果**的统计量。它是基于已有观察来评估不同假设或模型的相对可能性。例如，在已知观察到了若干次掷骰子的结果后（真实发生的被观测的 trials ），似然可以帮助我们判断骰子是否公平。\n",
    "\n",
    "简而言之，概率是关于未来可能事件的预测，而似然是关于已经发生的观察事件的解释。概率从理论出发，似然从实际观察出发。这两者虽然紧密相关，但用途和含义有所不同。"
   ]
  },
  {
   "cell_type": "markdown",
   "id": "6a1941a4",
   "metadata": {},
   "source": [
    "### probability"
   ]
  },
  {
   "cell_type": "markdown",
   "id": "b6bba193",
   "metadata": {},
   "source": [
    "- 事先，不需要真实的 trials 或者叫观测发生\n",
    "- 来计算 $\\mu=13, \\sigma=4$ 的正态分布，$5\\leq x\\leq 10$ 的概率\n",
    "- 来计算 $\\mu=13, \\sigma=4$ 的正态分布，$-1000\\leq x\\leq 1000$ 的概率"
   ]
  },
  {
   "cell_type": "code",
   "execution_count": 5,
   "id": "b63f4569",
   "metadata": {
    "ExecuteTime": {
     "end_time": "2024-01-24T13:57:16.298189Z",
     "start_time": "2024-01-24T13:57:16.294301Z"
    }
   },
   "outputs": [],
   "source": [
    "from scipy.stats import norm"
   ]
  },
  {
   "cell_type": "code",
   "execution_count": 7,
   "id": "e8371eb9",
   "metadata": {
    "ExecuteTime": {
     "end_time": "2024-01-24T13:57:53.668662Z",
     "start_time": "2024-01-24T13:57:53.646024Z"
    }
   },
   "outputs": [
    {
     "data": {
      "text/plain": [
       "0.203877220428689"
      ]
     },
     "execution_count": 7,
     "metadata": {},
     "output_type": "execute_result"
    }
   ],
   "source": [
    "norm.cdf(10, loc=13, scale=4) - norm.cdf(5, loc=13, scale=4)"
   ]
  },
  {
   "cell_type": "code",
   "execution_count": 8,
   "id": "12a692a0",
   "metadata": {
    "ExecuteTime": {
     "end_time": "2024-01-24T13:58:34.080929Z",
     "start_time": "2024-01-24T13:58:34.068740Z"
    }
   },
   "outputs": [
    {
     "data": {
      "text/plain": [
       "1.0"
      ]
     },
     "execution_count": 8,
     "metadata": {},
     "output_type": "execute_result"
    }
   ],
   "source": [
    "norm.cdf(1000, loc=13, scale=4) - norm.cdf(-1000, loc=13, scale=4)"
   ]
  },
  {
   "cell_type": "markdown",
   "id": "6be624cf",
   "metadata": {},
   "source": [
    "### likelihood"
   ]
  },
  {
   "cell_type": "markdown",
   "id": "643d8e9d",
   "metadata": {},
   "source": [
    "- 对于 $\\mu=13, \\sigma=4$ 的正态分布，如果观测到（observe）\n",
    "    - $x=10$ 求其似然\n",
    "    - $x=14$ 求其似然"
   ]
  },
  {
   "cell_type": "code",
   "execution_count": 9,
   "id": "43410b47",
   "metadata": {
    "ExecuteTime": {
     "end_time": "2024-01-24T14:00:59.607332Z",
     "start_time": "2024-01-24T14:00:59.596200Z"
    }
   },
   "outputs": [
    {
     "data": {
      "text/plain": [
       "0.07528435803870111"
      ]
     },
     "execution_count": 9,
     "metadata": {},
     "output_type": "execute_result"
    }
   ],
   "source": [
    "norm.pdf(10, loc=13, scale=4)"
   ]
  },
  {
   "cell_type": "code",
   "execution_count": 10,
   "id": "1c854bbe",
   "metadata": {
    "ExecuteTime": {
     "end_time": "2024-01-24T14:01:06.694179Z",
     "start_time": "2024-01-24T14:01:06.683976Z"
    }
   },
   "outputs": [
    {
     "data": {
      "text/plain": [
       "0.09666702920071232"
      ]
     },
     "execution_count": 10,
     "metadata": {},
     "output_type": "execute_result"
    }
   ],
   "source": [
    "norm.pdf(14, loc=13, scale=4)"
   ]
  },
  {
   "cell_type": "markdown",
   "id": "34c5d632",
   "metadata": {},
   "source": [
    "- 显然因为 14 比 10 更靠近这个正态分布的均值，因为 $x=14$ 的似然比 $x=10$ 的似然更高；"
   ]
  },
  {
   "cell_type": "markdown",
   "id": "9c190698",
   "metadata": {},
   "source": [
    "### 对比"
   ]
  },
  {
   "cell_type": "markdown",
   "id": "02e217e9",
   "metadata": {},
   "source": [
    "while probability is a measure of the chance of an event occurring given certain conditions, likelihood is a measure of how well a set of data supports a particular model or parameter values. Probability is used more generally to describe the likelihood of events, while likelihood is a specific term used in the context of statistical models and inference."
   ]
  },
  {
   "cell_type": "markdown",
   "id": "5647d15d",
   "metadata": {},
   "source": [
    "## examples"
   ]
  },
  {
   "cell_type": "code",
   "execution_count": 11,
   "id": "9b3e8840",
   "metadata": {
    "ExecuteTime": {
     "end_time": "2024-01-24T14:11:20.224854Z",
     "start_time": "2024-01-24T14:11:19.666246Z"
    }
   },
   "outputs": [],
   "source": [
    "import numpy as np\n",
    "import matplotlib.pyplot as plt\n",
    "\n",
    "# Seed for reproducibility\n",
    "np.random.seed(42)\n",
    "\n",
    "# Simulate coin flips, 1 for heads and 0 for tails\n",
    "# Assume true probability of heads is 0.6\n",
    "true_p_heads = 0.6\n",
    "flips = np.random.binomial(1, true_p_heads, 100)"
   ]
  },
  {
   "cell_type": "code",
   "execution_count": 13,
   "id": "7ccceb86",
   "metadata": {
    "ExecuteTime": {
     "end_time": "2024-01-24T14:11:40.638681Z",
     "start_time": "2024-01-24T14:11:40.628999Z"
    }
   },
   "outputs": [
    {
     "name": "stdout",
     "output_type": "stream",
     "text": [
      "Probability of heads: 0.63\n"
     ]
    }
   ],
   "source": [
    "# Count the number of heads\n",
    "n_heads = np.sum(flips)\n",
    "\n",
    "# Total number of flips\n",
    "n_flips = len(flips)\n",
    "\n",
    "# Probability of observing n_heads in n_flips\n",
    "probability = n_heads / n_flips\n",
    "print(f\"Probability of heads: {probability}\")"
   ]
  },
  {
   "cell_type": "code",
   "execution_count": 14,
   "id": "82f61e9b",
   "metadata": {
    "ExecuteTime": {
     "end_time": "2024-01-24T14:12:30.824524Z",
     "start_time": "2024-01-24T14:12:30.607033Z"
    }
   },
   "outputs": [
    {
     "data": {
      "image/png": "[encoded data removed]",
      "text/plain": [
       "<Figure size 640x480 with 1 Axes>"
      ]
     },
     "metadata": {},
     "output_type": "display_data"
    }
   ],
   "source": [
    "# Define a range of possible values for the probability of heads\n",
    "p_heads_range = np.linspace(0, 1, 100)\n",
    "\n",
    "# Calculate the likelihood for each value of p_heads\n",
    "likelihoods = [(p ** n_heads) * ((1 - p) ** (n_flips - n_heads)) for p in p_heads_range]\n",
    "\n",
    "# Plot the likelihood function\n",
    "plt.plot(p_heads_range, likelihoods)\n",
    "plt.xlabel('Probability of Heads')\n",
    "plt.ylabel('Likelihood')\n",
    "plt.title('Likelihood Function of the Probability of Heads')\n",
    "plt.show()"
   ]
  },
  {
   "cell_type": "markdown",
   "id": "c82ee438",
   "metadata": {},
   "source": [
    "- 最大似然估计的角度，求 $p$\n",
    "\n",
    "$$\n",
    "\\arg\\max_{p} p^{k}(1-p)^{n-k}=\\arg\\max_{p} \\log(p^{k}(1-p)^{n-k})\n",
    "$$\n",
    "\n",
    "- 其一阶导数\n",
    "\n",
    "$$\n",
    "\\frac{k}{p}-\\frac{n-k}{1-p}\n",
    "$$\n",
    "\n",
    "- 令其为 0 得，\n",
    "\n",
    "$$\n",
    "p=\\frac{k}{n}\n",
    "$$"
   ]
  }
 ],
 "metadata": {
  "kernelspec": {
   "display_name": "Python 3 (ipykernel)",
   "language": "python",
   "name": "python3"
  },
  "language_info": {
   "codemirror_mode": {
    "name": "ipython",
    "version": 3
   },
   "file_extension": ".py",
   "mimetype": "text/x-python",
   "name": "python",
   "nbconvert_exporter": "python",
   "pygments_lexer": "ipython3",
   "version": "3.10.13"
  },
  "toc": {
   "base_numbering": 1,
   "nav_menu": {},
   "number_sections": true,
   "sideBar": true,
   "skip_h1_title": false,
   "title_cell": "Table of Contents",
   "title_sidebar": "Contents",
   "toc_cell": false,
   "toc_position": {},
   "toc_section_display": true,
   "toc_window_display": false
  }
 },
 "nbformat": 4,
 "nbformat_minor": 5
}
