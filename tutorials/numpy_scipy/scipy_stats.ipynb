{
 "cells": [
  {
   "cell_type": "code",
   "execution_count": 3,
   "id": "5470e7a1",
   "metadata": {
    "ExecuteTime": {
     "end_time": "2023-10-17T14:24:14.899120Z",
     "start_time": "2023-10-17T14:24:14.895647Z"
    }
   },
   "outputs": [],
   "source": [
    "from scipy import stats\n",
    "import numpy as np"
   ]
  },
  {
   "cell_type": "markdown",
   "id": "d6954e59",
   "metadata": {},
   "source": [
    "## distribution"
   ]
  },
  {
   "cell_type": "code",
   "execution_count": 7,
   "id": "e9129e8e",
   "metadata": {
    "ExecuteTime": {
     "end_time": "2023-10-17T14:25:44.746262Z",
     "start_time": "2023-10-17T14:25:44.740147Z"
    }
   },
   "outputs": [
    {
     "data": {
      "text/plain": [
       "0.008764150246784268"
      ]
     },
     "execution_count": 7,
     "metadata": {},
     "output_type": "execute_result"
    }
   ],
   "source": [
    "mu = 0\n",
    "sigma = 2\n",
    "# dist 可以是 ndarray\n",
    "dist = 5\n",
    "n = stats.norm(0, sigma)\n",
    "prob = n.pdf(dist)\n",
    "prob"
   ]
  },
  {
   "cell_type": "markdown",
   "id": "844275b9",
   "metadata": {},
   "source": [
    "## pearsonr"
   ]
  },
  {
   "cell_type": "markdown",
   "id": "8afee381",
   "metadata": {
    "ExecuteTime": {
     "end_time": "2023-10-17T14:05:06.749706Z",
     "start_time": "2023-10-17T14:05:06.686583Z"
    }
   },
   "source": [
    "- `stats.pearsonr(x, y)`\n",
    "    - Pearson correlation coefficient and p-value for testing non-correlation."
   ]
  }
 ],
 "metadata": {
  "kernelspec": {
   "display_name": "Python 3 (ipykernel)",
   "language": "python",
   "name": "python3"
  },
  "language_info": {
   "codemirror_mode": {
    "name": "ipython",
    "version": 3
   },
   "file_extension": ".py",
   "mimetype": "text/x-python",
   "name": "python",
   "nbconvert_exporter": "python",
   "pygments_lexer": "ipython3",
   "version": "3.10.9"
  },
  "toc": {
   "base_numbering": 1,
   "nav_menu": {},
   "number_sections": true,
   "sideBar": true,
   "skip_h1_title": false,
   "title_cell": "Table of Contents",
   "title_sidebar": "Contents",
   "toc_cell": false,
   "toc_position": {},
   "toc_section_display": true,
   "toc_window_display": false
  }
 },
 "nbformat": 4,
 "nbformat_minor": 5
}
