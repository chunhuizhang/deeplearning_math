{
 "cells": [
  {
   "cell_type": "code",
   "execution_count": 1,
   "id": "195b0546",
   "metadata": {
    "ExecuteTime": {
     "end_time": "2023-10-17T14:04:45.642260Z",
     "start_time": "2023-10-17T14:04:45.396944Z"
    }
   },
   "outputs": [],
   "source": [
    "from scipy import stats"
   ]
  },
  {
   "cell_type": "markdown",
   "id": "0a2188e3",
   "metadata": {},
   "source": [
    "## pearsonr"
   ]
  },
  {
   "cell_type": "markdown",
   "id": "f1fc0108",
   "metadata": {
    "ExecuteTime": {
     "end_time": "2023-10-17T14:05:06.749706Z",
     "start_time": "2023-10-17T14:05:06.686583Z"
    }
   },
   "source": [
    "- `stats.pearsonr(x, y)`\n",
    "    - Pearson correlation coefficient and p-value for testing non-correlation."
   ]
  }
 ],
 "metadata": {
  "kernelspec": {
   "display_name": "Python 3 (ipykernel)",
   "language": "python",
   "name": "python3"
  },
  "language_info": {
   "codemirror_mode": {
    "name": "ipython",
    "version": 3
   },
   "file_extension": ".py",
   "mimetype": "text/x-python",
   "name": "python",
   "nbconvert_exporter": "python",
   "pygments_lexer": "ipython3",
   "version": "3.10.9"
  },
  "toc": {
   "base_numbering": 1,
   "nav_menu": {},
   "number_sections": true,
   "sideBar": true,
   "skip_h1_title": false,
   "title_cell": "Table of Contents",
   "title_sidebar": "Contents",
   "toc_cell": false,
   "toc_position": {},
   "toc_section_display": true,
   "toc_window_display": false
  }
 },
 "nbformat": 4,
 "nbformat_minor": 5
}
