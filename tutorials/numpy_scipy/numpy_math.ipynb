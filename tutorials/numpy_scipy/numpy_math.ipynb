{
 "cells": [
  {
   "cell_type": "markdown",
   "id": "4effe1bf",
   "metadata": {},
   "source": [
    "## random sample"
   ]
  },
  {
   "cell_type": "markdown",
   "id": "24a79002",
   "metadata": {},
   "source": [
    "- `np.random.choice(a, size=None, replace=True, p=None)`\n",
    "- `np.random.shuffle`:\n",
    "    - in-place & return none\n",
    "    - 这点跟 `list.sort()` （python 标准库的处理一致）"
   ]
  }
 ],
 "metadata": {
  "kernelspec": {
   "display_name": "Python 3 (ipykernel)",
   "language": "python",
   "name": "python3"
  },
  "language_info": {
   "codemirror_mode": {
    "name": "ipython",
    "version": 3
   },
   "file_extension": ".py",
   "mimetype": "text/x-python",
   "name": "python",
   "nbconvert_exporter": "python",
   "pygments_lexer": "ipython3",
   "version": "3.10.9"
  },
  "toc": {
   "base_numbering": 1,
   "nav_menu": {},
   "number_sections": true,
   "sideBar": true,
   "skip_h1_title": false,
   "title_cell": "Table of Contents",
   "title_sidebar": "Contents",
   "toc_cell": false,
   "toc_position": {},
   "toc_section_display": true,
   "toc_window_display": false
  }
 },
 "nbformat": 4,
 "nbformat_minor": 5
}
