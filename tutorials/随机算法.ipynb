{
 "cells": [
  {
   "cell_type": "markdown",
   "id": "df9f9f8f",
   "metadata": {},
   "source": [
    "## 序列随机"
   ]
  },
  {
   "cell_type": "markdown",
   "id": "8b5154b9",
   "metadata": {
    "ExecuteTime": {
     "end_time": "2023-06-27T13:15:08.439089Z",
     "start_time": "2023-06-27T13:15:08.422516Z"
    }
   },
   "source": [
    "- Fisher-Yates shuffle"
   ]
  }
 ],
 "metadata": {
  "kernelspec": {
   "display_name": "Python 3 (ipykernel)",
   "language": "python",
   "name": "python3"
  },
  "language_info": {
   "codemirror_mode": {
    "name": "ipython",
    "version": 3
   },
   "file_extension": ".py",
   "mimetype": "text/x-python",
   "name": "python",
   "nbconvert_exporter": "python",
   "pygments_lexer": "ipython3",
   "version": "3.10.9"
  },
  "toc": {
   "base_numbering": 1,
   "nav_menu": {},
   "number_sections": true,
   "sideBar": true,
   "skip_h1_title": false,
   "title_cell": "Table of Contents",
   "title_sidebar": "Contents",
   "toc_cell": false,
   "toc_position": {},
   "toc_section_display": true,
   "toc_window_display": false
  }
 },
 "nbformat": 4,
 "nbformat_minor": 5
}
