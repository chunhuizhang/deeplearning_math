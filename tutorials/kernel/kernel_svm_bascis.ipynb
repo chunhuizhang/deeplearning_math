{
 "cells": [
  {
   "cell_type": "markdown",
   "id": "48028d85-c364-4988-8795-6651b651194b",
   "metadata": {},
   "source": [
    "## basics"
   ]
  },
  {
   "cell_type": "markdown",
   "id": "a25d3036-4b17-4e25-bbdd-fe09cd8931d8",
   "metadata": {},
   "source": [
    "$$\n",
    "\\begin{split}\n",
    "&x \\rightarrow f(x)\\\\\n",
    "&f(x)^Tf(x')\\coloneqq k(x,x')\n",
    "\\end{split}\n",
    "$$\n",
    "\n",
    "- $f: R^2 \\rightarrow R^3$\n",
    "    - $f([x,y])=[x^2,\\sqrt 2xy, y^2]$"
   ]
  },
  {
   "cell_type": "markdown",
   "id": "7b0730e8-45e7-4ad9-abd0-3a51a8c01d2d",
   "metadata": {},
   "source": [
    "### cases: linear vs. nonlinear"
   ]
  },
  {
   "cell_type": "markdown",
   "id": "39dc9448-d3e6-413d-a717-cf5202cf5bc0",
   "metadata": {},
   "source": [
    "- linear kernel （$f(x)=x$）\n",
    "\n",
    "    $$\n",
    "    k(x,x')=f(x)^Tf(x')=x^Tx'\n",
    "    $$\n",
    "\n",
    "  ```\n",
    "  SVC(kernel='linear').fit(X,y)\n",
    "  ```\n",
    "\n",
    "- nonlinear case\n",
    "\n",
    "    ```\n",
    "    f = lambda x: [x[0], x[1], x[0]**2 + x[1]**2]\n",
    "    ```"
   ]
  },
  {
   "cell_type": "markdown",
   "id": "36501e26-c4b7-44e4-9f62-237078b3ddc7",
   "metadata": {},
   "source": [
    "### cases: polynomial kernel"
   ]
  },
  {
   "cell_type": "markdown",
   "id": "ec0677a9-2931-41df-9149-a1de2e53b414",
   "metadata": {},
   "source": [
    "$$\n",
    "\\begin{split}\n",
    "f(x)=(x_1,x_2,x_1,x_2,x_1^2, x_2^2)\\\\\n",
    "k(x,x')=(1+x^Tx')^2\n",
    "\\end{split}\n",
    "$$\n",
    "\n",
    "```\n",
    "SVC(kernel='poly').fit(X,y)\n",
    "```"
   ]
  },
  {
   "cell_type": "code",
   "execution_count": 1,
   "id": "0106417e-6bce-47fe-955b-b32c19b73abd",
   "metadata": {},
   "outputs": [],
   "source": [
    "import sympy as sp"
   ]
  },
  {
   "cell_type": "code",
   "execution_count": 2,
   "id": "3ecfacc9-9dc9-4e4c-b969-966bee4d9aa7",
   "metadata": {},
   "outputs": [],
   "source": [
    "x1, x2, y1, y2 = sp.symbols('x1 x2 y1 y2')"
   ]
  },
  {
   "cell_type": "code",
   "execution_count": 12,
   "id": "6653d3e3-f942-489f-b109-898467064f46",
   "metadata": {},
   "outputs": [
    {
     "data": {
      "text/latex": [
       "$\\displaystyle x_{1}^{2} y_{1}^{2} + x_{1} x_{2} y_{1} y_{2} + x_{1} y_{1} + x_{2}^{2} y_{2}^{2} + x_{2} y_{2} + 1$"
      ],
      "text/plain": [
       "x1**2*y1**2 + x1*x2*y1*y2 + x1*y1 + x2**2*y2**2 + x2*y2 + 1"
      ]
     },
     "execution_count": 12,
     "metadata": {},
     "output_type": "execute_result"
    }
   ],
   "source": [
    "fx = sp.Matrix([1, x1, x2, x1*x2, x1*x1, x2*x2])\n",
    "fy = sp.Matrix([1, y1, y2, y1*y2, y1*y1, y2*y2])\n",
    "fx.dot(fy)"
   ]
  },
  {
   "cell_type": "code",
   "execution_count": 13,
   "id": "cc7c28f8-cd64-4cb5-a3ab-51a001b0622e",
   "metadata": {},
   "outputs": [
    {
     "data": {
      "text/latex": [
       "$\\displaystyle x_{1}^{2} y_{1}^{2} + 2 x_{1} x_{2} y_{1} y_{2} + 2 x_{1} y_{1} + x_{2}^{2} y_{2}^{2} + 2 x_{2} y_{2} + 1$"
      ],
      "text/plain": [
       "x1**2*y1**2 + 2*x1*x2*y1*y2 + 2*x1*y1 + x2**2*y2**2 + 2*x2*y2 + 1"
      ]
     },
     "execution_count": 13,
     "metadata": {},
     "output_type": "execute_result"
    }
   ],
   "source": [
    "x = sp.Matrix([x1, x2])\n",
    "y = sp.Matrix([y1, y2])\n",
    "sp.expand((1+x.dot(y))**2)"
   ]
  },
  {
   "cell_type": "code",
   "execution_count": 15,
   "id": "888b0446-b246-46ea-9692-683b8aeb6d05",
   "metadata": {},
   "outputs": [
    {
     "data": {
      "text/latex": [
       "$\\displaystyle a_{1}^{2} b_{1}^{2} + 2 a_{1} a_{2} b_{1} b_{2} + a_{2}^{2} b_{2}^{2}$"
      ],
      "text/plain": [
       "a1**2*b1**2 + 2*a1*a2*b1*b2 + a2**2*b2**2"
      ]
     },
     "execution_count": 15,
     "metadata": {},
     "output_type": "execute_result"
    }
   ],
   "source": [
    "a1, a2, b1, b2 = sp.symbols('a1 a2 b1 b2')\n",
    "fa = sp.Matrix([a1*a1, sp.sqrt(2)*a1*a2, a2*a2])\n",
    "fb = sp.Matrix([b1*b1, sp.sqrt(2)*b1*b2, b2*b2])\n",
    "fa.dot(fb)"
   ]
  },
  {
   "cell_type": "code",
   "execution_count": 18,
   "id": "21dbd9d9-3dcc-4864-be4f-3e8553900734",
   "metadata": {},
   "outputs": [
    {
     "data": {
      "text/latex": [
       "$\\displaystyle a_{1}^{2} b_{1}^{2} + 2 a_{1} a_{2} b_{1} b_{2} + a_{2}^{2} b_{2}^{2}$"
      ],
      "text/plain": [
       "a1**2*b1**2 + 2*a1*a2*b1*b2 + a2**2*b2**2"
      ]
     },
     "execution_count": 18,
     "metadata": {},
     "output_type": "execute_result"
    }
   ],
   "source": [
    "a = sp.Matrix([a1, a2])\n",
    "b = sp.Matrix([b1, b2])\n",
    "sp.expand((a.dot(b))**2)"
   ]
  },
  {
   "cell_type": "markdown",
   "id": "889e295f-6a37-4beb-a447-90df218c281d",
   "metadata": {
    "jp-MarkdownHeadingCollapsed": true
   },
   "source": [
    "### cases: rbf kernel"
   ]
  },
  {
   "cell_type": "markdown",
   "id": "14c3353d-3495-4c97-b76a-eb2cab4e12ca",
   "metadata": {},
   "source": [
    "$$\n",
    "k(x,x')=\\exp(-\\gamma\\|x-x'\\|^2)\n",
    "$$"
   ]
  }
 ],
 "metadata": {
  "kernelspec": {
   "display_name": "Python 3 (ipykernel)",
   "language": "python",
   "name": "python3"
  },
  "language_info": {
   "codemirror_mode": {
    "name": "ipython",
    "version": 3
   },
   "file_extension": ".py",
   "mimetype": "text/x-python",
   "name": "python",
   "nbconvert_exporter": "python",
   "pygments_lexer": "ipython3",
   "version": "3.10.13"
  }
 },
 "nbformat": 4,
 "nbformat_minor": 5
}
