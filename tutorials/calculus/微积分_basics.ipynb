{
 "cells": [
  {
   "cell_type": "markdown",
   "id": "ba6ac0f9",
   "metadata": {},
   "source": [
    "## Fundamental Theorem of Calculus"
   ]
  },
  {
   "cell_type": "markdown",
   "id": "488dc488",
   "metadata": {},
   "source": [
    "- Part I: If is continuous on $[a, b]$, and $F(x) =\\int_a^xf(t) dt$, \n",
    "$$F'(x) = f(x), \\forall x \\in (a,b)$$\n",
    "- Part II : If is continuous on $[a, b]$ and $F$ is an antiderivative of $f$ in that same interval, then\n",
    "\n",
    "$$\\int_a^b f(x)dx = F(b) - F(a)$$\n"
   ]
  },
  {
   "cell_type": "markdown",
   "id": "9de24df0",
   "metadata": {},
   "source": [
    "- 不定积分求导\n",
    "\n",
    "$$\n",
    "\\frac{d}{dx}\\int f(x)dx=f(x)\n",
    "$$\n",
    "\n",
    "- 举例 $f(x)=x^2$\n",
    "\n",
    "$$\n",
    "\\frac{d}{dx}\\int f(x)dx=\\frac{d}{dx}\\int x^2dx=\\frac{d}{dx} \\left(\\frac{x^3}3+C\\right)=x^2\n",
    "$$\n"
   ]
  }
 ],
 "metadata": {
  "kernelspec": {
   "display_name": "Python 3 (ipykernel)",
   "language": "python",
   "name": "python3"
  },
  "language_info": {
   "codemirror_mode": {
    "name": "ipython",
    "version": 3
   },
   "file_extension": ".py",
   "mimetype": "text/x-python",
   "name": "python",
   "nbconvert_exporter": "python",
   "pygments_lexer": "ipython3",
   "version": "3.10.9"
  },
  "toc": {
   "base_numbering": 1,
   "nav_menu": {},
   "number_sections": true,
   "sideBar": true,
   "skip_h1_title": false,
   "title_cell": "Table of Contents",
   "title_sidebar": "Contents",
   "toc_cell": false,
   "toc_position": {},
   "toc_section_display": true,
   "toc_window_display": false
  }
 },
 "nbformat": 4,
 "nbformat_minor": 5
}
