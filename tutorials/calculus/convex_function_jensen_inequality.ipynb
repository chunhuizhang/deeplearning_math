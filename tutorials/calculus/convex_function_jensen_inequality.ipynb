{
 "cells": [
  {
   "cell_type": "code",
   "execution_count": 1,
   "id": "a1408879",
   "metadata": {
    "ExecuteTime": {
     "end_time": "2023-11-18T10:13:41.278030Z",
     "start_time": "2023-11-18T10:13:41.260461Z"
    }
   },
   "outputs": [],
   "source": [
    "from IPython.display import Image"
   ]
  },
  {
   "cell_type": "markdown",
   "id": "e0f0a905",
   "metadata": {},
   "source": [
    "## basics"
   ]
  },
  {
   "cell_type": "markdown",
   "id": "86aa8a41",
   "metadata": {},
   "source": [
    "- 如果 $\\phi$ 是凸函数，$X$ 是随机变量，则有：\n",
    "\n",
    "    $$\n",
    "    \\phi(E(x))\\leq E(\\phi(x))\n",
    "    $$\n",
    "    \n",
    "    - 如果 $\\phi$ 是 concave 的时，$\\phi(E(x))\\geq E(\\phi(x))$\n",
    "    - 期望的函数小于函数的期望；\n",
    "        - 可以简单将期望理解为均值，均值的函数 <= 函数的均值；\n",
    "    - 典型的凸函数（下凸为凸）\n",
    "        - $\\phi$ 是 linear 时，等式成立；\n",
    "        - $\\log(\\cdot)$ 是 concave \n",
    "- 一道测试：\n",
    "    - https://www.probabilitycourse.com/chapter6/6_2_5_jensen's_inequality.php"
   ]
  },
  {
   "cell_type": "code",
   "execution_count": 6,
   "id": "983859f4",
   "metadata": {
    "ExecuteTime": {
     "end_time": "2023-11-18T10:19:00.869099Z",
     "start_time": "2023-11-18T10:19:00.858965Z"
    }
   },
   "outputs": [
    {
     "data": {
      "text/html": [
       "<img src=\"https://francisbach.com/wp-content/uploads/2023/03/jensen-3-1024x456.png\" width=\"500\"/>"
      ],
      "text/plain": [
       "<IPython.core.display.Image object>"
      ]
     },
     "execution_count": 6,
     "metadata": {},
     "output_type": "execute_result"
    }
   ],
   "source": [
    "Image(url='https://francisbach.com/wp-content/uploads/2023/03/jensen-3-1024x456.png', width=500)"
   ]
  },
  {
   "cell_type": "markdown",
   "id": "54d42137",
   "metadata": {},
   "source": [
    "- 关于凸函数，其定义，通俗来说就是弦在弧上；\n",
    "    - 凸函数的一个判断：二阶导数 >= 0（比如 $\\phi(x)=x^2$）"
   ]
  },
  {
   "cell_type": "code",
   "execution_count": 4,
   "id": "9e823de0",
   "metadata": {
    "ExecuteTime": {
     "end_time": "2023-11-18T10:15:03.095743Z",
     "start_time": "2023-11-18T10:15:03.088809Z"
    }
   },
   "outputs": [
    {
     "data": {
      "text/html": [
       "<img src=\"https://i.stack.imgur.com/qQNZu.gif\" width=\"500\"/>"
      ],
      "text/plain": [
       "<IPython.core.display.Image object>"
      ]
     },
     "execution_count": 4,
     "metadata": {},
     "output_type": "execute_result"
    }
   ],
   "source": [
    "Image(url='https://i.stack.imgur.com/qQNZu.gif', width=500)"
   ]
  },
  {
   "cell_type": "markdown",
   "id": "083b5bb6",
   "metadata": {},
   "source": [
    "## examples"
   ]
  },
  {
   "cell_type": "code",
   "execution_count": 10,
   "id": "2870f64e",
   "metadata": {
    "ExecuteTime": {
     "end_time": "2023-11-18T10:27:11.280025Z",
     "start_time": "2023-11-18T10:27:11.273688Z"
    }
   },
   "outputs": [],
   "source": [
    "import numpy as np\n",
    "\n",
    "# transform function\n",
    "def payoff(x):\n",
    "    return x*x"
   ]
  },
  {
   "cell_type": "code",
   "execution_count": 12,
   "id": "c39128c1",
   "metadata": {
    "ExecuteTime": {
     "end_time": "2023-11-18T10:27:40.732688Z",
     "start_time": "2023-11-18T10:27:40.726885Z"
    }
   },
   "outputs": [],
   "source": [
    "# each possible roll of the dice\n",
    "outcomes = np.asarray([1, 2, 3, 4, 5, 6])"
   ]
  },
  {
   "cell_type": "code",
   "execution_count": 13,
   "id": "6698ac9e",
   "metadata": {
    "ExecuteTime": {
     "end_time": "2023-11-18T10:27:41.949950Z",
     "start_time": "2023-11-18T10:27:41.937810Z"
    }
   },
   "outputs": [
    {
     "data": {
      "text/plain": [
       "15.166666666666666"
      ]
     },
     "execution_count": 13,
     "metadata": {},
     "output_type": "execute_result"
    }
   ],
   "source": [
    "np.mean(payoff(outcomes))"
   ]
  },
  {
   "cell_type": "code",
   "execution_count": 14,
   "id": "797df77b",
   "metadata": {
    "ExecuteTime": {
     "end_time": "2023-11-18T10:27:51.075090Z",
     "start_time": "2023-11-18T10:27:51.064844Z"
    }
   },
   "outputs": [
    {
     "data": {
      "text/plain": [
       "12.25"
      ]
     },
     "execution_count": 14,
     "metadata": {},
     "output_type": "execute_result"
    }
   ],
   "source": [
    "payoff(np.mean(outcomes))"
   ]
  },
  {
   "cell_type": "code",
   "execution_count": 17,
   "id": "09ddb4a2",
   "metadata": {
    "ExecuteTime": {
     "end_time": "2023-11-18T10:30:05.772068Z",
     "start_time": "2023-11-18T10:30:05.758759Z"
    }
   },
   "outputs": [
    {
     "name": "stdout",
     "output_type": "stream",
     "text": [
      "->0: 14.04 >= 11.02\n",
      "->1: 16.46 >= 13.69\n",
      "->2: 14.34 >= 11.42\n",
      "->3: 15.94 >= 12.82\n",
      "->4: 13.52 >= 11.02\n",
      "->5: 16.12 >= 12.96\n",
      "->6: 14.76 >= 11.56\n",
      "->7: 13.70 >= 10.89\n",
      "->8: 17.54 >= 14.59\n",
      "->9: 18.42 >= 15.52\n"
     ]
    }
   ],
   "source": [
    "# transform function\n",
    "def payoff(x):\n",
    "    return x*x\n",
    "\n",
    "# repeated trials\n",
    "n_trials = 10\n",
    "n_samples = 50\n",
    "for i in range(n_trials):\n",
    "    # roll the dice [1,6] many times (e.g. 50)\n",
    "    outcomes = np.random.randint(1, 7, n_samples)\n",
    "    # calculate the payoff for each outcome\n",
    "    payoffs = [payoff(x) for x in outcomes]\n",
    "    # calculate the mean of the payoffs\n",
    "    v1 = np.mean(payoffs)\n",
    "    # calculate the payoff of the mean outcome\n",
    "    v2 = payoff(np.mean(outcomes))\n",
    "    # confirm the expectation\n",
    "    assert v1 >= v2\n",
    "    # summarize the result\n",
    "    print('->%d: %.2f >= %.2f' % (i, v1, v2))"
   ]
  },
  {
   "cell_type": "code",
   "execution_count": 19,
   "id": "29b8f996",
   "metadata": {
    "ExecuteTime": {
     "end_time": "2023-11-18T10:30:20.086317Z",
     "start_time": "2023-11-18T10:30:20.069806Z"
    }
   },
   "outputs": [
    {
     "name": "stdout",
     "output_type": "stream",
     "text": [
      "->0: 1.16 <= 1.32\n",
      "->1: 1.04 <= 1.25\n",
      "->2: 1.13 <= 1.30\n",
      "->3: 1.20 <= 1.33\n",
      "->4: 1.10 <= 1.25\n",
      "->5: 1.05 <= 1.23\n",
      "->6: 1.12 <= 1.26\n",
      "->7: 1.12 <= 1.29\n",
      "->8: 1.06 <= 1.23\n",
      "->9: 1.28 <= 1.39\n"
     ]
    }
   ],
   "source": [
    "# transform function\n",
    "def payoff(x):\n",
    "    return np.log(x)\n",
    "\n",
    "# repeated trials\n",
    "n_trials = 10\n",
    "n_samples = 50\n",
    "for i in range(n_trials):\n",
    "    # roll the dice [1,6] many times (e.g. 50)\n",
    "    outcomes = np.random.randint(1, 7, n_samples)\n",
    "    # calculate the payoff for each outcome\n",
    "    payoffs = [payoff(x) for x in outcomes]\n",
    "    # calculate the mean of the payoffs\n",
    "    v1 = np.mean(payoffs)\n",
    "    # calculate the payoff of the mean outcome\n",
    "    v2 = payoff(np.mean(outcomes))\n",
    "    # confirm the expectation\n",
    "    assert v1 <= v2\n",
    "    # summarize the result\n",
    "    print('->%d: %.2f <= %.2f' % (i, v1, v2))"
   ]
  },
  {
   "cell_type": "markdown",
   "id": "f31a046a",
   "metadata": {},
   "source": [
    "## ELBO"
   ]
  },
  {
   "cell_type": "markdown",
   "id": "189eb8b8",
   "metadata": {},
   "source": [
    "- $\\log(\\cdot)$ 是 concave function\n",
    "\n",
    "$$\n",
    "\\begin{aligned}\n",
    "\\log p(\\mathbf{x})\n",
    "&=\\log \\int p(\\mathbf{x}, \\mathbf{z}) d\\mathbf{z} \\\\\n",
    "&=\\log \\int p(\\mathbf{x}, \\mathbf{z}) \\frac{q(\\mathbf{z})}{q(\\mathbf{z})} d\\mathbf{z} \\\\\n",
    "&=\\log \\mathbb{E}_{q} \\bigg[ \\frac{p(\\mathbf{x}, \\mathbf{z})}{q(\\mathbf{z})} \\bigg] \\\\\n",
    "&\\geq \\underbrace{\\mathbb{E}_{q} \\bigg[ \\log \\frac{p(\\mathbf{x}, \\mathbf{z})}{q(\\mathbf{z})} \\bigg]}_{\\text{ELBO}}\\\\\n",
    "\\end{aligned}\n",
    "$$\n",
    "\n",
    "- 事实上：\n",
    "\n",
    "$$\n",
    "\\begin{aligned}\n",
    "\\log p(\\mathbf{x})\n",
    "&=\\mathbb{E}_{q}[\\log p(\\mathbf{x})]\\\\\n",
    "&=\\mathbb{E}_{q} \\bigg[ \\log \\frac{p(\\mathbf{x}, \\mathbf{z})}{p(\\mathbf{z} \\vert \\mathbf{x})} \\bigg] \\\\\n",
    "&=\\mathbb{E}_{q} \\bigg[ \\log \\frac{p(\\mathbf{x}, \\mathbf{z})}{p(\\mathbf{z} \\vert \\mathbf{x})} \\frac{q(\\mathbf{z})}{q(\\mathbf{z})} \\bigg] \\\\\n",
    "&=\\mathbb{E}_{q} \\bigg[ \\log \\frac{p(\\mathbf{x}, \\mathbf{z})}{q(\\mathbf{z})} \\frac{q(\\mathbf{z})}{p(\\mathbf{z} \\vert \\mathbf{x})} \\bigg] \\\\\n",
    "&=\\underbrace{\\mathbb{E}_{q} \\bigg[ \\log \\frac{p(\\mathbf{x}, \\mathbf{z})}{q(\\mathbf{z})} \\bigg]}_{\\text{ELBO}} + \\underbrace{\\mathbb{E}_{q} \\bigg[ \\log \\frac{q(\\mathbf{z})}{p(\\mathbf{z} \\vert \\mathbf{x})} \\bigg]}_{\\text{KL}}\\\\\n",
    "\\end{aligned}\n",
    "$$"
   ]
  },
  {
   "cell_type": "code",
   "execution_count": 7,
   "id": "7d91846b",
   "metadata": {
    "ExecuteTime": {
     "end_time": "2023-11-18T10:24:20.691193Z",
     "start_time": "2023-11-18T10:24:20.682972Z"
    }
   },
   "outputs": [
    {
     "data": {
      "text/html": [
       "<img src=\"https://jejjohnson.github.io/research_notebook/_images/elbo_inequality.png\"/>"
      ],
      "text/plain": [
       "<IPython.core.display.Image object>"
      ]
     },
     "execution_count": 7,
     "metadata": {},
     "output_type": "execute_result"
    }
   ],
   "source": [
    "Image(url='https://jejjohnson.github.io/research_notebook/_images/elbo_inequality.png')"
   ]
  },
  {
   "cell_type": "markdown",
   "id": "a92f5414",
   "metadata": {},
   "source": [
    "## 投资领域（investment）"
   ]
  },
  {
   "cell_type": "markdown",
   "id": "2aaeaeaa",
   "metadata": {},
   "source": [
    "> Don’t put all your eggs in one basket. (多元化投资)\n",
    "\n",
    "\n",
    "\n",
    "- 有两个投资项目（two assets）， A and B. \n",
    "    - Asset A is a low-risk, low-return asset, like a government bond. \n",
    "    - Asset B is a high-risk, high, asset-return like a tech startup’s stock.\n",
    "- Porfolio：资产组合\n",
    "    - $r_a,r_b$ 分别是 A 和 B 的投资回报率（return）\n",
    "    - 随机变量 $x\\in[0,1]$ 表示在 A 上的投资比例，$1-x$ 为在 B 上的；\n",
    "    - $r_p=xr_a+(1-x)r_b$\n",
    "    - 则其方差：$\\text{Var}(r_p)=x^2\\text{Var}(r_a)+(1-x^2)\\text{Var}(r_b)+2x(1-x)\\text{Cov}(r_a,r_b)$\n",
    "        - 其二阶导数为 $2\\sigma_a^2-4\\sigma_{ab}+2\\sigma_b^2\\geq 0$ ($|\\sigma_{ab}|\\leq \\sigma_a\\sigma_b$)\n",
    "        - $\\text{Var}(r_p)$（投资组合的方差） 是关于投资比例 $x$ 的凸函数\n",
    "    - 关于凸函数，则也有 $\\text{Var}(xr_a+(1-x)r_b)\\leq x\\text{Var}(r_a)+(1-x)\\text{Var}(r_b)$\n",
    "        - 多元化投资组合的风险小于或等于其各个资产风险的加权平均，"
   ]
  },
  {
   "cell_type": "markdown",
   "id": "37e14710",
   "metadata": {},
   "source": [
    "- https://medium.com/@hosamedwee/jensens-inequality-2-unlocking-optimization-and-decision-making-power-9109914db6f5\n",
    "- $f(X)$: If you invest in a single risky asset, your risk is simply f(X) — the risk of that single asset.\n",
    "- $f(E(X))$: If you diversify across multiple assets, your risk is f(E[X]) — the risk of the diversified portfolio.\n",
    "- $f(E(x))\\leq E(f(X))$: According to Jensen’s inequality, f(E[X]) ≤ E[f(X)] — the average risk of the individual assets.\n",
    "    - Therefore, the risk from diversifying, f(E[X]), is less than the risk from a single asset, f(X)."
   ]
  }
 ],
 "metadata": {
  "kernelspec": {
   "display_name": "Python 3 (ipykernel)",
   "language": "python",
   "name": "python3"
  },
  "language_info": {
   "codemirror_mode": {
    "name": "ipython",
    "version": 3
   },
   "file_extension": ".py",
   "mimetype": "text/x-python",
   "name": "python",
   "nbconvert_exporter": "python",
   "pygments_lexer": "ipython3",
   "version": "3.10.13"
  },
  "toc": {
   "base_numbering": 1,
   "nav_menu": {},
   "number_sections": true,
   "sideBar": true,
   "skip_h1_title": false,
   "title_cell": "Table of Contents",
   "title_sidebar": "Contents",
   "toc_cell": false,
   "toc_position": {},
   "toc_section_display": true,
   "toc_window_display": false
  }
 },
 "nbformat": 4,
 "nbformat_minor": 5
}
