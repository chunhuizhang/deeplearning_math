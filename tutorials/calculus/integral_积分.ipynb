{
 "cells": [
  {
   "cell_type": "markdown",
   "id": "271c9c15",
   "metadata": {},
   "source": [
    "$$\n",
    "f(x)=1.2-x^4\n",
    "$$"
   ]
  },
  {
   "cell_type": "code",
   "execution_count": 5,
   "id": "7b36a5ff",
   "metadata": {
    "ExecuteTime": {
     "end_time": "2023-09-11T13:40:44.614569Z",
     "start_time": "2023-09-11T13:40:44.608507Z"
    }
   },
   "outputs": [],
   "source": [
    "import numpy as np\n",
    "from scipy.integrate import quad"
   ]
  },
  {
   "cell_type": "code",
   "execution_count": 2,
   "id": "d1c5bd74",
   "metadata": {
    "ExecuteTime": {
     "end_time": "2023-09-11T13:07:12.274846Z",
     "start_time": "2023-09-11T13:07:12.268688Z"
    }
   },
   "outputs": [],
   "source": [
    "f = lambda x: 1.2 - x**4"
   ]
  },
  {
   "cell_type": "code",
   "execution_count": 4,
   "id": "0a9bcd1a",
   "metadata": {
    "ExecuteTime": {
     "end_time": "2023-09-11T13:07:40.602410Z",
     "start_time": "2023-09-11T13:07:40.593656Z"
    }
   },
   "outputs": [
    {
     "data": {
      "text/plain": [
       "1.0"
      ]
     },
     "execution_count": 4,
     "metadata": {},
     "output_type": "execute_result"
    }
   ],
   "source": [
    "quad(f, 0, 1)[0]"
   ]
  },
  {
   "cell_type": "markdown",
   "id": "59bae6c2",
   "metadata": {},
   "source": [
    "$$\n",
    "f(x)=e^{-\\pi x^2}\n",
    "$$"
   ]
  },
  {
   "cell_type": "code",
   "execution_count": 6,
   "id": "d64819ce",
   "metadata": {
    "ExecuteTime": {
     "end_time": "2023-09-11T13:40:52.002329Z",
     "start_time": "2023-09-11T13:40:51.995850Z"
    }
   },
   "outputs": [],
   "source": [
    "f = lambda x: np.exp(-np.pi*x**2)"
   ]
  },
  {
   "cell_type": "code",
   "execution_count": 7,
   "id": "e57f1279",
   "metadata": {
    "ExecuteTime": {
     "end_time": "2023-09-11T13:41:08.052078Z",
     "start_time": "2023-09-11T13:41:08.040990Z"
    }
   },
   "outputs": [
    {
     "data": {
      "text/plain": [
       "1.0"
      ]
     },
     "execution_count": 7,
     "metadata": {},
     "output_type": "execute_result"
    }
   ],
   "source": [
    "quad(f, -np.inf, np.inf)[0]"
   ]
  }
 ],
 "metadata": {
  "kernelspec": {
   "display_name": "Python 3 (ipykernel)",
   "language": "python",
   "name": "python3"
  },
  "language_info": {
   "codemirror_mode": {
    "name": "ipython",
    "version": 3
   },
   "file_extension": ".py",
   "mimetype": "text/x-python",
   "name": "python",
   "nbconvert_exporter": "python",
   "pygments_lexer": "ipython3",
   "version": "3.10.9"
  },
  "toc": {
   "base_numbering": 1,
   "nav_menu": {},
   "number_sections": true,
   "sideBar": true,
   "skip_h1_title": false,
   "title_cell": "Table of Contents",
   "title_sidebar": "Contents",
   "toc_cell": false,
   "toc_position": {},
   "toc_section_display": true,
   "toc_window_display": false
  }
 },
 "nbformat": 4,
 "nbformat_minor": 5
}
