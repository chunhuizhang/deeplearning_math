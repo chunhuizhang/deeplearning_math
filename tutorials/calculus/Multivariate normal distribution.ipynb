{
 "cells": [
  {
   "cell_type": "markdown",
   "id": "a8b5462d",
   "metadata": {},
   "source": [
    "## multivariate normal distribution"
   ]
  },
  {
   "cell_type": "markdown",
   "id": "67a98e54",
   "metadata": {},
   "source": [
    "$$\n",
    "p(\\mathbf{x}) = \\frac{1}{(2\\pi)^{n/2}|\\mathbf{\\Sigma}|^{1/2}} \\exp\\left(-\\frac{1}{2}(\\mathbf{x}-\\mathbf{\\mu})^\\top \\mathbf{\\Sigma}^{-1}(\\mathbf{x}-\\mathbf{\\mu})\\right)\n",
    "$$"
   ]
  },
  {
   "cell_type": "markdown",
   "id": "0d4fd6c3",
   "metadata": {},
   "source": [
    "## 二元"
   ]
  },
  {
   "cell_type": "markdown",
   "id": "1e9647d4",
   "metadata": {},
   "source": [
    "$$\n",
    "\\boldsymbol\\mu = \\begin{pmatrix} \\mu_X \\\\ \\mu_Y \\end{pmatrix}, \\quad\n",
    "    \\boldsymbol\\Sigma = \\begin{pmatrix} \\sigma_X^2 & \\rho \\sigma_X \\sigma_Y \\\\\n",
    "                             \\rho \\sigma_X \\sigma_Y  & \\sigma_Y^2 \\end{pmatrix}.\n",
    "$$"
   ]
  },
  {
   "cell_type": "markdown",
   "id": "204d9651",
   "metadata": {},
   "source": [
    "$$\n",
    "f(x,y) =\n",
    "      \\frac{1}{2 \\pi  \\sigma_X \\sigma_Y \\sqrt{1-\\rho^2}}\n",
    "      \\exp\n",
    "        \\left( -\\frac{1}{2\\left[1 - \\rho^2\\right]}\\left[\n",
    "          \\left(\\frac{x-\\mu_X}{\\sigma_X}\\right)^2 -\n",
    "          2\\rho\\left(\\frac{x - \\mu_X}{\\sigma_X}\\right)\\left(\\frac{y - \\mu_Y}{\\sigma_Y}\\right) +\n",
    "          \\left(\\frac{y - \\mu_Y}{\\sigma_Y}\\right)^2 \n",
    "        \\right]\n",
    "       \\right)\n",
    "$$"
   ]
  },
  {
   "cell_type": "markdown",
   "id": "5618f3ea",
   "metadata": {},
   "source": [
    "## diagonal unit Gaussian"
   ]
  },
  {
   "cell_type": "markdown",
   "id": "62774d13",
   "metadata": {},
   "source": [
    "- $\\Sigma=I$\n",
    "\n",
    "$$\n",
    "p(\\mathbf{x}) = \\frac{1}{(2\\pi)^{n/2}} \\exp\\left(-\\frac{1}{2} \\mathbf{x}^\\top \\mathbf{x}\\right)\n",
    "$$"
   ]
  }
 ],
 "metadata": {
  "kernelspec": {
   "display_name": "Python 3 (ipykernel)",
   "language": "python",
   "name": "python3"
  },
  "language_info": {
   "codemirror_mode": {
    "name": "ipython",
    "version": 3
   },
   "file_extension": ".py",
   "mimetype": "text/x-python",
   "name": "python",
   "nbconvert_exporter": "python",
   "pygments_lexer": "ipython3",
   "version": "3.10.13"
  },
  "toc": {
   "base_numbering": 1,
   "nav_menu": {},
   "number_sections": true,
   "sideBar": true,
   "skip_h1_title": false,
   "title_cell": "Table of Contents",
   "title_sidebar": "Contents",
   "toc_cell": false,
   "toc_position": {},
   "toc_section_display": true,
   "toc_window_display": false
  }
 },
 "nbformat": 4,
 "nbformat_minor": 5
}
