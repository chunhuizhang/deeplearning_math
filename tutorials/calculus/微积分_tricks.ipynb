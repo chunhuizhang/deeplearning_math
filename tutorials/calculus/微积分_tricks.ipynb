{
 "cells": [
  {
   "cell_type": "markdown",
   "id": "3a77cefc-611a-4538-9272-504d564c926d",
   "metadata": {},
   "source": [
    "$$\n",
    "\\nabla f(x)=f(x)\\nabla\\log f(x)\n",
    "$$"
   ]
  }
 ],
 "metadata": {
  "kernelspec": {
   "display_name": "Python 3 (ipykernel)",
   "language": "python",
   "name": "python3"
  },
  "language_info": {
   "codemirror_mode": {
    "name": "ipython",
    "version": 3
   },
   "file_extension": ".py",
   "mimetype": "text/x-python",
   "name": "python",
   "nbconvert_exporter": "python",
   "pygments_lexer": "ipython3",
   "version": "3.10.13"
  }
 },
 "nbformat": 4,
 "nbformat_minor": 5
}
