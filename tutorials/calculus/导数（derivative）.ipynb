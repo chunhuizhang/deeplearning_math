{
 "cells": [
  {
   "cell_type": "markdown",
   "id": "956ab5ae",
   "metadata": {},
   "source": [
    "## derivative"
   ]
  },
  {
   "cell_type": "markdown",
   "id": "a55d55fa",
   "metadata": {},
   "source": [
    "- rate of change"
   ]
  },
  {
   "cell_type": "markdown",
   "id": "fb763828",
   "metadata": {},
   "source": [
    "## partial derivative"
   ]
  },
  {
   "cell_type": "markdown",
   "id": "729b5af1",
   "metadata": {},
   "source": [
    "$$\n",
    "f(x,y)\n",
    "$$\n",
    "\n",
    "- only affect one variable\n",
    "    - $\\frac{\\partial f}{\\partial x}$: 函数在X轴方向左右变化的速度；\n",
    "    - $\\frac{\\partial^2 f}{\\partial x^2}$: 函数在X轴方向左右变化的加速度；"
   ]
  },
  {
   "cell_type": "code",
   "execution_count": null,
   "id": "dd4189e2",
   "metadata": {},
   "outputs": [],
   "source": []
  }
 ],
 "metadata": {
  "kernelspec": {
   "display_name": "Python 3 (ipykernel)",
   "language": "python",
   "name": "python3"
  },
  "language_info": {
   "codemirror_mode": {
    "name": "ipython",
    "version": 3
   },
   "file_extension": ".py",
   "mimetype": "text/x-python",
   "name": "python",
   "nbconvert_exporter": "python",
   "pygments_lexer": "ipython3",
   "version": "3.10.9"
  },
  "toc": {
   "base_numbering": 1,
   "nav_menu": {},
   "number_sections": true,
   "sideBar": true,
   "skip_h1_title": false,
   "title_cell": "Table of Contents",
   "title_sidebar": "Contents",
   "toc_cell": false,
   "toc_position": {},
   "toc_section_display": true,
   "toc_window_display": false
  }
 },
 "nbformat": 4,
 "nbformat_minor": 5
}
