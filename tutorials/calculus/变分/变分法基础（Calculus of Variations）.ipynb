{
 "cells": [
  {
   "cell_type": "markdown",
   "id": "e5948537",
   "metadata": {},
   "source": [
    "## basics"
   ]
  },
  {
   "cell_type": "markdown",
   "id": "d11e3e92",
   "metadata": {},
   "source": [
    "- 变分法，也叫 Calculus of Variations，它返回的是函数（function）\n",
    "    - 从函数到函数的映射\n",
    "    \n",
    "- 找到 $y=f(x)$ 使得下式积分为整体的驻点（stationary point，一阶导数为0的点）\n",
    "\n",
    "    $$\n",
    "    \\begin{split}\n",
    "    I[f]&=\\int_{x_1}^{x_2}F(x,y,y')dx\\\\\n",
    "    &=\\int_{x_1}^{x_2}F(x,y,\\frac{dy}{dx})dx\n",
    "    \\end{split}\n",
    "    $$\n",
    "    "
   ]
  },
  {
   "cell_type": "markdown",
   "id": "9159d5ea",
   "metadata": {},
   "source": [
    "### 欧拉-拉格朗日方程"
   ]
  },
  {
   "cell_type": "markdown",
   "id": "444c017c",
   "metadata": {},
   "source": [
    "$$\n",
    "\\frac{\\partial F}{\\partial y}-\\frac{d}{dx}\\left(\\frac{\\partial F}{\\partial y'}\\right)=0\n",
    "$$"
   ]
  },
  {
   "cell_type": "markdown",
   "id": "26f6f780",
   "metadata": {},
   "source": [
    "### 直线最短？"
   ]
  },
  {
   "cell_type": "markdown",
   "id": "7d2601c6",
   "metadata": {},
   "source": [
    "- 平面中的两点 $A(x_1,y_1)$ 到 $B(x_2,y_2)$ 为什么直线最短\n",
    "\n",
    "$$\n",
    "y-y_1=\\frac{y_2-y_1}{x_2-x_1}(x-x_1)\n",
    "$$\n",
    "\n",
    "- 我们通过变分问题来实际验证这个结论是否科学，\n",
    "\n",
    "    $$\n",
    "    \\begin{split}\n",
    "    I&=\\int_A^BdS, \\quad dS= \\sqrt{dx^2+dy^2}=\\sqrt{1+\\left(\\frac{dy}{dx}\\right)^2}dx\\\\\n",
    "    &=\\int_{x_1}^{x_2}\\sqrt{1+\\left(\\frac{dy}{dx}\\right)^2}dx\n",
    "    \\end{split}\n",
    "    $$\n",
    "\n",
    "    - 即我们的问题就变成了寻找 $y=f(x)$ （经过 A/B） 使得上述的积分最小；\n",
    "- 我们应用欧拉-拉格朗日方法，可得：\n",
    "\n",
    "\n",
    "$$\n",
    "0-\\frac{d}{dx}\\left(\\frac{y'}{\\sqrt{1+y'^2}}\\right)=0\n",
    "$$\n"
   ]
  }
 ],
 "metadata": {
  "kernelspec": {
   "display_name": "Python 3 (ipykernel)",
   "language": "python",
   "name": "python3"
  },
  "language_info": {
   "codemirror_mode": {
    "name": "ipython",
    "version": 3
   },
   "file_extension": ".py",
   "mimetype": "text/x-python",
   "name": "python",
   "nbconvert_exporter": "python",
   "pygments_lexer": "ipython3",
   "version": "3.10.13"
  },
  "toc": {
   "base_numbering": 1,
   "nav_menu": {},
   "number_sections": true,
   "sideBar": true,
   "skip_h1_title": false,
   "title_cell": "Table of Contents",
   "title_sidebar": "Contents",
   "toc_cell": false,
   "toc_position": {},
   "toc_section_display": true,
   "toc_window_display": false
  }
 },
 "nbformat": 4,
 "nbformat_minor": 5
}
