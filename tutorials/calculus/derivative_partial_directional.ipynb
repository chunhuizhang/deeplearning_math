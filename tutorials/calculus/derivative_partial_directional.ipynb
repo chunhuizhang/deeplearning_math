{
 "cells": [
  {
   "cell_type": "markdown",
   "id": "956ab5ae",
   "metadata": {},
   "source": [
    "## derivative"
   ]
  },
  {
   "cell_type": "markdown",
   "id": "a55d55fa",
   "metadata": {},
   "source": [
    "- rate of change，刻画函数的变化率情况；"
   ]
  },
  {
   "cell_type": "markdown",
   "id": "fb763828",
   "metadata": {},
   "source": [
    "## partial derivative"
   ]
  },
  {
   "cell_type": "markdown",
   "id": "729b5af1",
   "metadata": {},
   "source": [
    "$$\n",
    "f(x,y)\n",
    "$$\n",
    "\n",
    "- only affect one variable\n",
    "    - $\\frac{\\partial f}{\\partial x}$: 函数在X轴方向左右变化的速度；\n",
    "    - $\\frac{\\partial^2 f}{\\partial x^2}$: 函数在X轴方向左右变化的加速度；"
   ]
  },
  {
   "cell_type": "markdown",
   "id": "997addaf",
   "metadata": {},
   "source": [
    "## directional derivatives"
   ]
  },
  {
   "cell_type": "markdown",
   "id": "f01a8f3d",
   "metadata": {},
   "source": [
    "- 方向导数是一个数（scalar），用于计算任意方向（$\\vec u$）上的导数\n",
    "- 我们可以从其极限定义形式出发，推导出内积计算形式\n",
    "    - 多元函数的一阶泰勒展开；\n",
    "\n",
    "$$\n",
    "\\begin{split}\n",
    "D_u(f(x_0,y_0))&=\\lim_{h\\rightarrow 0}\\frac{f(x_0+hu_1,y_0+hu_2)-f(x_0,y_0)}{h}\\\\\n",
    "&\\approx\\frac{f(x_0,y_0)+hu_1f_x(x_0,y_0)+hu_2f_y(x_0,y_0) - f(x_0,y_0)}{h}\\\\\n",
    "&=u_1f_x(x_0,y_0) + u_2f_y(x_0,y_0)\\\\\n",
    "&=\\nabla f(x_0,y_0)\\cdot u\n",
    "\\end{split}\n",
    "$$\n",
    "\n",
    "\n",
    "- 这里我们可以看到在 $x$/$y$ 轴方向的偏导数是方向为 $u=(1, 0)/u=(0, 1)$ 的方向导数的特例；"
   ]
  },
  {
   "cell_type": "code",
   "execution_count": null,
   "id": "2461eb80",
   "metadata": {},
   "outputs": [],
   "source": []
  }
 ],
 "metadata": {
  "kernelspec": {
   "display_name": "Python 3 (ipykernel)",
   "language": "python",
   "name": "python3"
  },
  "language_info": {
   "codemirror_mode": {
    "name": "ipython",
    "version": 3
   },
   "file_extension": ".py",
   "mimetype": "text/x-python",
   "name": "python",
   "nbconvert_exporter": "python",
   "pygments_lexer": "ipython3",
   "version": "3.10.9"
  },
  "toc": {
   "base_numbering": 1,
   "nav_menu": {},
   "number_sections": true,
   "sideBar": true,
   "skip_h1_title": false,
   "title_cell": "Table of Contents",
   "title_sidebar": "Contents",
   "toc_cell": false,
   "toc_position": {},
   "toc_section_display": true,
   "toc_window_display": false
  }
 },
 "nbformat": 4,
 "nbformat_minor": 5
}
