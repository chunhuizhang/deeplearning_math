{
 "cells": [
  {
   "cell_type": "code",
   "execution_count": 1,
   "id": "84660d68",
   "metadata": {
    "ExecuteTime": {
     "end_time": "2023-12-03T03:07:35.781204Z",
     "start_time": "2023-12-03T03:07:35.774841Z"
    }
   },
   "outputs": [],
   "source": [
    "from IPython.display import SVG"
   ]
  },
  {
   "cell_type": "markdown",
   "id": "80081ada",
   "metadata": {},
   "source": [
    "- 正多边形内角\n",
    "\n",
    "$$\n",
    "\\frac{n-2}{n}\\cdot 180\n",
    "$$"
   ]
  },
  {
   "cell_type": "markdown",
   "id": "1696362c",
   "metadata": {},
   "source": [
    "## 正六边形"
   ]
  },
  {
   "cell_type": "markdown",
   "id": "c8c0291d",
   "metadata": {},
   "source": [
    "- 切分为6个正三角形；\n",
    "- 3,4,5,4,3\n",
    "    - https://en.wikipedia.org/wiki/Magic_hexagon#/media/File:MagicHexagon-Order3-a.svg"
   ]
  },
  {
   "cell_type": "code",
   "execution_count": null,
   "id": "6cc286c4",
   "metadata": {},
   "outputs": [],
   "source": []
  }
 ],
 "metadata": {
  "kernelspec": {
   "display_name": "Python 3 (ipykernel)",
   "language": "python",
   "name": "python3"
  },
  "language_info": {
   "codemirror_mode": {
    "name": "ipython",
    "version": 3
   },
   "file_extension": ".py",
   "mimetype": "text/x-python",
   "name": "python",
   "nbconvert_exporter": "python",
   "pygments_lexer": "ipython3",
   "version": "3.10.13"
  },
  "toc": {
   "base_numbering": 1,
   "nav_menu": {},
   "number_sections": true,
   "sideBar": true,
   "skip_h1_title": false,
   "title_cell": "Table of Contents",
   "title_sidebar": "Contents",
   "toc_cell": false,
   "toc_position": {},
   "toc_section_display": true,
   "toc_window_display": false
  }
 },
 "nbformat": 4,
 "nbformat_minor": 5
}
