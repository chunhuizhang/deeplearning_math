{
 "cells": [
  {
   "cell_type": "markdown",
   "id": "277f76a0-fbc8-4955-88f5-0b52333ada89",
   "metadata": {},
   "source": [
    "- $R^n$ 空间中的超平面，需要满足下面的方程：\n",
    "\n",
    "$$\n",
    "\\sum_i a_ix_i=b\n",
    "$$\n",
    "\n",
    "- 则向量 $\\vec n=(a_1, a_2, \\cdots, a_n)$ 即为该平面的法向量（norm vector）\n",
    "    - 其正交于平面上的任意向量\n",
    "- 证明\n",
    "    - 平面中有 o, p, q 三点\n",
    "        - op, 记为向量 u\n",
    "        - oq，记为向量 w\n",
    "        - pq（表示平面中的任意向量），记为向量 v = w-u\n",
    "    - 则有\n",
    "\n",
    "  $$\n",
    "  \\vec n\\cdot \\vec v = \\vec n\\cdot (\\vec w-\\vec u)= \\vec n\\cdot \\vec w-\\vec n\\cdot \\vec u = b - b = 0\n",
    "  $$"
   ]
  }
 ],
 "metadata": {
  "kernelspec": {
   "display_name": "Python 3 (ipykernel)",
   "language": "python",
   "name": "python3"
  },
  "language_info": {
   "codemirror_mode": {
    "name": "ipython",
    "version": 3
   },
   "file_extension": ".py",
   "mimetype": "text/x-python",
   "name": "python",
   "nbconvert_exporter": "python",
   "pygments_lexer": "ipython3",
   "version": "3.10.13"
  }
 },
 "nbformat": 4,
 "nbformat_minor": 5
}
