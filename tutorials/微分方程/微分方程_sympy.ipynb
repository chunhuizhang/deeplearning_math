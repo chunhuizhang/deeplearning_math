{
 "cells": [
  {
   "cell_type": "markdown",
   "id": "de290ede",
   "metadata": {},
   "source": [
    "$$\n",
    "y'(x)=C\\sqrt{1+(y'(x))^2}\n",
    "$$"
   ]
  },
  {
   "cell_type": "code",
   "execution_count": 2,
   "id": "870f444b",
   "metadata": {
    "ExecuteTime": {
     "end_time": "2023-11-20T15:56:38.461331Z",
     "start_time": "2023-11-20T15:56:38.076550Z"
    }
   },
   "outputs": [
    {
     "data": {
      "text/plain": [
       "[-C*sqrt(-1/(C**2 - 1)), C*sqrt(-1/(C**2 - 1))]"
      ]
     },
     "execution_count": 2,
     "metadata": {},
     "output_type": "execute_result"
    }
   ],
   "source": [
    "import sympy\n",
    "from sympy import symbols, sqrt, diff, Eq, solve\n",
    "\n",
    "# 定义符号\n",
    "x, C = symbols('x C')\n",
    "y = symbols('y', cls=sympy.Function)\n",
    "\n",
    "# 已知 y'(x) = C * sqrt(1 + (y'(x))^2)\n",
    "# 重排此方程以解 y'(x)\n",
    "y_prime = y(x).diff(x)\n",
    "equation = Eq(y_prime, C * sqrt(1 + y_prime**2))\n",
    "\n",
    "# 解出 y'(x)\n",
    "solutions = solve(equation, y_prime)\n",
    "solutions"
   ]
  },
  {
   "cell_type": "markdown",
   "id": "bbb11043",
   "metadata": {},
   "source": [
    "$$\n",
    "y'=\\pm C\\sqrt{-\\frac1{C^2-1}}\n",
    "$$"
   ]
  },
  {
   "cell_type": "code",
   "execution_count": 4,
   "id": "d79a8b67",
   "metadata": {
    "ExecuteTime": {
     "end_time": "2023-11-20T15:58:40.308786Z",
     "start_time": "2023-11-20T15:58:40.295560Z"
    }
   },
   "outputs": [
    {
     "data": {
      "text/latex": [
       "$\\displaystyle C \\sqrt{- \\frac{1}{C^{2} - 1}}$"
      ],
      "text/plain": [
       "C*sqrt(-1/(C**2 - 1))"
      ]
     },
     "execution_count": 4,
     "metadata": {},
     "output_type": "execute_result"
    }
   ],
   "source": [
    "solutions[1]"
   ]
  },
  {
   "cell_type": "code",
   "execution_count": 3,
   "id": "d0cc74c7",
   "metadata": {
    "ExecuteTime": {
     "end_time": "2023-11-20T15:58:29.101431Z",
     "start_time": "2023-11-20T15:58:29.072578Z"
    }
   },
   "outputs": [
    {
     "data": {
      "text/latex": [
       "$\\displaystyle C x \\sqrt{- \\frac{1}{C^{2} - 1}}$"
      ],
      "text/plain": [
       "C*x*sqrt(-1/(C**2 - 1))"
      ]
     },
     "execution_count": 3,
     "metadata": {},
     "output_type": "execute_result"
    }
   ],
   "source": [
    "y_prime_solution = solutions[1]\n",
    "integral = sympy.integrate(y_prime_solution, x)\n",
    "integral"
   ]
  },
  {
   "cell_type": "code",
   "execution_count": null,
   "id": "2df5ea3e",
   "metadata": {},
   "outputs": [],
   "source": []
  }
 ],
 "metadata": {
  "kernelspec": {
   "display_name": "Python 3 (ipykernel)",
   "language": "python",
   "name": "python3"
  },
  "language_info": {
   "codemirror_mode": {
    "name": "ipython",
    "version": 3
   },
   "file_extension": ".py",
   "mimetype": "text/x-python",
   "name": "python",
   "nbconvert_exporter": "python",
   "pygments_lexer": "ipython3",
   "version": "3.10.13"
  },
  "toc": {
   "base_numbering": 1,
   "nav_menu": {},
   "number_sections": true,
   "sideBar": true,
   "skip_h1_title": false,
   "title_cell": "Table of Contents",
   "title_sidebar": "Contents",
   "toc_cell": false,
   "toc_position": {},
   "toc_section_display": true,
   "toc_window_display": false
  }
 },
 "nbformat": 4,
 "nbformat_minor": 5
}
